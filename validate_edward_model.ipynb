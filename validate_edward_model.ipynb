{
 "cells": [
  {
   "cell_type": "markdown",
   "metadata": {},
   "source": [
    "# Run model on fake data\n",
    "\n",
    "Here, we generate a synthetic data set for purposes of validating the model constructed in Edward."
   ]
  },
  {
   "cell_type": "code",
   "execution_count": 1,
   "metadata": {
    "collapsed": false
   },
   "outputs": [],
   "source": [
    "import numpy as np\n",
    "import pandas as pd\n",
    "import tensorflow as tf\n",
    "import edward as ed\n",
    "import matplotlib.pyplot as plt\n",
    "%matplotlib inline"
   ]
  },
  {
   "cell_type": "code",
   "execution_count": 2,
   "metadata": {
    "collapsed": false
   },
   "outputs": [],
   "source": [
    "ed.set_seed(12225)"
   ]
  },
  {
   "cell_type": "markdown",
   "metadata": {},
   "source": [
    "The model is defined by the spike count $N_{us}$ observed when stimulus $s$ is presented to unit $u$:\n",
    "\n",
    "$$\n",
    "\\begin{align}\n",
    "N &\\sim \\mathrm{Poisson}((\\lambda)_+)  \\\\\n",
    "\\lambda_{us} &\\sim \\mathcal{N}(A_{u} + (B * X)_{us} + (C * Z)_{us}, \\sigma^2) \\\\\n",
    "\\log \\sigma &\\sim \\mathcal{N}(-0.1, 0.1^2) \\\\\n",
    "Z_{ks} &\\sim \\mathrm{Bernoulli}(\\pi_k) \\\\\n",
    "\\pi_k &\\equiv \\prod_{i=1}^k \\delta_k \\\\\n",
    "\\delta_j &\\sim \\mathrm{Beta}(3, 1)\n",
    "\\end{align}\n",
    "$$\n",
    "With $X$ an $P \\times N_s$ matrix of known regressors, $Z$ a $K \\times N_s$ matrix of latent binary features\n",
    "governed by an Indian Buffet Process, $A$ and $N_u$ vector of baselines, and $(\\cdot)_+$ the softplus function: \n",
    "$(x)_+ = \\log(1 + e^x)$."
   ]
  },
  {
   "cell_type": "markdown",
   "metadata": {},
   "source": [
    "# Define constants"
   ]
  },
  {
   "cell_type": "code",
   "execution_count": 3,
   "metadata": {
    "collapsed": true
   },
   "outputs": [],
   "source": [
    "# basic constants\n",
    "N = 5  # number of observations per unit per stim\n",
    "NB = 10  # number of trials in minibatch\n",
    "NU = 50  # number of units\n",
    "NS = 50  # number of stims\n",
    "P = 3  # number of specified regressors\n",
    "K = 4  # number of latents"
   ]
  },
  {
   "cell_type": "markdown",
   "metadata": {},
   "source": [
    "# Make neural response coefficients"
   ]
  },
  {
   "cell_type": "code",
   "execution_count": 4,
   "metadata": {
    "collapsed": false
   },
   "outputs": [],
   "source": [
    "dA = 5 + 2 * np.random.randn(NU)  # baseline\n",
    "dB = np.array([0, 5, 10]) + 0.25 * np.random.randn(NU, P)  # regressor effects\n",
    "dC = np.array([-10, -5, 5, 10])[np.newaxis, :] + 0.25 * np.random.randn(NU, K)  # latent effects"
   ]
  },
  {
   "cell_type": "markdown",
   "metadata": {},
   "source": [
    "# Regressors and latent states"
   ]
  },
  {
   "cell_type": "code",
   "execution_count": 5,
   "metadata": {
    "collapsed": false
   },
   "outputs": [
    {
     "data": {
      "text/plain": [
       "<matplotlib.image.AxesImage at 0x1284cd6d8>"
      ]
     },
     "execution_count": 5,
     "metadata": {},
     "output_type": "execute_result"
    },
    {
     "data": {
      "image/png": "[encoded data removed]",
      "text/plain": [
       "<matplotlib.figure.Figure at 0x12272ca58>"
      ]
     },
     "metadata": {},
     "output_type": "display_data"
    }
   ],
   "source": [
    "dX = 1 + np.random.randn(P, NS)\n",
    "\n",
    "import scipy.stats as stats\n",
    "\n",
    "ddelta = stats.beta.rvs(1.2, 1, size=(K,))\n",
    "dpi = np.cumprod(ddelta)\n",
    "dZ = stats.bernoulli.rvs(dpi[:, np.newaxis], size=(K, NS))\n",
    "\n",
    "# plot states\n",
    "plt.matshow(dZ, aspect='auto', cmap='gray')"
   ]
  },
  {
   "cell_type": "markdown",
   "metadata": {},
   "source": [
    "# Generate trial set"
   ]
  },
  {
   "cell_type": "code",
   "execution_count": 6,
   "metadata": {
    "collapsed": true
   },
   "outputs": [],
   "source": [
    "dU, dS = np.meshgrid(range(NU), range(NS))\n",
    "dU = dU.ravel()\n",
    "dS = dS.ravel()"
   ]
  },
  {
   "cell_type": "code",
   "execution_count": 7,
   "metadata": {
    "collapsed": false
   },
   "outputs": [],
   "source": [
    "dlam_mean = dA[dU] + np.sum(dB[dU] * dX[:, dS].T, axis=1) + np.sum(dC[dU] * dZ[:, dS].T, axis=1)\n",
    "\n",
    "dlam = stats.norm.rvs(loc=dlam_mean, scale=0.1)"
   ]
  },
  {
   "cell_type": "code",
   "execution_count": 8,
   "metadata": {
    "collapsed": false
   },
   "outputs": [
    {
     "data": {
      "image/png": "[encoded data removed]",
      "text/plain": [
       "<matplotlib.figure.Figure at 0x1227e2b00>"
      ]
     },
     "metadata": {},
     "output_type": "display_data"
    }
   ],
   "source": [
    "plt.hist(dlam, bins=100);"
   ]
  },
  {
   "cell_type": "code",
   "execution_count": 9,
   "metadata": {
    "collapsed": true
   },
   "outputs": [],
   "source": [
    "# we'll want this function below\n",
    "def softplus(x):\n",
    "    return np.logaddexp(0, x)"
   ]
  },
  {
   "cell_type": "code",
   "execution_count": 10,
   "metadata": {
    "collapsed": true
   },
   "outputs": [],
   "source": [
    "dcount = stats.poisson.rvs(softplus(dlam))"
   ]
  },
  {
   "cell_type": "code",
   "execution_count": 11,
   "metadata": {
    "collapsed": false
   },
   "outputs": [
    {
     "data": {
      "image/png": "[encoded data removed]",
      "text/plain": [
       "<matplotlib.figure.Figure at 0x128b24b38>"
      ]
     },
     "metadata": {},
     "output_type": "display_data"
    }
   ],
   "source": [
    "plt.hist(dcount, bins=100);"
   ]
  },
  {
   "cell_type": "markdown",
   "metadata": {},
   "source": [
    "# Set up data"
   ]
  },
  {
   "cell_type": "code",
   "execution_count": 12,
   "metadata": {
    "collapsed": false
   },
   "outputs": [],
   "source": [
    "count = dcount\n",
    "Xdat = dX[:, dS].T\n",
    "Xdat.shape\n",
    "unit = dU\n",
    "stim = dS"
   ]
  },
  {
   "cell_type": "markdown",
   "metadata": {},
   "source": [
    "# Define the model"
   ]
  },
  {
   "cell_type": "markdown",
   "metadata": {},
   "source": [
    "## Constants"
   ]
  },
  {
   "cell_type": "code",
   "execution_count": 13,
   "metadata": {
    "collapsed": false
   },
   "outputs": [],
   "source": [
    "# define some needed constants\n",
    "N = Xdat.shape[0]  # number of trials"
   ]
  },
  {
   "cell_type": "markdown",
   "metadata": {},
   "source": [
    "## Inputs and data"
   ]
  },
  {
   "cell_type": "code",
   "execution_count": 14,
   "metadata": {
    "collapsed": true
   },
   "outputs": [],
   "source": [
    "X = tf.constant(Xdat.astype('float32'))\n",
    "U = tf.constant(unit)\n",
    "S = tf.constant(stim)\n",
    "counts = tf.constant(count)\n",
    "allinds = tf.constant(np.arange(N))"
   ]
  },
  {
   "cell_type": "markdown",
   "metadata": {},
   "source": [
    "Make a node that produces `NB` indices from the range $[0, N - 1]$. These are the subset of data points we want to use."
   ]
  },
  {
   "cell_type": "raw",
   "metadata": {
    "collapsed": true
   },
   "source": [
    "batch_inds = tf.train.range_input_producer(N).dequeue_many(NB, name='batch_inds')\n",
    "batch_counts = tf.train.batch(tf.train.slice_input_producer([counts]), NB, name='batch_counts')"
   ]
  },
  {
   "cell_type": "raw",
   "metadata": {
    "collapsed": true
   },
   "source": [
    "batch_inds = tf.constant(np.arange(NB))\n",
    "batch_counts = tf.train.batch(tf.train.slice_input_producer([counts]), NB)"
   ]
  },
  {
   "cell_type": "code",
   "execution_count": 15,
   "metadata": {
    "collapsed": false
   },
   "outputs": [],
   "source": [
    "batch_inds, batch_counts = tf.train.batch(tf.train.slice_input_producer([allinds, counts]), NB, \n",
    "                                          name='batches')"
   ]
  },
  {
   "cell_type": "markdown",
   "metadata": {},
   "source": [
    "## Generative (p) model"
   ]
  },
  {
   "cell_type": "code",
   "execution_count": 16,
   "metadata": {
    "collapsed": false
   },
   "outputs": [],
   "source": [
    "with tf.variable_scope(\"pmodel\"):\n",
    "    A = ed.models.Normal(mu=tf.zeros(NU), sigma=tf.ones(NU), name='A')\n",
    "    B = ed.models.Normal(mu=tf.zeros((NU, P)), sigma=tf.ones((NU, P)), name='B')\n",
    "    C = ed.models.Normal(mu=tf.zeros((NU, K)), sigma=tf.ones((NU, K)), name='C')  \n",
    "    \n",
    "    delta = ed.models.Beta(a=3 * tf.ones(K), b=tf.ones(K), name='delta')\n",
    "    tf.scalar_summary('mean_delta', tf.reduce_mean(delta))\n",
    "    log_delta = tf.log(delta)\n",
    "    tf.scalar_summary('min_log_delta', tf.reduce_min(log_delta))\n",
    "    tf.scalar_summary('mean_log_delta', tf.reduce_mean(log_delta))\n",
    "\n",
    "    pi = tf.exp(tf.cumsum(log_delta), name='pi')\n",
    "    tf.scalar_summary('min_pi', tf.reduce_min(pi))\n",
    "\n",
    "    Z = ed.models.Bernoulli(p=tf.tile(tf.expand_dims(pi, 0), [NS, 1]), name='Z')\n",
    "    tf.scalar_summary('mean_Z', tf.reduce_mean(tf.to_float(Z)))\n",
    "\n",
    "    sig = ed.models.Normal(mu=[-0.1], sigma=[0.1], name='sig')\n",
    "\n",
    "    lam_vars = (tf.gather(A, U) + tf.reduce_sum(tf.gather(B, U) * X, 1) + \n",
    "           tf.reduce_sum(tf.gather(C, U) * tf.gather(tf.to_float(Z), S), 1))\n",
    "    lam = ed.models.Normal(mu=tf.gather(lam_vars, batch_inds), \n",
    "                           sigma=tf.exp(sig), name='lam')\n",
    "    tf.scalar_summary('mean_lam', tf.reduce_mean(lam))\n",
    "\n",
    "\n",
    "    cnt = ed.models.Poisson(lam=tf.nn.softplus(lam), value=tf.ones(NB), name='cnt')"
   ]
  },
  {
   "cell_type": "markdown",
   "metadata": {},
   "source": [
    "# Recognition (q) model"
   ]
  },
  {
   "cell_type": "code",
   "execution_count": 17,
   "metadata": {
    "collapsed": false
   },
   "outputs": [],
   "source": [
    "with tf.variable_scope(\"qmodel\"):\n",
    "    q_A = ed.models.NormalWithSoftplusSigma(mu=tf.Variable(tf.random_normal((NU,))), \n",
    "                                            sigma=tf.Variable(tf.random_uniform((NU,))),\n",
    "                                            name='A')\n",
    "    q_B = ed.models.NormalWithSoftplusSigma(mu=tf.Variable(tf.random_normal((NU, P))), \n",
    "                                            sigma=tf.Variable(tf.random_uniform((NU, P))),\n",
    "                                            name='B')\n",
    "    q_C = ed.models.NormalWithSoftplusSigma(mu=tf.Variable(tf.random_normal((NU, K))), \n",
    "                                            sigma=tf.Variable(tf.random_uniform((NU, K))),\n",
    "                                            name='C')\n",
    "    q_Z = ed.models.BernoulliWithSigmoidP(p=tf.Variable(tf.random_normal((NS, K))), name='Z')\n",
    "    tf.scalar_summary('mean_q_Z', tf.reduce_mean(tf.to_float(Z)))\n",
    "\n",
    "    q_delta = ed.models.BetaWithSoftplusAB(a=tf.Variable(1 + tf.random_uniform((K,))),\n",
    "                                           b=tf.Variable(1 + tf.random_uniform((K,))),\n",
    "                                           name='delta')\n",
    "    tf.scalar_summary('mean_q_delta', tf.reduce_mean(q_delta))\n",
    "\n",
    "    lam_mu = tf.Variable(tf.random_normal((N,)))\n",
    "    lam_sig = tf.Variable(tf.random_uniform((N,)))\n",
    "    q_lam = ed.models.NormalWithSoftplusSigma(mu=tf.gather(lam_mu, batch_inds),\n",
    "                                              sigma=tf.gather(lam_sig, batch_inds),\n",
    "                                              name='lam')\n",
    "    tf.scalar_summary('mean_q_lam', tf.reduce_mean(q_lam))\n",
    "\n",
    "    q_sig = ed.models.NormalWithSoftplusSigma(mu=tf.Variable(-0.1 * tf.random_uniform((1,))),\n",
    "                                              sigma=tf.Variable(tf.random_uniform((1,))),\n",
    "                                              name='sig')\n",
    "    tf.scalar_summary('mean_q_sig', tf.reduce_mean(q_sig))\n"
   ]
  },
  {
   "cell_type": "markdown",
   "metadata": {},
   "source": [
    "# Do variational inference"
   ]
  },
  {
   "cell_type": "code",
   "execution_count": 18,
   "metadata": {
    "collapsed": false
   },
   "outputs": [],
   "source": [
    "data = {cnt: batch_counts}\n",
    "inference = ed.KLqp({A: q_A, B: q_B, C: q_C, Z: q_Z, sig: q_sig, delta: q_delta, lam: q_lam}, \n",
    "                    data)"
   ]
  },
  {
   "cell_type": "code",
   "execution_count": 19,
   "metadata": {
    "collapsed": true
   },
   "outputs": [],
   "source": [
    "init = tf.initialize_all_variables()"
   ]
  },
  {
   "cell_type": "markdown",
   "metadata": {},
   "source": [
    "# Notes before inference:\n",
    "\n",
    "- The `logdir` keyword specifies the place to put the log file (assuming you've instrumented the code to save events, etc.). If a subdirectory is given, pointing Tensorboard at the parent directory allows you to compare across subdirectories (runs).\n",
    "    - I'm using the `jmp/instrumented` branch of the `jmxpearson/edward` fork\n",
    "- I had to lower the learning rate in Adam to avoid NaNs early on in learning. Gradient clipping might solve the same problem.\n",
    "- I'm currently using \"all\" the data, but this should probably be switched to minibatches.\n",
    "- I've used `n_samples` = 1, 5, 10, and 25, which all seem pretty similar after 10k iterations. "
   ]
  },
  {
   "cell_type": "code",
   "execution_count": 20,
   "metadata": {
    "collapsed": false,
    "scrolled": false
   },
   "outputs": [
    {
     "name": "stdout",
     "output_type": "stream",
     "text": [
      "Iteration     1 [  0%]: Loss = 18631.346\n",
      "Iteration   100 [  0%]: Loss = 150930.438\n",
      "Iteration   200 [  0%]: Loss = 3586.414\n",
      "Iteration   300 [  1%]: Loss = 5054.804\n",
      "Iteration   400 [  1%]: Loss = 3198.501\n",
      "Iteration   500 [  1%]: Loss = 17516.754\n",
      "Iteration   600 [  2%]: Loss = 44975.336\n",
      "Iteration   700 [  2%]: Loss = 4737.905\n",
      "Iteration   800 [  2%]: Loss = 21274.695\n",
      "Iteration   900 [  3%]: Loss = 15562.155\n",
      "Iteration  1000 [  3%]: Loss = 3287.508\n",
      "Iteration  1100 [  3%]: Loss = 127264.461\n",
      "Iteration  1200 [  4%]: Loss = 49329.840\n",
      "Iteration  1300 [  4%]: Loss = 6449.157\n",
      "Iteration  1400 [  4%]: Loss = 5887.796\n",
      "Iteration  1500 [  5%]: Loss = 95612.703\n",
      "Iteration  1600 [  5%]: Loss = 2264.280\n",
      "Iteration  1700 [  5%]: Loss = 4359.103\n",
      "Iteration  1800 [  6%]: Loss = 6036.480\n",
      "Iteration  1900 [  6%]: Loss = 3713.784\n",
      "Iteration  2000 [  6%]: Loss = 48110.477\n",
      "Iteration  2100 [  7%]: Loss = 7381.340\n",
      "Iteration  2200 [  7%]: Loss = 51745.797\n",
      "Iteration  2300 [  7%]: Loss = 23350.055\n",
      "Iteration  2400 [  8%]: Loss = 18745.912\n",
      "Iteration  2500 [  8%]: Loss = 89347.922\n",
      "Iteration  2600 [  8%]: Loss = 38506.906\n",
      "Iteration  2700 [  9%]: Loss = 3163.115\n",
      "Iteration  2800 [  9%]: Loss = 93802.172\n",
      "Iteration  2900 [  9%]: Loss = 41723.926\n",
      "Iteration  3000 [ 10%]: Loss = 218214.688\n",
      "Iteration  3100 [ 10%]: Loss = 10673.730\n",
      "Iteration  3200 [ 10%]: Loss = 12741.367\n",
      "Iteration  3300 [ 11%]: Loss = 9296.285\n",
      "Iteration  3400 [ 11%]: Loss = 3775.452\n",
      "Iteration  3500 [ 11%]: Loss = 109195.195\n",
      "Iteration  3600 [ 12%]: Loss = 88214.836\n",
      "Iteration  3700 [ 12%]: Loss = 19287.152\n",
      "Iteration  3800 [ 12%]: Loss = 41465.258\n",
      "Iteration  3900 [ 13%]: Loss = 8208.194\n",
      "Iteration  4000 [ 13%]: Loss = 5101.089\n",
      "Iteration  4100 [ 13%]: Loss = 10981.713\n",
      "Iteration  4200 [ 14%]: Loss = 5476.361\n",
      "Iteration  4300 [ 14%]: Loss = 7842.043\n",
      "Iteration  4400 [ 14%]: Loss = 8342.339\n",
      "Iteration  4500 [ 15%]: Loss = 74300.734\n",
      "Iteration  4600 [ 15%]: Loss = 4050.910\n",
      "Iteration  4700 [ 15%]: Loss = 11045.614\n",
      "Iteration  4800 [ 16%]: Loss = 3760.068\n",
      "Iteration  4900 [ 16%]: Loss = 19563.863\n",
      "Iteration  5000 [ 16%]: Loss = 11755.453\n",
      "Iteration  5100 [ 17%]: Loss = 12106.130\n",
      "Iteration  5200 [ 17%]: Loss = 9476.486\n",
      "Iteration  5300 [ 17%]: Loss = 12495.516\n",
      "Iteration  5400 [ 18%]: Loss = 4341.949\n",
      "Iteration  5500 [ 18%]: Loss = 6389.604\n",
      "Iteration  5600 [ 18%]: Loss = 3791.598\n",
      "Iteration  5700 [ 19%]: Loss = 4491.209\n",
      "Iteration  5800 [ 19%]: Loss = 24995.441\n",
      "Iteration  5900 [ 19%]: Loss = 13735.432\n",
      "Iteration  6000 [ 20%]: Loss = 6545.240\n",
      "Iteration  6100 [ 20%]: Loss = 4948.156\n",
      "Iteration  6200 [ 20%]: Loss = 19999.969\n",
      "Iteration  6300 [ 21%]: Loss = 15794.459\n",
      "Iteration  6400 [ 21%]: Loss = 2443.759\n",
      "Iteration  6500 [ 21%]: Loss = 3920.166\n",
      "Iteration  6600 [ 22%]: Loss = 4885.719\n",
      "Iteration  6700 [ 22%]: Loss = 10258.736\n",
      "Iteration  6800 [ 22%]: Loss = 8304.215\n",
      "Iteration  6900 [ 23%]: Loss = 3016.185\n",
      "Iteration  7000 [ 23%]: Loss = 3332.409\n",
      "Iteration  7100 [ 23%]: Loss = 56364.242\n",
      "Iteration  7200 [ 24%]: Loss = 5468.909\n",
      "Iteration  7300 [ 24%]: Loss = 64812.602\n",
      "Iteration  7400 [ 24%]: Loss = 4493.109\n",
      "Iteration  7500 [ 25%]: Loss = 5649.001\n",
      "Iteration  7600 [ 25%]: Loss = 19214.855\n",
      "Iteration  7700 [ 25%]: Loss = 3027.172\n",
      "Iteration  7800 [ 26%]: Loss = 7833.854\n",
      "Iteration  7900 [ 26%]: Loss = 80765.148\n",
      "Iteration  8000 [ 26%]: Loss = 2960.279\n",
      "Iteration  8100 [ 27%]: Loss = 3624.000\n",
      "Iteration  8200 [ 27%]: Loss = 5989.708\n",
      "Iteration  8300 [ 27%]: Loss = 7825.483\n",
      "Iteration  8400 [ 28%]: Loss = 4563.633\n",
      "Iteration  8500 [ 28%]: Loss = 5324.263\n",
      "Iteration  8600 [ 28%]: Loss = 5521.114\n",
      "Iteration  8700 [ 28%]: Loss = 6608.435\n",
      "Iteration  8800 [ 29%]: Loss = 1968.467\n",
      "Iteration  8900 [ 29%]: Loss = 4572.443\n",
      "Iteration  9000 [ 30%]: Loss = 10165.443\n",
      "Iteration  9100 [ 30%]: Loss = 7091.217\n",
      "Iteration  9200 [ 30%]: Loss = 8428.236\n",
      "Iteration  9300 [ 31%]: Loss = 6156.204\n",
      "Iteration  9400 [ 31%]: Loss = 4057.057\n",
      "Iteration  9500 [ 31%]: Loss = 3136.630\n",
      "Iteration  9600 [ 32%]: Loss = 5433.840\n",
      "Iteration  9700 [ 32%]: Loss = 6582.553\n",
      "Iteration  9800 [ 32%]: Loss = 4390.635\n",
      "Iteration  9900 [ 33%]: Loss = 4916.431\n",
      "Iteration 10000 [ 33%]: Loss = 3482.590\n",
      "Iteration 10100 [ 33%]: Loss = 4598.748\n",
      "Iteration 10200 [ 34%]: Loss = 18183.195\n",
      "Iteration 10300 [ 34%]: Loss = 16473.750\n",
      "Iteration 10400 [ 34%]: Loss = 3449.678\n",
      "Iteration 10500 [ 35%]: Loss = 4697.371\n",
      "Iteration 10600 [ 35%]: Loss = 3867.853\n",
      "Iteration 10700 [ 35%]: Loss = 2665.766\n",
      "Iteration 10800 [ 36%]: Loss = 5177.251\n",
      "Iteration 10900 [ 36%]: Loss = 5581.273\n",
      "Iteration 11000 [ 36%]: Loss = 11455.398\n",
      "Iteration 11100 [ 37%]: Loss = 12271.179\n",
      "Iteration 11200 [ 37%]: Loss = 5782.263\n",
      "Iteration 11300 [ 37%]: Loss = 8100.298\n",
      "Iteration 11400 [ 38%]: Loss = 3875.391\n",
      "Iteration 11500 [ 38%]: Loss = 4139.535\n",
      "Iteration 11600 [ 38%]: Loss = 4143.833\n",
      "Iteration 11700 [ 39%]: Loss = 3708.895\n",
      "Iteration 11800 [ 39%]: Loss = 4476.886\n",
      "Iteration 11900 [ 39%]: Loss = 5649.443\n",
      "Iteration 12000 [ 40%]: Loss = 4974.509\n",
      "Iteration 12100 [ 40%]: Loss = 3829.823\n",
      "Iteration 12200 [ 40%]: Loss = 4618.860\n",
      "Iteration 12300 [ 41%]: Loss = 4285.698\n",
      "Iteration 12400 [ 41%]: Loss = 4926.002\n",
      "Iteration 12500 [ 41%]: Loss = 4164.395\n",
      "Iteration 12600 [ 42%]: Loss = 3508.887\n",
      "Iteration 12700 [ 42%]: Loss = 4513.248\n",
      "Iteration 12800 [ 42%]: Loss = 4534.851\n",
      "Iteration 12900 [ 43%]: Loss = 4205.002\n",
      "Iteration 13000 [ 43%]: Loss = 2839.046\n",
      "Iteration 13100 [ 43%]: Loss = 6077.846\n",
      "Iteration 13200 [ 44%]: Loss = 4128.017\n",
      "Iteration 13300 [ 44%]: Loss = 5165.150\n",
      "Iteration 13400 [ 44%]: Loss = 6428.462\n",
      "Iteration 13500 [ 45%]: Loss = 4719.403\n",
      "Iteration 13600 [ 45%]: Loss = 2979.414\n",
      "Iteration 13700 [ 45%]: Loss = 2889.111\n",
      "Iteration 13800 [ 46%]: Loss = 3449.612\n",
      "Iteration 13900 [ 46%]: Loss = 4514.360\n",
      "Iteration 14000 [ 46%]: Loss = 8530.811\n",
      "Iteration 14100 [ 47%]: Loss = 5180.754\n",
      "Iteration 14200 [ 47%]: Loss = 4164.891\n",
      "Iteration 14300 [ 47%]: Loss = 5202.994\n",
      "Iteration 14400 [ 48%]: Loss = 3225.148\n",
      "Iteration 14500 [ 48%]: Loss = 4638.394\n",
      "Iteration 14600 [ 48%]: Loss = 2824.136\n",
      "Iteration 14700 [ 49%]: Loss = 3525.605\n",
      "Iteration 14800 [ 49%]: Loss = 4546.155\n",
      "Iteration 14900 [ 49%]: Loss = 6095.115\n",
      "Iteration 15000 [ 50%]: Loss = 6275.767\n",
      "Iteration 15100 [ 50%]: Loss = 3407.667\n",
      "Iteration 15200 [ 50%]: Loss = 4802.765\n",
      "Iteration 15300 [ 51%]: Loss = 4827.789\n",
      "Iteration 15400 [ 51%]: Loss = 2804.948\n",
      "Iteration 15500 [ 51%]: Loss = 4567.067\n",
      "Iteration 15600 [ 52%]: Loss = 3703.590\n",
      "Iteration 15700 [ 52%]: Loss = 5254.021\n",
      "Iteration 15800 [ 52%]: Loss = 3920.005\n",
      "Iteration 15900 [ 53%]: Loss = 2306.363\n",
      "Iteration 16000 [ 53%]: Loss = 4438.452\n",
      "Iteration 16100 [ 53%]: Loss = 2267.787\n",
      "Iteration 16200 [ 54%]: Loss = 3201.267\n",
      "Iteration 16300 [ 54%]: Loss = 4853.904\n",
      "Iteration 16400 [ 54%]: Loss = 5913.525\n",
      "Iteration 16500 [ 55%]: Loss = 4912.902\n",
      "Iteration 16600 [ 55%]: Loss = 2385.469\n",
      "Iteration 16700 [ 55%]: Loss = 4930.234\n",
      "Iteration 16800 [ 56%]: Loss = 5463.167\n",
      "Iteration 16900 [ 56%]: Loss = 3701.578\n",
      "Iteration 17000 [ 56%]: Loss = 6031.341\n",
      "Iteration 17100 [ 56%]: Loss = 4512.433\n",
      "Iteration 17200 [ 57%]: Loss = 4283.299\n",
      "Iteration 17300 [ 57%]: Loss = 3060.203\n",
      "Iteration 17400 [ 57%]: Loss = 3976.869\n",
      "Iteration 17500 [ 58%]: Loss = 4778.056\n",
      "Iteration 17600 [ 58%]: Loss = 4365.376\n",
      "Iteration 17700 [ 59%]: Loss = 3600.133\n",
      "Iteration 17800 [ 59%]: Loss = 5252.965\n",
      "Iteration 17900 [ 59%]: Loss = 3121.890\n",
      "Iteration 18000 [ 60%]: Loss = 4145.764\n",
      "Iteration 18100 [ 60%]: Loss = 5044.076\n",
      "Iteration 18200 [ 60%]: Loss = 4202.597\n",
      "Iteration 18300 [ 61%]: Loss = 5593.113\n",
      "Iteration 18400 [ 61%]: Loss = 4230.898\n",
      "Iteration 18500 [ 61%]: Loss = 4969.818\n",
      "Iteration 18600 [ 62%]: Loss = 4712.521\n",
      "Iteration 18700 [ 62%]: Loss = 2995.800\n",
      "Iteration 18800 [ 62%]: Loss = 3676.588\n",
      "Iteration 18900 [ 63%]: Loss = 4860.695\n",
      "Iteration 19000 [ 63%]: Loss = 3700.807\n",
      "Iteration 19100 [ 63%]: Loss = 4368.331\n",
      "Iteration 19200 [ 64%]: Loss = 5588.878\n",
      "Iteration 19300 [ 64%]: Loss = 3337.805\n",
      "Iteration 19400 [ 64%]: Loss = 2874.391\n",
      "Iteration 19500 [ 65%]: Loss = 4961.075\n",
      "Iteration 19600 [ 65%]: Loss = 4813.289\n",
      "Iteration 19700 [ 65%]: Loss = 4299.697\n",
      "Iteration 19800 [ 66%]: Loss = 4117.043\n",
      "Iteration 19900 [ 66%]: Loss = 4647.964\n",
      "Iteration 20000 [ 66%]: Loss = 4050.155\n",
      "Iteration 20100 [ 67%]: Loss = 3519.647\n",
      "Iteration 20200 [ 67%]: Loss = 3630.248\n",
      "Iteration 20300 [ 67%]: Loss = 3701.647\n",
      "Iteration 20400 [ 68%]: Loss = 4484.133\n",
      "Iteration 20500 [ 68%]: Loss = 7291.434\n",
      "Iteration 20600 [ 68%]: Loss = 5055.210\n",
      "Iteration 20700 [ 69%]: Loss = 2247.662\n",
      "Iteration 20800 [ 69%]: Loss = 5889.402\n",
      "Iteration 20900 [ 69%]: Loss = 3487.235\n",
      "Iteration 21000 [ 70%]: Loss = 4028.346\n",
      "Iteration 21100 [ 70%]: Loss = 4119.759\n",
      "Iteration 21200 [ 70%]: Loss = 3430.109\n",
      "Iteration 21300 [ 71%]: Loss = 3194.707\n",
      "Iteration 21400 [ 71%]: Loss = 4699.896\n",
      "Iteration 21500 [ 71%]: Loss = 5750.501\n",
      "Iteration 21600 [ 72%]: Loss = 3438.218\n",
      "Iteration 21700 [ 72%]: Loss = 4284.997\n",
      "Iteration 21800 [ 72%]: Loss = 4911.951\n",
      "Iteration 21900 [ 73%]: Loss = 3597.302\n",
      "Iteration 22000 [ 73%]: Loss = 4772.276\n",
      "Iteration 22100 [ 73%]: Loss = 4180.023\n",
      "Iteration 22200 [ 74%]: Loss = 3447.844\n",
      "Iteration 22300 [ 74%]: Loss = 4626.312\n",
      "Iteration 22400 [ 74%]: Loss = 4110.860\n",
      "Iteration 22500 [ 75%]: Loss = 4171.206\n",
      "Iteration 22600 [ 75%]: Loss = 4367.242\n",
      "Iteration 22700 [ 75%]: Loss = 3183.215\n",
      "Iteration 22800 [ 76%]: Loss = 2992.028\n",
      "Iteration 22900 [ 76%]: Loss = 3960.908\n",
      "Iteration 23000 [ 76%]: Loss = 4866.547\n",
      "Iteration 23100 [ 77%]: Loss = 5600.317\n",
      "Iteration 23200 [ 77%]: Loss = 3925.433\n",
      "Iteration 23300 [ 77%]: Loss = 4117.906\n",
      "Iteration 23400 [ 78%]: Loss = 4425.769\n",
      "Iteration 23500 [ 78%]: Loss = 5964.337\n",
      "Iteration 23600 [ 78%]: Loss = 3542.791\n",
      "Iteration 23700 [ 79%]: Loss = 5129.121\n",
      "Iteration 23800 [ 79%]: Loss = 4377.593\n",
      "Iteration 23900 [ 79%]: Loss = 1945.636\n",
      "Iteration 24000 [ 80%]: Loss = 13769.872\n",
      "Iteration 24100 [ 80%]: Loss = 5513.840\n",
      "Iteration 24200 [ 80%]: Loss = 4371.354\n",
      "Iteration 24300 [ 81%]: Loss = 3951.023\n",
      "Iteration 24400 [ 81%]: Loss = 5462.961\n",
      "Iteration 24500 [ 81%]: Loss = 5220.798\n",
      "Iteration 24600 [ 82%]: Loss = 4075.840\n",
      "Iteration 24700 [ 82%]: Loss = 3971.000\n",
      "Iteration 24800 [ 82%]: Loss = 4151.752\n",
      "Iteration 24900 [ 83%]: Loss = 6018.559\n",
      "Iteration 25000 [ 83%]: Loss = 3981.824\n",
      "Iteration 25100 [ 83%]: Loss = 5008.068\n",
      "Iteration 25200 [ 84%]: Loss = 4780.646\n",
      "Iteration 25300 [ 84%]: Loss = 4716.665\n",
      "Iteration 25400 [ 84%]: Loss = 4067.129\n",
      "Iteration 25500 [ 85%]: Loss = 3133.428\n",
      "Iteration 25600 [ 85%]: Loss = 4553.054\n",
      "Iteration 25700 [ 85%]: Loss = 4110.359\n",
      "Iteration 25800 [ 86%]: Loss = 3231.012\n",
      "Iteration 25900 [ 86%]: Loss = 3925.868\n",
      "Iteration 26000 [ 86%]: Loss = 2550.028\n",
      "Iteration 26100 [ 87%]: Loss = 4920.784\n",
      "Iteration 26200 [ 87%]: Loss = 4295.537\n",
      "Iteration 26300 [ 87%]: Loss = 5198.505\n",
      "Iteration 26400 [ 88%]: Loss = 5581.654\n",
      "Iteration 26500 [ 88%]: Loss = 4423.607\n",
      "Iteration 26600 [ 88%]: Loss = 5853.988\n",
      "Iteration 26700 [ 89%]: Loss = 4129.604\n",
      "Iteration 26800 [ 89%]: Loss = 3769.626\n",
      "Iteration 26900 [ 89%]: Loss = 3813.853\n",
      "Iteration 27000 [ 90%]: Loss = 3773.824\n",
      "Iteration 27100 [ 90%]: Loss = 4656.359\n",
      "Iteration 27200 [ 90%]: Loss = 3948.381\n",
      "Iteration 27300 [ 91%]: Loss = 4884.259\n",
      "Iteration 27400 [ 91%]: Loss = 2159.435\n",
      "Iteration 27500 [ 91%]: Loss = 2703.239\n",
      "Iteration 27600 [ 92%]: Loss = 4889.898\n",
      "Iteration 27700 [ 92%]: Loss = 4142.872\n",
      "Iteration 27800 [ 92%]: Loss = 4104.086\n",
      "Iteration 27900 [ 93%]: Loss = 3372.501\n",
      "Iteration 28000 [ 93%]: Loss = 3771.366\n",
      "Iteration 28100 [ 93%]: Loss = 3704.218\n",
      "Iteration 28200 [ 94%]: Loss = 4751.207\n",
      "Iteration 28300 [ 94%]: Loss = 3727.455\n",
      "Iteration 28400 [ 94%]: Loss = 4881.231\n",
      "Iteration 28500 [ 95%]: Loss = 3500.113\n",
      "Iteration 28600 [ 95%]: Loss = 4050.831\n",
      "Iteration 28700 [ 95%]: Loss = 5158.880\n",
      "Iteration 28800 [ 96%]: Loss = 3847.740\n",
      "Iteration 28900 [ 96%]: Loss = 4211.383\n",
      "Iteration 29000 [ 96%]: Loss = 3012.712\n",
      "Iteration 29100 [ 97%]: Loss = 3687.435\n",
      "Iteration 29200 [ 97%]: Loss = 4127.277\n",
      "Iteration 29300 [ 97%]: Loss = 4229.458\n",
      "Iteration 29400 [ 98%]: Loss = 3179.480\n",
      "Iteration 29500 [ 98%]: Loss = 4202.378\n",
      "Iteration 29600 [ 98%]: Loss = 4707.099\n",
      "Iteration 29700 [ 99%]: Loss = 1695.838\n",
      "Iteration 29800 [ 99%]: Loss = 4209.995\n",
      "Iteration 29900 [ 99%]: Loss = 4412.414\n",
      "Iteration 30000 [100%]: Loss = 4611.991\n"
     ]
    }
   ],
   "source": [
    "inference.run(n_iter=30000, n_print=100, n_samples=1,\n",
    "              logdir='data/run1',\n",
    "              optimizer=tf.train.AdamOptimizer(1e-3),\n",
    "              scale={lam: N/NB, cnt: N/NB})"
   ]
  },
  {
   "cell_type": "code",
   "execution_count": 21,
   "metadata": {
    "collapsed": false
   },
   "outputs": [
    {
     "data": {
      "text/plain": [
       "<matplotlib.image.AxesImage at 0x12b62fe48>"
      ]
     },
     "execution_count": 21,
     "metadata": {},
     "output_type": "execute_result"
    },
    {
     "data": {
      "image/png": "[encoded data removed]",
      "text/plain": [
       "<matplotlib.figure.Figure at 0x1223a9d68>"
      ]
     },
     "metadata": {},
     "output_type": "display_data"
    },
    {
     "data": {
      "image/png": "[encoded data removed]",
      "text/plain": [
       "<matplotlib.figure.Figure at 0x12b450d30>"
      ]
     },
     "metadata": {},
     "output_type": "display_data"
    }
   ],
   "source": [
    "Zmat = q_Z.value().eval()\n",
    "\n",
    "plt.matshow(dZ, aspect='auto', cmap='gray')\n",
    "plt.matshow(Zmat.T, aspect='auto', cmap='gray')"
   ]
  },
  {
   "cell_type": "code",
   "execution_count": null,
   "metadata": {
    "collapsed": true
   },
   "outputs": [],
   "source": []
  }
 ],
 "metadata": {
  "anaconda-cloud": {},
  "kernelspec": {
   "display_name": "Python [Root]",
   "language": "python",
   "name": "Python [Root]"
  },
  "language_info": {
   "codemirror_mode": {
    "name": "ipython",
    "version": 3
   },
   "file_extension": ".py",
   "mimetype": "text/x-python",
   "name": "python",
   "nbconvert_exporter": "python",
   "pygments_lexer": "ipython3",
   "version": "3.5.2"
  }
 },
 "nbformat": 4,
 "nbformat_minor": 0
}
