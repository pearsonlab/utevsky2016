{
 "cells": [
  {
   "cell_type": "markdown",
   "metadata": {},
   "source": [
    "# Run model on fake data\n",
    "\n",
    "Here, we generate a synthetic data set for purposes of validating the model constructed in Edward."
   ]
  },
  {
   "cell_type": "code",
   "execution_count": 1,
   "metadata": {
    "collapsed": false
   },
   "outputs": [],
   "source": [
    "import numpy as np\n",
    "import pandas as pd\n",
    "import tensorflow as tf\n",
    "import edward as ed\n",
    "import matplotlib.pyplot as plt\n",
    "%matplotlib inline"
   ]
  },
  {
   "cell_type": "code",
   "execution_count": 2,
   "metadata": {
    "collapsed": false
   },
   "outputs": [],
   "source": [
    "ed.set_seed(12225)"
   ]
  },
  {
   "cell_type": "markdown",
   "metadata": {},
   "source": [
    "The model is defined by the spike count $N_{us}$ observed when stimulus $s$ is presented to unit $u$:\n",
    "\n",
    "$$\n",
    "\\begin{align}\n",
    "N &\\sim \\mathrm{Poisson}((\\lambda)_+)  \\\\\n",
    "\\lambda_{us} &\\sim \\mathcal{N}(A_{u} + (B * X)_{us} + (C * Z)_{us}, \\sigma^2) \\\\\n",
    "\\log \\sigma &\\sim \\mathcal{N}(-0.1, 0.1^2) \\\\\n",
    "Z_{ks} &\\sim \\mathrm{Bernoulli}(\\pi_k) \\\\\n",
    "\\pi_k &\\equiv \\prod_{i=1}^k \\delta_k \\\\\n",
    "\\delta_j &\\sim \\mathrm{Beta}(3, 1)\n",
    "\\end{align}\n",
    "$$\n",
    "With $X$ an $P \\times N_s$ matrix of known regressors, $Z$ a $K \\times N_s$ matrix of latent binary features\n",
    "governed by an Indian Buffet Process, $A$ and $N_u$ vector of baselines, and $(\\cdot)_+$ the softplus function: \n",
    "$(x)_+ = \\log(1 + e^x)$."
   ]
  },
  {
   "cell_type": "markdown",
   "metadata": {},
   "source": [
    "# Define constants"
   ]
  },
  {
   "cell_type": "code",
   "execution_count": 3,
   "metadata": {
    "collapsed": true
   },
   "outputs": [],
   "source": [
    "# basic constants\n",
    "N = 5  # number of observations per unit per stim\n",
    "NB = 10  # number of trials in minibatch\n",
    "NU = 50  # number of units\n",
    "NS = 50  # number of stims\n",
    "P = 5  # number of specified regressors\n",
    "K = 5  # number of latents"
   ]
  },
  {
   "cell_type": "markdown",
   "metadata": {},
   "source": [
    "# Make neural response coefficients"
   ]
  },
  {
   "cell_type": "code",
   "execution_count": 4,
   "metadata": {
    "collapsed": true
   },
   "outputs": [],
   "source": [
    "dA = 5 + 2 * np.random.randn(NU)  # baseline\n",
    "dB = 5 + 3 * np.random.randn(NU, P)  # regressor effects\n",
    "dC = 10 + 3 * np.random.randn(NU, K)  # latent effects"
   ]
  },
  {
   "cell_type": "markdown",
   "metadata": {},
   "source": [
    "# Regressors and latent states"
   ]
  },
  {
   "cell_type": "code",
   "execution_count": 5,
   "metadata": {
    "collapsed": false
   },
   "outputs": [
    {
     "data": {
      "text/plain": [
       "<matplotlib.image.AxesImage at 0x1273c2630>"
      ]
     },
     "execution_count": 5,
     "metadata": {},
     "output_type": "execute_result"
    },
    {
     "data": {
      "image/png": "[encoded data removed]",
      "text/plain": [
       "<matplotlib.figure.Figure at 0x124f23a58>"
      ]
     },
     "metadata": {},
     "output_type": "display_data"
    }
   ],
   "source": [
    "dX = 1 + np.random.randn(P, NS)\n",
    "\n",
    "import scipy.stats as stats\n",
    "\n",
    "ddelta = stats.beta.rvs(1.2, 1, size=(K,))\n",
    "dpi = np.cumprod(ddelta)\n",
    "dZ = stats.bernoulli.rvs(dpi[:, np.newaxis], size=(K, NS))\n",
    "\n",
    "# plot states\n",
    "plt.matshow(dZ, aspect='auto', cmap='gray')"
   ]
  },
  {
   "cell_type": "markdown",
   "metadata": {},
   "source": [
    "# Generate trial set"
   ]
  },
  {
   "cell_type": "code",
   "execution_count": 6,
   "metadata": {
    "collapsed": true
   },
   "outputs": [],
   "source": [
    "dU, dS = np.meshgrid(range(NU), range(NS))\n",
    "dU = dU.ravel()\n",
    "dS = dS.ravel()"
   ]
  },
  {
   "cell_type": "code",
   "execution_count": 7,
   "metadata": {
    "collapsed": false
   },
   "outputs": [],
   "source": [
    "dlam_mean = dA[dU] + np.sum(dB[dU] * dX[:, dS].T, axis=1) + np.sum(dC[dU] * dZ[:, dS].T, axis=1)\n",
    "\n",
    "dlam = stats.norm.rvs(loc=dlam_mean, scale=0.1)"
   ]
  },
  {
   "cell_type": "code",
   "execution_count": 8,
   "metadata": {
    "collapsed": false
   },
   "outputs": [
    {
     "data": {
      "image/png": "[encoded data removed]",
      "text/plain": [
       "<matplotlib.figure.Figure at 0x1273962b0>"
      ]
     },
     "metadata": {},
     "output_type": "display_data"
    }
   ],
   "source": [
    "plt.hist(dlam, bins=100);"
   ]
  },
  {
   "cell_type": "code",
   "execution_count": 9,
   "metadata": {
    "collapsed": true
   },
   "outputs": [],
   "source": [
    "# we'll want this function below\n",
    "def softplus(x):\n",
    "    return np.logaddexp(0, x)"
   ]
  },
  {
   "cell_type": "code",
   "execution_count": 10,
   "metadata": {
    "collapsed": true
   },
   "outputs": [],
   "source": [
    "dcount = stats.poisson.rvs(softplus(dlam))"
   ]
  },
  {
   "cell_type": "code",
   "execution_count": 11,
   "metadata": {
    "collapsed": false
   },
   "outputs": [
    {
     "data": {
      "image/png": "[encoded data removed]",
      "text/plain": [
       "<matplotlib.figure.Figure at 0x127a2f128>"
      ]
     },
     "metadata": {},
     "output_type": "display_data"
    }
   ],
   "source": [
    "plt.hist(dcount, bins=100);"
   ]
  },
  {
   "cell_type": "markdown",
   "metadata": {},
   "source": [
    "# Set up data"
   ]
  },
  {
   "cell_type": "code",
   "execution_count": 12,
   "metadata": {
    "collapsed": false
   },
   "outputs": [],
   "source": [
    "count = dcount\n",
    "Xdat = dX[:, dS].T\n",
    "Xdat.shape\n",
    "unit = dU\n",
    "stim = dS"
   ]
  },
  {
   "cell_type": "markdown",
   "metadata": {},
   "source": [
    "# Define the model"
   ]
  },
  {
   "cell_type": "markdown",
   "metadata": {},
   "source": [
    "## Constants"
   ]
  },
  {
   "cell_type": "code",
   "execution_count": 13,
   "metadata": {
    "collapsed": false
   },
   "outputs": [],
   "source": [
    "# define some needed constants\n",
    "N = Xdat.shape[0]  # number of trials"
   ]
  },
  {
   "cell_type": "markdown",
   "metadata": {},
   "source": [
    "## Inputs and data"
   ]
  },
  {
   "cell_type": "code",
   "execution_count": 14,
   "metadata": {
    "collapsed": true
   },
   "outputs": [],
   "source": [
    "X = tf.constant(Xdat.astype('float32'))\n",
    "U = tf.constant(unit)\n",
    "S = tf.constant(stim)\n",
    "counts = tf.constant(count)\n",
    "allinds = tf.constant(np.arange(N))"
   ]
  },
  {
   "cell_type": "markdown",
   "metadata": {},
   "source": [
    "Make a node that produces `NB` indices from the range $[0, N - 1]$. These are the subset of data points we want to use."
   ]
  },
  {
   "cell_type": "raw",
   "metadata": {
    "collapsed": true
   },
   "source": [
    "batch_inds = tf.train.range_input_producer(N).dequeue_many(NB, name='batch_inds')\n",
    "batch_counts = tf.train.batch(tf.train.slice_input_producer([counts]), NB, name='batch_counts')"
   ]
  },
  {
   "cell_type": "raw",
   "metadata": {
    "collapsed": true
   },
   "source": [
    "batch_inds = tf.constant(np.arange(NB))\n",
    "batch_counts = tf.train.batch(tf.train.slice_input_producer([counts]), NB)"
   ]
  },
  {
   "cell_type": "code",
   "execution_count": 15,
   "metadata": {
    "collapsed": false
   },
   "outputs": [],
   "source": [
    "batch_inds, batch_counts = tf.train.batch(tf.train.slice_input_producer([allinds, counts]), NB, \n",
    "                                          name='batches')"
   ]
  },
  {
   "cell_type": "markdown",
   "metadata": {},
   "source": [
    "## Generative (p) model"
   ]
  },
  {
   "cell_type": "code",
   "execution_count": 16,
   "metadata": {
    "collapsed": false
   },
   "outputs": [],
   "source": [
    "with tf.variable_scope(\"pmodel\"):\n",
    "    A = ed.models.Normal(mu=tf.zeros(NU), sigma=tf.ones(NU), name='A')\n",
    "    B = ed.models.Normal(mu=tf.zeros((NU, P)), sigma=tf.ones((NU, P)), name='B')\n",
    "    C = ed.models.Normal(mu=tf.zeros((NU, K)), sigma=tf.ones((NU, K)), name='C')  \n",
    "    \n",
    "    delta = ed.models.Beta(a=3 * tf.ones(K), b=tf.ones(K), name='delta')\n",
    "    tf.scalar_summary('mean_delta', tf.reduce_mean(delta))\n",
    "    log_delta = tf.log(delta)\n",
    "    tf.scalar_summary('min_log_delta', tf.reduce_min(log_delta))\n",
    "    tf.scalar_summary('mean_log_delta', tf.reduce_mean(log_delta))\n",
    "\n",
    "    pi = tf.exp(tf.cumsum(log_delta), name='pi')\n",
    "    tf.scalar_summary('min_pi', tf.reduce_min(pi))\n",
    "\n",
    "    Z = ed.models.Bernoulli(p=tf.tile(tf.expand_dims(pi, 0), [NS, 1]), name='Z')\n",
    "    tf.scalar_summary('mean_Z', tf.reduce_mean(tf.to_float(Z)))\n",
    "\n",
    "    sig = ed.models.Normal(mu=[-0.1], sigma=[0.1], name='sig')\n",
    "\n",
    "    lam_vars = (tf.gather(A, U) + tf.reduce_sum(tf.gather(B, U) * X, 1) + \n",
    "           tf.reduce_sum(tf.gather(C, U) * tf.gather(tf.to_float(Z), S), 1))\n",
    "    lam = ed.models.Normal(mu=tf.gather(lam_vars, batch_inds), \n",
    "                           sigma=tf.exp(sig), name='lam')\n",
    "    tf.scalar_summary('mean_lam', tf.reduce_mean(lam))\n",
    "\n",
    "\n",
    "    cnt = ed.models.Poisson(lam=tf.nn.softplus(lam), value=tf.ones(NB), name='cnt')"
   ]
  },
  {
   "cell_type": "markdown",
   "metadata": {},
   "source": [
    "# Recognition (q) model"
   ]
  },
  {
   "cell_type": "code",
   "execution_count": 17,
   "metadata": {
    "collapsed": false
   },
   "outputs": [],
   "source": [
    "with tf.variable_scope(\"qmodel\"):\n",
    "    q_A = ed.models.NormalWithSoftplusSigma(mu=tf.Variable(tf.random_normal((NU,))), \n",
    "                                            sigma=tf.Variable(tf.random_uniform((NU,))),\n",
    "                                            name='A')\n",
    "    q_B = ed.models.NormalWithSoftplusSigma(mu=tf.Variable(tf.random_normal((NU, P))), \n",
    "                                            sigma=tf.Variable(tf.random_uniform((NU, P))),\n",
    "                                            name='B')\n",
    "    q_C = ed.models.NormalWithSoftplusSigma(mu=tf.Variable(tf.random_normal((NU, K))), \n",
    "                                            sigma=tf.Variable(tf.random_uniform((NU, K))),\n",
    "                                            name='C')\n",
    "    q_Z = ed.models.BernoulliWithSigmoidP(p=tf.Variable(tf.random_normal((NS, K))), name='Z')\n",
    "    tf.scalar_summary('mean_q_Z', tf.reduce_mean(tf.to_float(Z)))\n",
    "\n",
    "    q_delta = ed.models.BetaWithSoftplusAB(a=tf.Variable(1 + tf.random_uniform((K,))),\n",
    "                                           b=tf.Variable(1 + tf.random_uniform((K,))),\n",
    "                                           name='delta')\n",
    "    tf.scalar_summary('mean_q_delta', tf.reduce_mean(q_delta))\n",
    "\n",
    "    lam_mu = tf.Variable(tf.random_normal((N,)))\n",
    "    lam_sig = tf.Variable(tf.random_uniform((N,)))\n",
    "    q_lam = ed.models.NormalWithSoftplusSigma(mu=tf.gather(lam_mu, batch_inds),\n",
    "                                              sigma=tf.gather(lam_sig, batch_inds),\n",
    "                                              name='lam')\n",
    "    tf.scalar_summary('mean_q_lam', tf.reduce_mean(q_lam))\n",
    "\n",
    "    q_sig = ed.models.NormalWithSoftplusSigma(mu=tf.Variable(-0.1 * tf.random_uniform((1,))),\n",
    "                                              sigma=tf.Variable(tf.random_uniform((1,))),\n",
    "                                              name='sig')\n",
    "    tf.scalar_summary('mean_q_sig', tf.reduce_mean(q_sig))\n"
   ]
  },
  {
   "cell_type": "markdown",
   "metadata": {},
   "source": [
    "# Do variational inference"
   ]
  },
  {
   "cell_type": "code",
   "execution_count": 18,
   "metadata": {
    "collapsed": false
   },
   "outputs": [],
   "source": [
    "data = {cnt: batch_counts}\n",
    "inference = ed.KLqp({A: q_A, B: q_B, C: q_C, Z: q_Z, sig: q_sig, delta: q_delta, lam: q_lam}, \n",
    "                    data)"
   ]
  },
  {
   "cell_type": "code",
   "execution_count": 19,
   "metadata": {
    "collapsed": true
   },
   "outputs": [],
   "source": [
    "init = tf.initialize_all_variables()"
   ]
  },
  {
   "cell_type": "markdown",
   "metadata": {},
   "source": [
    "# Notes before inference:\n",
    "\n",
    "- The `logdir` keyword specifies the place to put the log file (assuming you've instrumented the code to save events, etc.). If a subdirectory is given, pointing Tensorboard at the parent directory allows you to compare across subdirectories (runs).\n",
    "    - I'm using the `jmp/instrumented` branch of the `jmxpearson/edward` fork\n",
    "- I had to lower the learning rate in Adam to avoid NaNs early on in learning. Gradient clipping might solve the same problem.\n",
    "- I'm currently using \"all\" the data, but this should probably be switched to minibatches.\n",
    "- I've used `n_samples` = 1, 5, 10, and 25, which all seem pretty similar after 10k iterations. "
   ]
  },
  {
   "cell_type": "code",
   "execution_count": 20,
   "metadata": {
    "collapsed": false,
    "scrolled": true
   },
   "outputs": [
    {
     "name": "stdout",
     "output_type": "stream",
     "text": [
      "Iteration     1 [  0%]: Loss = 5870.929\n",
      "Iteration   100 [  0%]: Loss = 1217434.250\n",
      "Iteration   200 [  0%]: Loss = 8064.021\n",
      "Iteration   300 [  1%]: Loss = 8637.578\n",
      "Iteration   400 [  1%]: Loss = 40519.207\n",
      "Iteration   500 [  1%]: Loss = 4612.165\n",
      "Iteration   600 [  2%]: Loss = 6471.989\n",
      "Iteration   700 [  2%]: Loss = 104030.555\n",
      "Iteration   800 [  2%]: Loss = 93775.609\n",
      "Iteration   900 [  3%]: Loss = 27486.777\n",
      "Iteration  1000 [  3%]: Loss = 11892.262\n",
      "Iteration  1100 [  3%]: Loss = 14055.564\n",
      "Iteration  1200 [  4%]: Loss = 4086.376\n",
      "Iteration  1300 [  4%]: Loss = 57433.691\n",
      "Iteration  1400 [  4%]: Loss = 9025.950\n",
      "Iteration  1500 [  5%]: Loss = 6685.343\n",
      "Iteration  1600 [  5%]: Loss = 4513.907\n",
      "Iteration  1700 [  5%]: Loss = 7447.272\n",
      "Iteration  1800 [  6%]: Loss = 37310.449\n",
      "Iteration  1900 [  6%]: Loss = 18839.092\n",
      "Iteration  2000 [  6%]: Loss = 36025.047\n",
      "Iteration  2100 [  7%]: Loss = 6813.926\n",
      "Iteration  2200 [  7%]: Loss = 8373.320\n",
      "Iteration  2300 [  7%]: Loss = 51297.406\n",
      "Iteration  2400 [  8%]: Loss = 58126.352\n",
      "Iteration  2500 [  8%]: Loss = 91793.781\n",
      "Iteration  2600 [  8%]: Loss = 31512.609\n",
      "Iteration  2700 [  9%]: Loss = 218664.266\n",
      "Iteration  2800 [  9%]: Loss = 51463.492\n",
      "Iteration  2900 [  9%]: Loss = 76922.938\n",
      "Iteration  3000 [ 10%]: Loss = 11519.252\n",
      "Iteration  3100 [ 10%]: Loss = 17980.342\n",
      "Iteration  3200 [ 10%]: Loss = 27216.234\n",
      "Iteration  3300 [ 11%]: Loss = 6987.461\n",
      "Iteration  3400 [ 11%]: Loss = 4689.945\n",
      "Iteration  3500 [ 11%]: Loss = 18336.387\n",
      "Iteration  3600 [ 12%]: Loss = 5628.723\n",
      "Iteration  3700 [ 12%]: Loss = 204936.391\n",
      "Iteration  3800 [ 12%]: Loss = 5770.644\n",
      "Iteration  3900 [ 13%]: Loss = 430188.812\n",
      "Iteration  4000 [ 13%]: Loss = 96802.547\n",
      "Iteration  4100 [ 13%]: Loss = 8357.678\n",
      "Iteration  4200 [ 14%]: Loss = 34173.027\n",
      "Iteration  4300 [ 14%]: Loss = 5907.116\n",
      "Iteration  4400 [ 14%]: Loss = 42789.812\n",
      "Iteration  4500 [ 15%]: Loss = 6015.128\n",
      "Iteration  4600 [ 15%]: Loss = 3746.182\n",
      "Iteration  4700 [ 15%]: Loss = 7100.989\n",
      "Iteration  4800 [ 16%]: Loss = 139693.062\n",
      "Iteration  4900 [ 16%]: Loss = 14288.611\n",
      "Iteration  5000 [ 16%]: Loss = 3396.408\n",
      "Iteration  5100 [ 17%]: Loss = 22157.684\n",
      "Iteration  5200 [ 17%]: Loss = 334235.406\n",
      "Iteration  5300 [ 17%]: Loss = 98896.188\n",
      "Iteration  5400 [ 18%]: Loss = 7078.685\n",
      "Iteration  5500 [ 18%]: Loss = 26319.459\n",
      "Iteration  5600 [ 18%]: Loss = 23270.668\n",
      "Iteration  5700 [ 19%]: Loss = 7839.647\n",
      "Iteration  5800 [ 19%]: Loss = 13328.036\n",
      "Iteration  5900 [ 19%]: Loss = 6713.854\n",
      "Iteration  6000 [ 20%]: Loss = 4237.116\n",
      "Iteration  6100 [ 20%]: Loss = 5703.110\n",
      "Iteration  6200 [ 20%]: Loss = 16952.094\n",
      "Iteration  6300 [ 21%]: Loss = 49213.293\n",
      "Iteration  6400 [ 21%]: Loss = 10950.639\n",
      "Iteration  6500 [ 21%]: Loss = 16613.547\n",
      "Iteration  6600 [ 22%]: Loss = 4277.264\n",
      "Iteration  6700 [ 22%]: Loss = 12850.127\n",
      "Iteration  6800 [ 22%]: Loss = 53239.086\n",
      "Iteration  6900 [ 23%]: Loss = 40469.590\n",
      "Iteration  7000 [ 23%]: Loss = 14296.682\n",
      "Iteration  7100 [ 23%]: Loss = 4052.254\n",
      "Iteration  7200 [ 24%]: Loss = 5003.280\n",
      "Iteration  7300 [ 24%]: Loss = 8552.779\n",
      "Iteration  7400 [ 24%]: Loss = 9016.990\n",
      "Iteration  7500 [ 25%]: Loss = 26522.555\n",
      "Iteration  7600 [ 25%]: Loss = 21613.531\n",
      "Iteration  7700 [ 25%]: Loss = 20737.781\n",
      "Iteration  7800 [ 26%]: Loss = 9051.715\n",
      "Iteration  7900 [ 26%]: Loss = 4795.335\n",
      "Iteration  8000 [ 26%]: Loss = 113804.688\n",
      "Iteration  8100 [ 27%]: Loss = 31954.242\n",
      "Iteration  8200 [ 27%]: Loss = 16010.953\n",
      "Iteration  8300 [ 27%]: Loss = 6586.522\n",
      "Iteration  8400 [ 28%]: Loss = 5551.459\n",
      "Iteration  8500 [ 28%]: Loss = 56259.852\n",
      "Iteration  8600 [ 28%]: Loss = 5425.462\n",
      "Iteration  8700 [ 28%]: Loss = 4559.812\n",
      "Iteration  8800 [ 29%]: Loss = 3861.357\n",
      "Iteration  8900 [ 29%]: Loss = 6193.594\n",
      "Iteration  9000 [ 30%]: Loss = 16116.873\n",
      "Iteration  9100 [ 30%]: Loss = 10080.812\n",
      "Iteration  9200 [ 30%]: Loss = 20405.510\n",
      "Iteration  9300 [ 31%]: Loss = 32151.754\n",
      "Iteration  9400 [ 31%]: Loss = 4449.709\n",
      "Iteration  9500 [ 31%]: Loss = 5163.575\n",
      "Iteration  9600 [ 32%]: Loss = 4964.378\n",
      "Iteration  9700 [ 32%]: Loss = 5165.404\n",
      "Iteration  9800 [ 32%]: Loss = 4010.313\n",
      "Iteration  9900 [ 33%]: Loss = 8524.313\n",
      "Iteration 10000 [ 33%]: Loss = 5810.618\n",
      "Iteration 10100 [ 33%]: Loss = 6374.984\n",
      "Iteration 10200 [ 34%]: Loss = 12526.295\n",
      "Iteration 10300 [ 34%]: Loss = 11680.142\n",
      "Iteration 10400 [ 34%]: Loss = 5208.314\n",
      "Iteration 10500 [ 35%]: Loss = 31707.121\n",
      "Iteration 10600 [ 35%]: Loss = 4298.807\n",
      "Iteration 10700 [ 35%]: Loss = 4475.203\n",
      "Iteration 10800 [ 36%]: Loss = 5280.181\n",
      "Iteration 10900 [ 36%]: Loss = 4834.250\n",
      "Iteration 11000 [ 36%]: Loss = 4942.724\n",
      "Iteration 11100 [ 37%]: Loss = 22661.086\n",
      "Iteration 11200 [ 37%]: Loss = 4583.623\n",
      "Iteration 11300 [ 37%]: Loss = 4639.047\n",
      "Iteration 11400 [ 38%]: Loss = 6170.536\n",
      "Iteration 11500 [ 38%]: Loss = 5651.882\n",
      "Iteration 11600 [ 38%]: Loss = 4543.978\n",
      "Iteration 11700 [ 39%]: Loss = 5262.478\n",
      "Iteration 11800 [ 39%]: Loss = 5044.370\n",
      "Iteration 11900 [ 39%]: Loss = 3964.880\n",
      "Iteration 12000 [ 40%]: Loss = 5521.880\n",
      "Iteration 12100 [ 40%]: Loss = 4375.167\n",
      "Iteration 12200 [ 40%]: Loss = 6689.712\n",
      "Iteration 12300 [ 41%]: Loss = 5554.941\n",
      "Iteration 12400 [ 41%]: Loss = 5217.971\n",
      "Iteration 12500 [ 41%]: Loss = 3758.891\n",
      "Iteration 12600 [ 42%]: Loss = 4132.231\n",
      "Iteration 12700 [ 42%]: Loss = 4901.869\n",
      "Iteration 12800 [ 42%]: Loss = 3395.207\n",
      "Iteration 12900 [ 43%]: Loss = 5874.669\n",
      "Iteration 13000 [ 43%]: Loss = 4258.777\n",
      "Iteration 13100 [ 43%]: Loss = 3719.444\n",
      "Iteration 13200 [ 44%]: Loss = 5664.875\n",
      "Iteration 13300 [ 44%]: Loss = 3912.104\n",
      "Iteration 13400 [ 44%]: Loss = 16776.871\n",
      "Iteration 13500 [ 45%]: Loss = 4233.300\n",
      "Iteration 13600 [ 45%]: Loss = 8819.926\n",
      "Iteration 13700 [ 45%]: Loss = 4455.101\n",
      "Iteration 13800 [ 46%]: Loss = 6120.866\n",
      "Iteration 13900 [ 46%]: Loss = 4228.527\n",
      "Iteration 14000 [ 46%]: Loss = 3388.822\n",
      "Iteration 14100 [ 47%]: Loss = 3624.517\n",
      "Iteration 14200 [ 47%]: Loss = 4368.079\n",
      "Iteration 14300 [ 47%]: Loss = 4472.561\n",
      "Iteration 14400 [ 48%]: Loss = 5003.563\n",
      "Iteration 14500 [ 48%]: Loss = 6133.622\n",
      "Iteration 14600 [ 48%]: Loss = 2379.951\n",
      "Iteration 14700 [ 49%]: Loss = 4854.881\n",
      "Iteration 14800 [ 49%]: Loss = 3933.009\n",
      "Iteration 14900 [ 49%]: Loss = 5140.140\n",
      "Iteration 15000 [ 50%]: Loss = 4652.211\n",
      "Iteration 15100 [ 50%]: Loss = 3539.669\n",
      "Iteration 15200 [ 50%]: Loss = 5170.133\n",
      "Iteration 15300 [ 51%]: Loss = 4803.420\n",
      "Iteration 15400 [ 51%]: Loss = 5628.594\n",
      "Iteration 15500 [ 51%]: Loss = 6081.570\n",
      "Iteration 15600 [ 52%]: Loss = 5377.720\n",
      "Iteration 15700 [ 52%]: Loss = 11506.218\n",
      "Iteration 15800 [ 52%]: Loss = 3778.843\n",
      "Iteration 15900 [ 53%]: Loss = 7094.085\n",
      "Iteration 16000 [ 53%]: Loss = 4521.869\n",
      "Iteration 16100 [ 53%]: Loss = 5150.760\n",
      "Iteration 16200 [ 54%]: Loss = 5885.414\n",
      "Iteration 16300 [ 54%]: Loss = 5284.543\n",
      "Iteration 16400 [ 54%]: Loss = 3414.764\n",
      "Iteration 16500 [ 55%]: Loss = 6704.643\n",
      "Iteration 16600 [ 55%]: Loss = 7018.026\n",
      "Iteration 16700 [ 55%]: Loss = 3540.682\n",
      "Iteration 16800 [ 56%]: Loss = 5720.678\n",
      "Iteration 16900 [ 56%]: Loss = 5410.363\n",
      "Iteration 17000 [ 56%]: Loss = 4601.845\n",
      "Iteration 17100 [ 56%]: Loss = 5160.525\n",
      "Iteration 17200 [ 57%]: Loss = 4226.356\n",
      "Iteration 17300 [ 57%]: Loss = 4731.764\n",
      "Iteration 17400 [ 57%]: Loss = 5009.245\n",
      "Iteration 17500 [ 58%]: Loss = 5375.889\n",
      "Iteration 17600 [ 58%]: Loss = 6439.188\n",
      "Iteration 17700 [ 59%]: Loss = 5331.637\n",
      "Iteration 17800 [ 59%]: Loss = 4921.607\n",
      "Iteration 17900 [ 59%]: Loss = 5017.662\n",
      "Iteration 18000 [ 60%]: Loss = 5339.750\n",
      "Iteration 18100 [ 60%]: Loss = 5261.667\n",
      "Iteration 18200 [ 60%]: Loss = 5887.896\n",
      "Iteration 18300 [ 61%]: Loss = 5567.464\n",
      "Iteration 18400 [ 61%]: Loss = 5262.121\n",
      "Iteration 18500 [ 61%]: Loss = 3449.824\n",
      "Iteration 18600 [ 62%]: Loss = 5424.354\n",
      "Iteration 18700 [ 62%]: Loss = 3698.716\n",
      "Iteration 18800 [ 62%]: Loss = 6998.207\n",
      "Iteration 18900 [ 63%]: Loss = 3425.697\n",
      "Iteration 19000 [ 63%]: Loss = 4106.535\n",
      "Iteration 19100 [ 63%]: Loss = 4497.208\n",
      "Iteration 19200 [ 64%]: Loss = 5371.879\n",
      "Iteration 19300 [ 64%]: Loss = 8045.176\n",
      "Iteration 19400 [ 64%]: Loss = 7099.200\n",
      "Iteration 19500 [ 65%]: Loss = 4983.734\n",
      "Iteration 19600 [ 65%]: Loss = 5507.873\n",
      "Iteration 19700 [ 65%]: Loss = 4757.523\n",
      "Iteration 19800 [ 66%]: Loss = 3787.808\n",
      "Iteration 19900 [ 66%]: Loss = 4529.389\n",
      "Iteration 20000 [ 66%]: Loss = 4918.780\n",
      "Iteration 20100 [ 67%]: Loss = 5831.740\n",
      "Iteration 20200 [ 67%]: Loss = 4696.858\n",
      "Iteration 20300 [ 67%]: Loss = 5631.049\n",
      "Iteration 20400 [ 68%]: Loss = 4607.770\n",
      "Iteration 20500 [ 68%]: Loss = 4186.878\n",
      "Iteration 20600 [ 68%]: Loss = 3379.581\n",
      "Iteration 20700 [ 69%]: Loss = 5504.797\n",
      "Iteration 20800 [ 69%]: Loss = 3610.092\n",
      "Iteration 20900 [ 69%]: Loss = 4197.599\n",
      "Iteration 21000 [ 70%]: Loss = 5134.015\n",
      "Iteration 21100 [ 70%]: Loss = 4494.201\n",
      "Iteration 21200 [ 70%]: Loss = 5704.107\n",
      "Iteration 21300 [ 71%]: Loss = 4492.739\n",
      "Iteration 21400 [ 71%]: Loss = 5896.033\n",
      "Iteration 21500 [ 71%]: Loss = 5616.943\n",
      "Iteration 21600 [ 72%]: Loss = 5575.887\n",
      "Iteration 21700 [ 72%]: Loss = 5381.715\n",
      "Iteration 21800 [ 72%]: Loss = 4483.690\n",
      "Iteration 21900 [ 73%]: Loss = 5445.334\n",
      "Iteration 22000 [ 73%]: Loss = 4747.893\n",
      "Iteration 22100 [ 73%]: Loss = 3401.411\n",
      "Iteration 22200 [ 74%]: Loss = 3485.545\n",
      "Iteration 22300 [ 74%]: Loss = 3926.608\n",
      "Iteration 22400 [ 74%]: Loss = 3017.353\n",
      "Iteration 22500 [ 75%]: Loss = 4642.176\n",
      "Iteration 22600 [ 75%]: Loss = 5463.936\n",
      "Iteration 22700 [ 75%]: Loss = 4739.060\n",
      "Iteration 22800 [ 76%]: Loss = 4760.939\n",
      "Iteration 22900 [ 76%]: Loss = 4141.542\n",
      "Iteration 23000 [ 76%]: Loss = 6034.438\n",
      "Iteration 23100 [ 77%]: Loss = 4097.717\n",
      "Iteration 23200 [ 77%]: Loss = 5433.211\n",
      "Iteration 23300 [ 77%]: Loss = 3501.989\n",
      "Iteration 23400 [ 78%]: Loss = 4697.389\n",
      "Iteration 23500 [ 78%]: Loss = 4314.073\n",
      "Iteration 23600 [ 78%]: Loss = 6925.271\n",
      "Iteration 23700 [ 79%]: Loss = 4552.256\n",
      "Iteration 23800 [ 79%]: Loss = 4550.460\n",
      "Iteration 23900 [ 79%]: Loss = 4718.711\n",
      "Iteration 24000 [ 80%]: Loss = 3860.730\n",
      "Iteration 24100 [ 80%]: Loss = 5276.868\n",
      "Iteration 24200 [ 80%]: Loss = 4815.042\n",
      "Iteration 24300 [ 81%]: Loss = 4701.250\n",
      "Iteration 24400 [ 81%]: Loss = 3808.162\n",
      "Iteration 24500 [ 81%]: Loss = 4330.242\n",
      "Iteration 24600 [ 82%]: Loss = 7293.758\n",
      "Iteration 24700 [ 82%]: Loss = 5698.634\n",
      "Iteration 24800 [ 82%]: Loss = 4349.233\n",
      "Iteration 24900 [ 83%]: Loss = 5241.915\n",
      "Iteration 25000 [ 83%]: Loss = 6808.478\n",
      "Iteration 25100 [ 83%]: Loss = 5669.995\n",
      "Iteration 25200 [ 84%]: Loss = 5340.781\n",
      "Iteration 25300 [ 84%]: Loss = 4118.974\n",
      "Iteration 25400 [ 84%]: Loss = 4273.308\n",
      "Iteration 25500 [ 85%]: Loss = 3599.058\n",
      "Iteration 25600 [ 85%]: Loss = 4943.019\n",
      "Iteration 25700 [ 85%]: Loss = 4517.625\n",
      "Iteration 25800 [ 86%]: Loss = 3911.098\n",
      "Iteration 25900 [ 86%]: Loss = 6004.527\n",
      "Iteration 26000 [ 86%]: Loss = 4261.390\n",
      "Iteration 26100 [ 87%]: Loss = 5791.394\n",
      "Iteration 26200 [ 87%]: Loss = 5091.029\n",
      "Iteration 26300 [ 87%]: Loss = 4667.835\n",
      "Iteration 26400 [ 88%]: Loss = 5052.301\n",
      "Iteration 26500 [ 88%]: Loss = 4479.292\n",
      "Iteration 26600 [ 88%]: Loss = 5932.633\n",
      "Iteration 26700 [ 89%]: Loss = 4059.923\n",
      "Iteration 26800 [ 89%]: Loss = 6603.240\n",
      "Iteration 26900 [ 89%]: Loss = 4554.353\n",
      "Iteration 27000 [ 90%]: Loss = 3889.390\n",
      "Iteration 27100 [ 90%]: Loss = 5226.448\n",
      "Iteration 27200 [ 90%]: Loss = 4085.381\n",
      "Iteration 27300 [ 91%]: Loss = 5390.525\n",
      "Iteration 27400 [ 91%]: Loss = 4684.116\n",
      "Iteration 27500 [ 91%]: Loss = 4285.451\n",
      "Iteration 27600 [ 92%]: Loss = 4890.805\n",
      "Iteration 27700 [ 92%]: Loss = 5300.754\n",
      "Iteration 27800 [ 92%]: Loss = 4981.402\n",
      "Iteration 27900 [ 93%]: Loss = 4264.295\n",
      "Iteration 28000 [ 93%]: Loss = 5387.562\n",
      "Iteration 28100 [ 93%]: Loss = 5121.015\n",
      "Iteration 28200 [ 94%]: Loss = 3689.082\n",
      "Iteration 28300 [ 94%]: Loss = 5667.680\n",
      "Iteration 28400 [ 94%]: Loss = 3564.728\n",
      "Iteration 28500 [ 95%]: Loss = 3789.670\n",
      "Iteration 28600 [ 95%]: Loss = 4640.727\n",
      "Iteration 28700 [ 95%]: Loss = 4857.186\n",
      "Iteration 28800 [ 96%]: Loss = 3848.400\n",
      "Iteration 28900 [ 96%]: Loss = 4721.522\n",
      "Iteration 29000 [ 96%]: Loss = 5144.563\n",
      "Iteration 29100 [ 97%]: Loss = 4841.023\n",
      "Iteration 29200 [ 97%]: Loss = 3511.138\n",
      "Iteration 29300 [ 97%]: Loss = 5309.258\n",
      "Iteration 29400 [ 98%]: Loss = 4813.967\n",
      "Iteration 29500 [ 98%]: Loss = 5498.054\n",
      "Iteration 29600 [ 98%]: Loss = 4421.895\n",
      "Iteration 29700 [ 99%]: Loss = 3742.969\n",
      "Iteration 29800 [ 99%]: Loss = 4303.165\n",
      "Iteration 29900 [ 99%]: Loss = 4812.447\n",
      "Iteration 30000 [100%]: Loss = 3761.944\n"
     ]
    }
   ],
   "source": [
    "inference.run(n_iter=30000, n_print=100, n_samples=1,\n",
    "              logdir='data/run1',\n",
    "              optimizer=tf.train.AdamOptimizer(1e-3),\n",
    "              scale={lam: N/NB, cnt: N/NB})"
   ]
  },
  {
   "cell_type": "code",
   "execution_count": 21,
   "metadata": {
    "collapsed": false
   },
   "outputs": [
    {
     "data": {
      "text/plain": [
       "<matplotlib.image.AxesImage at 0x12a735358>"
      ]
     },
     "execution_count": 21,
     "metadata": {},
     "output_type": "execute_result"
    },
    {
     "data": {
      "image/png": "[encoded data removed]",
      "text/plain": [
       "<matplotlib.figure.Figure at 0x127c41cc0>"
      ]
     },
     "metadata": {},
     "output_type": "display_data"
    },
    {
     "data": {
      "image/png": "[encoded data removed]",
      "text/plain": [
       "<matplotlib.figure.Figure at 0x1291af780>"
      ]
     },
     "metadata": {},
     "output_type": "display_data"
    }
   ],
   "source": [
    "Zmat = q_Z.value().eval()\n",
    "\n",
    "plt.matshow(dZ, aspect='auto', cmap='gray')\n",
    "plt.matshow(Zmat.T, aspect='auto', cmap='gray')"
   ]
  },
  {
   "cell_type": "code",
   "execution_count": null,
   "metadata": {
    "collapsed": true
   },
   "outputs": [],
   "source": []
  }
 ],
 "metadata": {
  "anaconda-cloud": {},
  "kernelspec": {
   "display_name": "Python [Root]",
   "language": "python",
   "name": "Python [Root]"
  },
  "language_info": {
   "codemirror_mode": {
    "name": "ipython",
    "version": 3
   },
   "file_extension": ".py",
   "mimetype": "text/x-python",
   "name": "python",
   "nbconvert_exporter": "python",
   "pygments_lexer": "ipython3",
   "version": "3.5.2"
  }
 },
 "nbformat": 4,
 "nbformat_minor": 0
}
