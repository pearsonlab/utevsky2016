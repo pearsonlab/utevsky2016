{
 "cells": [
  {
   "cell_type": "markdown",
   "metadata": {},
   "source": [
    "# Run model on fake data\n",
    "\n",
    "Here, we generate a synthetic data set for purposes of validating the model constructed in Edward."
   ]
  },
  {
   "cell_type": "code",
   "execution_count": 1,
   "metadata": {
    "collapsed": false
   },
   "outputs": [],
   "source": [
    "import numpy as np\n",
    "import pandas as pd\n",
    "import tensorflow as tf\n",
    "import edward as ed\n",
    "import matplotlib.pyplot as plt\n",
    "%matplotlib inline"
   ]
  },
  {
   "cell_type": "code",
   "execution_count": 2,
   "metadata": {
    "collapsed": true
   },
   "outputs": [],
   "source": [
    "# we'll want this function below\n",
    "def softplus(x):\n",
    "    return np.logaddexp(0, x)"
   ]
  },
  {
   "cell_type": "code",
   "execution_count": 3,
   "metadata": {
    "collapsed": false
   },
   "outputs": [],
   "source": [
    "ed.set_seed(12225)"
   ]
  },
  {
   "cell_type": "markdown",
   "metadata": {},
   "source": [
    "The model is defined by the spike count $N_{us}$ observed when stimulus $s$ is presented to unit $u$:\n",
    "\n",
    "$$\n",
    "\\begin{align}\n",
    "N &\\sim \\mathrm{Poisson}(e^\\lambda)  \\\\\n",
    "\\lambda_{us} &\\sim \\mathcal{N}(A_{u} + (B * X)_{us} + (C * Z)_{us}, \\sigma^2) \\\\\n",
    "\\log \\sigma &\\sim \\mathcal{N}(-7, 1^2) \\\\\n",
    "Z_{ks} &\\sim \\mathrm{Bernoulli}(\\pi_k) \\\\\n",
    "\\pi_k &\\equiv \\prod_{i=1}^k \\delta_k \\\\\n",
    "\\delta_j &\\sim \\mathrm{Beta}(3, 1)\n",
    "\\end{align}\n",
    "$$\n",
    "With $X$ an $P \\times N_s$ matrix of known regressors, $Z$ a $K \\times N_s$ matrix of latent binary features\n",
    "governed by an Indian Buffet Process, $A$ and $N_u$ vector of baselines, and $(\\cdot)_+$ the softplus function: \n",
    "$(x)_+ = \\log(1 + e^x)$."
   ]
  },
  {
   "cell_type": "markdown",
   "metadata": {},
   "source": [
    "# Define constants"
   ]
  },
  {
   "cell_type": "code",
   "execution_count": 4,
   "metadata": {
    "collapsed": true
   },
   "outputs": [],
   "source": [
    "# basic constants\n",
    "Nrep = 50  # number of observations per unit per stim\n",
    "NB = 1000  # number of trials in minibatch\n",
    "NU = 50  # number of units\n",
    "NS = 50  # number of stims\n",
    "P = 3  # number of specified regressors\n",
    "K = 4  # number of latents"
   ]
  },
  {
   "cell_type": "markdown",
   "metadata": {},
   "source": [
    "# Make neural response coefficients"
   ]
  },
  {
   "cell_type": "code",
   "execution_count": 5,
   "metadata": {
    "collapsed": false
   },
   "outputs": [],
   "source": [
    "dA = np.log(softplus(25 + 5 * np.random.randn(NU)))  # baseline\n",
    "dB = np.log(np.array([0.75, 1.2, 1.5]) + 0.1 * np.random.randn(NU, P))  # regressor effects\n",
    "dC = np.log(np.array([0.25, 0.55, 1.4, 2.2])[np.newaxis, :] + 0.1 * np.random.randn(NU, K))  # latent effects"
   ]
  },
  {
   "cell_type": "markdown",
   "metadata": {},
   "source": [
    "# Regressors and latent states"
   ]
  },
  {
   "cell_type": "code",
   "execution_count": 6,
   "metadata": {
    "collapsed": false
   },
   "outputs": [
    {
     "name": "stdout",
     "output_type": "stream",
     "text": [
      "[ 0.70137886  0.57732232  0.24895886  0.49916835] [ 0.70137886  0.40492167  0.10080884  0.05032058]\n"
     ]
    },
    {
     "data": {
      "image/png": "[encoded data removed]",
      "text/plain": [
       "<matplotlib.figure.Figure at 0x121cf71d0>"
      ]
     },
     "metadata": {},
     "output_type": "display_data"
    }
   ],
   "source": [
    "dX = 0.1 * np.random.randn(P, NS)\n",
    "\n",
    "import scipy.stats as stats\n",
    "\n",
    "ddelta = stats.beta.rvs(1.2, 1, size=(K,))\n",
    "dpi = np.cumprod(ddelta)\n",
    "print(ddelta, dpi)\n",
    "dZ = stats.bernoulli.rvs(dpi[:, np.newaxis], size=(K, NS))\n",
    "\n",
    "# plot states\n",
    "plt.matshow(dZ, aspect='auto', cmap='gray');"
   ]
  },
  {
   "cell_type": "markdown",
   "metadata": {},
   "source": [
    "# Generate trial set"
   ]
  },
  {
   "cell_type": "code",
   "execution_count": 7,
   "metadata": {
    "collapsed": true
   },
   "outputs": [],
   "source": [
    "dU, dS = np.meshgrid(range(NU), range(NS))\n",
    "dU = dU.ravel()\n",
    "dS = dS.ravel()"
   ]
  },
  {
   "cell_type": "code",
   "execution_count": 8,
   "metadata": {
    "collapsed": false
   },
   "outputs": [],
   "source": [
    "dlam_mean = np.tile(dA[dU] + np.sum(dB[dU] * dX[:, dS].T, axis=1) + np.sum(dC[dU] * dZ[:, dS].T, axis=1), Nrep)\n",
    "\n",
    "dlam = stats.norm.rvs(loc=dlam_mean, scale=0.01)"
   ]
  },
  {
   "cell_type": "code",
   "execution_count": 9,
   "metadata": {
    "collapsed": false
   },
   "outputs": [
    {
     "data": {
      "text/plain": [
       "(125000,)"
      ]
     },
     "execution_count": 9,
     "metadata": {},
     "output_type": "execute_result"
    }
   ],
   "source": [
    "dcount = stats.poisson.rvs(np.exp(dlam))\n",
    "dcount.shape"
   ]
  },
  {
   "cell_type": "code",
   "execution_count": 10,
   "metadata": {
    "collapsed": false
   },
   "outputs": [
    {
     "data": {
      "image/png": "[encoded data removed]",
      "text/plain": [
       "<matplotlib.figure.Figure at 0x121da3860>"
      ]
     },
     "metadata": {},
     "output_type": "display_data"
    }
   ],
   "source": [
    "plt.hist(dlam, bins=200);"
   ]
  },
  {
   "cell_type": "code",
   "execution_count": 11,
   "metadata": {
    "collapsed": false
   },
   "outputs": [
    {
     "data": {
      "image/png": "[encoded data removed]",
      "text/plain": [
       "<matplotlib.figure.Figure at 0x127f8f780>"
      ]
     },
     "metadata": {},
     "output_type": "display_data"
    }
   ],
   "source": [
    "plt.hist(np.exp(dlam), bins=200);"
   ]
  },
  {
   "cell_type": "code",
   "execution_count": 12,
   "metadata": {
    "collapsed": false
   },
   "outputs": [
    {
     "data": {
      "image/png": "[encoded data removed]",
      "text/plain": [
       "<matplotlib.figure.Figure at 0x127f8ac18>"
      ]
     },
     "metadata": {},
     "output_type": "display_data"
    }
   ],
   "source": [
    "plt.hist(dcount, bins=200);"
   ]
  },
  {
   "cell_type": "markdown",
   "metadata": {},
   "source": [
    "# Set up data"
   ]
  },
  {
   "cell_type": "code",
   "execution_count": 13,
   "metadata": {
    "collapsed": false
   },
   "outputs": [],
   "source": [
    "count = dcount.copy()\n",
    "Xdat = np.tile(dX[:, dS], (1, Nrep)).T\n",
    "unit = np.tile(dU, Nrep)\n",
    "stim = np.tile(dS, Nrep)"
   ]
  },
  {
   "cell_type": "markdown",
   "metadata": {},
   "source": [
    "# Run GLM to get inits\n",
    "\n",
    "Here, we run a GLM on the observed data with $A$ and $B$ included (but not $C \\cdot Z$) to get a rough starting point. This takes time, but is a net win in terms of saving SGD iterations."
   ]
  },
  {
   "cell_type": "code",
   "execution_count": 14,
   "metadata": {
    "collapsed": false
   },
   "outputs": [],
   "source": [
    "import statsmodels.api as sm\n",
    "import statsmodels.formula.api as smf\n",
    "Xdf = pd.DataFrame(Xdat)\n",
    "Xdf.columns = ['X' + str(c) for c in Xdf.columns]\n",
    "dta = pd.concat([pd.DataFrame({'count': count, 'unit': unit, 'stim': stim}), Xdf], axis=1)\n",
    "formula = 'count ~ -1 + C(unit) + C(unit) * (' + '+'.join(Xdf.columns) + ')'\n",
    "mod = smf.glm(formula=formula, data=dta, family=sm.families.Poisson()).fit()"
   ]
  },
  {
   "cell_type": "markdown",
   "metadata": {},
   "source": [
    "Now extract the model's fitted parameters into inits for $A$ and $B$"
   ]
  },
  {
   "cell_type": "code",
   "execution_count": 15,
   "metadata": {
    "collapsed": false
   },
   "outputs": [],
   "source": [
    "A_init = mod.params.values[:NU].astype('float32')\n",
    "B_init = mod.params.values[NU:].reshape(P, NU).T.astype('float32')"
   ]
  },
  {
   "cell_type": "markdown",
   "metadata": {},
   "source": [
    "# Define the model"
   ]
  },
  {
   "cell_type": "markdown",
   "metadata": {},
   "source": [
    "## Constants"
   ]
  },
  {
   "cell_type": "code",
   "execution_count": 16,
   "metadata": {
    "collapsed": false
   },
   "outputs": [],
   "source": [
    "# define some needed constants\n",
    "N = Xdat.shape[0]  # number of trials"
   ]
  },
  {
   "cell_type": "code",
   "execution_count": 17,
   "metadata": {
    "collapsed": false
   },
   "outputs": [
    {
     "data": {
      "text/plain": [
       "125000"
      ]
     },
     "execution_count": 17,
     "metadata": {},
     "output_type": "execute_result"
    }
   ],
   "source": [
    "N"
   ]
  },
  {
   "cell_type": "markdown",
   "metadata": {},
   "source": [
    "## Inputs and data"
   ]
  },
  {
   "cell_type": "code",
   "execution_count": 18,
   "metadata": {
    "collapsed": true
   },
   "outputs": [],
   "source": [
    "X = tf.constant(Xdat.astype('float32'))\n",
    "U = tf.constant(unit)\n",
    "S = tf.constant(stim)\n",
    "counts = tf.constant(count)\n",
    "allinds = tf.constant(np.arange(N))"
   ]
  },
  {
   "cell_type": "code",
   "execution_count": 19,
   "metadata": {
    "collapsed": false
   },
   "outputs": [
    {
     "data": {
      "text/plain": [
       "TensorShape([Dimension(125000), Dimension(3)])"
      ]
     },
     "execution_count": 19,
     "metadata": {},
     "output_type": "execute_result"
    }
   ],
   "source": [
    "X.get_shape()"
   ]
  },
  {
   "cell_type": "markdown",
   "metadata": {},
   "source": [
    "Make a node that produces `NB` indices from the range $[0, N - 1]$. These are the subset of data points we want to use."
   ]
  },
  {
   "cell_type": "raw",
   "metadata": {
    "collapsed": true
   },
   "source": [
    "batch_inds = tf.train.range_input_producer(N).dequeue_many(NB, name='batch_inds')\n",
    "batch_counts = tf.train.batch(tf.train.slice_input_producer([counts]), NB, name='batch_counts')"
   ]
  },
  {
   "cell_type": "raw",
   "metadata": {
    "collapsed": true
   },
   "source": [
    "batch_inds = tf.constant(np.arange(NB))\n",
    "batch_counts = tf.train.batch(tf.train.slice_input_producer([counts]), NB)"
   ]
  },
  {
   "cell_type": "raw",
   "metadata": {
    "collapsed": false
   },
   "source": [
    "batch_inds, batch_counts = tf.train.batch(tf.train.slice_input_producer([allinds, counts]), NB, \n",
    "                                          name='batches')"
   ]
  },
  {
   "cell_type": "code",
   "execution_count": 20,
   "metadata": {
    "collapsed": true
   },
   "outputs": [],
   "source": [
    "NB = N\n",
    "batch_inds = np.arange(N)\n",
    "batch_counts = counts"
   ]
  },
  {
   "cell_type": "markdown",
   "metadata": {},
   "source": [
    "## Generative (p) model"
   ]
  },
  {
   "cell_type": "code",
   "execution_count": 21,
   "metadata": {
    "collapsed": false
   },
   "outputs": [],
   "source": [
    "with tf.variable_scope(\"pmodel\"):\n",
    "    A = ed.models.Normal(mu=tf.zeros(NU), sigma=5 * tf.ones(NU), name='A')\n",
    "    B = ed.models.Normal(mu=tf.zeros((NU, P)), sigma=3 * tf.ones((NU, P)), name='B')\n",
    "    C = ed.models.Normal(mu=tf.zeros((NU, K)), sigma=3 * tf.ones((NU, K)), name='C')  \n",
    "\n",
    "    pi = ed.models.Beta(a=tf.ones(K), b=tf.ones(K), name='pi')\n",
    "\n",
    "    Z = ed.models.Bernoulli(p=tf.tile(tf.expand_dims(pi, 0), [NS, 1]), name='Z')\n",
    "\n",
    "    sig = ed.models.Normal(mu=[-7.0], sigma=[1.], name='sig')\n",
    "\n",
    "    lam_vars = (tf.gather(A, U) + tf.reduce_sum(tf.gather(B, U) * X, 1) + \n",
    "           tf.reduce_sum(tf.gather(C, U) * tf.gather(tf.to_float(Z), S), 1))\n",
    "    lam = ed.models.Normal(mu=tf.gather(lam_vars, batch_inds), \n",
    "                           sigma=tf.exp(sig), name='lam')\n",
    "\n",
    "    cnt = ed.models.Poisson(lam=tf.exp(lam), value=tf.ones(NB), name='cnt')"
   ]
  },
  {
   "cell_type": "markdown",
   "metadata": {},
   "source": [
    "# Recognition (q) model"
   ]
  },
  {
   "cell_type": "code",
   "execution_count": 22,
   "metadata": {
    "collapsed": false
   },
   "outputs": [],
   "source": [
    "with tf.variable_scope(\"qmodel\"):\n",
    "    q_A = ed.models.NormalWithSoftplusSigma(mu=tf.Variable(A_init), \n",
    "                                            sigma=tf.Variable(0.5 + tf.random_uniform((NU,))),\n",
    "                                            name='A')\n",
    "    tf.scalar_summary('q_A', tf.reduce_mean(q_A.mean()))\n",
    "\n",
    "    q_B = ed.models.NormalWithSoftplusSigma(mu=tf.Variable(B_init), \n",
    "                                            sigma=tf.Variable(0.5 + tf.random_uniform((NU, P))),\n",
    "                                            name='B')\n",
    "    tf.scalar_summary('q_B', tf.reduce_mean(q_B.mean()))\n",
    "\n",
    "    q_C = ed.models.NormalWithSoftplusSigma(mu=tf.Variable(tf.random_normal((NU, K))), \n",
    "                                            sigma=tf.Variable(0.5 + tf.random_uniform((NU, K))),\n",
    "                                            name='C')\n",
    "    tf.scalar_summary('q_C', tf.reduce_mean(q_C.mean()))\n",
    "    \n",
    "    Zlogit = tf.clip_by_value(tf.Variable(-0.0 + tf.zeros((NS, K))), -10, 10, name='Z_logit_clip')\n",
    "    tf.scalar_summary('max_Z_logit', tf.reduce_max(Zlogit))\n",
    "    tf.scalar_summary('min_Z_logit', tf.reduce_min(Zlogit))\n",
    "    q_Z = ed.models.BernoulliWithSigmoidP(p=Zlogit, name='Z')\n",
    "    tf.scalar_summary('q_Z', tf.reduce_mean(q_Z.mean()))\n",
    "    tf.scalar_summary('max_q_Z', tf.reduce_max(q_Z.mean()))\n",
    "    tf.scalar_summary('min_q_Z', tf.reduce_min(q_Z.mean()))\n",
    "\n",
    "    a_var = 1. + tf.Variable(tf.random_uniform((K,)))\n",
    "    b_var = 1. + tf.Variable(tf.random_uniform((K,)))\n",
    "    tf.scalar_summary('max_a', tf.reduce_max(a_var))\n",
    "    tf.scalar_summary('max_b', tf.reduce_max(b_var))\n",
    "    tf.scalar_summary('min_a', tf.reduce_min(a_var))\n",
    "    tf.scalar_summary('min_b', tf.reduce_min(b_var))\n",
    "    q_pi = ed.models.BetaWithSoftplusAB(a=a_var, b=b_var, name='pi')\n",
    "    tf.scalar_summary('min_q_pi', tf.reduce_min(q_pi.value()))\n",
    "    tf.scalar_summary('max_q_pi', tf.reduce_max(q_pi.value()))\n",
    "\n",
    "    lam_mu = tf.Variable(2 + tf.random_normal((N,)))\n",
    "    tf.scalar_summary('lam_mu_mean', tf.reduce_mean(tf.gather(lam_mu, batch_inds)))\n",
    "    lam_sig = tf.Variable(3 * tf.random_uniform((N,)) + 2)\n",
    "    q_lam = ed.models.NormalWithSoftplusSigma(mu=tf.gather(lam_mu, batch_inds),\n",
    "                                              sigma=tf.gather(lam_sig, batch_inds),\n",
    "                                              name='lam')\n",
    "\n",
    "    q_sig = ed.models.NormalWithSoftplusSigma(mu=tf.Variable(-0.1 * tf.random_uniform((1,))),\n",
    "                                              sigma=tf.Variable(tf.random_uniform((1,))),\n",
    "                                              name='sig')"
   ]
  },
  {
   "cell_type": "markdown",
   "metadata": {},
   "source": [
    "# ELBO"
   ]
  },
  {
   "cell_type": "code",
   "execution_count": 23,
   "metadata": {
    "collapsed": false
   },
   "outputs": [],
   "source": [
    "def make_ELBO(latent_vars, data, scale):\n",
    "    from edward.util import copy\n",
    "    p_log_prob = 0.0\n",
    "    q_log_prob = 0.0\n",
    "    z_sample = {}\n",
    "    scope = \"ELBO\"\n",
    "\n",
    "    for z, qz in latent_vars.items():\n",
    "        # Copy q(z) to obtain new set of posterior samples.\n",
    "        qz_copy = copy(qz, scope=scope)\n",
    "        z_sample[z] = qz_copy.value()\n",
    "        z_log_prob = tf.reduce_sum(qz.log_prob(tf.stop_gradient(z_sample[z])))\n",
    "        if z in scale:\n",
    "            z_log_prob *= scale[z]\n",
    "\n",
    "        q_log_prob += z_log_prob\n",
    "\n",
    "    dict_swap = z_sample\n",
    "    for x, qx in data.items():\n",
    "        if isinstance(x, ed.RandomVariable):\n",
    "            if isinstance(qx, ed.RandomVariable):\n",
    "                qx_copy = copy(qx, scope=scope)\n",
    "                dict_swap[x] = qx_copy.value()\n",
    "            else:\n",
    "                dict_swap[x] = qx\n",
    "\n",
    "            for z in latent_vars.keys():\n",
    "                z_copy = copy(z, dict_swap, scope=scope)\n",
    "                z_log_prob = tf.reduce_sum(z_copy.log_prob(dict_swap[z]))\n",
    "                if z in scale:\n",
    "                    z_log_prob *= scale[z]\n",
    "\n",
    "                p_log_prob += z_log_prob\n",
    "\n",
    "            for x in data.keys():\n",
    "                if isinstance(x, ed.RandomVariable):\n",
    "                    x_copy = copy(x, dict_swap, scope=scope)\n",
    "                    x_log_prob = tf.reduce_sum(x_copy.log_prob(dict_swap[x]))\n",
    "                if x in scale:\n",
    "                    x_log_prob *= scale[x]\n",
    "\n",
    "                p_log_prob += x_log_prob\n",
    "\n",
    "    return tf.reduce_mean(p_log_prob - q_log_prob)"
   ]
  },
  {
   "cell_type": "code",
   "execution_count": 24,
   "metadata": {
    "collapsed": false
   },
   "outputs": [
    {
     "data": {
      "text/plain": [
       "<tf.Tensor 'ScalarSummary:0' shape=() dtype=string>"
      ]
     },
     "execution_count": 24,
     "metadata": {},
     "output_type": "execute_result"
    }
   ],
   "source": [
    "elbo = make_ELBO({A: q_A, B: q_B, C: q_C, Z: q_Z, sig: q_sig, pi: q_pi, lam: q_lam}, \n",
    "                 {cnt: tf.cast(batch_counts, 'float32')}, \n",
    "                 {lam: N/NB, cnt: N/NB})\n",
    "\n",
    "tf.scalar_summary('ELBO', elbo)"
   ]
  },
  {
   "cell_type": "markdown",
   "metadata": {},
   "source": [
    "# Do variational inference"
   ]
  },
  {
   "cell_type": "code",
   "execution_count": 25,
   "metadata": {
    "collapsed": false
   },
   "outputs": [],
   "source": [
    "data = {cnt: batch_counts}\n",
    "inference_lam = ed.KLqp({lam: q_lam, sig: q_sig}, data={cnt: batch_counts, Z: q_Z, \n",
    "                                            pi: q_pi, A: q_A, B: q_B, \n",
    "                                            C: q_C, pi: q_pi})\n",
    "inference_coeffs = ed.KLqp({A: q_A, B: q_B, C: q_C}, \n",
    "                    data={cnt: batch_counts, Z: q_Z, pi: q_pi, lam: q_lam, sig: q_sig})\n",
    "inference_latents = ed.KLqp({Z: q_Z}, \n",
    "                    data={cnt: batch_counts, A: q_A, B: q_B, C: q_C, pi: q_pi, sig: q_sig, lam: q_lam})\n",
    "inference_probs = ed.KLqp({pi: q_pi}, \n",
    "                    data={cnt: batch_counts, Z: q_Z, A: q_A, B: q_B, C: q_C, sig: q_sig, lam: q_lam})"
   ]
  },
  {
   "cell_type": "markdown",
   "metadata": {},
   "source": [
    "# Notes on inference:\n",
    "\n",
    "- The `logdir` keyword specifies the place to put the log file (assuming you've instrumented the code to save events, etc.). If a subdirectory is given, pointing Tensorboard at the parent directory allows you to compare across subdirectories (runs).\n",
    "    - I'm using the `jmp/instrumented` branch of the `jmxpearson/edward` fork\n",
    "- The learning rate is a difficult tradeoff: 1e-2 drastically speeds convergence but can run into NaNs; 1e-3 (the default) is much slower.\n",
    "    - **TO DO**: Does regularizing emergence of `NaN`s help with this?\n",
    "- I'm currently using \"all\" the data, which appears to be faster (run-time, wise) than using minibatches. (Not entirely sure why this is, except perhaps that switching data into and out of the graph has a cost.) I've also found that minibatches need to be fairly substantial to be effective, since most variables ($\\lambda$, $A$, $B$, $C$) are unit-specific (i.e., local), so unless you have several observations from that unit, convergence can be slow.\n",
    "    - Ultimately, it might speed things to have a smarter minibatch selection (i.e., all observations for a single unit) when updating the local variables.\n",
    "- I've used `n_samples` = 1, 5, 10, and 25, which all seem pretty similar after 10k iterations. \n",
    "- I've noticed no difference below in how many steps one takes along each coordinate before switching (number of inner loop iterations), either in runtime or convergence. Perhaps this matters in the final stages, but I would suspect that then it favors tighter inner loops."
   ]
  },
  {
   "cell_type": "code",
   "execution_count": 26,
   "metadata": {
    "collapsed": false
   },
   "outputs": [],
   "source": [
    "# Initialize each inference step\n",
    "debug = False\n",
    "inf_list = [inference_lam, inference_coeffs, inference_latents, inference_probs]\n",
    "for inf in inf_list:\n",
    "    if inf is inference_lam:\n",
    "        logdir = 'data/run7'\n",
    "    else:\n",
    "        logdir = None\n",
    "        \n",
    "    inf.initialize(n_print=100, n_samples=1,  \n",
    "                  logdir=logdir,\n",
    "                  optimizer=tf.train.AdamOptimizer(1e-1),\n",
    "                  scale={lam: N/NB, cnt: N/NB},\n",
    "                  debug=debug)"
   ]
  },
  {
   "cell_type": "code",
   "execution_count": 27,
   "metadata": {
    "collapsed": true
   },
   "outputs": [],
   "source": [
    "init = tf.initialize_all_variables()\n",
    "init.run({})"
   ]
  },
  {
   "cell_type": "code",
   "execution_count": 28,
   "metadata": {
    "collapsed": false,
    "scrolled": true
   },
   "outputs": [
    {
     "name": "stdout",
     "output_type": "stream",
     "text": [
      "Iteration    1 [  0%]: Loss = 5475136000.000\n",
      "Iteration  100 [ 10%]: Loss = 29880230.000\n",
      "Iteration  200 [ 20%]: Loss = 15061556.000\n",
      "Iteration  300 [ 30%]: Loss = 9120453.000\n",
      "Iteration  400 [ 40%]: Loss = 115333520.000\n",
      "Iteration  500 [ 50%]: Loss = 16611462.000\n",
      "Iteration  600 [ 60%]: Loss = 4869219.500\n",
      "Iteration  700 [ 70%]: Loss = 6041563.500\n",
      "Iteration  800 [ 80%]: Loss = 32862954.000\n",
      "Iteration  900 [ 90%]: Loss = 13759896.000\n",
      "Iteration 1000 [100%]: Loss = 2674703.000\n",
      "Iteration 1100 [110%]: Loss = 2507372.750\n",
      "Iteration 1200 [120%]: Loss = 1692298.375\n",
      "Iteration 1300 [130%]: Loss = 1697347.500\n",
      "Iteration 1400 [140%]: Loss = 1551890.375\n",
      "Iteration 1500 [150%]: Loss = 1722086.625\n",
      "Iteration 1600 [160%]: Loss = 1485129.500\n",
      "Iteration 1700 [170%]: Loss = 1490824.625\n",
      "Iteration 1800 [180%]: Loss = 3776100.500\n",
      "Iteration 1900 [190%]: Loss = 1375736.000\n",
      "Iteration 2000 [200%]: Loss = 2023886.125\n",
      "Iteration 2100 [210%]: Loss = 1431239.000\n",
      "Iteration 2200 [220%]: Loss = 1084953.375\n",
      "Iteration 2300 [229%]: Loss = 3756794.250\n",
      "Iteration 2400 [240%]: Loss = 1125616.625\n",
      "Iteration 2500 [250%]: Loss = 1266631.000\n",
      "Iteration 2600 [260%]: Loss = 1419270.625\n",
      "Iteration 2700 [270%]: Loss = 1003718.438\n",
      "Iteration 2800 [280%]: Loss = 1222585.625\n",
      "Iteration 2900 [290%]: Loss = 1019020.062\n",
      "Iteration 3000 [300%]: Loss = 970444.188\n",
      "Iteration 3100 [310%]: Loss = 861916.625\n",
      "Iteration 3200 [320%]: Loss = 1260572.250\n",
      "Iteration 3300 [330%]: Loss = 747384.438\n",
      "Iteration 3400 [340%]: Loss = 4527778.000\n",
      "Iteration 3500 [350%]: Loss = 883961.312\n",
      "Iteration 3600 [360%]: Loss = 756479.688\n",
      "Iteration 3700 [370%]: Loss = 816777.688\n",
      "Iteration 3800 [380%]: Loss = 913909.000\n",
      "Iteration 3900 [390%]: Loss = 755331.312\n",
      "Iteration 4000 [400%]: Loss = 898323.625\n",
      "Iteration 4100 [409%]: Loss = 838635.500\n",
      "Iteration 4200 [420%]: Loss = 702877.250\n",
      "Iteration 4300 [430%]: Loss = 692248.875\n",
      "Iteration 4400 [440%]: Loss = 891148.438\n",
      "Iteration 4500 [450%]: Loss = 822258.688\n",
      "Iteration 4600 [459%]: Loss = 626148.562\n",
      "Iteration 4700 [470%]: Loss = 623941.438\n",
      "Iteration 4800 [480%]: Loss = 646486.625\n",
      "Iteration 4900 [490%]: Loss = 599443.000\n",
      "Iteration 5000 [500%]: Loss = 695283.188\n",
      "Iteration 5100 [509%]: Loss = 619248.562\n",
      "Iteration 5200 [520%]: Loss = 749109.562\n",
      "Iteration 5300 [530%]: Loss = 611723.438\n",
      "Iteration 5400 [540%]: Loss = 593508.375\n",
      "Iteration 5500 [550%]: Loss = 562403.938\n",
      "Iteration 5600 [560%]: Loss = 592739.000\n",
      "Iteration 5700 [570%]: Loss = 578447.625\n",
      "Iteration 5800 [580%]: Loss = 553120.688\n",
      "Iteration 5900 [590%]: Loss = 563644.375\n",
      "Iteration 6000 [600%]: Loss = 559594.250\n",
      "Iteration 6100 [610%]: Loss = 871362.125\n",
      "Iteration 6200 [620%]: Loss = 542350.000\n",
      "Iteration 6300 [630%]: Loss = 586811.062\n",
      "Iteration 6400 [640%]: Loss = 588804.250\n",
      "Iteration 6500 [650%]: Loss = 518594.750\n",
      "Iteration 6600 [660%]: Loss = 530477.938\n",
      "Iteration 6700 [670%]: Loss = 1280848.000\n",
      "Iteration 6800 [680%]: Loss = 544164.000\n",
      "Iteration 6900 [690%]: Loss = 506395.531\n",
      "Iteration 7000 [700%]: Loss = 521925.125\n",
      "Iteration 7100 [710%]: Loss = 505000.688\n",
      "Iteration 7200 [720%]: Loss = 498531.406\n",
      "Iteration 7300 [730%]: Loss = 501509.750\n",
      "Iteration 7400 [740%]: Loss = 502955.000\n",
      "Iteration 7500 [750%]: Loss = 505737.031\n",
      "Iteration 7600 [760%]: Loss = 492536.344\n",
      "Iteration 7700 [770%]: Loss = 492985.594\n",
      "Iteration 7800 [780%]: Loss = 483351.875\n",
      "Iteration 7900 [790%]: Loss = 487843.219\n",
      "Iteration 8000 [800%]: Loss = 491009.188\n",
      "Iteration 8100 [810%]: Loss = 480281.062\n",
      "Iteration 8200 [819%]: Loss = 476740.031\n",
      "Iteration 8300 [830%]: Loss = 674213.000\n",
      "Iteration 8400 [840%]: Loss = 476298.375\n",
      "Iteration 8500 [850%]: Loss = 468532.125\n",
      "Iteration 8600 [860%]: Loss = 479262.844\n",
      "Iteration 8700 [869%]: Loss = 473809.938\n",
      "Iteration 8800 [880%]: Loss = 462975.406\n",
      "Iteration 8900 [890%]: Loss = 463375.969\n",
      "Iteration 9000 [900%]: Loss = 463211.812\n",
      "Iteration 9100 [910%]: Loss = 456419.156\n",
      "Iteration 9200 [919%]: Loss = 458359.438\n",
      "Iteration 9300 [930%]: Loss = 453113.062\n",
      "Iteration 9400 [940%]: Loss = 457870.781\n",
      "Iteration 9500 [950%]: Loss = 454543.188\n",
      "Iteration 9600 [960%]: Loss = 727036.625\n",
      "Iteration 9700 [969%]: Loss = 447847.125\n",
      "Iteration 9800 [980%]: Loss = 446064.594\n",
      "Iteration 9900 [990%]: Loss = 443619.781\n",
      "Iteration 10000 [1000%]: Loss = 442747.125\n",
      "Iteration 10100 [1010%]: Loss = 448740.062\n",
      "Iteration 10200 [1019%]: Loss = 443944.812\n",
      "Iteration 10300 [1030%]: Loss = 446165.312\n",
      "Iteration 10400 [1040%]: Loss = 447116.688\n",
      "Iteration 10500 [1050%]: Loss = 439067.344\n",
      "Iteration 10600 [1060%]: Loss = 442191.562\n",
      "Iteration 10700 [1070%]: Loss = 444355.219\n",
      "Iteration 10800 [1080%]: Loss = 438153.062\n",
      "Iteration 10900 [1090%]: Loss = 438843.531\n",
      "Iteration 11000 [1100%]: Loss = 454222.125\n",
      "Iteration 11100 [1110%]: Loss = 445053.469\n",
      "Iteration 11200 [1120%]: Loss = 437000.531\n",
      "Iteration 11300 [1130%]: Loss = 435689.188\n",
      "Iteration 11400 [1140%]: Loss = 437681.656\n",
      "Iteration 11500 [1150%]: Loss = 434373.719\n",
      "Iteration 11600 [1160%]: Loss = 432680.219\n",
      "Iteration 11700 [1170%]: Loss = 432379.312\n",
      "Iteration 11800 [1180%]: Loss = 435685.594\n",
      "Iteration 11900 [1190%]: Loss = 432890.031\n",
      "Iteration 12000 [1200%]: Loss = 430524.094\n",
      "Iteration 12100 [1210%]: Loss = 430602.094\n",
      "Iteration 12200 [1220%]: Loss = 427198.500\n",
      "Iteration 12300 [1230%]: Loss = 438346.438\n",
      "Iteration 12400 [1240%]: Loss = 440321.688\n",
      "Iteration 12500 [1250%]: Loss = 427501.156\n",
      "Iteration 12600 [1260%]: Loss = 425427.125\n",
      "Iteration 12700 [1270%]: Loss = 425301.719\n",
      "Iteration 12800 [1280%]: Loss = 425790.844\n",
      "Iteration 12900 [1290%]: Loss = 424889.375\n",
      "Iteration 13000 [1300%]: Loss = 426745.750\n",
      "Iteration 13100 [1310%]: Loss = 424778.375\n",
      "Iteration 13200 [1320%]: Loss = 427867.625\n",
      "Iteration 13300 [1330%]: Loss = 426154.688\n",
      "Iteration 13400 [1340%]: Loss = 422799.969\n",
      "Iteration 13500 [1350%]: Loss = 425767.594\n",
      "Iteration 13600 [1360%]: Loss = 424681.750\n",
      "Iteration 13700 [1370%]: Loss = 424858.375\n",
      "Iteration 13800 [1380%]: Loss = 421669.375\n",
      "Iteration 13900 [1390%]: Loss = 423739.625\n",
      "Iteration 14000 [1400%]: Loss = 427253.031\n",
      "Iteration 14100 [1410%]: Loss = 423418.250\n",
      "Iteration 14200 [1420%]: Loss = 423658.375\n",
      "Iteration 14300 [1430%]: Loss = 422091.594\n",
      "Iteration 14400 [1440%]: Loss = 431899.375\n",
      "Iteration 14500 [1450%]: Loss = 421152.438\n",
      "Iteration 14600 [1460%]: Loss = 421786.375\n",
      "Iteration 14700 [1470%]: Loss = 421174.719\n",
      "Iteration 14800 [1480%]: Loss = 425363.125\n",
      "Iteration 14900 [1490%]: Loss = 422314.719\n",
      "Iteration 15000 [1500%]: Loss = 419844.094\n",
      "Iteration 15100 [1510%]: Loss = 419512.844\n",
      "Iteration 15200 [1520%]: Loss = 420969.406\n",
      "Iteration 15300 [1530%]: Loss = 420884.750\n",
      "Iteration 15400 [1540%]: Loss = 419477.125\n",
      "Iteration 15500 [1550%]: Loss = 420917.656\n",
      "Iteration 15600 [1560%]: Loss = 418692.375\n",
      "Iteration 15700 [1570%]: Loss = 418620.500\n",
      "Iteration 15800 [1580%]: Loss = 416341.344\n",
      "Iteration 15900 [1590%]: Loss = 421315.062\n",
      "Iteration 16000 [1600%]: Loss = 417148.438\n",
      "Iteration 16100 [1610%]: Loss = 417706.312\n",
      "Iteration 16200 [1620%]: Loss = 418036.906\n",
      "Iteration 16300 [1630%]: Loss = 415203.281\n",
      "Iteration 16400 [1639%]: Loss = 418894.188\n",
      "Iteration 16500 [1650%]: Loss = 420821.188\n",
      "Iteration 16600 [1660%]: Loss = 418536.938\n",
      "Iteration 16700 [1670%]: Loss = 414796.812\n",
      "Iteration 16800 [1680%]: Loss = 414866.156\n",
      "Iteration 16900 [1689%]: Loss = 412403.156\n",
      "Iteration 17000 [1700%]: Loss = 418598.469\n",
      "Iteration 17100 [1710%]: Loss = 410633.375\n",
      "Iteration 17200 [1720%]: Loss = 414846.156\n",
      "Iteration 17300 [1730%]: Loss = 415189.375\n",
      "Iteration 17400 [1739%]: Loss = 416376.312\n",
      "Iteration 17500 [1750%]: Loss = 415598.219\n",
      "Iteration 17600 [1760%]: Loss = 412200.094\n",
      "Iteration 17700 [1770%]: Loss = 410873.062\n",
      "Iteration 17800 [1780%]: Loss = 413346.719\n",
      "Iteration 17900 [1789%]: Loss = 416537.875\n",
      "Iteration 18000 [1800%]: Loss = 410314.688\n",
      "Iteration 18100 [1810%]: Loss = 407154.219\n",
      "Iteration 18200 [1820%]: Loss = 415850.688\n",
      "Iteration 18300 [1830%]: Loss = 408382.906\n",
      "Iteration 18400 [1839%]: Loss = 413579.188\n",
      "Iteration 18500 [1850%]: Loss = 408133.094\n",
      "Iteration 18600 [1860%]: Loss = 407998.969\n",
      "Iteration 18700 [1870%]: Loss = 416505.312\n",
      "Iteration 18800 [1880%]: Loss = 405572.281\n",
      "Iteration 18900 [1889%]: Loss = 410498.188\n",
      "Iteration 19000 [1900%]: Loss = 408326.781\n",
      "Iteration 19100 [1910%]: Loss = 410778.438\n",
      "Iteration 19200 [1920%]: Loss = 411325.719\n",
      "Iteration 19300 [1930%]: Loss = 414214.938\n",
      "Iteration 19400 [1939%]: Loss = 412289.812\n",
      "Iteration 19500 [1950%]: Loss = 412372.125\n",
      "Iteration 19600 [1960%]: Loss = 409828.125\n",
      "Iteration 19700 [1970%]: Loss = 407952.469\n",
      "Iteration 19800 [1980%]: Loss = 403792.156\n",
      "Iteration 19900 [1989%]: Loss = 403237.031\n",
      "Iteration 20000 [2000%]: Loss = 404751.938\n",
      "Iteration 20100 [2010%]: Loss = 407936.062\n",
      "Iteration 20200 [2020%]: Loss = 402877.812\n",
      "Iteration 20300 [2030%]: Loss = 403960.688\n",
      "Iteration 20400 [2039%]: Loss = 409247.562\n",
      "Iteration 20500 [2050%]: Loss = 406882.531\n",
      "Iteration 20600 [2060%]: Loss = 409760.688\n",
      "Iteration 20700 [2070%]: Loss = 408496.281\n",
      "Iteration 20800 [2080%]: Loss = 410508.969\n",
      "Iteration 20900 [2090%]: Loss = 407558.656\n",
      "Iteration 21000 [2100%]: Loss = 404125.500\n",
      "Iteration 21100 [2110%]: Loss = 410757.812\n",
      "Iteration 21200 [2120%]: Loss = 404511.688\n",
      "Iteration 21300 [2130%]: Loss = 405484.562\n",
      "Iteration 21400 [2140%]: Loss = 410444.844\n",
      "Iteration 21500 [2150%]: Loss = 405832.312\n",
      "Iteration 21600 [2160%]: Loss = 410989.594\n",
      "Iteration 21700 [2170%]: Loss = 409343.844\n",
      "Iteration 21800 [2180%]: Loss = 413249.750\n",
      "Iteration 21900 [2190%]: Loss = 409628.062\n",
      "Iteration 22000 [2200%]: Loss = 408758.125\n",
      "Iteration 22100 [2210%]: Loss = 411034.469\n",
      "Iteration 22200 [2220%]: Loss = 410160.031\n",
      "Iteration 22300 [2230%]: Loss = 408915.219\n",
      "Iteration 22400 [2240%]: Loss = 411049.250\n",
      "Iteration 22500 [2250%]: Loss = 412699.875\n",
      "Iteration 22600 [2260%]: Loss = 409568.938\n",
      "Iteration 22700 [2270%]: Loss = 408163.656\n",
      "Iteration 22800 [2280%]: Loss = 408447.125\n",
      "Iteration 22900 [2290%]: Loss = 407352.188\n",
      "Iteration 23000 [2300%]: Loss = 410230.656\n",
      "Iteration 23100 [2310%]: Loss = 409573.500\n",
      "Iteration 23200 [2320%]: Loss = 407517.375\n",
      "Iteration 23300 [2330%]: Loss = 410410.125\n",
      "Iteration 23400 [2340%]: Loss = 411378.375\n",
      "Iteration 23500 [2350%]: Loss = 409558.469\n",
      "Iteration 23600 [2360%]: Loss = 411476.344\n",
      "Iteration 23700 [2370%]: Loss = 407507.094\n",
      "Iteration 23800 [2380%]: Loss = 408780.062\n",
      "Iteration 23900 [2390%]: Loss = 409279.125\n",
      "Iteration 24000 [2400%]: Loss = 411086.562\n",
      "Iteration 24100 [2410%]: Loss = 410484.219\n",
      "Iteration 24200 [2420%]: Loss = 409272.688\n",
      "Iteration 24300 [2430%]: Loss = 411160.281\n",
      "Iteration 24400 [2440%]: Loss = 410373.844\n",
      "Iteration 24500 [2450%]: Loss = 412799.531\n",
      "Iteration 24600 [2460%]: Loss = 413732.031\n",
      "Iteration 24700 [2470%]: Loss = 410473.594\n",
      "Iteration 24800 [2480%]: Loss = 410320.156\n",
      "Iteration 24900 [2490%]: Loss = 411506.156\n",
      "Iteration 25000 [2500%]: Loss = 409249.406\n",
      "Iteration 25100 [2510%]: Loss = 412371.344\n",
      "Iteration 25200 [2520%]: Loss = 408385.312\n",
      "Iteration 25300 [2530%]: Loss = 408533.219\n",
      "Iteration 25400 [2540%]: Loss = 409891.250\n",
      "Iteration 25500 [2550%]: Loss = 411297.375\n",
      "Iteration 25600 [2560%]: Loss = 410350.219\n",
      "Iteration 25700 [2570%]: Loss = 412325.125\n",
      "Iteration 25800 [2580%]: Loss = 413731.188\n",
      "Iteration 25900 [2590%]: Loss = 412005.562\n",
      "Iteration 26000 [2600%]: Loss = 411912.344\n",
      "Iteration 26100 [2610%]: Loss = 412351.250\n",
      "Iteration 26200 [2620%]: Loss = 413594.500\n",
      "Iteration 26300 [2630%]: Loss = 413881.312\n",
      "Iteration 26400 [2640%]: Loss = 413277.625\n",
      "Iteration 26500 [2650%]: Loss = 414098.156\n",
      "Iteration 26600 [2660%]: Loss = 413354.625\n",
      "Iteration 26700 [2670%]: Loss = 414164.688\n",
      "Iteration 26800 [2680%]: Loss = 414453.594\n",
      "Iteration 26900 [2690%]: Loss = 414798.594\n",
      "Iteration 27000 [2700%]: Loss = 415843.812\n",
      "Iteration 27100 [2710%]: Loss = 414918.500\n",
      "Iteration 27200 [2720%]: Loss = 413710.625\n",
      "Iteration 27300 [2730%]: Loss = 415114.406\n",
      "Iteration 27400 [2740%]: Loss = 415497.094\n",
      "Iteration 27500 [2750%]: Loss = 415639.094\n",
      "Iteration 27600 [2760%]: Loss = 414829.125\n",
      "Iteration 27700 [2770%]: Loss = 414292.219\n",
      "Iteration 27800 [2780%]: Loss = 415371.469\n",
      "Iteration 27900 [2790%]: Loss = 414683.062\n",
      "Iteration 28000 [2800%]: Loss = 414567.062\n",
      "Iteration 28100 [2810%]: Loss = 412174.375\n",
      "Iteration 28200 [2820%]: Loss = 410211.156\n",
      "Iteration 28300 [2830%]: Loss = 410277.094\n",
      "Iteration 28400 [2840%]: Loss = 412274.875\n",
      "Iteration 28500 [2850%]: Loss = 410372.875\n",
      "Iteration 28600 [2860%]: Loss = 410883.156\n",
      "Iteration 28700 [2870%]: Loss = 410988.156\n",
      "Iteration 28800 [2880%]: Loss = 412352.000\n",
      "Iteration 28900 [2890%]: Loss = 410891.125\n",
      "Iteration 29000 [2900%]: Loss = 412556.375\n",
      "Iteration 29100 [2910%]: Loss = 412548.188\n",
      "Iteration 29200 [2920%]: Loss = 413473.750\n",
      "Iteration 29300 [2930%]: Loss = 416777.531\n",
      "Iteration 29400 [2940%]: Loss = 414390.875\n",
      "Iteration 29500 [2950%]: Loss = 413822.031\n",
      "Iteration 29600 [2960%]: Loss = 415717.219\n",
      "Iteration 29700 [2970%]: Loss = 411710.719\n",
      "Iteration 29800 [2980%]: Loss = 413328.781\n",
      "Iteration 29900 [2990%]: Loss = 412182.344\n",
      "Iteration 30000 [3000%]: Loss = 410022.469\n",
      "Iteration 30100 [3010%]: Loss = 410385.938\n",
      "Iteration 30200 [3020%]: Loss = 412251.000\n",
      "Iteration 30300 [3030%]: Loss = 414283.875\n",
      "Iteration 30400 [3040%]: Loss = 414590.656\n",
      "Iteration 30500 [3050%]: Loss = 414164.750\n",
      "Iteration 30600 [3060%]: Loss = 414137.406\n",
      "Iteration 30700 [3070%]: Loss = 414309.781\n",
      "Iteration 30800 [3080%]: Loss = 411914.031\n",
      "Iteration 30900 [3090%]: Loss = 414798.500\n",
      "Iteration 31000 [3100%]: Loss = 413793.812\n",
      "Iteration 31100 [3110%]: Loss = 412948.531\n",
      "Iteration 31200 [3120%]: Loss = 413669.688\n",
      "Iteration 31300 [3130%]: Loss = 414092.062\n",
      "Iteration 31400 [3140%]: Loss = 413600.844\n",
      "Iteration 31500 [3150%]: Loss = 413109.062\n",
      "Iteration 31600 [3160%]: Loss = 414193.438\n",
      "Iteration 31700 [3170%]: Loss = 414687.312\n",
      "Iteration 31800 [3180%]: Loss = 414822.781\n",
      "Iteration 31900 [3190%]: Loss = 414928.344\n",
      "Iteration 32000 [3200%]: Loss = 413318.594\n",
      "Iteration 32100 [3210%]: Loss = 413332.969\n",
      "Iteration 32200 [3220%]: Loss = 412538.250\n",
      "Iteration 32300 [3229%]: Loss = 412876.469\n",
      "Iteration 32400 [3240%]: Loss = 414440.469\n",
      "Iteration 32500 [3250%]: Loss = 413736.375\n",
      "Iteration 32600 [3260%]: Loss = 413340.500\n",
      "Iteration 32700 [3270%]: Loss = 414640.188\n",
      "Iteration 32800 [3279%]: Loss = 411968.594\n",
      "Iteration 32900 [3290%]: Loss = 410175.125\n",
      "Iteration 33000 [3300%]: Loss = 413104.000\n",
      "Iteration 33100 [3310%]: Loss = 413581.594\n",
      "Iteration 33200 [3320%]: Loss = 412772.750\n",
      "Iteration 33300 [3329%]: Loss = 412862.750\n",
      "Iteration 33400 [3340%]: Loss = 411947.500\n",
      "Iteration 33500 [3350%]: Loss = 411981.250\n",
      "Iteration 33600 [3360%]: Loss = 412450.906\n",
      "Iteration 33700 [3370%]: Loss = 411988.531\n",
      "Iteration 33800 [3379%]: Loss = 412471.812\n",
      "Iteration 33900 [3390%]: Loss = 414030.656\n",
      "Iteration 34000 [3400%]: Loss = 413626.031\n",
      "Iteration 34100 [3410%]: Loss = 412565.219\n",
      "Iteration 34200 [3420%]: Loss = 412606.781\n",
      "Iteration 34300 [3429%]: Loss = 412777.188\n",
      "Iteration 34400 [3440%]: Loss = 410388.812\n",
      "Iteration 34500 [3450%]: Loss = 410478.562\n",
      "Iteration 34600 [3460%]: Loss = 411095.875\n",
      "Iteration 34700 [3470%]: Loss = 411409.062\n",
      "Iteration 34800 [3479%]: Loss = 412660.562\n",
      "Iteration 34900 [3490%]: Loss = 412922.625\n",
      "Iteration 35000 [3500%]: Loss = 412226.125\n",
      "Iteration 35100 [3510%]: Loss = 413566.812\n",
      "Iteration 35200 [3520%]: Loss = 413092.688\n",
      "Iteration 35300 [3529%]: Loss = 413820.969\n",
      "Iteration 35400 [3540%]: Loss = 414186.062\n",
      "Iteration 35500 [3550%]: Loss = 414912.188\n",
      "Iteration 35600 [3560%]: Loss = 413633.312\n",
      "Iteration 35700 [3570%]: Loss = 414847.281\n",
      "Iteration 35800 [3579%]: Loss = 414293.469\n",
      "Iteration 35900 [3590%]: Loss = 413831.312\n",
      "Iteration 36000 [3600%]: Loss = 415186.281\n",
      "Iteration 36100 [3610%]: Loss = 413369.719\n",
      "Iteration 36200 [3620%]: Loss = 414543.156\n",
      "Iteration 36300 [3629%]: Loss = 413883.969\n",
      "Iteration 36400 [3640%]: Loss = 413368.156\n",
      "Iteration 36500 [3650%]: Loss = 413365.531\n",
      "Iteration 36600 [3660%]: Loss = 414304.969\n",
      "Iteration 36700 [3670%]: Loss = 414434.406\n",
      "Iteration 36800 [3679%]: Loss = 413694.500\n",
      "Iteration 36900 [3690%]: Loss = 413665.406\n",
      "Iteration 37000 [3700%]: Loss = 412928.312\n",
      "Iteration 37100 [3710%]: Loss = 413428.188\n",
      "Iteration 37200 [3720%]: Loss = 411618.969\n",
      "Iteration 37300 [3729%]: Loss = 412975.875\n",
      "Iteration 37400 [3740%]: Loss = 413398.906\n",
      "Iteration 37500 [3750%]: Loss = 412983.281\n",
      "Iteration 37600 [3760%]: Loss = 413110.562\n",
      "Iteration 37700 [3770%]: Loss = 412398.250\n",
      "Iteration 37800 [3779%]: Loss = 413580.562\n",
      "Iteration 37900 [3790%]: Loss = 413982.688\n",
      "Iteration 38000 [3800%]: Loss = 413091.094\n",
      "Iteration 38100 [3810%]: Loss = 414225.438\n",
      "Iteration 38200 [3820%]: Loss = 413128.812\n",
      "Iteration 38300 [3829%]: Loss = 414327.406\n",
      "Iteration 38400 [3840%]: Loss = 414889.531\n",
      "Iteration 38500 [3850%]: Loss = 414939.844\n",
      "Iteration 38600 [3860%]: Loss = 414402.719\n",
      "Iteration 38700 [3870%]: Loss = 414909.375\n",
      "Iteration 38800 [3879%]: Loss = 415306.750\n",
      "Iteration 38900 [3890%]: Loss = 412815.656\n",
      "Iteration 39000 [3900%]: Loss = 412702.750\n",
      "Iteration 39100 [3910%]: Loss = 411989.750\n",
      "Iteration 39200 [3920%]: Loss = 410882.625\n",
      "Iteration 39300 [3929%]: Loss = 412693.219\n",
      "Iteration 39400 [3940%]: Loss = 412169.469\n",
      "Iteration 39500 [3950%]: Loss = 410805.469\n",
      "Iteration 39600 [3960%]: Loss = 411628.906\n",
      "Iteration 39700 [3970%]: Loss = 410230.000\n",
      "Iteration 39800 [3979%]: Loss = 410373.844\n",
      "Iteration 39900 [3990%]: Loss = 412426.438\n",
      "Iteration 40000 [4000%]: Loss = 412540.156\n",
      "Iteration 40100 [4010%]: Loss = 412297.719\n",
      "Iteration 40200 [4020%]: Loss = 412266.969\n",
      "Iteration 40300 [4029%]: Loss = 412810.406\n",
      "Iteration 40400 [4040%]: Loss = 413207.562\n",
      "Iteration 40500 [4050%]: Loss = 411867.594\n",
      "Iteration 40600 [4060%]: Loss = 411806.469\n",
      "Iteration 40700 [4070%]: Loss = 411753.000\n",
      "Iteration 40800 [4079%]: Loss = 412454.688\n",
      "Iteration 40900 [4090%]: Loss = 411253.031\n",
      "Iteration 41000 [4100%]: Loss = 412936.438\n",
      "Iteration 41100 [4110%]: Loss = 411083.406\n",
      "Iteration 41200 [4120%]: Loss = 412402.219\n",
      "Iteration 41300 [4130%]: Loss = 411038.594\n",
      "Iteration 41400 [4140%]: Loss = 410090.281\n",
      "Iteration 41500 [4150%]: Loss = 413612.250\n",
      "Iteration 41600 [4160%]: Loss = 412566.875\n",
      "Iteration 41700 [4170%]: Loss = 412429.406\n",
      "Iteration 41800 [4180%]: Loss = 412029.688\n",
      "Iteration 41900 [4190%]: Loss = 410920.250\n",
      "Iteration 42000 [4200%]: Loss = 412558.344\n",
      "Iteration 42100 [4210%]: Loss = 410849.844\n",
      "Iteration 42200 [4220%]: Loss = 410768.375\n",
      "Iteration 42300 [4230%]: Loss = 411053.062\n",
      "Iteration 42400 [4240%]: Loss = 409943.500\n",
      "Iteration 42500 [4250%]: Loss = 410752.562\n",
      "Iteration 42600 [4260%]: Loss = 412455.688\n",
      "Iteration 42700 [4270%]: Loss = 413184.688\n",
      "Iteration 42800 [4280%]: Loss = 413243.125\n",
      "Iteration 42900 [4290%]: Loss = 415639.125\n",
      "Iteration 43000 [4300%]: Loss = 416195.438\n",
      "Iteration 43100 [4310%]: Loss = 416684.094\n",
      "Iteration 43200 [4320%]: Loss = 416518.094\n",
      "Iteration 43300 [4330%]: Loss = 416347.344\n",
      "Iteration 43400 [4340%]: Loss = 415648.969\n",
      "Iteration 43500 [4350%]: Loss = 417234.125\n",
      "Iteration 43600 [4360%]: Loss = 415674.406\n",
      "Iteration 43700 [4370%]: Loss = 416478.156\n",
      "Iteration 43800 [4380%]: Loss = 415119.125\n",
      "Iteration 43900 [4390%]: Loss = 416217.750\n",
      "Iteration 44000 [4400%]: Loss = 416447.625\n",
      "Iteration 44100 [4410%]: Loss = 415495.406\n",
      "Iteration 44200 [4420%]: Loss = 414642.062\n",
      "Iteration 44300 [4430%]: Loss = 416410.375\n",
      "Iteration 44400 [4440%]: Loss = 417875.625\n",
      "Iteration 44500 [4450%]: Loss = 416972.719\n",
      "Iteration 44600 [4460%]: Loss = 414958.188\n",
      "Iteration 44700 [4470%]: Loss = 417235.375\n",
      "Iteration 44800 [4480%]: Loss = 415952.812\n",
      "Iteration 44900 [4490%]: Loss = 417529.375\n",
      "Iteration 45000 [4500%]: Loss = 417273.188\n",
      "Iteration 45100 [4510%]: Loss = 416699.688\n",
      "Iteration 45200 [4520%]: Loss = 416598.844\n",
      "Iteration 45300 [4530%]: Loss = 416439.688\n",
      "Iteration 45400 [4540%]: Loss = 416989.781\n",
      "Iteration 45500 [4550%]: Loss = 416283.562\n",
      "Iteration 45600 [4560%]: Loss = 417528.562\n",
      "Iteration 45700 [4570%]: Loss = 416866.625\n",
      "Iteration 45800 [4580%]: Loss = 416482.844\n",
      "Iteration 45900 [4590%]: Loss = 417433.250\n",
      "Iteration 46000 [4600%]: Loss = 417261.031\n",
      "Iteration 46100 [4610%]: Loss = 417748.312\n",
      "Iteration 46200 [4620%]: Loss = 417073.938\n",
      "Iteration 46300 [4630%]: Loss = 417600.938\n",
      "Iteration 46400 [4640%]: Loss = 417324.781\n",
      "Iteration 46500 [4650%]: Loss = 417551.469\n",
      "Iteration 46600 [4660%]: Loss = 417516.188\n",
      "Iteration 46700 [4670%]: Loss = 417559.031\n",
      "Iteration 46800 [4680%]: Loss = 416523.875\n",
      "Iteration 46900 [4690%]: Loss = 417267.812\n",
      "Iteration 47000 [4700%]: Loss = 417792.250\n",
      "Iteration 47100 [4710%]: Loss = 418233.094\n",
      "Iteration 47200 [4720%]: Loss = 417596.031\n",
      "Iteration 47300 [4730%]: Loss = 418243.938\n",
      "Iteration 47400 [4740%]: Loss = 417472.812\n",
      "Iteration 47500 [4750%]: Loss = 417418.250\n",
      "Iteration 47600 [4760%]: Loss = 417088.250\n",
      "Iteration 47700 [4770%]: Loss = 416337.500\n",
      "Iteration 47800 [4780%]: Loss = 416118.969\n",
      "Iteration 47900 [4790%]: Loss = 416408.219\n",
      "Iteration 48000 [4800%]: Loss = 416662.969\n",
      "Iteration 48100 [4810%]: Loss = 417014.500\n",
      "Iteration 48200 [4820%]: Loss = 416808.000\n",
      "Iteration 48300 [4830%]: Loss = 417515.875\n",
      "Iteration 48400 [4840%]: Loss = 417101.688\n",
      "Iteration 48500 [4850%]: Loss = 417489.531\n",
      "Iteration 48600 [4860%]: Loss = 417396.125\n",
      "Iteration 48700 [4870%]: Loss = 416913.438\n",
      "Iteration 48800 [4880%]: Loss = 417381.906\n",
      "Iteration 48900 [4890%]: Loss = 417669.719\n",
      "Iteration 49000 [4900%]: Loss = 417692.938\n",
      "Iteration 49100 [4910%]: Loss = 417699.906\n",
      "Iteration 49200 [4920%]: Loss = 417783.656\n",
      "Iteration 49300 [4930%]: Loss = 417841.594\n",
      "Iteration 49400 [4940%]: Loss = 417318.531\n",
      "Iteration 49500 [4950%]: Loss = 417072.406\n",
      "Iteration 49600 [4960%]: Loss = 416794.562\n",
      "Iteration 49700 [4970%]: Loss = 417914.938\n",
      "Iteration 49800 [4980%]: Loss = 417669.375\n",
      "Iteration 49900 [4990%]: Loss = 417406.656\n",
      "Iteration 50000 [5000%]: Loss = 417491.844\n",
      "Iteration 50100 [5010%]: Loss = 417606.812\n",
      "Iteration 50200 [5020%]: Loss = 417907.438\n",
      "Iteration 50300 [5030%]: Loss = 417730.688\n",
      "Iteration 50400 [5040%]: Loss = 417641.125\n",
      "Iteration 50500 [5050%]: Loss = 418418.906\n",
      "Iteration 50600 [5060%]: Loss = 418337.188\n",
      "Iteration 50700 [5070%]: Loss = 417350.188\n",
      "Iteration 50800 [5080%]: Loss = 417267.094\n",
      "Iteration 50900 [5090%]: Loss = 417378.656\n",
      "Iteration 51000 [5100%]: Loss = 418018.969\n",
      "Iteration 51100 [5110%]: Loss = 418189.688\n",
      "Iteration 51200 [5120%]: Loss = 417369.125\n",
      "Iteration 51300 [5130%]: Loss = 417904.125\n",
      "Iteration 51400 [5140%]: Loss = 418410.844\n",
      "Iteration 51500 [5150%]: Loss = 418009.375\n",
      "Iteration 51600 [5160%]: Loss = 417546.562\n",
      "Iteration 51700 [5170%]: Loss = 418095.969\n",
      "Iteration 51800 [5180%]: Loss = 417776.188\n",
      "Iteration 51900 [5190%]: Loss = 417925.312\n",
      "Iteration 52000 [5200%]: Loss = 417662.812\n",
      "Iteration 52100 [5210%]: Loss = 418119.969\n",
      "Iteration 52200 [5220%]: Loss = 417908.062\n",
      "Iteration 52300 [5230%]: Loss = 417601.531\n",
      "Iteration 52400 [5240%]: Loss = 417378.312\n",
      "Iteration 52500 [5250%]: Loss = 418049.031\n",
      "Iteration 52600 [5260%]: Loss = 418338.156\n",
      "Iteration 52700 [5270%]: Loss = 417169.188\n",
      "Iteration 52800 [5280%]: Loss = 418304.938\n",
      "Iteration 52900 [5290%]: Loss = 418543.375\n",
      "Iteration 53000 [5300%]: Loss = 418312.594\n",
      "Iteration 53100 [5310%]: Loss = 417955.625\n",
      "Iteration 53200 [5320%]: Loss = 417500.531\n",
      "Iteration 53300 [5330%]: Loss = 418059.344\n",
      "Iteration 53400 [5340%]: Loss = 417997.188\n",
      "Iteration 53500 [5350%]: Loss = 418297.062\n",
      "Iteration 53600 [5360%]: Loss = 418867.062\n",
      "Iteration 53700 [5370%]: Loss = 418064.406\n",
      "Iteration 53800 [5380%]: Loss = 417711.938\n",
      "Iteration 53900 [5390%]: Loss = 418042.750\n",
      "Iteration 54000 [5400%]: Loss = 416800.594\n",
      "Iteration 54100 [5410%]: Loss = 417259.500\n",
      "Iteration 54200 [5420%]: Loss = 417257.531\n",
      "Iteration 54300 [5430%]: Loss = 417281.531\n",
      "Iteration 54400 [5440%]: Loss = 416848.688\n",
      "Iteration 54500 [5450%]: Loss = 416271.531\n",
      "Iteration 54600 [5460%]: Loss = 416728.125\n",
      "Iteration 54700 [5470%]: Loss = 416968.688\n",
      "Iteration 54800 [5480%]: Loss = 416991.656\n",
      "Iteration 54900 [5490%]: Loss = 417138.250\n",
      "Iteration 55000 [5500%]: Loss = 416871.625\n",
      "Iteration 55100 [5510%]: Loss = 416822.125\n",
      "Iteration 55200 [5520%]: Loss = 416299.688\n",
      "Iteration 55300 [5530%]: Loss = 416445.188\n",
      "Iteration 55400 [5540%]: Loss = 417021.250\n",
      "Iteration 55500 [5550%]: Loss = 417228.000\n",
      "Iteration 55600 [5560%]: Loss = 416726.750\n",
      "Iteration 55700 [5570%]: Loss = 416632.562\n",
      "Iteration 55800 [5580%]: Loss = 416083.219\n",
      "Iteration 55900 [5590%]: Loss = 416741.594\n",
      "Iteration 56000 [5600%]: Loss = 416678.406\n",
      "Iteration 56100 [5610%]: Loss = 416478.406\n",
      "Iteration 56200 [5620%]: Loss = 416495.719\n",
      "Iteration 56300 [5630%]: Loss = 417055.500\n",
      "Iteration 56400 [5640%]: Loss = 416933.594\n",
      "Iteration 56500 [5650%]: Loss = 417152.812\n",
      "Iteration 56600 [5660%]: Loss = 416976.625\n",
      "Iteration 56700 [5670%]: Loss = 417297.031\n",
      "Iteration 56800 [5680%]: Loss = 416734.594\n",
      "Iteration 56900 [5690%]: Loss = 417176.281\n",
      "Iteration 57000 [5700%]: Loss = 416781.531\n",
      "Iteration 57100 [5710%]: Loss = 416961.500\n",
      "Iteration 57200 [5720%]: Loss = 416584.188\n",
      "Iteration 57300 [5730%]: Loss = 416926.344\n",
      "Iteration 57400 [5740%]: Loss = 416660.500\n",
      "Iteration 57500 [5750%]: Loss = 417521.688\n",
      "Iteration 57600 [5760%]: Loss = 416284.625\n",
      "Iteration 57700 [5770%]: Loss = 416758.594\n",
      "Iteration 57800 [5780%]: Loss = 415731.906\n",
      "Iteration 57900 [5790%]: Loss = 414267.250\n",
      "Iteration 58000 [5800%]: Loss = 414165.094\n",
      "Iteration 58100 [5810%]: Loss = 413858.344\n",
      "Iteration 58200 [5820%]: Loss = 413709.969\n",
      "Iteration 58300 [5830%]: Loss = 413627.844\n",
      "Iteration 58400 [5840%]: Loss = 413780.406\n",
      "Iteration 58500 [5850%]: Loss = 415177.906\n",
      "Iteration 58600 [5860%]: Loss = 413932.719\n",
      "Iteration 58700 [5870%]: Loss = 414401.438\n",
      "Iteration 58800 [5880%]: Loss = 414195.312\n",
      "Iteration 58900 [5890%]: Loss = 415117.531\n",
      "Iteration 59000 [5900%]: Loss = 413991.000\n",
      "Iteration 59100 [5910%]: Loss = 414455.656\n",
      "Iteration 59200 [5920%]: Loss = 413956.125\n",
      "Iteration 59300 [5930%]: Loss = 414172.406\n",
      "Iteration 59400 [5940%]: Loss = 415811.719\n",
      "Iteration 59500 [5950%]: Loss = 414335.000\n",
      "Iteration 59600 [5960%]: Loss = 416338.406\n",
      "Iteration 59700 [5970%]: Loss = 415043.469\n",
      "Iteration 59800 [5980%]: Loss = 415947.750\n",
      "Iteration 59900 [5990%]: Loss = 414508.125\n",
      "Iteration 60000 [6000%]: Loss = 413924.844\n",
      "Iteration 60100 [6010%]: Loss = 414747.125\n",
      "Iteration 60200 [6020%]: Loss = 414646.438\n",
      "Iteration 60300 [6030%]: Loss = 414677.688\n",
      "Iteration 60400 [6040%]: Loss = 414304.188\n",
      "Iteration 60500 [6050%]: Loss = 414478.156\n",
      "Iteration 60600 [6060%]: Loss = 414471.781\n",
      "Iteration 60700 [6070%]: Loss = 414345.281\n",
      "Iteration 60800 [6080%]: Loss = 412360.625\n",
      "Iteration 60900 [6090%]: Loss = 413977.125\n",
      "Iteration 61000 [6100%]: Loss = 413901.844\n",
      "Iteration 61100 [6110%]: Loss = 413976.938\n",
      "Iteration 61200 [6120%]: Loss = 413727.094\n",
      "Iteration 61300 [6130%]: Loss = 413794.969\n",
      "Iteration 61400 [6140%]: Loss = 414354.250\n",
      "Iteration 61500 [6150%]: Loss = 414632.906\n",
      "Iteration 61600 [6160%]: Loss = 414465.188\n",
      "Iteration 61700 [6170%]: Loss = 415076.812\n",
      "Iteration 61800 [6180%]: Loss = 415129.750\n",
      "Iteration 61900 [6190%]: Loss = 414441.156\n",
      "Iteration 62000 [6200%]: Loss = 414874.438\n",
      "Iteration 62100 [6210%]: Loss = 414776.656\n",
      "Iteration 62200 [6220%]: Loss = 415573.500\n",
      "Iteration 62300 [6230%]: Loss = 415594.812\n",
      "Iteration 62400 [6240%]: Loss = 415733.188\n",
      "Iteration 62500 [6250%]: Loss = 416635.000\n",
      "Iteration 62600 [6260%]: Loss = 417006.094\n",
      "Iteration 62700 [6270%]: Loss = 415858.312\n",
      "Iteration 62800 [6280%]: Loss = 416685.719\n",
      "Iteration 62900 [6290%]: Loss = 415952.000\n",
      "Iteration 63000 [6300%]: Loss = 415639.875\n",
      "Iteration 63100 [6310%]: Loss = 415614.312\n",
      "Iteration 63200 [6320%]: Loss = 415630.188\n",
      "Iteration 63300 [6330%]: Loss = 415303.062\n",
      "Iteration 63400 [6340%]: Loss = 415744.469\n",
      "Iteration 63500 [6350%]: Loss = 415457.906\n",
      "Iteration 63600 [6360%]: Loss = 416724.688\n",
      "Iteration 63700 [6370%]: Loss = 415464.906\n",
      "Iteration 63800 [6380%]: Loss = 415790.219\n",
      "Iteration 63900 [6390%]: Loss = 415769.531\n",
      "Iteration 64000 [6400%]: Loss = 415243.125\n",
      "Iteration 64100 [6409%]: Loss = 415658.812\n",
      "Iteration 64200 [6420%]: Loss = 415467.156\n",
      "Iteration 64300 [6430%]: Loss = 415576.625\n",
      "Iteration 64400 [6440%]: Loss = 415871.406\n",
      "Iteration 64500 [6450%]: Loss = 415790.781\n",
      "Iteration 64600 [6459%]: Loss = 415519.344\n",
      "Iteration 64700 [6470%]: Loss = 415680.938\n",
      "Iteration 64800 [6480%]: Loss = 415863.938\n",
      "Iteration 64900 [6490%]: Loss = 415821.219\n",
      "Iteration 65000 [6500%]: Loss = 415710.938\n",
      "Iteration 65100 [6509%]: Loss = 415405.719\n",
      "Iteration 65200 [6520%]: Loss = 415781.188\n",
      "Iteration 65300 [6530%]: Loss = 415777.688\n",
      "Iteration 65400 [6540%]: Loss = 415938.688\n",
      "Iteration 65500 [6550%]: Loss = 416033.562\n",
      "Iteration 65600 [6559%]: Loss = 415679.312\n",
      "Iteration 65700 [6570%]: Loss = 415345.156\n",
      "Iteration 65800 [6580%]: Loss = 415467.312\n",
      "Iteration 65900 [6590%]: Loss = 415939.344\n",
      "Iteration 66000 [6600%]: Loss = 416117.875\n",
      "Iteration 66100 [6609%]: Loss = 415143.438\n",
      "Iteration 66200 [6620%]: Loss = 415626.094\n",
      "Iteration 66300 [6630%]: Loss = 415366.688\n",
      "Iteration 66400 [6640%]: Loss = 415468.906\n",
      "Iteration 66500 [6650%]: Loss = 415538.375\n",
      "Iteration 66600 [6659%]: Loss = 415791.688\n",
      "Iteration 66700 [6670%]: Loss = 415540.562\n",
      "Iteration 66800 [6680%]: Loss = 415788.531\n",
      "Iteration 66900 [6690%]: Loss = 415886.625\n",
      "Iteration 67000 [6700%]: Loss = 415739.250\n",
      "Iteration 67100 [6709%]: Loss = 415363.031\n",
      "Iteration 67200 [6720%]: Loss = 415526.281\n",
      "Iteration 67300 [6730%]: Loss = 415290.812\n",
      "Iteration 67400 [6740%]: Loss = 415306.906\n",
      "Iteration 67500 [6750%]: Loss = 415255.531\n",
      "Iteration 67600 [6759%]: Loss = 415609.250\n",
      "Iteration 67700 [6770%]: Loss = 415829.969\n",
      "Iteration 67800 [6780%]: Loss = 415717.375\n",
      "Iteration 67900 [6790%]: Loss = 416078.906\n",
      "Iteration 68000 [6800%]: Loss = 415907.156\n",
      "Iteration 68100 [6809%]: Loss = 415438.125\n",
      "Iteration 68200 [6820%]: Loss = 415535.281\n",
      "Iteration 68300 [6830%]: Loss = 414985.875\n",
      "Iteration 68400 [6840%]: Loss = 415810.438\n",
      "Iteration 68500 [6850%]: Loss = 415359.906\n",
      "Iteration 68600 [6859%]: Loss = 415523.062\n",
      "Iteration 68700 [6870%]: Loss = 415436.312\n",
      "Iteration 68800 [6880%]: Loss = 415153.406\n",
      "Iteration 68900 [6890%]: Loss = 414597.750\n",
      "Iteration 69000 [6900%]: Loss = 415040.375\n",
      "Iteration 69100 [6909%]: Loss = 415369.875\n",
      "Iteration 69200 [6920%]: Loss = 415381.688\n",
      "Iteration 69300 [6930%]: Loss = 415178.750\n",
      "Iteration 69400 [6940%]: Loss = 414983.344\n",
      "Iteration 69500 [6950%]: Loss = 415630.219\n",
      "Iteration 69600 [6959%]: Loss = 415223.312\n",
      "Iteration 69700 [6970%]: Loss = 415336.312\n",
      "Iteration 69800 [6980%]: Loss = 415057.156\n",
      "Iteration 69900 [6990%]: Loss = 415323.219\n",
      "Iteration 70000 [7000%]: Loss = 415622.312\n",
      "Iteration 70100 [7009%]: Loss = 415605.094\n",
      "Iteration 70200 [7020%]: Loss = 415702.969\n",
      "Iteration 70300 [7030%]: Loss = 415582.750\n",
      "Iteration 70400 [7040%]: Loss = 414974.219\n",
      "Iteration 70500 [7050%]: Loss = 415317.219\n",
      "Iteration 70600 [7059%]: Loss = 415528.531\n",
      "Iteration 70700 [7070%]: Loss = 415203.281\n",
      "Iteration 70800 [7080%]: Loss = 414972.219\n",
      "Iteration 70900 [7090%]: Loss = 415136.375\n",
      "Iteration 71000 [7100%]: Loss = 415656.469\n",
      "Iteration 71100 [7109%]: Loss = 415379.500\n",
      "Iteration 71200 [7120%]: Loss = 415434.094\n",
      "Iteration 71300 [7130%]: Loss = 416074.656\n",
      "Iteration 71400 [7140%]: Loss = 415412.156\n",
      "Iteration 71500 [7150%]: Loss = 415681.125\n",
      "Iteration 71600 [7159%]: Loss = 414819.656\n",
      "Iteration 71700 [7170%]: Loss = 415378.000\n",
      "Iteration 71800 [7180%]: Loss = 415351.594\n",
      "Iteration 71900 [7190%]: Loss = 415390.125\n",
      "Iteration 72000 [7200%]: Loss = 415550.875\n",
      "Iteration 72100 [7209%]: Loss = 414958.625\n",
      "Iteration 72200 [7220%]: Loss = 415545.438\n",
      "Iteration 72300 [7230%]: Loss = 416184.062\n",
      "Iteration 72400 [7240%]: Loss = 416050.969\n",
      "Iteration 72500 [7250%]: Loss = 416295.312\n",
      "Iteration 72600 [7259%]: Loss = 415766.469\n",
      "Iteration 72700 [7270%]: Loss = 415748.656\n",
      "Iteration 72800 [7280%]: Loss = 415695.625\n",
      "Iteration 72900 [7290%]: Loss = 415541.719\n",
      "Iteration 73000 [7300%]: Loss = 415504.969\n",
      "Iteration 73100 [7309%]: Loss = 415550.344\n",
      "Iteration 73200 [7320%]: Loss = 415846.188\n",
      "Iteration 73300 [7330%]: Loss = 415395.781\n",
      "Iteration 73400 [7340%]: Loss = 415531.625\n",
      "Iteration 73500 [7350%]: Loss = 415828.094\n",
      "Iteration 73600 [7359%]: Loss = 415600.344\n",
      "Iteration 73700 [7370%]: Loss = 416855.875\n",
      "Iteration 73800 [7380%]: Loss = 416883.469\n",
      "Iteration 73900 [7390%]: Loss = 416545.188\n",
      "Iteration 74000 [7400%]: Loss = 416523.312\n",
      "Iteration 74100 [7409%]: Loss = 416790.094\n",
      "Iteration 74200 [7420%]: Loss = 416914.062\n",
      "Iteration 74300 [7430%]: Loss = 416967.625\n",
      "Iteration 74400 [7440%]: Loss = 416866.906\n",
      "Iteration 74500 [7450%]: Loss = 416468.125\n",
      "Iteration 74600 [7459%]: Loss = 416870.531\n",
      "Iteration 74700 [7470%]: Loss = 416893.625\n",
      "Iteration 74800 [7480%]: Loss = 416937.812\n",
      "Iteration 74900 [7490%]: Loss = 416457.094\n",
      "Iteration 75000 [7500%]: Loss = 416877.750\n",
      "Iteration 75100 [7509%]: Loss = 416392.875\n",
      "Iteration 75200 [7520%]: Loss = 416764.688\n",
      "Iteration 75300 [7530%]: Loss = 416871.938\n",
      "Iteration 75400 [7540%]: Loss = 416749.062\n",
      "Iteration 75500 [7550%]: Loss = 416014.156\n",
      "Iteration 75600 [7559%]: Loss = 416456.594\n",
      "Iteration 75700 [7570%]: Loss = 416596.406\n",
      "Iteration 75800 [7580%]: Loss = 417150.438\n",
      "Iteration 75900 [7590%]: Loss = 416437.438\n",
      "Iteration 76000 [7600%]: Loss = 416636.375\n",
      "Iteration 76100 [7609%]: Loss = 416269.125\n",
      "Iteration 76200 [7620%]: Loss = 416769.562\n",
      "Iteration 76300 [7630%]: Loss = 416847.344\n",
      "Iteration 76400 [7640%]: Loss = 416737.812\n",
      "Iteration 76500 [7650%]: Loss = 417277.156\n",
      "Iteration 76600 [7659%]: Loss = 416839.125\n",
      "Iteration 76700 [7670%]: Loss = 416854.000\n",
      "Iteration 76800 [7680%]: Loss = 416378.094\n",
      "Iteration 76900 [7690%]: Loss = 417201.250\n",
      "Iteration 77000 [7700%]: Loss = 417339.469\n",
      "Iteration 77100 [7709%]: Loss = 417071.438\n",
      "Iteration 77200 [7720%]: Loss = 416746.375\n",
      "Iteration 77300 [7730%]: Loss = 416763.594\n",
      "Iteration 77400 [7740%]: Loss = 417190.500\n",
      "Iteration 77500 [7750%]: Loss = 417092.406\n",
      "Iteration 77600 [7759%]: Loss = 416769.938\n",
      "Iteration 77700 [7770%]: Loss = 417056.062\n",
      "Iteration 77800 [7780%]: Loss = 416949.750\n",
      "Iteration 77900 [7790%]: Loss = 417057.531\n",
      "Iteration 78000 [7800%]: Loss = 416956.531\n",
      "Iteration 78100 [7809%]: Loss = 416923.812\n",
      "Iteration 78200 [7820%]: Loss = 416553.344\n",
      "Iteration 78300 [7830%]: Loss = 417013.625\n",
      "Iteration 78400 [7840%]: Loss = 417262.906\n",
      "Iteration 78500 [7850%]: Loss = 416903.531\n",
      "Iteration 78600 [7859%]: Loss = 417138.906\n",
      "Iteration 78700 [7870%]: Loss = 416582.250\n",
      "Iteration 78800 [7880%]: Loss = 417193.531\n",
      "Iteration 78900 [7890%]: Loss = 417288.812\n",
      "Iteration 79000 [7900%]: Loss = 416754.125\n",
      "Iteration 79100 [7909%]: Loss = 416985.625\n",
      "Iteration 79200 [7920%]: Loss = 417412.719\n",
      "Iteration 79300 [7930%]: Loss = 417291.594\n",
      "Iteration 79400 [7940%]: Loss = 417037.844\n",
      "Iteration 79500 [7950%]: Loss = 417032.062\n",
      "Iteration 79600 [7959%]: Loss = 417217.656\n",
      "Iteration 79700 [7970%]: Loss = 417796.969\n",
      "Iteration 79800 [7980%]: Loss = 417355.469\n",
      "Iteration 79900 [7990%]: Loss = 417319.094\n",
      "Iteration 80000 [8000%]: Loss = 417124.656\n",
      "Iteration 80100 [8009%]: Loss = 417211.688\n",
      "Iteration 80200 [8020%]: Loss = 417379.125\n",
      "Iteration 80300 [8030%]: Loss = 417388.938\n",
      "Iteration 80400 [8040%]: Loss = 417526.500\n",
      "Iteration 80500 [8050%]: Loss = 417820.781\n",
      "Iteration 80600 [8059%]: Loss = 417358.688\n",
      "Iteration 80700 [8070%]: Loss = 417351.344\n",
      "Iteration 80800 [8080%]: Loss = 417216.031\n",
      "Iteration 80900 [8090%]: Loss = 416834.562\n",
      "Iteration 81000 [8100%]: Loss = 417057.188\n",
      "Iteration 81100 [8109%]: Loss = 417114.156\n",
      "Iteration 81200 [8120%]: Loss = 417201.469\n",
      "Iteration 81300 [8130%]: Loss = 417208.469\n",
      "Iteration 81400 [8140%]: Loss = 417368.031\n",
      "Iteration 81500 [8150%]: Loss = 417252.625\n",
      "Iteration 81600 [8159%]: Loss = 417221.281\n",
      "Iteration 81700 [8170%]: Loss = 417222.688\n",
      "Iteration 81800 [8180%]: Loss = 417147.906\n",
      "Iteration 81900 [8190%]: Loss = 417192.000\n",
      "Iteration 82000 [8200%]: Loss = 416705.844\n",
      "Iteration 82100 [8210%]: Loss = 416816.125\n",
      "Iteration 82200 [8220%]: Loss = 416981.688\n",
      "Iteration 82300 [8230%]: Loss = 417199.375\n",
      "Iteration 82400 [8240%]: Loss = 417203.812\n",
      "Iteration 82500 [8250%]: Loss = 416755.156\n",
      "Iteration 82600 [8260%]: Loss = 417158.312\n",
      "Iteration 82700 [8270%]: Loss = 416812.625\n",
      "Iteration 82800 [8280%]: Loss = 416995.406\n",
      "Iteration 82900 [8290%]: Loss = 417005.250\n",
      "Iteration 83000 [8300%]: Loss = 417202.094\n",
      "Iteration 83100 [8310%]: Loss = 417220.812\n",
      "Iteration 83200 [8320%]: Loss = 416916.375\n",
      "Iteration 83300 [8330%]: Loss = 417017.344\n",
      "Iteration 83400 [8340%]: Loss = 416911.312\n",
      "Iteration 83500 [8350%]: Loss = 417506.094\n",
      "Iteration 83600 [8360%]: Loss = 417167.312\n",
      "Iteration 83700 [8370%]: Loss = 417154.500\n",
      "Iteration 83800 [8380%]: Loss = 417050.656\n",
      "Iteration 83900 [8390%]: Loss = 417145.562\n",
      "Iteration 84000 [8400%]: Loss = 417276.875\n",
      "Iteration 84100 [8410%]: Loss = 417231.812\n",
      "Iteration 84200 [8420%]: Loss = 417064.938\n",
      "Iteration 84300 [8430%]: Loss = 417267.656\n",
      "Iteration 84400 [8440%]: Loss = 416939.938\n",
      "Iteration 84500 [8450%]: Loss = 416930.156\n",
      "Iteration 84600 [8460%]: Loss = 416942.562\n",
      "Iteration 84700 [8470%]: Loss = 417084.562\n",
      "Iteration 84800 [8480%]: Loss = 417109.875\n",
      "Iteration 84900 [8490%]: Loss = 417221.406\n",
      "Iteration 85000 [8500%]: Loss = 416866.312\n",
      "Iteration 85100 [8510%]: Loss = 416911.875\n",
      "Iteration 85200 [8520%]: Loss = 416778.688\n",
      "Iteration 85300 [8530%]: Loss = 417272.875\n",
      "Iteration 85400 [8540%]: Loss = 416935.188\n",
      "Iteration 85500 [8550%]: Loss = 417017.219\n",
      "Iteration 85600 [8560%]: Loss = 416841.062\n",
      "Iteration 85700 [8570%]: Loss = 417230.688\n",
      "Iteration 85800 [8580%]: Loss = 416881.312\n",
      "Iteration 85900 [8590%]: Loss = 416928.375\n",
      "Iteration 86000 [8600%]: Loss = 416797.406\n",
      "Iteration 86100 [8610%]: Loss = 416529.656\n",
      "Iteration 86200 [8620%]: Loss = 416742.188\n",
      "Iteration 86300 [8630%]: Loss = 416809.969\n",
      "Iteration 86400 [8640%]: Loss = 417192.375\n",
      "Iteration 86500 [8650%]: Loss = 417237.344\n",
      "Iteration 86600 [8660%]: Loss = 416799.625\n",
      "Iteration 86700 [8670%]: Loss = 416892.938\n",
      "Iteration 86800 [8680%]: Loss = 416864.688\n",
      "Iteration 86900 [8690%]: Loss = 416755.688\n",
      "Iteration 87000 [8700%]: Loss = 417087.562\n",
      "Iteration 87100 [8710%]: Loss = 417351.375\n",
      "Iteration 87200 [8720%]: Loss = 416990.312\n",
      "Iteration 87300 [8730%]: Loss = 416968.594\n",
      "Iteration 87400 [8740%]: Loss = 416901.250\n",
      "Iteration 87500 [8750%]: Loss = 416898.688\n",
      "Iteration 87600 [8760%]: Loss = 417028.312\n",
      "Iteration 87700 [8770%]: Loss = 416972.375\n",
      "Iteration 87800 [8780%]: Loss = 417003.250\n",
      "Iteration 87900 [8790%]: Loss = 417192.375\n",
      "Iteration 88000 [8800%]: Loss = 416837.688\n",
      "Iteration 88100 [8810%]: Loss = 417107.688\n",
      "Iteration 88200 [8820%]: Loss = 417166.656\n",
      "Iteration 88300 [8830%]: Loss = 417223.469\n",
      "Iteration 88400 [8840%]: Loss = 417535.594\n",
      "Iteration 88500 [8850%]: Loss = 417096.625\n",
      "Iteration 88600 [8860%]: Loss = 416578.719\n",
      "Iteration 88700 [8870%]: Loss = 416847.562\n",
      "Iteration 88800 [8880%]: Loss = 416843.906\n",
      "Iteration 88900 [8890%]: Loss = 416837.375\n",
      "Iteration 89000 [8900%]: Loss = 416636.938\n",
      "Iteration 89100 [8910%]: Loss = 416755.000\n",
      "Iteration 89200 [8920%]: Loss = 416621.375\n",
      "Iteration 89300 [8930%]: Loss = 417319.781\n",
      "Iteration 89400 [8940%]: Loss = 417483.438\n",
      "Iteration 89500 [8950%]: Loss = 416782.312\n",
      "Iteration 89600 [8960%]: Loss = 416980.906\n",
      "Iteration 89700 [8970%]: Loss = 416443.406\n",
      "Iteration 89800 [8980%]: Loss = 416784.969\n",
      "Iteration 89900 [8990%]: Loss = 416712.062\n",
      "Iteration 90000 [9000%]: Loss = 416584.031\n",
      "Iteration 90100 [9010%]: Loss = 417264.938\n",
      "Iteration 90200 [9020%]: Loss = 416551.344\n",
      "Iteration 90300 [9030%]: Loss = 416906.656\n",
      "Iteration 90400 [9040%]: Loss = 416821.375\n",
      "Iteration 90500 [9050%]: Loss = 416484.312\n",
      "Iteration 90600 [9060%]: Loss = 416840.562\n",
      "Iteration 90700 [9070%]: Loss = 417396.562\n",
      "Iteration 90800 [9080%]: Loss = 417084.188\n",
      "Iteration 90900 [9090%]: Loss = 416894.219\n",
      "Iteration 91000 [9100%]: Loss = 417242.906\n",
      "Iteration 91100 [9110%]: Loss = 416621.125\n",
      "Iteration 91200 [9120%]: Loss = 417116.188\n",
      "Iteration 91300 [9130%]: Loss = 417364.219\n",
      "Iteration 91400 [9140%]: Loss = 416894.250\n",
      "Iteration 91500 [9150%]: Loss = 416823.344\n",
      "Iteration 91600 [9160%]: Loss = 416938.188\n",
      "Iteration 91700 [9170%]: Loss = 417199.250\n",
      "Iteration 91800 [9180%]: Loss = 417060.094\n",
      "Iteration 91900 [9190%]: Loss = 417385.406\n",
      "Iteration 92000 [9200%]: Loss = 416838.625\n",
      "Iteration 92100 [9210%]: Loss = 416812.281\n",
      "Iteration 92200 [9220%]: Loss = 416616.469\n",
      "Iteration 92300 [9230%]: Loss = 417400.656\n",
      "Iteration 92400 [9240%]: Loss = 416844.719\n",
      "Iteration 92500 [9250%]: Loss = 417042.438\n",
      "Iteration 92600 [9260%]: Loss = 416936.594\n",
      "Iteration 92700 [9270%]: Loss = 416946.875\n",
      "Iteration 92800 [9280%]: Loss = 416525.781\n",
      "Iteration 92900 [9290%]: Loss = 417000.688\n",
      "Iteration 93000 [9300%]: Loss = 417159.625\n",
      "Iteration 93100 [9310%]: Loss = 417049.281\n",
      "Iteration 93200 [9320%]: Loss = 416899.594\n",
      "Iteration 93300 [9330%]: Loss = 417028.875\n",
      "Iteration 93400 [9340%]: Loss = 417005.844\n",
      "Iteration 93500 [9350%]: Loss = 417109.906\n",
      "Iteration 93600 [9360%]: Loss = 417069.281\n",
      "Iteration 93700 [9370%]: Loss = 416888.719\n",
      "Iteration 93800 [9380%]: Loss = 417084.062\n",
      "Iteration 93900 [9390%]: Loss = 416950.156\n",
      "Iteration 94000 [9400%]: Loss = 416861.812\n",
      "Iteration 94100 [9410%]: Loss = 416925.531\n",
      "Iteration 94200 [9420%]: Loss = 417059.625\n",
      "Iteration 94300 [9430%]: Loss = 417187.188\n",
      "Iteration 94400 [9440%]: Loss = 417007.438\n",
      "Iteration 94500 [9450%]: Loss = 416782.938\n",
      "Iteration 94600 [9460%]: Loss = 417031.625\n",
      "Iteration 94700 [9470%]: Loss = 417037.625\n",
      "Iteration 94800 [9480%]: Loss = 416745.406\n",
      "Iteration 94900 [9490%]: Loss = 416632.594\n",
      "Iteration 95000 [9500%]: Loss = 416988.844\n",
      "Iteration 95100 [9510%]: Loss = 417130.938\n",
      "Iteration 95200 [9520%]: Loss = 417236.000\n",
      "Iteration 95300 [9530%]: Loss = 416833.000\n",
      "Iteration 95400 [9540%]: Loss = 416776.531\n",
      "Iteration 95500 [9550%]: Loss = 416716.812\n",
      "Iteration 95600 [9560%]: Loss = 416892.406\n",
      "Iteration 95700 [9570%]: Loss = 417131.312\n",
      "Iteration 95800 [9580%]: Loss = 416730.344\n",
      "Iteration 95900 [9590%]: Loss = 416935.688\n",
      "Iteration 96000 [9600%]: Loss = 417035.188\n",
      "Iteration 96100 [9610%]: Loss = 417573.250\n",
      "Iteration 96200 [9620%]: Loss = 416864.688\n",
      "Iteration 96300 [9630%]: Loss = 417354.000\n",
      "Iteration 96400 [9640%]: Loss = 417133.875\n",
      "Iteration 96500 [9650%]: Loss = 417089.312\n",
      "Iteration 96600 [9660%]: Loss = 416501.938\n",
      "Iteration 96700 [9670%]: Loss = 417141.031\n",
      "Iteration 96800 [9680%]: Loss = 417236.812\n",
      "Iteration 96900 [9690%]: Loss = 417214.062\n",
      "Iteration 97000 [9700%]: Loss = 417367.531\n",
      "Iteration 97100 [9710%]: Loss = 416757.406\n",
      "Iteration 97200 [9720%]: Loss = 417479.125\n",
      "Iteration 97300 [9730%]: Loss = 417112.875\n",
      "Iteration 97400 [9740%]: Loss = 417039.875\n",
      "Iteration 97500 [9750%]: Loss = 417049.500\n",
      "Iteration 97600 [9760%]: Loss = 416740.031\n",
      "Iteration 97700 [9770%]: Loss = 417017.562\n",
      "Iteration 97800 [9780%]: Loss = 416754.969\n",
      "Iteration 97900 [9790%]: Loss = 416942.406\n",
      "Iteration 98000 [9800%]: Loss = 416808.625\n",
      "Iteration 98100 [9810%]: Loss = 417349.812\n",
      "Iteration 98200 [9820%]: Loss = 416892.125\n",
      "Iteration 98300 [9830%]: Loss = 417118.438\n",
      "Iteration 98400 [9840%]: Loss = 416620.594\n",
      "Iteration 98500 [9850%]: Loss = 417084.031\n",
      "Iteration 98600 [9860%]: Loss = 417137.031\n",
      "Iteration 98700 [9870%]: Loss = 417050.312\n",
      "Iteration 98800 [9880%]: Loss = 416872.531\n",
      "Iteration 98900 [9890%]: Loss = 417237.781\n",
      "Iteration 99000 [9900%]: Loss = 416802.375\n",
      "Iteration 99100 [9910%]: Loss = 417302.750\n",
      "Iteration 99200 [9920%]: Loss = 416760.625\n",
      "Iteration 99300 [9930%]: Loss = 417187.344\n",
      "Iteration 99400 [9940%]: Loss = 417156.312\n",
      "Iteration 99500 [9950%]: Loss = 417280.000\n",
      "Iteration 99600 [9960%]: Loss = 417214.969\n",
      "Iteration 99700 [9970%]: Loss = 416886.625\n",
      "Iteration 99800 [9980%]: Loss = 417422.656\n",
      "Iteration 99900 [9990%]: Loss = 417477.062\n",
      "Iteration 100000 [10000%]: Loss = 417170.062\n"
     ]
    }
   ],
   "source": [
    "n_iter = 100000\n",
    "for _ in range(n_iter):\n",
    "    for inf in inf_list:\n",
    "        for _ in range(1):  # make multiple steps along each set of coords\n",
    "            info_dict = inf.update()\n",
    "        if inf is inference_lam:\n",
    "            inf.print_progress(info_dict)"
   ]
  },
  {
   "cell_type": "code",
   "execution_count": 29,
   "metadata": {
    "collapsed": false
   },
   "outputs": [
    {
     "data": {
      "text/plain": [
       "<matplotlib.image.AxesImage at 0x13c562470>"
      ]
     },
     "execution_count": 29,
     "metadata": {},
     "output_type": "execute_result"
    },
    {
     "data": {
      "image/png": "[encoded data removed]",
      "text/plain": [
       "<matplotlib.figure.Figure at 0x13c0aeef0>"
      ]
     },
     "metadata": {},
     "output_type": "display_data"
    },
    {
     "data": {
      "image/png": "[encoded data removed]",
      "text/plain": [
       "<matplotlib.figure.Figure at 0x13c0aedd8>"
      ]
     },
     "metadata": {},
     "output_type": "display_data"
    }
   ],
   "source": [
    "Zmat = q_Z.mean().eval()\n",
    "\n",
    "plt.matshow(dZ, aspect='auto', cmap='gray')\n",
    "plt.matshow(Zmat.T, aspect='auto', cmap='gray')"
   ]
  },
  {
   "cell_type": "code",
   "execution_count": 42,
   "metadata": {
    "collapsed": false
   },
   "outputs": [
    {
     "data": {
      "image/png": "[encoded data removed]",
      "text/plain": [
       "<matplotlib.figure.Figure at 0x13cdbf4e0>"
      ]
     },
     "metadata": {},
     "output_type": "display_data"
    }
   ],
   "source": [
    "plt.hist(q_A.mean().eval().ravel(), label='inferred'); plt.hist(dA.ravel(), label='actual'), plt.legend();"
   ]
  },
  {
   "cell_type": "code",
   "execution_count": 41,
   "metadata": {
    "collapsed": false,
    "scrolled": true
   },
   "outputs": [
    {
     "data": {
      "image/png": "[encoded data removed]",
      "text/plain": [
       "<matplotlib.figure.Figure at 0x13d6a3780>"
      ]
     },
     "metadata": {},
     "output_type": "display_data"
    }
   ],
   "source": [
    "plt.hist(q_B.mean().eval().ravel(), 200, label='inferred'), plt.hist(dB.ravel(), 200, label='actual'), plt.legend();"
   ]
  },
  {
   "cell_type": "code",
   "execution_count": 40,
   "metadata": {
    "collapsed": false
   },
   "outputs": [
    {
     "data": {
      "image/png": "[encoded data removed]",
      "text/plain": [
       "<matplotlib.figure.Figure at 0x1390c7860>"
      ]
     },
     "metadata": {},
     "output_type": "display_data"
    }
   ],
   "source": [
    "plt.hist(q_C.mean().eval().ravel(), 200, label='inferred'), plt.hist(dC.ravel(), 200, label='actual'), plt.legend();"
   ]
  },
  {
   "cell_type": "code",
   "execution_count": 43,
   "metadata": {
    "collapsed": false
   },
   "outputs": [
    {
     "data": {
      "image/png": "[encoded data removed]",
      "text/plain": [
       "<matplotlib.figure.Figure at 0x138e47cc0>"
      ]
     },
     "metadata": {},
     "output_type": "display_data"
    }
   ],
   "source": [
    "plt.hist(lam_mu.eval(), 200, label='inferred'), plt.hist(dlam, 200, label='actual'), plt.legend();"
   ]
  },
  {
   "cell_type": "code",
   "execution_count": 34,
   "metadata": {
    "collapsed": false
   },
   "outputs": [
    {
     "data": {
      "text/plain": [
       "array([ 2.88644767,  2.54430103,  0.45123681, ...,  2.58743238,\n",
       "        2.62009668,  2.52442694], dtype=float32)"
      ]
     },
     "execution_count": 34,
     "metadata": {},
     "output_type": "execute_result"
    }
   ],
   "source": [
    "lam_mu.value().eval()"
   ]
  },
  {
   "cell_type": "code",
   "execution_count": 35,
   "metadata": {
    "collapsed": false
   },
   "outputs": [
    {
     "data": {
      "text/plain": [
       "array([ 2.88644767,  2.54430103,  0.45123681, ...,  2.58743238,\n",
       "        2.62009668,  2.52442694], dtype=float32)"
      ]
     },
     "execution_count": 35,
     "metadata": {},
     "output_type": "execute_result"
    }
   ],
   "source": [
    "q_lam.mean().eval()"
   ]
  },
  {
   "cell_type": "code",
   "execution_count": 36,
   "metadata": {
    "collapsed": false
   },
   "outputs": [
    {
     "data": {
      "text/plain": [
       "array([-0.22249965], dtype=float32)"
      ]
     },
     "execution_count": 36,
     "metadata": {},
     "output_type": "execute_result"
    }
   ],
   "source": [
    "q_sig.mean().eval()"
   ]
  },
  {
   "cell_type": "code",
   "execution_count": 37,
   "metadata": {
    "collapsed": false
   },
   "outputs": [
    {
     "data": {
      "text/plain": [
       "array([ 0.,  0.,  0.,  0.], dtype=float32)"
      ]
     },
     "execution_count": 37,
     "metadata": {},
     "output_type": "execute_result"
    }
   ],
   "source": [
    "q_pi._value.eval()"
   ]
  },
  {
   "cell_type": "code",
   "execution_count": 38,
   "metadata": {
    "collapsed": false
   },
   "outputs": [
    {
     "data": {
      "text/plain": [
       "array([  1.76485628e-22,   1.87697247e-22,   1.65239021e-22,\n",
       "         1.78932737e-22], dtype=float32)"
      ]
     },
     "execution_count": 38,
     "metadata": {},
     "output_type": "execute_result"
    }
   ],
   "source": [
    "q_pi.mean().eval()"
   ]
  },
  {
   "cell_type": "code",
   "execution_count": null,
   "metadata": {
    "collapsed": true
   },
   "outputs": [],
   "source": []
  }
 ],
 "metadata": {
  "anaconda-cloud": {},
  "kernelspec": {
   "display_name": "Python [Root]",
   "language": "python",
   "name": "Python [Root]"
  },
  "language_info": {
   "codemirror_mode": {
    "name": "ipython",
    "version": 3
   },
   "file_extension": ".py",
   "mimetype": "text/x-python",
   "name": "python",
   "nbconvert_exporter": "python",
   "pygments_lexer": "ipython3",
   "version": "3.5.2"
  }
 },
 "nbformat": 4,
 "nbformat_minor": 0
}
