{
 "cells": [
  {
   "cell_type": "markdown",
   "metadata": {},
   "source": [
    "# Run model on fake data\n",
    "\n",
    "Here, we generate a synthetic data set for purposes of validating the model constructed in Edward."
   ]
  },
  {
   "cell_type": "code",
   "execution_count": 1,
   "metadata": {
    "collapsed": false
   },
   "outputs": [],
   "source": [
    "import numpy as np\n",
    "import pandas as pd\n",
    "import tensorflow as tf\n",
    "import edward as ed\n",
    "import matplotlib.pyplot as plt\n",
    "%matplotlib inline"
   ]
  },
  {
   "cell_type": "code",
   "execution_count": 2,
   "metadata": {
    "collapsed": true
   },
   "outputs": [],
   "source": [
    "# we'll want this function below\n",
    "def softplus(x):\n",
    "    return np.logaddexp(0, x)"
   ]
  },
  {
   "cell_type": "code",
   "execution_count": 3,
   "metadata": {
    "collapsed": false
   },
   "outputs": [],
   "source": [
    "ed.set_seed(12225)"
   ]
  },
  {
   "cell_type": "markdown",
   "metadata": {},
   "source": [
    "The model is defined by the spike count $N_{us}$ observed when stimulus $s$ is presented to unit $u$:\n",
    "\n",
    "$$\n",
    "\\begin{align}\n",
    "N &\\sim \\mathrm{Poisson}(e^\\lambda)  \\\\\n",
    "\\lambda_{su} &\\sim \\mathcal{N}(A_{u} + (B \\cdot X)_{su} + (C \\cdot Z)_{su}, \\sigma^2) \\\\\n",
    "\\log \\sigma &\\sim \\mathcal{N}(-7, 1^2) \\\\\n",
    "Z_{sk} &\\sim \\mathrm{Bernoulli}(\\pi_k) \\\\\n",
    "\\pi_k &\\sim \\mathrm{Beta}(1, 1)\n",
    "\\end{align}\n",
    "$$\n",
    "With $X$ an $P \\times N_s$ matrix of known regressors, $Z$ a $N_S \\times K$ matrix of latent binary features\n",
    "governed by an Indian Buffet Process, $A$ and $N_u$ vector of baselines, and $(\\cdot)_+$ the softplus function: \n",
    "$(x)_+ = \\log(1 + e^x)$."
   ]
  },
  {
   "cell_type": "markdown",
   "metadata": {},
   "source": [
    "In addition, we assume that $A$, $B$, and $C$ are all hierarchically distributed:\n",
    "\n",
    "$$\\begin{align}\n",
    "A_u &\\sim \\mathcal{N}(\\mu_A, \\sigma^2_A) \\\\\n",
    "B_{up} &\\sim \\mathcal{N}(\\mu_{Bp}, \\sigma^2_{Bp}) \\\\\n",
    "C_{uk} &\\sim \\mathcal{N}(\\mu_{Ck}, \\sigma^2_{Ck}) \\\\\n",
    "\\mu_A &\\sim \\mathcal{N}(\\log 25, 0.5^2) \\\\\n",
    "\\sigma_A &\\sim \\mathrm{Ga}(2, 4) \\\\\n",
    "\\mu_{Bp} &\\sim \\mathcal{N}(0, 0.5^2) \\\\\n",
    "\\sigma_{Bp} &\\sim \\mathrm{Ga}(2, 4) \\\\\n",
    "\\mu_{Ck} &\\sim \\mathcal{N}(0, 0.5^2) \\\\\n",
    "\\sigma_{Ck} &\\sim \\mathrm{Ga}(2, 4)\n",
    "\\end{align}$$"
   ]
  },
  {
   "cell_type": "markdown",
   "metadata": {},
   "source": [
    "# Define constants"
   ]
  },
  {
   "cell_type": "code",
   "execution_count": 4,
   "metadata": {
    "collapsed": true
   },
   "outputs": [],
   "source": [
    "# basic constants\n",
    "Nrep = 40  # number of observations per unit per stim\n",
    "NB = 1000  # number of trials in minibatch\n",
    "NU = 50  # number of units\n",
    "NS = 50  # number of stims\n",
    "P = 3  # number of specified regressors\n",
    "K = 4  # number of latents"
   ]
  },
  {
   "cell_type": "markdown",
   "metadata": {},
   "source": [
    "# Make neural response coefficients"
   ]
  },
  {
   "cell_type": "code",
   "execution_count": 5,
   "metadata": {
    "collapsed": false
   },
   "outputs": [],
   "source": [
    "dA = np.log(softplus(25 + 5 * np.random.randn(NU)))  # baseline\n",
    "dB = np.log(np.array([0.75, 1.2, 1.5]) + 0.1 * np.random.randn(NU, P))  # regressor effects\n",
    "dC = np.log(np.array([0.1, 0.2, 2., 4.])[np.newaxis, :] + 0.01 * np.random.randn(NU, K))  # latent effects"
   ]
  },
  {
   "cell_type": "markdown",
   "metadata": {},
   "source": [
    "# Regressors and latent states"
   ]
  },
  {
   "cell_type": "code",
   "execution_count": 6,
   "metadata": {
    "collapsed": false
   },
   "outputs": [
    {
     "data": {
      "image/png": "[encoded data removed]",
      "text/plain": [
       "<matplotlib.figure.Figure at 0x129d62fd0>"
      ]
     },
     "metadata": {},
     "output_type": "display_data"
    }
   ],
   "source": [
    "dX = 0.1 * np.random.randn(P, NS)\n",
    "\n",
    "import scipy.stats as stats\n",
    "\n",
    "# ddelta = stats.beta.rvs(1.2, 1, size=(K,))\n",
    "# dpi = np.cumprod(ddelta)\n",
    "dpi = np.array([0.3, 0.4, 0.2, 0.2])\n",
    "# print(ddelta, dpi)\n",
    "dZ = stats.bernoulli.rvs(dpi[:, np.newaxis], size=(K, NS))\n",
    "\n",
    "# plot states\n",
    "plt.matshow(dZ, aspect='auto', cmap='gray');"
   ]
  },
  {
   "cell_type": "markdown",
   "metadata": {},
   "source": [
    "# Generate trial set"
   ]
  },
  {
   "cell_type": "code",
   "execution_count": 7,
   "metadata": {
    "collapsed": true
   },
   "outputs": [],
   "source": [
    "dU, dS = np.meshgrid(range(NU), range(NS))\n",
    "dU = dU.ravel()\n",
    "dS = dS.ravel()"
   ]
  },
  {
   "cell_type": "code",
   "execution_count": 8,
   "metadata": {
    "collapsed": false
   },
   "outputs": [],
   "source": [
    "dlam_mean = np.tile(dA[dU] + np.sum(dB[dU] * dX[:, dS].T, axis=1) + np.sum(dC[dU] * dZ[:, dS].T, axis=1), Nrep)\n",
    "\n",
    "dlam = stats.norm.rvs(loc=dlam_mean, scale=0.01)"
   ]
  },
  {
   "cell_type": "code",
   "execution_count": 9,
   "metadata": {
    "collapsed": false
   },
   "outputs": [
    {
     "data": {
      "text/plain": [
       "(100000,)"
      ]
     },
     "execution_count": 9,
     "metadata": {},
     "output_type": "execute_result"
    }
   ],
   "source": [
    "dcount = stats.poisson.rvs(np.exp(dlam))\n",
    "dcount.shape"
   ]
  },
  {
   "cell_type": "code",
   "execution_count": 10,
   "metadata": {
    "collapsed": false
   },
   "outputs": [
    {
     "data": {
      "image/png": "[encoded data removed]",
      "text/plain": [
       "<matplotlib.figure.Figure at 0x129d62e10>"
      ]
     },
     "metadata": {},
     "output_type": "display_data"
    }
   ],
   "source": [
    "plt.hist(dlam, bins=200);"
   ]
  },
  {
   "cell_type": "code",
   "execution_count": 11,
   "metadata": {
    "collapsed": false
   },
   "outputs": [
    {
     "data": {
      "image/png": "[encoded data removed]",
      "text/plain": [
       "<matplotlib.figure.Figure at 0x12ce1f940>"
      ]
     },
     "metadata": {},
     "output_type": "display_data"
    }
   ],
   "source": [
    "plt.hist(np.exp(dlam), bins=200);"
   ]
  },
  {
   "cell_type": "code",
   "execution_count": 12,
   "metadata": {
    "collapsed": false
   },
   "outputs": [
    {
     "data": {
      "image/png": "[encoded data removed]",
      "text/plain": [
       "<matplotlib.figure.Figure at 0x12c97dcf8>"
      ]
     },
     "metadata": {},
     "output_type": "display_data"
    }
   ],
   "source": [
    "plt.hist(dcount, bins=200);"
   ]
  },
  {
   "cell_type": "markdown",
   "metadata": {},
   "source": [
    "# Set up data"
   ]
  },
  {
   "cell_type": "code",
   "execution_count": 13,
   "metadata": {
    "collapsed": false
   },
   "outputs": [],
   "source": [
    "count = dcount.copy()\n",
    "Xdat = np.tile(dX[:, dS], (1, Nrep)).T\n",
    "unit = np.tile(dU, Nrep)\n",
    "stim = np.tile(dS, Nrep)"
   ]
  },
  {
   "cell_type": "markdown",
   "metadata": {},
   "source": [
    "Later, we'll need to know the number of observations of each (stim, unit) pair. This is constant for this toy example, but need not be."
   ]
  },
  {
   "cell_type": "code",
   "execution_count": 14,
   "metadata": {
    "collapsed": true
   },
   "outputs": [],
   "source": [
    "pairs = pd.DataFrame({'stim': stim, 'unit': unit, 'count': 1})"
   ]
  },
  {
   "cell_type": "code",
   "execution_count": 15,
   "metadata": {
    "collapsed": false
   },
   "outputs": [
    {
     "data": {
      "text/html": [
       "<div>\n",
       "<table border=\"1\" class=\"dataframe\">\n",
       "  <thead>\n",
       "    <tr style=\"text-align: right;\">\n",
       "      <th></th>\n",
       "      <th>stim</th>\n",
       "      <th>unit</th>\n",
       "      <th>count</th>\n",
       "    </tr>\n",
       "  </thead>\n",
       "  <tbody>\n",
       "    <tr>\n",
       "      <th>0</th>\n",
       "      <td>0</td>\n",
       "      <td>0</td>\n",
       "      <td>40</td>\n",
       "    </tr>\n",
       "    <tr>\n",
       "      <th>1</th>\n",
       "      <td>0</td>\n",
       "      <td>1</td>\n",
       "      <td>40</td>\n",
       "    </tr>\n",
       "    <tr>\n",
       "      <th>2</th>\n",
       "      <td>0</td>\n",
       "      <td>2</td>\n",
       "      <td>40</td>\n",
       "    </tr>\n",
       "    <tr>\n",
       "      <th>3</th>\n",
       "      <td>0</td>\n",
       "      <td>3</td>\n",
       "      <td>40</td>\n",
       "    </tr>\n",
       "    <tr>\n",
       "      <th>4</th>\n",
       "      <td>0</td>\n",
       "      <td>4</td>\n",
       "      <td>40</td>\n",
       "    </tr>\n",
       "  </tbody>\n",
       "</table>\n",
       "</div>"
      ],
      "text/plain": [
       "   stim  unit  count\n",
       "0     0     0     40\n",
       "1     0     1     40\n",
       "2     0     2     40\n",
       "3     0     3     40\n",
       "4     0     4     40"
      ]
     },
     "execution_count": 15,
     "metadata": {},
     "output_type": "execute_result"
    }
   ],
   "source": [
    "# count the number of occurrences of each pair\n",
    "pair_counts_df_long = pairs.groupby(['stim', 'unit']).sum().reset_index()\n",
    "pair_counts_df_long.head()"
   ]
  },
  {
   "cell_type": "code",
   "execution_count": 16,
   "metadata": {
    "collapsed": false
   },
   "outputs": [
    {
     "data": {
      "text/html": [
       "<div>\n",
       "<table border=\"1\" class=\"dataframe\">\n",
       "  <thead>\n",
       "    <tr style=\"text-align: right;\">\n",
       "      <th>unit</th>\n",
       "      <th>0</th>\n",
       "      <th>1</th>\n",
       "      <th>2</th>\n",
       "      <th>3</th>\n",
       "      <th>4</th>\n",
       "      <th>5</th>\n",
       "      <th>6</th>\n",
       "      <th>7</th>\n",
       "      <th>8</th>\n",
       "      <th>9</th>\n",
       "      <th>...</th>\n",
       "      <th>40</th>\n",
       "      <th>41</th>\n",
       "      <th>42</th>\n",
       "      <th>43</th>\n",
       "      <th>44</th>\n",
       "      <th>45</th>\n",
       "      <th>46</th>\n",
       "      <th>47</th>\n",
       "      <th>48</th>\n",
       "      <th>49</th>\n",
       "    </tr>\n",
       "    <tr>\n",
       "      <th>stim</th>\n",
       "      <th></th>\n",
       "      <th></th>\n",
       "      <th></th>\n",
       "      <th></th>\n",
       "      <th></th>\n",
       "      <th></th>\n",
       "      <th></th>\n",
       "      <th></th>\n",
       "      <th></th>\n",
       "      <th></th>\n",
       "      <th></th>\n",
       "      <th></th>\n",
       "      <th></th>\n",
       "      <th></th>\n",
       "      <th></th>\n",
       "      <th></th>\n",
       "      <th></th>\n",
       "      <th></th>\n",
       "      <th></th>\n",
       "      <th></th>\n",
       "      <th></th>\n",
       "    </tr>\n",
       "  </thead>\n",
       "  <tbody>\n",
       "    <tr>\n",
       "      <th>0</th>\n",
       "      <td>40</td>\n",
       "      <td>40</td>\n",
       "      <td>40</td>\n",
       "      <td>40</td>\n",
       "      <td>40</td>\n",
       "      <td>40</td>\n",
       "      <td>40</td>\n",
       "      <td>40</td>\n",
       "      <td>40</td>\n",
       "      <td>40</td>\n",
       "      <td>...</td>\n",
       "      <td>40</td>\n",
       "      <td>40</td>\n",
       "      <td>40</td>\n",
       "      <td>40</td>\n",
       "      <td>40</td>\n",
       "      <td>40</td>\n",
       "      <td>40</td>\n",
       "      <td>40</td>\n",
       "      <td>40</td>\n",
       "      <td>40</td>\n",
       "    </tr>\n",
       "    <tr>\n",
       "      <th>1</th>\n",
       "      <td>40</td>\n",
       "      <td>40</td>\n",
       "      <td>40</td>\n",
       "      <td>40</td>\n",
       "      <td>40</td>\n",
       "      <td>40</td>\n",
       "      <td>40</td>\n",
       "      <td>40</td>\n",
       "      <td>40</td>\n",
       "      <td>40</td>\n",
       "      <td>...</td>\n",
       "      <td>40</td>\n",
       "      <td>40</td>\n",
       "      <td>40</td>\n",
       "      <td>40</td>\n",
       "      <td>40</td>\n",
       "      <td>40</td>\n",
       "      <td>40</td>\n",
       "      <td>40</td>\n",
       "      <td>40</td>\n",
       "      <td>40</td>\n",
       "    </tr>\n",
       "    <tr>\n",
       "      <th>2</th>\n",
       "      <td>40</td>\n",
       "      <td>40</td>\n",
       "      <td>40</td>\n",
       "      <td>40</td>\n",
       "      <td>40</td>\n",
       "      <td>40</td>\n",
       "      <td>40</td>\n",
       "      <td>40</td>\n",
       "      <td>40</td>\n",
       "      <td>40</td>\n",
       "      <td>...</td>\n",
       "      <td>40</td>\n",
       "      <td>40</td>\n",
       "      <td>40</td>\n",
       "      <td>40</td>\n",
       "      <td>40</td>\n",
       "      <td>40</td>\n",
       "      <td>40</td>\n",
       "      <td>40</td>\n",
       "      <td>40</td>\n",
       "      <td>40</td>\n",
       "    </tr>\n",
       "    <tr>\n",
       "      <th>3</th>\n",
       "      <td>40</td>\n",
       "      <td>40</td>\n",
       "      <td>40</td>\n",
       "      <td>40</td>\n",
       "      <td>40</td>\n",
       "      <td>40</td>\n",
       "      <td>40</td>\n",
       "      <td>40</td>\n",
       "      <td>40</td>\n",
       "      <td>40</td>\n",
       "      <td>...</td>\n",
       "      <td>40</td>\n",
       "      <td>40</td>\n",
       "      <td>40</td>\n",
       "      <td>40</td>\n",
       "      <td>40</td>\n",
       "      <td>40</td>\n",
       "      <td>40</td>\n",
       "      <td>40</td>\n",
       "      <td>40</td>\n",
       "      <td>40</td>\n",
       "    </tr>\n",
       "    <tr>\n",
       "      <th>4</th>\n",
       "      <td>40</td>\n",
       "      <td>40</td>\n",
       "      <td>40</td>\n",
       "      <td>40</td>\n",
       "      <td>40</td>\n",
       "      <td>40</td>\n",
       "      <td>40</td>\n",
       "      <td>40</td>\n",
       "      <td>40</td>\n",
       "      <td>40</td>\n",
       "      <td>...</td>\n",
       "      <td>40</td>\n",
       "      <td>40</td>\n",
       "      <td>40</td>\n",
       "      <td>40</td>\n",
       "      <td>40</td>\n",
       "      <td>40</td>\n",
       "      <td>40</td>\n",
       "      <td>40</td>\n",
       "      <td>40</td>\n",
       "      <td>40</td>\n",
       "    </tr>\n",
       "  </tbody>\n",
       "</table>\n",
       "<p>5 rows × 50 columns</p>\n",
       "</div>"
      ],
      "text/plain": [
       "unit  0   1   2   3   4   5   6   7   8   9  ...  40  41  42  43  44  45  46  \\\n",
       "stim                                         ...                               \n",
       "0     40  40  40  40  40  40  40  40  40  40 ...  40  40  40  40  40  40  40   \n",
       "1     40  40  40  40  40  40  40  40  40  40 ...  40  40  40  40  40  40  40   \n",
       "2     40  40  40  40  40  40  40  40  40  40 ...  40  40  40  40  40  40  40   \n",
       "3     40  40  40  40  40  40  40  40  40  40 ...  40  40  40  40  40  40  40   \n",
       "4     40  40  40  40  40  40  40  40  40  40 ...  40  40  40  40  40  40  40   \n",
       "\n",
       "unit  47  48  49  \n",
       "stim              \n",
       "0     40  40  40  \n",
       "1     40  40  40  \n",
       "2     40  40  40  \n",
       "3     40  40  40  \n",
       "4     40  40  40  \n",
       "\n",
       "[5 rows x 50 columns]"
      ]
     },
     "execution_count": 16,
     "metadata": {},
     "output_type": "execute_result"
    }
   ],
   "source": [
    "pair_counts_df = pair_counts_df_long.pivot(values='count', index='stim', columns='unit')\n",
    "pair_counts_df.head()"
   ]
  },
  {
   "cell_type": "code",
   "execution_count": 17,
   "metadata": {
    "collapsed": true
   },
   "outputs": [],
   "source": [
    "pair_counts = pair_counts_df.values"
   ]
  },
  {
   "cell_type": "markdown",
   "metadata": {},
   "source": [
    "We'd also like to know a unique code for each *possible* (stim, unit) pair. (Some might be missing, but in this case, we still want to code that, since we'll be using these codes to sum over all observations, and the resulting matrix may have some 0 entries, but it must be dense.\n",
    "\n",
    "We will assume that units and stims are consecutively numbered."
   ]
  },
  {
   "cell_type": "code",
   "execution_count": 18,
   "metadata": {
    "collapsed": false
   },
   "outputs": [
    {
     "data": {
      "text/plain": [
       "array([   0,    1,    2, ..., 2497, 2498, 2499])"
      ]
     },
     "execution_count": 18,
     "metadata": {},
     "output_type": "execute_result"
    }
   ],
   "source": [
    "# assuming an array stims x units, these are codes laid out in (C) memory order\n",
    "# this is necessary so that after aggregating, we can reshape these codes to get\n",
    "# an NS x NU array\n",
    "su_codes = NU * stim + unit\n",
    "su_codes"
   ]
  },
  {
   "cell_type": "markdown",
   "metadata": {},
   "source": [
    "# Define the model"
   ]
  },
  {
   "cell_type": "markdown",
   "metadata": {},
   "source": [
    "## Constants"
   ]
  },
  {
   "cell_type": "code",
   "execution_count": 19,
   "metadata": {
    "collapsed": false
   },
   "outputs": [],
   "source": [
    "# define some needed constants\n",
    "N = Xdat.shape[0]  # number of trials"
   ]
  },
  {
   "cell_type": "code",
   "execution_count": 20,
   "metadata": {
    "collapsed": false
   },
   "outputs": [
    {
     "data": {
      "text/plain": [
       "100000"
      ]
     },
     "execution_count": 20,
     "metadata": {},
     "output_type": "execute_result"
    }
   ],
   "source": [
    "N"
   ]
  },
  {
   "cell_type": "markdown",
   "metadata": {},
   "source": [
    "## Inputs and data"
   ]
  },
  {
   "cell_type": "code",
   "execution_count": 21,
   "metadata": {
    "collapsed": false
   },
   "outputs": [],
   "source": [
    "X = tf.constant(Xdat.astype('float32'))\n",
    "U = tf.constant(unit)\n",
    "S = tf.constant(stim)\n",
    "counts = tf.constant(count)\n",
    "allinds = tf.constant(np.arange(N))\n",
    "NSU = tf.constant(pair_counts.astype('float32'))\n",
    "codes_SU = tf.constant(su_codes)"
   ]
  },
  {
   "cell_type": "code",
   "execution_count": 22,
   "metadata": {
    "collapsed": false
   },
   "outputs": [
    {
     "data": {
      "text/plain": [
       "TensorShape([Dimension(100000), Dimension(3)])"
      ]
     },
     "execution_count": 22,
     "metadata": {},
     "output_type": "execute_result"
    }
   ],
   "source": [
    "X.get_shape()"
   ]
  },
  {
   "cell_type": "markdown",
   "metadata": {},
   "source": [
    "Make a node that produces `NB` indices from the range $[0, N - 1]$. These are the subset of data points we want to use."
   ]
  },
  {
   "cell_type": "raw",
   "metadata": {
    "collapsed": true
   },
   "source": [
    "batch_inds = tf.train.range_input_producer(N).dequeue_many(NB, name='batch_inds')\n",
    "batch_counts = tf.train.batch(tf.train.slice_input_producer([counts]), NB, name='batch_counts')"
   ]
  },
  {
   "cell_type": "raw",
   "metadata": {
    "collapsed": true
   },
   "source": [
    "batch_inds = tf.constant(np.arange(NB))\n",
    "batch_counts = tf.train.batch(tf.train.slice_input_producer([counts]), NB)"
   ]
  },
  {
   "cell_type": "raw",
   "metadata": {
    "collapsed": false
   },
   "source": [
    "batch_inds, batch_counts = tf.train.batch(tf.train.slice_input_producer([allinds, counts]), NB, \n",
    "                                          name='batches')"
   ]
  },
  {
   "cell_type": "code",
   "execution_count": 23,
   "metadata": {
    "collapsed": true
   },
   "outputs": [],
   "source": [
    "NB = N\n",
    "batch_inds = np.arange(N)\n",
    "batch_counts = counts"
   ]
  },
  {
   "cell_type": "markdown",
   "metadata": {},
   "source": [
    "## Generative (p) model"
   ]
  },
  {
   "cell_type": "code",
   "execution_count": 24,
   "metadata": {
    "collapsed": false
   },
   "outputs": [],
   "source": [
    "with tf.variable_scope(\"pmodel\"):\n",
    "    muA = ed.models.Normal(mu=np.log(25) * tf.ones(1), sigma=0.5 * tf.ones(1), name='mu_A')\n",
    "    muB = ed.models.Normal(mu=tf.zeros(P), sigma=0.5 * tf.ones(P), name='mu_B')\n",
    "    muC = ed.models.Normal(mu=tf.zeros(K), sigma=0.5 * tf.ones(K), name='mu_C')\n",
    "    sigA = ed.models.Gamma(alpha=2. * tf.ones(1), beta=4. * tf.ones(1), name='sig_A')\n",
    "    sigB = ed.models.Gamma(alpha=2. * tf.ones(P), beta=4. * tf.ones(P), name='sig_B')\n",
    "    sigC = ed.models.Gamma(alpha=2. * tf.ones(K), beta=4. * tf.ones(K), name='sig_C') \n",
    "\n",
    "    A = ed.models.Normal(mu=tf.tile(muA, (NU,)), \n",
    "                         sigma=tf.tile(sigA, (NU,)), \n",
    "                         name='A')\n",
    "    B = ed.models.Normal(mu=tf.tile(tf.expand_dims(muB, 0), (NU, 1)), \n",
    "                         sigma=tf.tile(tf.expand_dims(sigB, 0), (NU, 1)), \n",
    "                         name='B')\n",
    "    C = ed.models.Normal(mu=tf.tile(tf.expand_dims(muC, 0), (NU, 1)), \n",
    "                         sigma=tf.tile(tf.expand_dims(sigC, 0), (NU, 1)), \n",
    "                         name='C')  \n",
    "\n",
    "    a_prior = tf.ones(K)\n",
    "    b_prior = tf.ones(K)\n",
    "    pi = ed.models.Beta(a=a_prior, b=b_prior, name='pi')\n",
    "\n",
    "    Z = ed.models.Bernoulli(p=tf.tile(tf.expand_dims(pi, 0), [NS, 1]), name='Z')\n",
    "\n",
    "    sig = ed.models.Normal(mu=[-7.0], sigma=[1.], name='sig')\n",
    "\n",
    "    lam_vars = (tf.gather(A, U) + tf.reduce_sum(tf.gather(B, U) * X, 1) + \n",
    "           tf.reduce_sum(tf.gather(C, U) * tf.gather(tf.to_float(Z), S), 1))\n",
    "    lam = ed.models.Normal(mu=tf.gather(lam_vars, batch_inds), \n",
    "                           sigma=tf.exp(sig), name='lam')\n",
    "\n",
    "    cnt = ed.models.Poisson(lam=tf.exp(lam), value=tf.ones(NB), name='cnt')"
   ]
  },
  {
   "cell_type": "markdown",
   "metadata": {},
   "source": [
    "# Recognition (q) model"
   ]
  },
  {
   "cell_type": "code",
   "execution_count": 25,
   "metadata": {
    "collapsed": false
   },
   "outputs": [],
   "source": [
    "with tf.variable_scope(\"qmodel\"):\n",
    "    # population means\n",
    "    q_muA = ed.models.NormalWithSoftplusSigma(mu=tf.Variable(np.log(25) * tf.ones(1)), \n",
    "                                              sigma=tf.Variable(0.5 * tf.ones(1)),\n",
    "                                              name='mu_A')\n",
    "    tf.scalar_summary('q_muA', tf.reduce_mean(q_muA.mean()))\n",
    "\n",
    "    q_muB = ed.models.NormalWithSoftplusSigma(mu=tf.Variable(tf.zeros(P)), \n",
    "                                              sigma=tf.Variable(0.5 * tf.ones(P)),\n",
    "                                              name='mu_B')\n",
    "    tf.scalar_summary('q_muB', tf.reduce_mean(q_muB.mean()))\n",
    "\n",
    "    q_muC = ed.models.NormalWithSoftplusSigma(mu=tf.Variable(tf.zeros(K)), \n",
    "                                              sigma=tf.Variable(0.5 * tf.ones(K)),\n",
    "                                              name='mu_C')\n",
    "    tf.scalar_summary('q_muC', tf.reduce_mean(q_muC.mean()))\n",
    "\n",
    "\n",
    "    # population standard deviations\n",
    "    q_sigA = ed.models.GammaWithSoftplusAlphaBeta(alpha=tf.Variable(2. * tf.ones(1)), \n",
    "                                                  beta=tf.Variable(4. * tf.ones(1)),\n",
    "                                                  name='sig_A')\n",
    "    tf.scalar_summary('q_sigA', tf.reduce_mean(q_sigA.mean()))\n",
    "\n",
    "    q_sigB = ed.models.GammaWithSoftplusAlphaBeta(alpha=tf.Variable(2. * tf.ones(P)), \n",
    "                                                  beta=tf.Variable(4. * tf.ones(P)),\n",
    "                                                  name='sig_B')\n",
    "    tf.scalar_summary('q_sigB', tf.reduce_mean(q_sigB.mean()))\n",
    "\n",
    "    q_sigC = ed.models.GammaWithSoftplusAlphaBeta(alpha=tf.Variable(2. * tf.ones(K)), \n",
    "                                                  beta=tf.Variable(4. * tf.ones(K)),\n",
    "                                                  name='sig_C')\n",
    "    tf.scalar_summary('q_sigC', tf.reduce_mean(q_sigC.mean()))\n",
    "\n",
    "    \n",
    "    # individual unit coefficients\n",
    "    q_A = ed.models.NormalWithSoftplusSigma(mu=tf.Variable(np.log(25) + tf.random_normal((NU,))), \n",
    "                                            sigma=tf.Variable(0.5 + tf.random_uniform((NU,))),\n",
    "                                            name='A')\n",
    "    tf.scalar_summary('q_A', tf.reduce_mean(q_A.mean()))\n",
    "\n",
    "    q_B = ed.models.NormalWithSoftplusSigma(mu=tf.Variable(tf.random_normal((NU, P))), \n",
    "                                            sigma=tf.Variable(0.5 + tf.random_uniform((NU, P))),\n",
    "                                            name='B')\n",
    "    tf.scalar_summary('q_B', tf.reduce_mean(q_B.mean()))\n",
    "\n",
    "    q_C = ed.models.NormalWithSoftplusSigma(mu=tf.Variable(tf.random_normal((NU, K))), \n",
    "                                            sigma=tf.Variable(0.5 + tf.random_uniform((NU, K))),\n",
    "                                            name='C')\n",
    "    tf.scalar_summary('q_C', tf.reduce_mean(q_C.mean()))\n",
    "    \n",
    "    # latent variables for each stimulus\n",
    "    Zlogit = tf.Variable(-0.0 + tf.zeros((NS, K)), name='Z_logit')\n",
    "    tf.scalar_summary('max_Z_logit', tf.reduce_max(Zlogit))\n",
    "    tf.scalar_summary('min_Z_logit', tf.reduce_min(Zlogit))\n",
    "    q_Z = ed.models.BernoulliWithSigmoidP(p=Zlogit, name='Z')\n",
    "    tf.scalar_summary('q_Z', tf.reduce_mean(q_Z.mean()))\n",
    "    tf.scalar_summary('max_q_Z', tf.reduce_max(q_Z.mean()))\n",
    "    tf.scalar_summary('min_q_Z', tf.reduce_min(q_Z.mean()))\n",
    "\n",
    "    # latent variables for stimulus category\n",
    "    a_var = tf.Variable(1. + tf.random_uniform((K,)))\n",
    "    b_var = tf.Variable(1. + tf.random_uniform((K,)))\n",
    "    tf.scalar_summary('max_a', tf.reduce_max(a_var))\n",
    "    tf.scalar_summary('max_b', tf.reduce_max(b_var))\n",
    "    tf.scalar_summary('min_a', tf.reduce_min(a_var))\n",
    "    tf.scalar_summary('min_b', tf.reduce_min(b_var))\n",
    "    q_pi = ed.models.Beta(a=a_var, b=b_var, name='pi')\n",
    "    tf.scalar_summary('min_q_pi', tf.reduce_min(q_pi.value()))\n",
    "    tf.scalar_summary('max_q_pi', tf.reduce_max(q_pi.value()))\n",
    "\n",
    "    # log firing rates\n",
    "    lam_mu = tf.Variable(2 + tf.random_normal((N,)))\n",
    "    tf.scalar_summary('lam_mu_mean', tf.reduce_mean(tf.gather(lam_mu, batch_inds)))\n",
    "    lam_sig = tf.Variable(3 * tf.random_uniform((N,)) + 2)\n",
    "    q_lam = ed.models.NormalWithSoftplusSigma(mu=tf.gather(lam_mu, batch_inds),\n",
    "                                              sigma=tf.gather(lam_sig, batch_inds),\n",
    "                                              name='lam')\n",
    "\n",
    "    q_sig = ed.models.NormalWithSoftplusSigma(mu=tf.Variable(-0.1 * tf.random_uniform((1,))),\n",
    "                                              sigma=tf.Variable(tf.random_uniform((1,))),\n",
    "                                              name='sig')"
   ]
  },
  {
   "cell_type": "markdown",
   "metadata": {},
   "source": [
    "# ELBO"
   ]
  },
  {
   "cell_type": "code",
   "execution_count": 26,
   "metadata": {
    "collapsed": false
   },
   "outputs": [],
   "source": [
    "def make_ELBO(latent_vars, data, scale):\n",
    "    from edward.util import copy\n",
    "    p_log_prob = 0.0\n",
    "    q_log_prob = 0.0\n",
    "    z_sample = {}\n",
    "    scope = \"ELBO\"\n",
    "\n",
    "    for z, qz in latent_vars.items():\n",
    "        # Copy q(z) to obtain new set of posterior samples.\n",
    "        qz_copy = copy(qz, scope=scope)\n",
    "        z_sample[z] = qz_copy.value()\n",
    "        z_log_prob = tf.reduce_sum(qz.log_prob(tf.stop_gradient(z_sample[z])))\n",
    "        if z in scale:\n",
    "            z_log_prob *= scale[z]\n",
    "\n",
    "        q_log_prob += z_log_prob\n",
    "\n",
    "    dict_swap = z_sample\n",
    "    for x, qx in data.items():\n",
    "        if isinstance(x, ed.RandomVariable):\n",
    "            if isinstance(qx, ed.RandomVariable):\n",
    "                qx_copy = copy(qx, scope=scope)\n",
    "                dict_swap[x] = qx_copy.value()\n",
    "            else:\n",
    "                dict_swap[x] = qx\n",
    "\n",
    "            for z in latent_vars.keys():\n",
    "                z_copy = copy(z, dict_swap, scope=scope)\n",
    "                z_log_prob = tf.reduce_sum(z_copy.log_prob(dict_swap[z]))\n",
    "                if z in scale:\n",
    "                    z_log_prob *= scale[z]\n",
    "\n",
    "                p_log_prob += z_log_prob\n",
    "\n",
    "            for x in data.keys():\n",
    "                if isinstance(x, ed.RandomVariable):\n",
    "                    x_copy = copy(x, dict_swap, scope=scope)\n",
    "                    x_log_prob = tf.reduce_sum(x_copy.log_prob(dict_swap[x]))\n",
    "                if x in scale:\n",
    "                    x_log_prob *= scale[x]\n",
    "\n",
    "                p_log_prob += x_log_prob\n",
    "\n",
    "    return tf.reduce_mean(p_log_prob - q_log_prob)"
   ]
  },
  {
   "cell_type": "code",
   "execution_count": 27,
   "metadata": {
    "collapsed": false
   },
   "outputs": [
    {
     "data": {
      "text/plain": [
       "<tf.Tensor 'ScalarSummary:0' shape=() dtype=string>"
      ]
     },
     "execution_count": 27,
     "metadata": {},
     "output_type": "execute_result"
    }
   ],
   "source": [
    "elbo = make_ELBO({A: q_A, B: q_B, C: q_C, \n",
    "                  muA: q_muA, muB: q_muB, muC: q_muC,\n",
    "                  sigA: q_sigA, sigB: q_sigB, sigC: q_sigC,\n",
    "                  Z: q_Z, sig: q_sig, pi: q_pi, lam: q_lam}, \n",
    "                 {cnt: tf.cast(batch_counts, 'float32')}, \n",
    "                 {lam: N/NB, cnt: N/NB})\n",
    "\n",
    "tf.scalar_summary('ELBO', elbo)"
   ]
  },
  {
   "cell_type": "markdown",
   "metadata": {},
   "source": [
    "# Do variational inference"
   ]
  },
  {
   "cell_type": "markdown",
   "metadata": {},
   "source": [
    "Given $z_{sk} \\sim \\mathrm{Ber}(\\pi_k)$ and $\\log \\Lambda \\equiv \\lambda_{su} \\sim \\mathcal{N}(A_u + (B \\cdot X)_{su} + (C \\cdot Z)_{su}, \\sigma^2)$, we can calculate closed-form updates for $Z$. However, above, we have flattened $\\lambda$ into a single vector for each trial, with vectors $S$ and $U$ listing the stimulus and unit corresponding to each observation.\n",
    "\n",
    "Collecting the pieces involving $\\xi_{sk} = \\mathbb{E}[Z_{sk}]$ in the ELBO (prior to expectations wrt $q(A, B, C, \\lambda)$), we have:\n",
    "\n",
    "$$\n",
    "\\begin{align}\n",
    "\\mathcal{L} &=\n",
    "\\sum_{sk}\\xi_{sk}\\log \\frac{\\pi_k}{1 - \\pi_k} + \\mathcal{M} + \\sum_{sk} \\mathcal{H}(\\xi_{sk})\\\\\n",
    "\\mathcal{H}(\\xi_{sk}) &= -\\xi_{sk}\\log \\xi_{sk} - (1 - \\xi_{sk})\\log (1 - \\xi_{sk}) \\\\\n",
    "\\mathcal{M} &= -\\frac{1}{2\\sigma^2}\\sum_{s,u,j=1\\ldots N_{us}} \\mathbb{E}_z \n",
    "\\left[\n",
    "-2(C \\cdot Z)_{su}(\\lambda^{(j)}_{su} - A_u - (B\\cdot X)_{su}) + (C \\cdot Z)_{su}^2\n",
    "\\right] \\\\\n",
    "&= -\\frac{1}{2\\sigma^2}\\sum_{suj} \\left[\n",
    "-2(C \\cdot \\xi)_{su} (\\lambda^{(j)}_{su} - A_u - (B\\cdot X)_{su}) \n",
    "+ \\sum_{k\\neq k'} C_{uk}C_{uk'} \\xi_{sk}\\xi_{sk'} + \\sum_k C^2_{uk}\\xi_{sk}\n",
    "\\right] \\\\\n",
    "&= -\\frac{1}{2\\sigma^2}\\sum_{suj} \\left[\n",
    "-2(C \\cdot \\xi)_{su} (\\lambda^{(j)}_{su} - A_u - (B\\cdot X)_{su}) \n",
    "+ (C \\cdot \\xi)^2_{su} + \\sum_k C^2_{uk}\\xi_{sk}(1 - \\xi_{sk})\n",
    "\\right]\n",
    "\\end{align}\n",
    "$$\n",
    "\n",
    "where the derivation expands the square in the log of the normal distribution and makes use of the fact that $z_{ks} \\in \\{ 0, 1\\} \\Rightarrow z_{ks}^2 = z_{ks}$. In addition, we have let $N_{su}$ be the number of observations of stimulus $s$ by unit $u$, indexed by $j$.\n",
    "\n",
    "Given this result, differentiating wrt $\\xi$ and solving for the fixed point gives the result\n",
    "\n",
    "$$\n",
    "\\begin{align}\n",
    "\\log \\frac{\\xi_{sk}}{1 - \\xi_{sk}} &= \n",
    "\\log \\frac{\\pi_k}{1 - \\pi_k}\n",
    "-\\frac{1}{2\\sigma^2} \\sum_{uj} \\left[\n",
    "-2C_{uk} (\\lambda^{(j)}_{su} - A_u - (B\\cdot X)_{su} - (C \\cdot \\xi)_{su}) \n",
    "+ C^2_{uk}(1 - 2\\xi_{sk})\n",
    "\\right]\n",
    "\\end{align}\n",
    "$$\n",
    "\n",
    "Note that despite appearances, the right hand side does *not* depend on $\\xi_{sk}$. This means that we can \n",
    "solve for $\\xi_{sk}$ given $\\xi_{sk'}$ for $k' \\neq k$. Solving for all these equations simultaneously is not possible in general in closed form, but it leaves two options:\n",
    "1. Solve for all $\\xi^{(t)}_{sk}$ given $\\xi^{(t - 1)}_{sk}$, the values at the previous iteration.\n",
    "1. Iterate through $k$, updating each $\\xi_{sk}$ in turn given the current value of the others. In this method, the first $k$ chosen uses the values from the previous iteration, while the last $k$ uses updated values. "
   ]
  },
  {
   "cell_type": "markdown",
   "metadata": {},
   "source": [
    "In addition, if we make the assumption that the posterior over $C$ is normally distributed, we can take the expectation of the above update rule wrt $C$. (The expectations wrt $A$, $B$, and $\\lambda$ are trivial. Since each only appears linearly, we only need to know the mean of the approximate posterior. For $\\sigma$, we would need a posterior that allows us to compute $\\mathbb{E}[\\sigma^{-2}]$.)\n",
    "\n",
    "In this case, it is straightforward to work out that\n",
    "$$\n",
    "\\begin{align}\n",
    "\\log \\frac{\\xi_{sk}}{1 - \\xi_{sk}} &= \n",
    "\\log \\frac{\\pi_k}{1 - \\pi_k}\n",
    "-\\frac{1}{2\\sigma^2} \\sum_{uj} \\left[\n",
    "-2\\overline{C}_{uk} (\\lambda^{(j)}_{su} - A_u - (B\\cdot X)_{su} - (\\overline{C} \\cdot \\xi)_{su}) \n",
    "+ \\overline{C}^2_{uk}(1 - 2\\xi_{sk}) + \\mathrm{var}[C]_{uk}\n",
    "\\right]\n",
    "\\end{align}\n",
    "$$\n",
    "using \n",
    "$$\n",
    "\\mathbb{E}_z \\left[\n",
    "2 C_{uk}(C \\cdot \\xi)_{su} + C^2_{uk}(1 - 2\\xi_{sk})\n",
    "\\right]\n",
    "=\n",
    "2 \\overline{C}_{uk}(\\overline{C}\\cdot \\xi)_{su} + \\overline{C}^2_{uk}(1 - 2\\xi_{sk}) + \\mathrm{var}[C]_{uk}\n",
    "$$"
   ]
  },
  {
   "cell_type": "code",
   "execution_count": 28,
   "metadata": {
    "collapsed": false
   },
   "outputs": [],
   "source": [
    "def update_z():\n",
    "    # update binary features based on exact conjugate update\n",
    "    with tf.variable_scope(\"update_z\"):\n",
    "        # logit piece\n",
    "        pi_val = q_pi.value()\n",
    "        logit_pi = tf.log(pi_val) - tf.log(1. - pi_val)\n",
    "        \n",
    "        # E[Z]\n",
    "        xi = q_Z.mean()  # (NS x K)\n",
    "\n",
    "        # C^2 * (1 - 2xi) piece\n",
    "        C = q_C.value()  # NU x K\n",
    "        # \\sum_u N_{su} C^2_{uk} has indices (sk)\n",
    "        sum_uj_C2 = tf.matmul(NSU, tf.square(C))  # NS x K \n",
    "        quad_piece = sum_uj_C2 * (1 - 2 * xi)\n",
    "\n",
    "        # sample log firing rate values\n",
    "        lam_val = q_lam.value()\n",
    "\n",
    "        # now get \\lam_{su} summed over observations\n",
    "        lam_su_flat = tf.unsorted_segment_sum(lam_val, codes_SU, NS * NU, name='lam_collect')\n",
    "        lam_su = tf.reshape(lam_su_flat, (NS, NU), name='lam_su')\n",
    "\n",
    "        # get A, BX, and CZ (summed over observations)\n",
    "        # recall that X is in \"long\" format, and so must \n",
    "        # be handled with unsorted_segment_sum, like lambda\n",
    "        A = NSU * tf.expand_dims(q_A.value(), 0)  # now NS x NU\n",
    "        BX_long = tf.reduce_sum(tf.gather(B, U) * X, 1)\n",
    "        BX_summed = tf.unsorted_segment_sum(BX_long, codes_SU, NS * NU)  # now NS x NU\n",
    "        BX = tf.reshape(BX_summed, (NS, NU))\n",
    "        CZ = NSU * tf.matmul(xi, C, transpose_b=True)  # now NS x NU (\\sum_k xi_{sk} C_{uk})\n",
    "\n",
    "        # lam_{su} * C_{uk}\n",
    "        lin_piece = tf.matmul(lam_su - A - BX - CZ, C, name='linear_piece')\n",
    "\n",
    "        prec = 1/tf.square(q_sig.value())\n",
    "\n",
    "        z_coeff = logit_pi - prec * (0.5 * quad_piece - lin_piece)\n",
    "        \n",
    "        update_z_op = [Zlogit[:, k].assign(z_coeff[:, k]) for k in range(K)]\n",
    "        \n",
    "#         update_z_op = Zlogit.assign(z_coeff)\n",
    "        \n",
    "        return update_z_op"
   ]
  },
  {
   "cell_type": "code",
   "execution_count": 29,
   "metadata": {
    "collapsed": true
   },
   "outputs": [],
   "source": [
    "def update_pi():\n",
    "    # update probabilites for features based on exact conjugate update\n",
    "    with tf.variable_scope(\"update_pi\"):\n",
    "        xi = q_Z.mean()\n",
    "        new_a = tf.reduce_sum(xi, 0) + a_prior\n",
    "        new_b = tf.reduce_sum(1. - xi, 0) + b_prior\n",
    "        update_a_op = a_var.assign(new_a)\n",
    "        update_b_op = b_var.assign(new_b)\n",
    "        \n",
    "    return [update_a_op, update_b_op]"
   ]
  },
  {
   "cell_type": "code",
   "execution_count": 30,
   "metadata": {
    "collapsed": false
   },
   "outputs": [],
   "source": [
    "data = {cnt: batch_counts}\n",
    "inference_lam = ed.KLqp({lam: q_lam, sig: q_sig}, \n",
    "                        data={cnt: batch_counts, \n",
    "                              Z: q_Z, pi: q_pi, \n",
    "                              A: q_A, B: q_B, C: q_C,\n",
    "                              muA: q_muA, muB: q_muB, muC: q_muC,\n",
    "                              sigA: q_sigA, sigB: q_sigB, sigC: q_sigC})\n",
    "inference_coeffs = ed.KLqp({A: q_A, B: q_B, C: q_C}, \n",
    "                           data={cnt: batch_counts, \n",
    "                                 lam: q_lam, sig: q_sig,\n",
    "                                 Z: q_Z, pi: q_pi, \n",
    "                                 muA: q_muA, muB: q_muB, muC: q_muC,\n",
    "                                 sigA: q_sigA, sigB: q_sigB, sigC: q_sigC})\n",
    "inference_pop = ed.KLqp({muA: q_muA, muB: q_muB, muC: q_muC,\n",
    "                        sigA: q_sigA, sigB: q_sigB, sigC: q_sigC},\n",
    "                       data={cnt: batch_counts, \n",
    "                             lam: q_lam, sig: q_sig,\n",
    "                             Z: q_Z, pi: q_pi, \n",
    "                             A: q_A, B: q_B, C: q_C})\n",
    "inference_latents = update_z()\n",
    "inference_probs = update_pi()"
   ]
  },
  {
   "cell_type": "raw",
   "metadata": {
    "collapsed": false
   },
   "source": [
    "data = {cnt: batch_counts}\n",
    "inference_lam = ed.KLqp({lam: q_lam, sig: q_sig}, \n",
    "                        data={cnt: batch_counts, \n",
    "                              Z: q_Z, pi: q_pi, \n",
    "                              A: q_A, B: q_B, C: q_C,\n",
    "                              muA: q_muA, muB: q_muB, muC: q_muC,\n",
    "                              sigA: q_sigA, sigB: q_sigB, sigC: q_sigC})\n",
    "inference_coeffs = ed.KLqp({A: q_A, B: q_B, C: q_C, \n",
    "                            muA: q_muA, muB: q_muB, muC: q_muC,\n",
    "                            sigA: q_sigA, sigB: q_sigB, sigC: q_sigC}, \n",
    "                           data={cnt: batch_counts, \n",
    "                                 lam: q_lam, sig: q_sig,\n",
    "                                 Z: q_Z, pi: q_pi})\n",
    "\n",
    "inference_latents = update_z()\n",
    "inference_probs = update_pi()"
   ]
  },
  {
   "cell_type": "markdown",
   "metadata": {},
   "source": [
    "# Notes on inference:\n",
    "\n",
    "- The `logdir` keyword specifies the place to put the log file (assuming you've instrumented the code to save events, etc.). If a subdirectory is given, pointing Tensorboard at the parent directory allows you to compare across subdirectories (runs).\n",
    "    - ~~I'm using the `jmp/instrumented` branch of the `jmxpearson/edward` fork~~ No longer needed after Edward PR merged.\n",
    "- The learning rate is a difficult tradeoff: 1e-2 drastically speeds convergence but can run into NaNs; 1e-3 (the default) is much slower.\n",
    "    - **TO DO**: Does regularizing emergence of `NaN`s help with this?\n",
    "    - **Update**: I had to hack TF's implementation of `Beta` to include fudge factors in `logp` and a couple of other places in order to remove NaNs.\n",
    "- I'm currently using \"all\" the data, which appears to be faster (run-time, wise) than using minibatches. (Not entirely sure why this is, except perhaps that switching data into and out of the graph has a cost.) I've also found that minibatches need to be fairly substantial to be effective, since most variables ($\\lambda$, $A$, $B$, $C$) are unit-specific (i.e., local), so unless you have several observations from that unit, convergence can be slow.\n",
    "    - Ultimately, it might speed things to have a smarter minibatch selection (i.e., all observations for a single unit) when updating the local variables.\n",
    "- I've used `n_samples` = 1, 5, 10, and 25, which all seem pretty similar after 10k iterations.\n",
    "    - Follow-up: since adding explicit (non-gradient) optimization steps, this may be moot, since those update operations aren't code to handle multiple samples. Would need `tf.reduce*` sprinkled here and there to work.\n",
    "- I've noticed no difference below in how many steps one takes along each coordinate before switching (number of inner loop iterations), either in runtime or convergence. Perhaps this matters in the final stages, but I would suspect that then it favors tighter inner loops.\n",
    "- As per Edward documentation and my own experience: it really helps to have separate updates for \"local\" and \"global\" variables. This is why $\\lambda$ and $(A, B, C)$ are updated separately. Same idea with the hierarchy.\n",
    "- Updating the discrete pieces ($Z$ and $\\pi$) was terrible. This is most likely because the minima for $Z$ are all near 0 and 1, and it's very hard to get there without making large moves."
   ]
  },
  {
   "cell_type": "code",
   "execution_count": 31,
   "metadata": {
    "collapsed": false
   },
   "outputs": [],
   "source": [
    "# Initialize each (Edward) inference step\n",
    "debug = False\n",
    "inf_list = [inference_lam, inference_coeffs, inference_pop]\n",
    "# inf_list = [inference_lam, inference_coeffs]\n",
    "\n",
    "for inf in inf_list:\n",
    "    if inf is inference_lam:\n",
    "        logdir = 'data/run1'\n",
    "    else:\n",
    "        logdir = None\n",
    "        \n",
    "    inf.initialize(n_print=100, n_samples=1,  \n",
    "                  logdir=logdir,\n",
    "                  optimizer=tf.train.AdamOptimizer(1e-3),\n",
    "                  scale={lam: N/NB, cnt: N/NB},\n",
    "                  debug=debug)"
   ]
  },
  {
   "cell_type": "code",
   "execution_count": 32,
   "metadata": {
    "collapsed": true
   },
   "outputs": [],
   "source": [
    "init = tf.initialize_all_variables()\n",
    "init.run({})"
   ]
  },
  {
   "cell_type": "code",
   "execution_count": 47,
   "metadata": {
    "collapsed": false,
    "scrolled": true
   },
   "outputs": [
    {
     "name": "stdout",
     "output_type": "stream",
     "text": [
      "Iteration 240100 [24010%]: Loss = 347502.000\n",
      "Iteration 240200 [24020%]: Loss = 465287.156\n",
      "Iteration 240300 [24030%]: Loss = 346428.438\n",
      "Iteration 240400 [24040%]: Loss = 356745.469\n",
      "Iteration 240500 [24050%]: Loss = 348088.969\n",
      "Iteration 240600 [24060%]: Loss = 345986.031\n",
      "Iteration 240700 [24070%]: Loss = 347012.125\n",
      "Iteration 240800 [24080%]: Loss = 355634.969\n",
      "Iteration 240900 [24090%]: Loss = 346633.656\n",
      "Iteration 241000 [24100%]: Loss = 347934.906\n",
      "Iteration 241100 [24110%]: Loss = 352355.531\n",
      "Iteration 241200 [24120%]: Loss = 350679.969\n",
      "Iteration 241300 [24130%]: Loss = 347547.281\n",
      "Iteration 241400 [24140%]: Loss = 344483.719\n",
      "Iteration 241500 [24150%]: Loss = 346684.469\n",
      "Iteration 241600 [24160%]: Loss = 345829.156\n",
      "Iteration 241700 [24170%]: Loss = 345258.469\n",
      "Iteration 241800 [24180%]: Loss = 344904.125\n",
      "Iteration 241900 [24190%]: Loss = 347663.812\n",
      "Iteration 242000 [24200%]: Loss = 350378.906\n",
      "Iteration 242100 [24210%]: Loss = 347391.562\n",
      "Iteration 242200 [24220%]: Loss = 348353.781\n",
      "Iteration 242300 [24230%]: Loss = 351222.625\n",
      "Iteration 242400 [24240%]: Loss = 358081.000\n",
      "Iteration 242500 [24250%]: Loss = 344967.875\n",
      "Iteration 242600 [24260%]: Loss = 349572.406\n",
      "Iteration 242700 [24270%]: Loss = 345031.156\n",
      "Iteration 242800 [24280%]: Loss = 375359.625\n",
      "Iteration 242900 [24290%]: Loss = 346795.188\n",
      "Iteration 243000 [24300%]: Loss = 347870.094\n",
      "Iteration 243100 [24310%]: Loss = 348604.812\n",
      "Iteration 243200 [24320%]: Loss = 389594.719\n",
      "Iteration 243300 [24330%]: Loss = 350005.750\n",
      "Iteration 243400 [24340%]: Loss = 346762.250\n",
      "Iteration 243500 [24350%]: Loss = 346222.750\n",
      "Iteration 243600 [24360%]: Loss = 344922.281\n",
      "Iteration 243700 [24370%]: Loss = 345220.531\n",
      "Iteration 243800 [24380%]: Loss = 347221.031\n",
      "Iteration 243900 [24390%]: Loss = 345665.688\n",
      "Iteration 244000 [24400%]: Loss = 348005.531\n",
      "Iteration 244100 [24410%]: Loss = 344753.375\n",
      "Iteration 244200 [24420%]: Loss = 353415.969\n",
      "Iteration 244300 [24430%]: Loss = 345525.750\n",
      "Iteration 244400 [24440%]: Loss = 345759.375\n",
      "Iteration 244500 [24450%]: Loss = 347598.250\n",
      "Iteration 244600 [24460%]: Loss = 348985.562\n",
      "Iteration 244700 [24470%]: Loss = 344676.625\n",
      "Iteration 244800 [24480%]: Loss = 358035.281\n",
      "Iteration 244900 [24490%]: Loss = 346590.531\n",
      "Iteration 245000 [24500%]: Loss = 346080.156\n",
      "Iteration 245100 [24510%]: Loss = 345850.781\n",
      "Iteration 245200 [24520%]: Loss = 358173.688\n",
      "Iteration 245300 [24530%]: Loss = 345793.781\n",
      "Iteration 245400 [24540%]: Loss = 350368.719\n",
      "Iteration 245500 [24550%]: Loss = 347551.406\n",
      "Iteration 245600 [24560%]: Loss = 345304.562\n",
      "Iteration 245700 [24570%]: Loss = 345805.531\n",
      "Iteration 245800 [24580%]: Loss = 345360.312\n",
      "Iteration 245900 [24590%]: Loss = 352368.844\n",
      "Iteration 246000 [24600%]: Loss = 346264.719\n",
      "Iteration 246100 [24610%]: Loss = 345601.594\n",
      "Iteration 246200 [24620%]: Loss = 354441.812\n",
      "Iteration 246300 [24630%]: Loss = 348336.094\n",
      "Iteration 246400 [24640%]: Loss = 345979.688\n",
      "Iteration 246500 [24650%]: Loss = 357372.500\n",
      "Iteration 246600 [24660%]: Loss = 348783.906\n",
      "Iteration 246700 [24670%]: Loss = 348168.344\n",
      "Iteration 246800 [24680%]: Loss = 348173.969\n",
      "Iteration 246900 [24690%]: Loss = 348338.781\n",
      "Iteration 247000 [24700%]: Loss = 349773.344\n",
      "Iteration 247100 [24710%]: Loss = 357719.812\n",
      "Iteration 247200 [24720%]: Loss = 359122.938\n",
      "Iteration 247300 [24730%]: Loss = 347288.656\n",
      "Iteration 247400 [24740%]: Loss = 346021.750\n",
      "Iteration 247500 [24750%]: Loss = 345610.875\n",
      "Iteration 247600 [24760%]: Loss = 345060.500\n",
      "Iteration 247700 [24770%]: Loss = 352676.688\n",
      "Iteration 247800 [24780%]: Loss = 346713.906\n",
      "Iteration 247900 [24790%]: Loss = 349398.812\n",
      "Iteration 248000 [24800%]: Loss = 350381.875\n",
      "Iteration 248100 [24810%]: Loss = 346948.031\n",
      "Iteration 248200 [24820%]: Loss = 344909.875\n",
      "Iteration 248300 [24830%]: Loss = 345618.281\n",
      "Iteration 248400 [24840%]: Loss = 347188.938\n",
      "Iteration 248500 [24850%]: Loss = 348467.062\n",
      "Iteration 248600 [24860%]: Loss = 347114.562\n",
      "Iteration 248700 [24870%]: Loss = 347412.531\n",
      "Iteration 248800 [24880%]: Loss = 345079.219\n",
      "Iteration 248900 [24890%]: Loss = 344875.281\n",
      "Iteration 249000 [24900%]: Loss = 354614.375\n",
      "Iteration 249100 [24910%]: Loss = 346041.875\n",
      "Iteration 249200 [24920%]: Loss = 360019.719\n",
      "Iteration 249300 [24930%]: Loss = 348737.844\n",
      "Iteration 249400 [24940%]: Loss = 345220.625\n",
      "Iteration 249500 [24950%]: Loss = 345019.531\n",
      "Iteration 249600 [24960%]: Loss = 344459.750\n",
      "Iteration 249700 [24970%]: Loss = 353378.344\n",
      "Iteration 249800 [24980%]: Loss = 345714.781\n",
      "Iteration 249900 [24990%]: Loss = 349594.031\n",
      "Iteration 250000 [25000%]: Loss = 346202.125\n",
      "Iteration 250100 [25010%]: Loss = 345283.219\n",
      "Iteration 250200 [25020%]: Loss = 344953.938\n",
      "Iteration 250300 [25030%]: Loss = 351713.500\n",
      "Iteration 250400 [25040%]: Loss = 350451.750\n",
      "Iteration 250500 [25050%]: Loss = 357205.406\n",
      "Iteration 250600 [25060%]: Loss = 344535.781\n",
      "Iteration 250700 [25070%]: Loss = 346074.531\n",
      "Iteration 250800 [25080%]: Loss = 347915.000\n",
      "Iteration 250900 [25090%]: Loss = 344419.750\n",
      "Iteration 251000 [25100%]: Loss = 360215.625\n",
      "Iteration 251100 [25110%]: Loss = 346962.406\n",
      "Iteration 251200 [25120%]: Loss = 346200.844\n",
      "Iteration 251300 [25130%]: Loss = 353553.594\n",
      "Iteration 251400 [25140%]: Loss = 361348.500\n",
      "Iteration 251500 [25150%]: Loss = 346563.812\n",
      "Iteration 251600 [25160%]: Loss = 357732.312\n",
      "Iteration 251700 [25170%]: Loss = 351874.125\n",
      "Iteration 251800 [25180%]: Loss = 346605.719\n",
      "Iteration 251900 [25190%]: Loss = 363032.312\n",
      "Iteration 252000 [25200%]: Loss = 350566.781\n",
      "Iteration 252100 [25210%]: Loss = 348545.406\n",
      "Iteration 252200 [25220%]: Loss = 346663.406\n",
      "Iteration 252300 [25230%]: Loss = 350256.906\n",
      "Iteration 252400 [25240%]: Loss = 348884.031\n",
      "Iteration 252500 [25250%]: Loss = 361383.094\n",
      "Iteration 252600 [25260%]: Loss = 347672.625\n",
      "Iteration 252700 [25270%]: Loss = 349025.062\n",
      "Iteration 252800 [25280%]: Loss = 363149.000\n",
      "Iteration 252900 [25290%]: Loss = 346166.188\n",
      "Iteration 253000 [25300%]: Loss = 347177.750\n",
      "Iteration 253100 [25310%]: Loss = 345415.594\n",
      "Iteration 253200 [25320%]: Loss = 346075.438\n",
      "Iteration 253300 [25330%]: Loss = 345280.656\n",
      "Iteration 253400 [25340%]: Loss = 345555.562\n",
      "Iteration 253500 [25350%]: Loss = 361923.906\n",
      "Iteration 253600 [25360%]: Loss = 359187.844\n",
      "Iteration 253700 [25370%]: Loss = 361450.125\n",
      "Iteration 253800 [25380%]: Loss = 345192.812\n",
      "Iteration 253900 [25390%]: Loss = 364490.594\n",
      "Iteration 254000 [25400%]: Loss = 345368.375\n",
      "Iteration 254100 [25410%]: Loss = 350300.156\n",
      "Iteration 254200 [25420%]: Loss = 347372.750\n",
      "Iteration 254300 [25430%]: Loss = 352182.688\n",
      "Iteration 254400 [25440%]: Loss = 346269.438\n",
      "Iteration 254500 [25450%]: Loss = 347732.781\n",
      "Iteration 254600 [25460%]: Loss = 349984.156\n",
      "Iteration 254700 [25470%]: Loss = 345788.500\n",
      "Iteration 254800 [25480%]: Loss = 1580190.000\n",
      "Iteration 254900 [25490%]: Loss = 345554.812\n",
      "Iteration 255000 [25500%]: Loss = 354691.375\n",
      "Iteration 255100 [25510%]: Loss = 348964.469\n",
      "Iteration 255200 [25520%]: Loss = 362599.281\n",
      "Iteration 255300 [25530%]: Loss = 353127.625\n",
      "Iteration 255400 [25540%]: Loss = 345594.250\n",
      "Iteration 255500 [25550%]: Loss = 345279.375\n",
      "Iteration 255600 [25560%]: Loss = 345265.594\n",
      "Iteration 255700 [25570%]: Loss = 348891.875\n",
      "Iteration 255800 [25580%]: Loss = 346423.125\n",
      "Iteration 255900 [25590%]: Loss = 349845.750\n",
      "Iteration 256000 [25600%]: Loss = 359913.719\n",
      "Iteration 256100 [25610%]: Loss = 350919.562\n",
      "Iteration 256200 [25620%]: Loss = 345519.375\n",
      "Iteration 256300 [25630%]: Loss = 354999.438\n",
      "Iteration 256400 [25639%]: Loss = 348329.188\n",
      "Iteration 256500 [25650%]: Loss = 344742.156\n",
      "Iteration 256600 [25660%]: Loss = 347860.531\n",
      "Iteration 256700 [25670%]: Loss = 349061.875\n",
      "Iteration 256800 [25680%]: Loss = 346337.906\n",
      "Iteration 256900 [25689%]: Loss = 353014.062\n",
      "Iteration 257000 [25700%]: Loss = 349083.031\n",
      "Iteration 257100 [25710%]: Loss = 350372.844\n",
      "Iteration 257200 [25720%]: Loss = 350668.031\n",
      "Iteration 257300 [25730%]: Loss = 349797.875\n",
      "Iteration 257400 [25739%]: Loss = 346794.219\n",
      "Iteration 257500 [25750%]: Loss = 345346.969\n",
      "Iteration 257600 [25760%]: Loss = 345925.438\n",
      "Iteration 257700 [25770%]: Loss = 345935.969\n",
      "Iteration 257800 [25780%]: Loss = 364884.062\n",
      "Iteration 257900 [25789%]: Loss = 360295.281\n",
      "Iteration 258000 [25800%]: Loss = 361225.969\n",
      "Iteration 258100 [25810%]: Loss = 348559.906\n",
      "Iteration 258200 [25820%]: Loss = 345892.812\n",
      "Iteration 258300 [25830%]: Loss = 358828.344\n",
      "Iteration 258400 [25839%]: Loss = 346802.031\n",
      "Iteration 258500 [25850%]: Loss = 354238.812\n",
      "Iteration 258600 [25860%]: Loss = 349997.844\n",
      "Iteration 258700 [25870%]: Loss = 345037.406\n",
      "Iteration 258800 [25880%]: Loss = 349847.875\n",
      "Iteration 258900 [25889%]: Loss = 345710.406\n",
      "Iteration 259000 [25900%]: Loss = 352025.906\n",
      "Iteration 259100 [25910%]: Loss = 345183.844\n",
      "Iteration 259200 [25920%]: Loss = 347460.781\n",
      "Iteration 259300 [25930%]: Loss = 346663.812\n",
      "Iteration 259400 [25939%]: Loss = 347931.688\n",
      "Iteration 259500 [25950%]: Loss = 344797.531\n",
      "Iteration 259600 [25960%]: Loss = 347306.094\n",
      "Iteration 259700 [25970%]: Loss = 345186.594\n",
      "Iteration 259800 [25980%]: Loss = 348190.688\n",
      "Iteration 259900 [25989%]: Loss = 346728.250\n",
      "Iteration 260000 [26000%]: Loss = 345560.312\n",
      "Iteration 260100 [26010%]: Loss = 364546.562\n",
      "Iteration 260200 [26020%]: Loss = 348264.250\n",
      "Iteration 260300 [26030%]: Loss = 350684.781\n",
      "Iteration 260400 [26039%]: Loss = 373616.688\n",
      "Iteration 260500 [26050%]: Loss = 350768.469\n",
      "Iteration 260600 [26060%]: Loss = 348518.656\n",
      "Iteration 260700 [26070%]: Loss = 350512.812\n",
      "Iteration 260800 [26080%]: Loss = 347994.312\n",
      "Iteration 260900 [26089%]: Loss = 346573.812\n",
      "Iteration 261000 [26100%]: Loss = 345744.938\n",
      "Iteration 261100 [26110%]: Loss = 347687.531\n",
      "Iteration 261200 [26120%]: Loss = 345598.219\n",
      "Iteration 261300 [26130%]: Loss = 352379.469\n",
      "Iteration 261400 [26139%]: Loss = 347462.125\n",
      "Iteration 261500 [26150%]: Loss = 346594.312\n",
      "Iteration 261600 [26160%]: Loss = 344783.188\n",
      "Iteration 261700 [26170%]: Loss = 352607.000\n",
      "Iteration 261800 [26180%]: Loss = 345790.531\n",
      "Iteration 261900 [26189%]: Loss = 345561.406\n",
      "Iteration 262000 [26200%]: Loss = 344990.875\n",
      "Iteration 262100 [26210%]: Loss = 345491.500\n",
      "Iteration 262200 [26220%]: Loss = 346597.094\n",
      "Iteration 262300 [26230%]: Loss = 349732.500\n",
      "Iteration 262400 [26239%]: Loss = 351772.688\n",
      "Iteration 262500 [26250%]: Loss = 348549.250\n",
      "Iteration 262600 [26260%]: Loss = 349545.094\n",
      "Iteration 262700 [26270%]: Loss = 348927.406\n",
      "Iteration 262800 [26280%]: Loss = 346838.156\n",
      "Iteration 262900 [26289%]: Loss = 348032.938\n",
      "Iteration 263000 [26300%]: Loss = 345396.094\n",
      "Iteration 263100 [26310%]: Loss = 345358.219\n",
      "Iteration 263200 [26320%]: Loss = 345601.438\n",
      "Iteration 263300 [26330%]: Loss = 362836.031\n",
      "Iteration 263400 [26339%]: Loss = 347399.031\n",
      "Iteration 263500 [26350%]: Loss = 346661.469\n",
      "Iteration 263600 [26360%]: Loss = 356803.812\n",
      "Iteration 263700 [26370%]: Loss = 358893.406\n",
      "Iteration 263800 [26380%]: Loss = 359107.188\n",
      "Iteration 263900 [26389%]: Loss = 356985.312\n",
      "Iteration 264000 [26400%]: Loss = 361654.938\n",
      "Iteration 264100 [26410%]: Loss = 356481.250\n",
      "Iteration 264200 [26420%]: Loss = 358800.781\n",
      "Iteration 264300 [26430%]: Loss = 361092.562\n",
      "Iteration 264400 [26439%]: Loss = 357487.938\n",
      "Iteration 264500 [26450%]: Loss = 359955.844\n",
      "Iteration 264600 [26460%]: Loss = 362513.344\n",
      "Iteration 264700 [26470%]: Loss = 358281.875\n",
      "Iteration 264800 [26480%]: Loss = 357088.375\n",
      "Iteration 264900 [26489%]: Loss = 356253.188\n",
      "Iteration 265000 [26500%]: Loss = 357501.094\n",
      "Iteration 265100 [26510%]: Loss = 356984.375\n",
      "Iteration 265200 [26520%]: Loss = 357157.312\n",
      "Iteration 265300 [26530%]: Loss = 349541.406\n",
      "Iteration 265400 [26539%]: Loss = 351151.594\n",
      "Iteration 265500 [26550%]: Loss = 345665.625\n",
      "Iteration 265600 [26560%]: Loss = 344930.344\n",
      "Iteration 265700 [26570%]: Loss = 346868.500\n",
      "Iteration 265800 [26580%]: Loss = 345114.750\n",
      "Iteration 265900 [26589%]: Loss = 345719.656\n",
      "Iteration 266000 [26600%]: Loss = 347498.562\n",
      "Iteration 266100 [26610%]: Loss = 346646.500\n",
      "Iteration 266200 [26620%]: Loss = 357566.781\n",
      "Iteration 266300 [26630%]: Loss = 345233.812\n",
      "Iteration 266400 [26639%]: Loss = 345619.031\n",
      "Iteration 266500 [26650%]: Loss = 346597.875\n",
      "Iteration 266600 [26660%]: Loss = 350452.594\n",
      "Iteration 266700 [26670%]: Loss = 346819.156\n",
      "Iteration 266800 [26680%]: Loss = 347463.594\n",
      "Iteration 266900 [26689%]: Loss = 351084.875\n",
      "Iteration 267000 [26700%]: Loss = 347987.156\n",
      "Iteration 267100 [26710%]: Loss = 347374.344\n",
      "Iteration 267200 [26720%]: Loss = 345203.031\n",
      "Iteration 267300 [26730%]: Loss = 364652.406\n",
      "Iteration 267400 [26739%]: Loss = 353974.406\n",
      "Iteration 267500 [26750%]: Loss = 346531.031\n",
      "Iteration 267600 [26760%]: Loss = 348657.062\n",
      "Iteration 267700 [26770%]: Loss = 346270.125\n",
      "Iteration 267800 [26780%]: Loss = 345446.375\n",
      "Iteration 267900 [26789%]: Loss = 346909.844\n",
      "Iteration 268000 [26800%]: Loss = 346766.156\n",
      "Iteration 268100 [26810%]: Loss = 346665.062\n",
      "Iteration 268200 [26820%]: Loss = 374439.219\n",
      "Iteration 268300 [26830%]: Loss = 353412.188\n",
      "Iteration 268400 [26839%]: Loss = 346107.219\n",
      "Iteration 268500 [26850%]: Loss = 351033.344\n",
      "Iteration 268600 [26860%]: Loss = 350380.281\n",
      "Iteration 268700 [26870%]: Loss = 350303.562\n",
      "Iteration 268800 [26880%]: Loss = 351171.312\n",
      "Iteration 268900 [26889%]: Loss = 346611.250\n",
      "Iteration 269000 [26900%]: Loss = 348705.719\n",
      "Iteration 269100 [26910%]: Loss = 346261.156\n",
      "Iteration 269200 [26920%]: Loss = 346393.250\n",
      "Iteration 269300 [26930%]: Loss = 347074.875\n",
      "Iteration 269400 [26939%]: Loss = 346582.438\n",
      "Iteration 269500 [26950%]: Loss = 344934.000\n",
      "Iteration 269600 [26960%]: Loss = 352244.531\n",
      "Iteration 269700 [26970%]: Loss = 350494.156\n",
      "Iteration 269800 [26980%]: Loss = 345344.250\n",
      "Iteration 269900 [26989%]: Loss = 346149.531\n",
      "Iteration 270000 [27000%]: Loss = 346215.062\n",
      "Iteration 270100 [27010%]: Loss = 345088.594\n",
      "Iteration 270200 [27020%]: Loss = 344817.531\n",
      "Iteration 270300 [27030%]: Loss = 346888.125\n",
      "Iteration 270400 [27039%]: Loss = 350260.250\n",
      "Iteration 270500 [27050%]: Loss = 351626.500\n",
      "Iteration 270600 [27060%]: Loss = 345675.062\n",
      "Iteration 270700 [27070%]: Loss = 345230.000\n",
      "Iteration 270800 [27080%]: Loss = 346643.531\n",
      "Iteration 270900 [27089%]: Loss = 346870.906\n",
      "Iteration 271000 [27100%]: Loss = 345845.906\n",
      "Iteration 271100 [27110%]: Loss = 347226.375\n",
      "Iteration 271200 [27120%]: Loss = 345051.344\n",
      "Iteration 271300 [27130%]: Loss = 349250.375\n",
      "Iteration 271400 [27139%]: Loss = 348033.312\n",
      "Iteration 271500 [27150%]: Loss = 345927.781\n",
      "Iteration 271600 [27160%]: Loss = 364967.062\n",
      "Iteration 271700 [27170%]: Loss = 351385.406\n",
      "Iteration 271800 [27180%]: Loss = 351025.469\n",
      "Iteration 271900 [27189%]: Loss = 361698.750\n",
      "Iteration 272000 [27200%]: Loss = 353051.094\n",
      "Iteration 272100 [27210%]: Loss = 352386.625\n",
      "Iteration 272200 [27220%]: Loss = 351358.250\n",
      "Iteration 272300 [27230%]: Loss = 351630.406\n",
      "Iteration 272400 [27239%]: Loss = 352791.156\n",
      "Iteration 272500 [27250%]: Loss = 355776.375\n",
      "Iteration 272600 [27260%]: Loss = 347047.656\n",
      "Iteration 272700 [27270%]: Loss = 347147.500\n",
      "Iteration 272800 [27280%]: Loss = 349576.625\n",
      "Iteration 272900 [27289%]: Loss = 348418.781\n",
      "Iteration 273000 [27300%]: Loss = 346773.062\n",
      "Iteration 273100 [27310%]: Loss = 346313.938\n",
      "Iteration 273200 [27320%]: Loss = 347738.344\n",
      "Iteration 273300 [27330%]: Loss = 350203.156\n",
      "Iteration 273400 [27339%]: Loss = 345594.062\n",
      "Iteration 273500 [27350%]: Loss = 346297.531\n",
      "Iteration 273600 [27360%]: Loss = 361020.250\n",
      "Iteration 273700 [27370%]: Loss = 346551.500\n",
      "Iteration 273800 [27380%]: Loss = 350769.281\n",
      "Iteration 273900 [27389%]: Loss = 345090.062\n",
      "Iteration 274000 [27400%]: Loss = 345255.281\n",
      "Iteration 274100 [27410%]: Loss = 361434.375\n",
      "Iteration 274200 [27420%]: Loss = 347413.906\n",
      "Iteration 274300 [27430%]: Loss = 345903.031\n",
      "Iteration 274400 [27439%]: Loss = 349759.906\n",
      "Iteration 274500 [27450%]: Loss = 369020.031\n",
      "Iteration 274600 [27460%]: Loss = 348202.094\n",
      "Iteration 274700 [27470%]: Loss = 347470.219\n",
      "Iteration 274800 [27480%]: Loss = 352326.656\n",
      "Iteration 274900 [27489%]: Loss = 360288.812\n",
      "Iteration 275000 [27500%]: Loss = 388319.219\n",
      "Iteration 275100 [27510%]: Loss = 351624.812\n",
      "Iteration 275200 [27520%]: Loss = 352157.281\n",
      "Iteration 275300 [27530%]: Loss = 350574.125\n",
      "Iteration 275400 [27539%]: Loss = 346086.250\n",
      "Iteration 275500 [27550%]: Loss = 349770.188\n",
      "Iteration 275600 [27560%]: Loss = 345825.469\n",
      "Iteration 275700 [27570%]: Loss = 348033.781\n",
      "Iteration 275800 [27580%]: Loss = 345363.094\n",
      "Iteration 275900 [27589%]: Loss = 345410.188\n",
      "Iteration 276000 [27600%]: Loss = 344727.469\n",
      "Iteration 276100 [27610%]: Loss = 347377.250\n",
      "Iteration 276200 [27620%]: Loss = 344557.781\n",
      "Iteration 276300 [27630%]: Loss = 344546.594\n",
      "Iteration 276400 [27639%]: Loss = 374956.219\n",
      "Iteration 276500 [27650%]: Loss = 358919.938\n",
      "Iteration 276600 [27660%]: Loss = 346578.156\n",
      "Iteration 276700 [27670%]: Loss = 345244.125\n",
      "Iteration 276800 [27680%]: Loss = 347798.438\n",
      "Iteration 276900 [27689%]: Loss = 347297.781\n",
      "Iteration 277000 [27700%]: Loss = 351634.562\n",
      "Iteration 277100 [27710%]: Loss = 347657.656\n",
      "Iteration 277200 [27720%]: Loss = 346457.719\n",
      "Iteration 277300 [27730%]: Loss = 345948.000\n",
      "Iteration 277400 [27739%]: Loss = 345697.406\n",
      "Iteration 277500 [27750%]: Loss = 347080.969\n",
      "Iteration 277600 [27760%]: Loss = 350726.062\n",
      "Iteration 277700 [27770%]: Loss = 359992.562\n",
      "Iteration 277800 [27780%]: Loss = 359372.688\n",
      "Iteration 277900 [27789%]: Loss = 345710.188\n",
      "Iteration 278000 [27800%]: Loss = 346114.906\n",
      "Iteration 278100 [27810%]: Loss = 346006.031\n",
      "Iteration 278200 [27820%]: Loss = 350996.344\n",
      "Iteration 278300 [27830%]: Loss = 369015.969\n",
      "Iteration 278400 [27839%]: Loss = 353190.531\n",
      "Iteration 278500 [27850%]: Loss = 346438.094\n",
      "Iteration 278600 [27860%]: Loss = 359585.188\n",
      "Iteration 278700 [27870%]: Loss = 359977.406\n",
      "Iteration 278800 [27880%]: Loss = 345380.875\n",
      "Iteration 278900 [27889%]: Loss = 348304.750\n",
      "Iteration 279000 [27900%]: Loss = 348359.750\n",
      "Iteration 279100 [27910%]: Loss = 347042.344\n",
      "Iteration 279200 [27920%]: Loss = 350717.281\n",
      "Iteration 279300 [27930%]: Loss = 345299.406\n",
      "Iteration 279400 [27939%]: Loss = 353198.562\n",
      "Iteration 279500 [27950%]: Loss = 345739.312\n",
      "Iteration 279600 [27960%]: Loss = 345112.781\n",
      "Iteration 279700 [27970%]: Loss = 348656.000\n",
      "Iteration 279800 [27980%]: Loss = 352112.031\n",
      "Iteration 279900 [27989%]: Loss = 346275.281\n",
      "Iteration 280000 [28000%]: Loss = 357476.031\n",
      "Iteration 280100 [28010%]: Loss = 345873.969\n",
      "Iteration 280200 [28020%]: Loss = 345053.156\n",
      "Iteration 280300 [28030%]: Loss = 350482.219\n",
      "Iteration 280400 [28039%]: Loss = 347647.062\n",
      "Iteration 280500 [28050%]: Loss = 349072.156\n",
      "Iteration 280600 [28060%]: Loss = 348753.281\n",
      "Iteration 280700 [28070%]: Loss = 348788.312\n",
      "Iteration 280800 [28080%]: Loss = 345095.281\n",
      "Iteration 280900 [28089%]: Loss = 348474.781\n",
      "Iteration 281000 [28100%]: Loss = 346340.156\n",
      "Iteration 281100 [28110%]: Loss = 355737.094\n",
      "Iteration 281200 [28120%]: Loss = 348611.656\n",
      "Iteration 281300 [28130%]: Loss = 345327.656\n",
      "Iteration 281400 [28139%]: Loss = 352039.500\n",
      "Iteration 281500 [28150%]: Loss = 355262.969\n",
      "Iteration 281600 [28160%]: Loss = 344953.281\n",
      "Iteration 281700 [28170%]: Loss = 345411.438\n",
      "Iteration 281800 [28180%]: Loss = 350702.312\n",
      "Iteration 281900 [28189%]: Loss = 348000.125\n",
      "Iteration 282000 [28200%]: Loss = 345724.000\n",
      "Iteration 282100 [28210%]: Loss = 349213.750\n",
      "Iteration 282200 [28220%]: Loss = 345725.344\n",
      "Iteration 282300 [28230%]: Loss = 346371.781\n",
      "Iteration 282400 [28239%]: Loss = 345469.688\n",
      "Iteration 282500 [28250%]: Loss = 351884.875\n",
      "Iteration 282600 [28260%]: Loss = 346304.531\n",
      "Iteration 282700 [28270%]: Loss = 346089.438\n",
      "Iteration 282800 [28280%]: Loss = 346187.500\n",
      "Iteration 282900 [28289%]: Loss = 349791.562\n",
      "Iteration 283000 [28300%]: Loss = 346386.312\n",
      "Iteration 283100 [28310%]: Loss = 345702.938\n",
      "Iteration 283200 [28320%]: Loss = 344955.656\n",
      "Iteration 283300 [28330%]: Loss = 345800.688\n",
      "Iteration 283400 [28339%]: Loss = 347058.969\n",
      "Iteration 283500 [28350%]: Loss = 344602.500\n",
      "Iteration 283600 [28360%]: Loss = 344761.500\n",
      "Iteration 283700 [28370%]: Loss = 345361.562\n",
      "Iteration 283800 [28380%]: Loss = 349071.094\n",
      "Iteration 283900 [28389%]: Loss = 356882.281\n",
      "Iteration 284000 [28400%]: Loss = 361394.938\n",
      "Iteration 284100 [28410%]: Loss = 344597.188\n",
      "Iteration 284200 [28420%]: Loss = 353767.781\n",
      "Iteration 284300 [28430%]: Loss = 345797.562\n",
      "Iteration 284400 [28439%]: Loss = 346172.688\n",
      "Iteration 284500 [28450%]: Loss = 346552.188\n",
      "Iteration 284600 [28460%]: Loss = 345676.969\n",
      "Iteration 284700 [28470%]: Loss = 345317.812\n",
      "Iteration 284800 [28480%]: Loss = 346066.938\n",
      "Iteration 284900 [28489%]: Loss = 349549.156\n",
      "Iteration 285000 [28500%]: Loss = 345788.312\n",
      "Iteration 285100 [28510%]: Loss = 347563.812\n",
      "Iteration 285200 [28520%]: Loss = 345774.219\n",
      "Iteration 285300 [28530%]: Loss = 346926.344\n",
      "Iteration 285400 [28539%]: Loss = 349040.656\n",
      "Iteration 285500 [28550%]: Loss = 345803.438\n",
      "Iteration 285600 [28560%]: Loss = 344754.781\n",
      "Iteration 285700 [28570%]: Loss = 347217.938\n",
      "Iteration 285800 [28580%]: Loss = 359334.469\n",
      "Iteration 285900 [28589%]: Loss = 353724.656\n",
      "Iteration 286000 [28600%]: Loss = 347908.906\n",
      "Iteration 286100 [28610%]: Loss = 348938.406\n",
      "Iteration 286200 [28620%]: Loss = 345706.281\n",
      "Iteration 286300 [28630%]: Loss = 345633.531\n",
      "Iteration 286400 [28639%]: Loss = 347162.969\n",
      "Iteration 286500 [28650%]: Loss = 346543.156\n",
      "Iteration 286600 [28660%]: Loss = 361851.688\n",
      "Iteration 286700 [28670%]: Loss = 359938.250\n",
      "Iteration 286800 [28680%]: Loss = 358588.125\n",
      "Iteration 286900 [28689%]: Loss = 347426.031\n",
      "Iteration 287000 [28700%]: Loss = 347171.812\n",
      "Iteration 287100 [28710%]: Loss = 354533.469\n",
      "Iteration 287200 [28720%]: Loss = 353500.719\n",
      "Iteration 287300 [28730%]: Loss = 347359.500\n",
      "Iteration 287400 [28739%]: Loss = 348736.094\n",
      "Iteration 287500 [28750%]: Loss = 364662.000\n",
      "Iteration 287600 [28760%]: Loss = 520491.625\n",
      "Iteration 287700 [28770%]: Loss = 363088.781\n",
      "Iteration 287800 [28780%]: Loss = 346669.469\n",
      "Iteration 287900 [28789%]: Loss = 352432.594\n",
      "Iteration 288000 [28800%]: Loss = 347189.344\n",
      "Iteration 288100 [28810%]: Loss = 346861.500\n",
      "Iteration 288200 [28820%]: Loss = 349352.156\n",
      "Iteration 288300 [28830%]: Loss = 349749.594\n",
      "Iteration 288400 [28839%]: Loss = 346611.062\n",
      "Iteration 288500 [28850%]: Loss = 346843.688\n",
      "Iteration 288600 [28860%]: Loss = 348190.875\n",
      "Iteration 288700 [28870%]: Loss = 346613.938\n",
      "Iteration 288800 [28880%]: Loss = 345579.594\n",
      "Iteration 288900 [28889%]: Loss = 348104.062\n",
      "Iteration 289000 [28900%]: Loss = 349794.312\n",
      "Iteration 289100 [28910%]: Loss = 346871.469\n",
      "Iteration 289200 [28920%]: Loss = 345516.531\n",
      "Iteration 289300 [28930%]: Loss = 346325.031\n",
      "Iteration 289400 [28939%]: Loss = 347262.406\n",
      "Iteration 289500 [28950%]: Loss = 345811.406\n",
      "Iteration 289600 [28960%]: Loss = 345276.000\n",
      "Iteration 289700 [28970%]: Loss = 347498.781\n",
      "Iteration 289800 [28980%]: Loss = 347101.531\n",
      "Iteration 289900 [28989%]: Loss = 346157.344\n",
      "Iteration 290000 [29000%]: Loss = 349405.656\n",
      "Iteration 290100 [29010%]: Loss = 345068.844\n",
      "Iteration 290200 [29020%]: Loss = 346566.719\n",
      "Iteration 290300 [29030%]: Loss = 345323.438\n",
      "Iteration 290400 [29039%]: Loss = 347199.562\n",
      "Iteration 290500 [29050%]: Loss = 345455.625\n",
      "Iteration 290600 [29060%]: Loss = 348103.094\n",
      "Iteration 290700 [29070%]: Loss = 345524.844\n",
      "Iteration 290800 [29080%]: Loss = 345205.688\n",
      "Iteration 290900 [29089%]: Loss = 346069.594\n",
      "Iteration 291000 [29100%]: Loss = 353053.375\n",
      "Iteration 291100 [29110%]: Loss = 345682.031\n",
      "Iteration 291200 [29120%]: Loss = 348616.469\n",
      "Iteration 291300 [29130%]: Loss = 367472.094\n",
      "Iteration 291400 [29139%]: Loss = 352043.156\n",
      "Iteration 291500 [29150%]: Loss = 350289.656\n",
      "Iteration 291600 [29160%]: Loss = 348306.719\n",
      "Iteration 291700 [29170%]: Loss = 346669.219\n",
      "Iteration 291800 [29180%]: Loss = 347466.094\n",
      "Iteration 291900 [29189%]: Loss = 346785.406\n",
      "Iteration 292000 [29200%]: Loss = 345634.719\n",
      "Iteration 292100 [29210%]: Loss = 346328.281\n",
      "Iteration 292200 [29220%]: Loss = 348789.250\n",
      "Iteration 292300 [29230%]: Loss = 358734.562\n",
      "Iteration 292400 [29239%]: Loss = 344980.781\n",
      "Iteration 292500 [29250%]: Loss = 351889.344\n",
      "Iteration 292600 [29260%]: Loss = 347729.844\n",
      "Iteration 292700 [29270%]: Loss = 345661.656\n",
      "Iteration 292800 [29280%]: Loss = 347436.031\n",
      "Iteration 292900 [29289%]: Loss = 345624.969\n",
      "Iteration 293000 [29300%]: Loss = 346828.750\n",
      "Iteration 293100 [29310%]: Loss = 346882.688\n",
      "Iteration 293200 [29320%]: Loss = 346996.844\n",
      "Iteration 293300 [29330%]: Loss = 346504.000\n",
      "Iteration 293400 [29339%]: Loss = 351095.312\n",
      "Iteration 293500 [29350%]: Loss = 358925.938\n",
      "Iteration 293600 [29360%]: Loss = 344989.875\n",
      "Iteration 293700 [29370%]: Loss = 351894.156\n",
      "Iteration 293800 [29380%]: Loss = 346690.031\n",
      "Iteration 293900 [29389%]: Loss = 359039.438\n",
      "Iteration 294000 [29400%]: Loss = 359863.094\n",
      "Iteration 294100 [29410%]: Loss = 375840.344\n",
      "Iteration 294200 [29420%]: Loss = 349995.438\n",
      "Iteration 294300 [29430%]: Loss = 349881.375\n",
      "Iteration 294400 [29439%]: Loss = 357694.375\n",
      "Iteration 294500 [29450%]: Loss = 347277.094\n",
      "Iteration 294600 [29460%]: Loss = 350120.844\n",
      "Iteration 294700 [29470%]: Loss = 420188.625\n",
      "Iteration 294800 [29480%]: Loss = 345154.750\n",
      "Iteration 294900 [29489%]: Loss = 345348.094\n",
      "Iteration 295000 [29500%]: Loss = 345184.156\n",
      "Iteration 295100 [29510%]: Loss = 358059.656\n",
      "Iteration 295200 [29520%]: Loss = 346546.031\n",
      "Iteration 295300 [29530%]: Loss = 356037.750\n",
      "Iteration 295400 [29539%]: Loss = 350209.156\n",
      "Iteration 295500 [29550%]: Loss = 352993.688\n",
      "Iteration 295600 [29560%]: Loss = 358843.281\n",
      "Iteration 295700 [29570%]: Loss = 346221.844\n",
      "Iteration 295800 [29580%]: Loss = 348872.375\n",
      "Iteration 295900 [29589%]: Loss = 347558.000\n",
      "Iteration 296000 [29600%]: Loss = 350191.906\n",
      "Iteration 296100 [29610%]: Loss = 354426.156\n",
      "Iteration 296200 [29620%]: Loss = 346301.219\n",
      "Iteration 296300 [29630%]: Loss = 347501.656\n",
      "Iteration 296400 [29639%]: Loss = 352702.438\n",
      "Iteration 296500 [29650%]: Loss = 350020.875\n",
      "Iteration 296600 [29660%]: Loss = 347411.156\n",
      "Iteration 296700 [29670%]: Loss = 350068.875\n",
      "Iteration 296800 [29680%]: Loss = 351087.688\n",
      "Iteration 296900 [29689%]: Loss = 364511.625\n",
      "Iteration 297000 [29700%]: Loss = 345713.250\n",
      "Iteration 297100 [29710%]: Loss = 351938.438\n",
      "Iteration 297200 [29720%]: Loss = 346539.688\n",
      "Iteration 297300 [29730%]: Loss = 346228.125\n",
      "Iteration 297400 [29739%]: Loss = 345734.312\n",
      "Iteration 297500 [29750%]: Loss = 358870.688\n",
      "Iteration 297600 [29760%]: Loss = 346212.000\n",
      "Iteration 297700 [29770%]: Loss = 353244.156\n",
      "Iteration 297800 [29780%]: Loss = 346817.875\n",
      "Iteration 297900 [29789%]: Loss = 345672.469\n",
      "Iteration 298000 [29800%]: Loss = 362819.438\n",
      "Iteration 298100 [29810%]: Loss = 346737.531\n",
      "Iteration 298200 [29820%]: Loss = 347202.000\n",
      "Iteration 298300 [29830%]: Loss = 355314.000\n",
      "Iteration 298400 [29839%]: Loss = 359011.031\n",
      "Iteration 298500 [29850%]: Loss = 346030.750\n",
      "Iteration 298600 [29860%]: Loss = 351185.750\n",
      "Iteration 298700 [29870%]: Loss = 347048.656\n",
      "Iteration 298800 [29880%]: Loss = 345113.031\n",
      "Iteration 298900 [29889%]: Loss = 350711.906\n",
      "Iteration 299000 [29900%]: Loss = 345609.312\n",
      "Iteration 299100 [29910%]: Loss = 344750.062\n",
      "Iteration 299200 [29920%]: Loss = 345206.062\n",
      "Iteration 299300 [29930%]: Loss = 347431.688\n",
      "Iteration 299400 [29939%]: Loss = 346091.875\n",
      "Iteration 299500 [29950%]: Loss = 347813.375\n",
      "Iteration 299600 [29960%]: Loss = 345588.531\n",
      "Iteration 299700 [29970%]: Loss = 346996.062\n",
      "Iteration 299800 [29980%]: Loss = 346901.188\n",
      "Iteration 299900 [29989%]: Loss = 344914.250\n",
      "Iteration 300000 [30000%]: Loss = 362726.406\n"
     ]
    }
   ],
   "source": [
    "n_iter = 60000\n",
    "sess = tf.get_default_session()\n",
    "for _ in range(n_iter):\n",
    "    for inf in inf_list:\n",
    "        for _ in range(1):  # make multiple steps along each set of coords\n",
    "            info_dict = inf.update()\n",
    "        if inf is inference_lam:\n",
    "            inf.print_progress(info_dict)\n",
    "    sess.run(inference_latents)\n",
    "    sess.run(inference_probs)"
   ]
  },
  {
   "cell_type": "code",
   "execution_count": 48,
   "metadata": {
    "collapsed": false
   },
   "outputs": [
    {
     "data": {
      "text/plain": [
       "<matplotlib.image.AxesImage at 0x1371f7048>"
      ]
     },
     "execution_count": 48,
     "metadata": {},
     "output_type": "execute_result"
    },
    {
     "data": {
      "image/png": "[encoded data removed]",
      "text/plain": [
       "<matplotlib.figure.Figure at 0x134079978>"
      ]
     },
     "metadata": {},
     "output_type": "display_data"
    },
    {
     "data": {
      "image/png": "[encoded data removed]",
      "text/plain": [
       "<matplotlib.figure.Figure at 0x135d78860>"
      ]
     },
     "metadata": {},
     "output_type": "display_data"
    }
   ],
   "source": [
    "Zmat = q_Z.mean().eval()\n",
    "\n",
    "plt.matshow(dZ, aspect='auto', cmap='gray')\n",
    "plt.matshow(Zmat.T, aspect='auto', cmap='gray')"
   ]
  },
  {
   "cell_type": "code",
   "execution_count": 49,
   "metadata": {
    "collapsed": false
   },
   "outputs": [
    {
     "data": {
      "image/png": "[encoded data removed]",
      "text/plain": [
       "<matplotlib.figure.Figure at 0x136967d30>"
      ]
     },
     "metadata": {},
     "output_type": "display_data"
    }
   ],
   "source": [
    "plt.hist(q_A.mean().eval().ravel(), label='inferred'); plt.hist(dA.ravel(), label='actual'), plt.legend();"
   ]
  },
  {
   "cell_type": "code",
   "execution_count": 54,
   "metadata": {
    "collapsed": false
   },
   "outputs": [
    {
     "data": {
      "text/plain": [
       "<matplotlib.text.Text at 0x1366ebc50>"
      ]
     },
     "execution_count": 54,
     "metadata": {},
     "output_type": "execute_result"
    },
    {
     "data": {
      "image/png": "[encoded data removed]",
      "text/plain": [
       "<matplotlib.figure.Figure at 0x1003d3a20>"
      ]
     },
     "metadata": {},
     "output_type": "display_data"
    }
   ],
   "source": [
    "plt.scatter(dA.ravel(), q_A.mean().eval().ravel())\n",
    "plt.xlabel('actual')\n",
    "plt.ylabel('inferred')"
   ]
  },
  {
   "cell_type": "code",
   "execution_count": 50,
   "metadata": {
    "collapsed": false,
    "scrolled": true
   },
   "outputs": [
    {
     "data": {
      "image/png": "[encoded data removed]",
      "text/plain": [
       "<matplotlib.figure.Figure at 0x1373f8828>"
      ]
     },
     "metadata": {},
     "output_type": "display_data"
    }
   ],
   "source": [
    "plt.hist(q_B.mean().eval().ravel(), 200, label='inferred'), plt.hist(dB.ravel(), 200, label='actual'), plt.legend();"
   ]
  },
  {
   "cell_type": "code",
   "execution_count": 55,
   "metadata": {
    "collapsed": false
   },
   "outputs": [
    {
     "data": {
      "text/plain": [
       "<matplotlib.text.Text at 0x136296588>"
      ]
     },
     "execution_count": 55,
     "metadata": {},
     "output_type": "execute_result"
    },
    {
     "data": {
      "image/png": "[encoded data removed]",
      "text/plain": [
       "<matplotlib.figure.Figure at 0x1366fe198>"
      ]
     },
     "metadata": {},
     "output_type": "display_data"
    }
   ],
   "source": [
    "plt.scatter(dB.ravel(), q_B.mean().eval().ravel())\n",
    "plt.xlabel('actual')\n",
    "plt.ylabel('inferred')"
   ]
  },
  {
   "cell_type": "code",
   "execution_count": 56,
   "metadata": {
    "collapsed": false
   },
   "outputs": [
    {
     "data": {
      "image/png": "[encoded data removed]",
      "text/plain": [
       "<matplotlib.figure.Figure at 0x1362ae5f8>"
      ]
     },
     "metadata": {},
     "output_type": "display_data"
    }
   ],
   "source": [
    "plt.hist(q_C.mean().eval().ravel(), 200, label='inferred'), plt.hist(dC.ravel(), 200, label='actual'), plt.legend();"
   ]
  },
  {
   "cell_type": "code",
   "execution_count": 57,
   "metadata": {
    "collapsed": false
   },
   "outputs": [
    {
     "data": {
      "text/plain": [
       "<matplotlib.text.Text at 0x13469e780>"
      ]
     },
     "execution_count": 57,
     "metadata": {},
     "output_type": "execute_result"
    },
    {
     "data": {
      "image/png": "[encoded data removed]",
      "text/plain": [
       "<matplotlib.figure.Figure at 0x1340699b0>"
      ]
     },
     "metadata": {},
     "output_type": "display_data"
    }
   ],
   "source": [
    "plt.scatter(dC.ravel(), q_C.mean().eval().ravel())\n",
    "plt.xlabel('actual')\n",
    "plt.ylabel('inferred')"
   ]
  },
  {
   "cell_type": "code",
   "execution_count": 58,
   "metadata": {
    "collapsed": false
   },
   "outputs": [
    {
     "data": {
      "image/png": "[encoded data removed]",
      "text/plain": [
       "<matplotlib.figure.Figure at 0x1346a60f0>"
      ]
     },
     "metadata": {},
     "output_type": "display_data"
    }
   ],
   "source": [
    "plt.hist(lam_mu.eval(), 200, label='inferred'), plt.hist(dlam, 200, label='actual'), plt.legend();"
   ]
  },
  {
   "cell_type": "code",
   "execution_count": 65,
   "metadata": {
    "collapsed": false
   },
   "outputs": [
    {
     "data": {
      "text/plain": [
       "<matplotlib.text.Text at 0x134669748>"
      ]
     },
     "execution_count": 65,
     "metadata": {},
     "output_type": "execute_result"
    },
    {
     "data": {
      "image/png": "[encoded data removed]",
      "text/plain": [
       "<matplotlib.figure.Figure at 0x135f66240>"
      ]
     },
     "metadata": {},
     "output_type": "display_data"
    }
   ],
   "source": [
    "plt.scatter(dlam.ravel(), lam_mu.eval().ravel())\n",
    "plt.xlabel('actual')\n",
    "plt.ylabel('inferred')"
   ]
  },
  {
   "cell_type": "code",
   "execution_count": 39,
   "metadata": {
    "collapsed": false
   },
   "outputs": [
    {
     "data": {
      "text/plain": [
       "array([ 3.71562123,  3.67965531,  2.99191427, ...,  3.21688914,\n",
       "        3.08679199,  3.3060472 ], dtype=float32)"
      ]
     },
     "execution_count": 39,
     "metadata": {},
     "output_type": "execute_result"
    }
   ],
   "source": [
    "lam_mu.value().eval()"
   ]
  },
  {
   "cell_type": "code",
   "execution_count": 40,
   "metadata": {
    "collapsed": false
   },
   "outputs": [
    {
     "data": {
      "text/plain": [
       "array([ 3.71562123,  3.67965531,  2.99191427, ...,  3.21688914,\n",
       "        3.08679199,  3.3060472 ], dtype=float32)"
      ]
     },
     "execution_count": 40,
     "metadata": {},
     "output_type": "execute_result"
    }
   ],
   "source": [
    "q_lam.mean().eval()"
   ]
  },
  {
   "cell_type": "code",
   "execution_count": 41,
   "metadata": {
    "collapsed": false
   },
   "outputs": [
    {
     "data": {
      "text/plain": [
       "array([-0.63897818], dtype=float32)"
      ]
     },
     "execution_count": 41,
     "metadata": {},
     "output_type": "execute_result"
    }
   ],
   "source": [
    "q_sig.mean().eval()"
   ]
  },
  {
   "cell_type": "code",
   "execution_count": 42,
   "metadata": {
    "collapsed": false
   },
   "outputs": [
    {
     "data": {
      "text/plain": [
       "array([ 0.53467113,  0.35979548,  0.28869882,  0.4306905 ], dtype=float32)"
      ]
     },
     "execution_count": 42,
     "metadata": {},
     "output_type": "execute_result"
    }
   ],
   "source": [
    "q_pi._value.eval()"
   ]
  },
  {
   "cell_type": "code",
   "execution_count": 43,
   "metadata": {
    "collapsed": false
   },
   "outputs": [
    {
     "data": {
      "text/plain": [
       "array([ 0.06854386,  0.06223078,  0.06786263,  0.06862985], dtype=float32)"
      ]
     },
     "execution_count": 43,
     "metadata": {},
     "output_type": "execute_result"
    }
   ],
   "source": [
    "q_pi.std().eval()"
   ]
  },
  {
   "cell_type": "code",
   "execution_count": 44,
   "metadata": {
    "collapsed": false
   },
   "outputs": [
    {
     "data": {
      "text/plain": [
       "array([ 0.53149903,  0.28846154,  0.42307693,  0.48084158], dtype=float32)"
      ]
     },
     "execution_count": 44,
     "metadata": {},
     "output_type": "execute_result"
    }
   ],
   "source": [
    "q_pi.mean().eval()"
   ]
  },
  {
   "cell_type": "code",
   "execution_count": null,
   "metadata": {
    "collapsed": true
   },
   "outputs": [],
   "source": []
  }
 ],
 "metadata": {
  "anaconda-cloud": {},
  "kernelspec": {
   "display_name": "Python [Root]",
   "language": "python",
   "name": "Python [Root]"
  },
  "language_info": {
   "codemirror_mode": {
    "name": "ipython",
    "version": 3
   },
   "file_extension": ".py",
   "mimetype": "text/x-python",
   "name": "python",
   "nbconvert_exporter": "python",
   "pygments_lexer": "ipython3",
   "version": "3.5.2"
  }
 },
 "nbformat": 4,
 "nbformat_minor": 0
}
