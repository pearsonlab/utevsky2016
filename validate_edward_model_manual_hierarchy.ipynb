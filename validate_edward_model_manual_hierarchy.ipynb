{
 "cells": [
  {
   "cell_type": "markdown",
   "metadata": {},
   "source": [
    "# Run model on fake data\n",
    "\n",
    "Here, we generate a synthetic data set for purposes of validating the model constructed in Edward."
   ]
  },
  {
   "cell_type": "code",
   "execution_count": 1,
   "metadata": {
    "collapsed": false
   },
   "outputs": [],
   "source": [
    "import numpy as np\n",
    "import pandas as pd\n",
    "import tensorflow as tf\n",
    "import edward as ed\n",
    "import matplotlib.pyplot as plt\n",
    "%matplotlib inline"
   ]
  },
  {
   "cell_type": "code",
   "execution_count": 2,
   "metadata": {
    "collapsed": true
   },
   "outputs": [],
   "source": [
    "# we'll want this function below\n",
    "def softplus(x):\n",
    "    return np.logaddexp(0, x)"
   ]
  },
  {
   "cell_type": "code",
   "execution_count": 3,
   "metadata": {
    "collapsed": false
   },
   "outputs": [],
   "source": [
    "ed.set_seed(12225)"
   ]
  },
  {
   "cell_type": "markdown",
   "metadata": {},
   "source": [
    "The model is defined by the spike count $N_{us}$ observed when stimulus $s$ is presented to unit $u$:\n",
    "\n",
    "$$\n",
    "\\begin{align}\n",
    "N &\\sim \\mathrm{Poisson}(e^\\lambda)  \\\\\n",
    "\\lambda_{us} &\\sim \\mathcal{N}(A_{u} + (B \\cdot X)_{us} + (C \\cdot Z)_{us}, \\sigma^2) \\\\\n",
    "\\log \\sigma &\\sim \\mathcal{N}(-7, 1^2) \\\\\n",
    "Z_{ks} &\\sim \\mathrm{Bernoulli}(\\pi_k) \\\\\n",
    "\\pi_k &\\equiv \\prod_{i=1}^k \\delta_k \\\\\n",
    "\\delta_j &\\sim \\mathrm{Beta}(3, 1)\n",
    "\\end{align}\n",
    "$$\n",
    "With $X$ an $P \\times N_s$ matrix of known regressors, $Z$ a $K \\times N_s$ matrix of latent binary features\n",
    "governed by an Indian Buffet Process, $A$ and $N_u$ vector of baselines, and $(\\cdot)_+$ the softplus function: \n",
    "$(x)_+ = \\log(1 + e^x)$."
   ]
  },
  {
   "cell_type": "markdown",
   "metadata": {},
   "source": [
    "In addition, we assume that $A$, $B$, and $C$ are all hierarchically distributed:\n",
    "\n",
    "$$\\begin{align}\n",
    "A_u &\\sim \\mathcal{N}(\\mu_A, \\sigma^2_A) \\\\\n",
    "B_{up} &\\sim \\mathcal{N}(\\mu_{Bp}, \\sigma^2_{Bp}) \\\\\n",
    "C_{uk} &\\sim \\mathcal{N}(\\mu_{Ck}, \\sigma^2_{Ck}) \\\\\n",
    "\\mu_A &\\sim \\mathcal{N}(\\log 25, 0.5^2) \\\\\n",
    "\\sigma_A &\\sim \\mathrm{Ga}(2, 4) \\\\\n",
    "\\mu_{Bp} &\\sim \\mathcal{N}(0, 0.5^2) \\\\\n",
    "\\sigma_{Bp} &\\sim \\mathrm{Ga}(2, 4) \\\\\n",
    "\\mu_{Ck} &\\sim \\mathcal{N}(0, 0.5^2) \\\\\n",
    "\\sigma_{Ck} &\\sim \\mathrm{Ga}(2, 4)\n",
    "\\end{align}$$"
   ]
  },
  {
   "cell_type": "markdown",
   "metadata": {},
   "source": [
    "# Define constants"
   ]
  },
  {
   "cell_type": "code",
   "execution_count": 4,
   "metadata": {
    "collapsed": true
   },
   "outputs": [],
   "source": [
    "# basic constants\n",
    "Nrep = 40  # number of observations per unit per stim\n",
    "NB = 1000  # number of trials in minibatch\n",
    "NU = 50  # number of units\n",
    "NS = 50  # number of stims\n",
    "P = 3  # number of specified regressors\n",
    "K = 4  # number of latents"
   ]
  },
  {
   "cell_type": "markdown",
   "metadata": {},
   "source": [
    "# Make neural response coefficients"
   ]
  },
  {
   "cell_type": "code",
   "execution_count": 5,
   "metadata": {
    "collapsed": false
   },
   "outputs": [],
   "source": [
    "dA = np.log(softplus(25 + 5 * np.random.randn(NU)))  # baseline\n",
    "dB = np.log(np.array([0.75, 1.2, 1.5]) + 0.1 * np.random.randn(NU, P))  # regressor effects\n",
    "dC = np.log(np.array([0.25, 0.55, 1.4, 2.2])[np.newaxis, :] + 0.1 * np.random.randn(NU, K))  # latent effects"
   ]
  },
  {
   "cell_type": "markdown",
   "metadata": {},
   "source": [
    "# Regressors and latent states"
   ]
  },
  {
   "cell_type": "code",
   "execution_count": 6,
   "metadata": {
    "collapsed": false
   },
   "outputs": [
    {
     "name": "stdout",
     "output_type": "stream",
     "text": [
      "[ 0.70137886  0.57732232  0.24895886  0.49916835] [ 0.70137886  0.40492167  0.10080884  0.05032058]\n"
     ]
    },
    {
     "data": {
      "image/png": "[encoded data removed]",
      "text/plain": [
       "<matplotlib.figure.Figure at 0x1224fe208>"
      ]
     },
     "metadata": {},
     "output_type": "display_data"
    }
   ],
   "source": [
    "dX = 0.1 * np.random.randn(P, NS)\n",
    "\n",
    "import scipy.stats as stats\n",
    "\n",
    "ddelta = stats.beta.rvs(1.2, 1, size=(K,))\n",
    "dpi = np.cumprod(ddelta)\n",
    "print(ddelta, dpi)\n",
    "dZ = stats.bernoulli.rvs(dpi[:, np.newaxis], size=(K, NS))\n",
    "\n",
    "# plot states\n",
    "plt.matshow(dZ, aspect='auto', cmap='gray');"
   ]
  },
  {
   "cell_type": "markdown",
   "metadata": {},
   "source": [
    "# Generate trial set"
   ]
  },
  {
   "cell_type": "code",
   "execution_count": 7,
   "metadata": {
    "collapsed": true
   },
   "outputs": [],
   "source": [
    "dU, dS = np.meshgrid(range(NU), range(NS))\n",
    "dU = dU.ravel()\n",
    "dS = dS.ravel()"
   ]
  },
  {
   "cell_type": "code",
   "execution_count": 8,
   "metadata": {
    "collapsed": false
   },
   "outputs": [],
   "source": [
    "dlam_mean = np.tile(dA[dU] + np.sum(dB[dU] * dX[:, dS].T, axis=1) + np.sum(dC[dU] * dZ[:, dS].T, axis=1), Nrep)\n",
    "\n",
    "dlam = stats.norm.rvs(loc=dlam_mean, scale=0.01)"
   ]
  },
  {
   "cell_type": "code",
   "execution_count": 9,
   "metadata": {
    "collapsed": false
   },
   "outputs": [
    {
     "data": {
      "text/plain": [
       "(100000,)"
      ]
     },
     "execution_count": 9,
     "metadata": {},
     "output_type": "execute_result"
    }
   ],
   "source": [
    "dcount = stats.poisson.rvs(np.exp(dlam))\n",
    "dcount.shape"
   ]
  },
  {
   "cell_type": "code",
   "execution_count": 10,
   "metadata": {
    "collapsed": false
   },
   "outputs": [
    {
     "data": {
      "image/png": "[encoded data removed]",
      "text/plain": [
       "<matplotlib.figure.Figure at 0x122598390>"
      ]
     },
     "metadata": {},
     "output_type": "display_data"
    }
   ],
   "source": [
    "plt.hist(dlam, bins=200);"
   ]
  },
  {
   "cell_type": "code",
   "execution_count": 11,
   "metadata": {
    "collapsed": false
   },
   "outputs": [
    {
     "data": {
      "image/png": "[encoded data removed]",
      "text/plain": [
       "<matplotlib.figure.Figure at 0x128820be0>"
      ]
     },
     "metadata": {},
     "output_type": "display_data"
    }
   ],
   "source": [
    "plt.hist(np.exp(dlam), bins=200);"
   ]
  },
  {
   "cell_type": "code",
   "execution_count": 12,
   "metadata": {
    "collapsed": false
   },
   "outputs": [
    {
     "data": {
      "image/png": "[encoded data removed]",
      "text/plain": [
       "<matplotlib.figure.Figure at 0x1287d4c88>"
      ]
     },
     "metadata": {},
     "output_type": "display_data"
    }
   ],
   "source": [
    "plt.hist(dcount, bins=200);"
   ]
  },
  {
   "cell_type": "markdown",
   "metadata": {},
   "source": [
    "# Set up data"
   ]
  },
  {
   "cell_type": "code",
   "execution_count": 13,
   "metadata": {
    "collapsed": false
   },
   "outputs": [],
   "source": [
    "count = dcount.copy()\n",
    "Xdat = np.tile(dX[:, dS], (1, Nrep)).T\n",
    "unit = np.tile(dU, Nrep)\n",
    "stim = np.tile(dS, Nrep)"
   ]
  },
  {
   "cell_type": "markdown",
   "metadata": {},
   "source": [
    "Later, we'll need to know the number of observations of each (stim, unit) pair. This is constant for this toy example, but need not be."
   ]
  },
  {
   "cell_type": "code",
   "execution_count": 14,
   "metadata": {
    "collapsed": true
   },
   "outputs": [],
   "source": [
    "pairs = pd.DataFrame({'stim': stim, 'unit': unit, 'count': 1})"
   ]
  },
  {
   "cell_type": "code",
   "execution_count": 15,
   "metadata": {
    "collapsed": false
   },
   "outputs": [
    {
     "data": {
      "text/html": [
       "<div>\n",
       "<table border=\"1\" class=\"dataframe\">\n",
       "  <thead>\n",
       "    <tr style=\"text-align: right;\">\n",
       "      <th></th>\n",
       "      <th>stim</th>\n",
       "      <th>unit</th>\n",
       "      <th>count</th>\n",
       "    </tr>\n",
       "  </thead>\n",
       "  <tbody>\n",
       "    <tr>\n",
       "      <th>0</th>\n",
       "      <td>0</td>\n",
       "      <td>0</td>\n",
       "      <td>40</td>\n",
       "    </tr>\n",
       "    <tr>\n",
       "      <th>1</th>\n",
       "      <td>0</td>\n",
       "      <td>1</td>\n",
       "      <td>40</td>\n",
       "    </tr>\n",
       "    <tr>\n",
       "      <th>2</th>\n",
       "      <td>0</td>\n",
       "      <td>2</td>\n",
       "      <td>40</td>\n",
       "    </tr>\n",
       "    <tr>\n",
       "      <th>3</th>\n",
       "      <td>0</td>\n",
       "      <td>3</td>\n",
       "      <td>40</td>\n",
       "    </tr>\n",
       "    <tr>\n",
       "      <th>4</th>\n",
       "      <td>0</td>\n",
       "      <td>4</td>\n",
       "      <td>40</td>\n",
       "    </tr>\n",
       "  </tbody>\n",
       "</table>\n",
       "</div>"
      ],
      "text/plain": [
       "   stim  unit  count\n",
       "0     0     0     40\n",
       "1     0     1     40\n",
       "2     0     2     40\n",
       "3     0     3     40\n",
       "4     0     4     40"
      ]
     },
     "execution_count": 15,
     "metadata": {},
     "output_type": "execute_result"
    }
   ],
   "source": [
    "# count the number of occurrences of each pair\n",
    "pair_counts_df_long = pairs.groupby(['stim', 'unit']).sum().reset_index()\n",
    "pair_counts_df_long.head()"
   ]
  },
  {
   "cell_type": "code",
   "execution_count": 16,
   "metadata": {
    "collapsed": false
   },
   "outputs": [],
   "source": [
    "pair_counts = pair_counts_df_long.pivot(values='count', index='stim', columns='unit').values"
   ]
  },
  {
   "cell_type": "markdown",
   "metadata": {},
   "source": [
    "We'd also like to know a unique code for each *possible* (stim, unit) pair. (Some might be missing, but in this case, we still want to code that, since we'll be using these codes to sum over all observations, and the resulting matrix may have some 0 entries, but it must be dense.\n",
    "\n",
    "We will assume that units and stims are consecutively numbered."
   ]
  },
  {
   "cell_type": "code",
   "execution_count": 17,
   "metadata": {
    "collapsed": true
   },
   "outputs": [],
   "source": [
    "su_codes = NU * stim + unit"
   ]
  },
  {
   "cell_type": "markdown",
   "metadata": {},
   "source": [
    "# Run GLM to get inits\n",
    "\n",
    "Here, we run a GLM on the observed data with $A$ and $B$ included (but not $C \\cdot Z$) to get a rough starting point. This takes time, but is a net win in terms of saving SGD iterations."
   ]
  },
  {
   "cell_type": "raw",
   "metadata": {
    "collapsed": false
   },
   "source": [
    "import statsmodels.api as sm\n",
    "import statsmodels.formula.api as smf\n",
    "Xdf = pd.DataFrame(Xdat)\n",
    "Xdf.columns = ['X' + str(c) for c in Xdf.columns]\n",
    "dta = pd.concat([pd.DataFrame({'count': count, 'unit': unit, 'stim': stim}), Xdf], axis=1)\n",
    "formula = 'count ~ -1 + C(unit) + C(unit) * (' + '+'.join(Xdf.columns) + ')'\n",
    "mod = smf.glm(formula=formula, data=dta, family=sm.families.Poisson()).fit()"
   ]
  },
  {
   "cell_type": "markdown",
   "metadata": {},
   "source": [
    "Now extract the model's fitted parameters into inits for $A$ and $B$"
   ]
  },
  {
   "cell_type": "raw",
   "metadata": {
    "collapsed": false
   },
   "source": [
    "A_init = mod.params.values[:NU].astype('float32')\n",
    "B_init = mod.params.values[NU:].reshape(P, NU).T.astype('float32')"
   ]
  },
  {
   "cell_type": "markdown",
   "metadata": {},
   "source": [
    "# Define the model"
   ]
  },
  {
   "cell_type": "markdown",
   "metadata": {},
   "source": [
    "## Constants"
   ]
  },
  {
   "cell_type": "code",
   "execution_count": 18,
   "metadata": {
    "collapsed": false
   },
   "outputs": [],
   "source": [
    "# define some needed constants\n",
    "N = Xdat.shape[0]  # number of trials"
   ]
  },
  {
   "cell_type": "code",
   "execution_count": 19,
   "metadata": {
    "collapsed": false
   },
   "outputs": [
    {
     "data": {
      "text/plain": [
       "100000"
      ]
     },
     "execution_count": 19,
     "metadata": {},
     "output_type": "execute_result"
    }
   ],
   "source": [
    "N"
   ]
  },
  {
   "cell_type": "markdown",
   "metadata": {},
   "source": [
    "## Inputs and data"
   ]
  },
  {
   "cell_type": "code",
   "execution_count": 20,
   "metadata": {
    "collapsed": true
   },
   "outputs": [],
   "source": [
    "X = tf.constant(Xdat.astype('float32'))\n",
    "U = tf.constant(unit)\n",
    "S = tf.constant(stim)\n",
    "counts = tf.constant(count)\n",
    "allinds = tf.constant(np.arange(N))\n",
    "NSU = tf.constant(pair_counts.astype('float32'))\n",
    "codes_SU = tf.constant(su_codes)"
   ]
  },
  {
   "cell_type": "code",
   "execution_count": 21,
   "metadata": {
    "collapsed": false
   },
   "outputs": [
    {
     "data": {
      "text/plain": [
       "TensorShape([Dimension(100000), Dimension(3)])"
      ]
     },
     "execution_count": 21,
     "metadata": {},
     "output_type": "execute_result"
    }
   ],
   "source": [
    "X.get_shape()"
   ]
  },
  {
   "cell_type": "markdown",
   "metadata": {},
   "source": [
    "Make a node that produces `NB` indices from the range $[0, N - 1]$. These are the subset of data points we want to use."
   ]
  },
  {
   "cell_type": "raw",
   "metadata": {
    "collapsed": true
   },
   "source": [
    "batch_inds = tf.train.range_input_producer(N).dequeue_many(NB, name='batch_inds')\n",
    "batch_counts = tf.train.batch(tf.train.slice_input_producer([counts]), NB, name='batch_counts')"
   ]
  },
  {
   "cell_type": "raw",
   "metadata": {
    "collapsed": true
   },
   "source": [
    "batch_inds = tf.constant(np.arange(NB))\n",
    "batch_counts = tf.train.batch(tf.train.slice_input_producer([counts]), NB)"
   ]
  },
  {
   "cell_type": "raw",
   "metadata": {
    "collapsed": false
   },
   "source": [
    "batch_inds, batch_counts = tf.train.batch(tf.train.slice_input_producer([allinds, counts]), NB, \n",
    "                                          name='batches')"
   ]
  },
  {
   "cell_type": "code",
   "execution_count": 22,
   "metadata": {
    "collapsed": true
   },
   "outputs": [],
   "source": [
    "NB = N\n",
    "batch_inds = np.arange(N)\n",
    "batch_counts = counts"
   ]
  },
  {
   "cell_type": "markdown",
   "metadata": {},
   "source": [
    "## Generative (p) model"
   ]
  },
  {
   "cell_type": "code",
   "execution_count": 23,
   "metadata": {
    "collapsed": false
   },
   "outputs": [],
   "source": [
    "with tf.variable_scope(\"pmodel\"):\n",
    "    muA = ed.models.Normal(mu=np.log(25) * tf.ones(1), sigma=0.5 * tf.ones(1), name='mu_A')\n",
    "    muB = ed.models.Normal(mu=tf.zeros(P), sigma=0.5 * tf.ones(P), name='mu_B')\n",
    "    muC = ed.models.Normal(mu=tf.zeros(K), sigma=0.5 * tf.ones(K), name='mu_C')\n",
    "    sigA = ed.models.Gamma(alpha=2. * tf.ones(1), beta=4. * tf.ones(1), name='sig_A')\n",
    "    sigB = ed.models.Gamma(alpha=2. * tf.ones(P), beta=4. * tf.ones(P), name='sig_B')\n",
    "    sigC = ed.models.Gamma(alpha=2. * tf.ones(K), beta=4. * tf.ones(K), name='sig_C') \n",
    "\n",
    "    A = ed.models.Normal(mu=tf.tile(muA, (NU,)), \n",
    "                         sigma=tf.tile(sigA, (NU,)), \n",
    "                         name='A')\n",
    "    B = ed.models.Normal(mu=tf.tile(tf.expand_dims(muB, 0), (NU, 1)), \n",
    "                         sigma=tf.tile(tf.expand_dims(sigB, 0), (NU, 1)), \n",
    "                         name='B')\n",
    "    C = ed.models.Normal(mu=tf.tile(tf.expand_dims(muC, 0), (NU, 1)), \n",
    "                         sigma=tf.tile(tf.expand_dims(sigC, 0), (NU, 1)), \n",
    "                         name='C')  \n",
    "\n",
    "    a_prior = tf.ones(K)\n",
    "    b_prior = tf.ones(K)\n",
    "    pi = ed.models.Beta(a=a_prior, b=b_prior, name='pi')\n",
    "\n",
    "    Z = ed.models.Bernoulli(p=tf.tile(tf.expand_dims(pi, 0), [NS, 1]), name='Z')\n",
    "\n",
    "    sig = ed.models.Normal(mu=[-7.0], sigma=[1.], name='sig')\n",
    "\n",
    "    lam_vars = (tf.gather(A, U) + tf.reduce_sum(tf.gather(B, U) * X, 1) + \n",
    "           tf.reduce_sum(tf.gather(C, U) * tf.gather(tf.to_float(Z), S), 1))\n",
    "    lam = ed.models.Normal(mu=tf.gather(lam_vars, batch_inds), \n",
    "                           sigma=tf.exp(sig), name='lam')\n",
    "\n",
    "    cnt = ed.models.Poisson(lam=tf.exp(lam), value=tf.ones(NB), name='cnt')"
   ]
  },
  {
   "cell_type": "markdown",
   "metadata": {},
   "source": [
    "# Recognition (q) model"
   ]
  },
  {
   "cell_type": "code",
   "execution_count": 24,
   "metadata": {
    "collapsed": false
   },
   "outputs": [],
   "source": [
    "with tf.variable_scope(\"qmodel\"):\n",
    "    # population means\n",
    "    q_muA = ed.models.NormalWithSoftplusSigma(mu=tf.Variable(np.log(25) * tf.ones(1)), \n",
    "                                              sigma=tf.Variable(0.5 * tf.ones(1)),\n",
    "                                              name='mu_A')\n",
    "    tf.scalar_summary('q_muA', tf.reduce_mean(q_muA.mean()))\n",
    "\n",
    "    q_muB = ed.models.NormalWithSoftplusSigma(mu=tf.Variable(tf.zeros(P)), \n",
    "                                              sigma=tf.Variable(0.5 * tf.ones(P)),\n",
    "                                              name='mu_B')\n",
    "    tf.scalar_summary('q_muB', tf.reduce_mean(q_muB.mean()))\n",
    "\n",
    "    q_muC = ed.models.NormalWithSoftplusSigma(mu=tf.Variable(tf.zeros(K)), \n",
    "                                              sigma=tf.Variable(0.5 * tf.ones(K)),\n",
    "                                              name='mu_C')\n",
    "    tf.scalar_summary('q_muC', tf.reduce_mean(q_muC.mean()))\n",
    "\n",
    "\n",
    "    # population standard deviations\n",
    "    q_sigA = ed.models.GammaWithSoftplusAlphaBeta(alpha=tf.Variable(2. * tf.ones(1)), \n",
    "                                                  beta=tf.Variable(4. * tf.ones(1)),\n",
    "                                                  name='sig_A')\n",
    "    tf.scalar_summary('q_sigA', tf.reduce_mean(q_sigA.mean()))\n",
    "\n",
    "    q_sigB = ed.models.GammaWithSoftplusAlphaBeta(alpha=tf.Variable(2. * tf.ones(P)), \n",
    "                                                  beta=tf.Variable(4. * tf.ones(P)),\n",
    "                                                  name='sig_B')\n",
    "    tf.scalar_summary('q_sigB', tf.reduce_mean(q_sigB.mean()))\n",
    "\n",
    "    q_sigC = ed.models.GammaWithSoftplusAlphaBeta(alpha=tf.Variable(2. * tf.ones(K)), \n",
    "                                                  beta=tf.Variable(4. * tf.ones(K)),\n",
    "                                                  name='sig_C')\n",
    "    tf.scalar_summary('q_sigC', tf.reduce_mean(q_sigC.mean()))\n",
    "\n",
    "    \n",
    "    # individual unit coefficients\n",
    "    q_A = ed.models.NormalWithSoftplusSigma(mu=tf.Variable(tf.random_normal((NU,))), \n",
    "                                            sigma=tf.Variable(0.5 + tf.random_uniform((NU,))),\n",
    "                                            name='A')\n",
    "    tf.scalar_summary('q_A', tf.reduce_mean(q_A.mean()))\n",
    "\n",
    "    q_B = ed.models.NormalWithSoftplusSigma(mu=tf.Variable(tf.random_normal((NU, P))), \n",
    "                                            sigma=tf.Variable(0.5 + tf.random_uniform((NU, P))),\n",
    "                                            name='B')\n",
    "    tf.scalar_summary('q_B', tf.reduce_mean(q_B.mean()))\n",
    "\n",
    "    q_C = ed.models.NormalWithSoftplusSigma(mu=tf.Variable(tf.random_normal((NU, K))), \n",
    "                                            sigma=tf.Variable(0.5 + tf.random_uniform((NU, K))),\n",
    "                                            name='C')\n",
    "    tf.scalar_summary('q_C', tf.reduce_mean(q_C.mean()))\n",
    "    \n",
    "    # latent variables for each stimulus\n",
    "    Zlogit = tf.Variable(-0.0 + tf.zeros((NS, K)), name='Z_logit_clip')\n",
    "    tf.scalar_summary('max_Z_logit', tf.reduce_max(Zlogit))\n",
    "    tf.scalar_summary('min_Z_logit', tf.reduce_min(Zlogit))\n",
    "    q_Z = ed.models.BernoulliWithSigmoidP(p=Zlogit, name='Z')\n",
    "    tf.scalar_summary('q_Z', tf.reduce_mean(q_Z.mean()))\n",
    "    tf.scalar_summary('max_q_Z', tf.reduce_max(q_Z.mean()))\n",
    "    tf.scalar_summary('min_q_Z', tf.reduce_min(q_Z.mean()))\n",
    "\n",
    "    # latent variables for stimulus category\n",
    "    a_var = tf.Variable(1. + tf.random_uniform((K,)))\n",
    "    b_var = tf.Variable(1. + tf.random_uniform((K,)))\n",
    "    tf.scalar_summary('max_a', tf.reduce_max(a_var))\n",
    "    tf.scalar_summary('max_b', tf.reduce_max(b_var))\n",
    "    tf.scalar_summary('min_a', tf.reduce_min(a_var))\n",
    "    tf.scalar_summary('min_b', tf.reduce_min(b_var))\n",
    "    q_pi = ed.models.Beta(a=a_var, b=b_var, name='pi')\n",
    "    tf.scalar_summary('min_q_pi', tf.reduce_min(q_pi.value()))\n",
    "    tf.scalar_summary('max_q_pi', tf.reduce_max(q_pi.value()))\n",
    "\n",
    "    # log firing rates\n",
    "    lam_mu = tf.Variable(2 + tf.random_normal((N,)))\n",
    "    tf.scalar_summary('lam_mu_mean', tf.reduce_mean(tf.gather(lam_mu, batch_inds)))\n",
    "    lam_sig = tf.Variable(3 * tf.random_uniform((N,)) + 2)\n",
    "    q_lam = ed.models.NormalWithSoftplusSigma(mu=tf.gather(lam_mu, batch_inds),\n",
    "                                              sigma=tf.gather(lam_sig, batch_inds),\n",
    "                                              name='lam')\n",
    "\n",
    "    q_sig = ed.models.NormalWithSoftplusSigma(mu=tf.Variable(-0.1 * tf.random_uniform((1,))),\n",
    "                                              sigma=tf.Variable(tf.random_uniform((1,))),\n",
    "                                              name='sig')"
   ]
  },
  {
   "cell_type": "markdown",
   "metadata": {},
   "source": [
    "# ELBO"
   ]
  },
  {
   "cell_type": "code",
   "execution_count": 25,
   "metadata": {
    "collapsed": false
   },
   "outputs": [],
   "source": [
    "def make_ELBO(latent_vars, data, scale):\n",
    "    from edward.util import copy\n",
    "    p_log_prob = 0.0\n",
    "    q_log_prob = 0.0\n",
    "    z_sample = {}\n",
    "    scope = \"ELBO\"\n",
    "\n",
    "    for z, qz in latent_vars.items():\n",
    "        # Copy q(z) to obtain new set of posterior samples.\n",
    "        qz_copy = copy(qz, scope=scope)\n",
    "        z_sample[z] = qz_copy.value()\n",
    "        z_log_prob = tf.reduce_sum(qz.log_prob(tf.stop_gradient(z_sample[z])))\n",
    "        if z in scale:\n",
    "            z_log_prob *= scale[z]\n",
    "\n",
    "        q_log_prob += z_log_prob\n",
    "\n",
    "    dict_swap = z_sample\n",
    "    for x, qx in data.items():\n",
    "        if isinstance(x, ed.RandomVariable):\n",
    "            if isinstance(qx, ed.RandomVariable):\n",
    "                qx_copy = copy(qx, scope=scope)\n",
    "                dict_swap[x] = qx_copy.value()\n",
    "            else:\n",
    "                dict_swap[x] = qx\n",
    "\n",
    "            for z in latent_vars.keys():\n",
    "                z_copy = copy(z, dict_swap, scope=scope)\n",
    "                z_log_prob = tf.reduce_sum(z_copy.log_prob(dict_swap[z]))\n",
    "                if z in scale:\n",
    "                    z_log_prob *= scale[z]\n",
    "\n",
    "                p_log_prob += z_log_prob\n",
    "\n",
    "            for x in data.keys():\n",
    "                if isinstance(x, ed.RandomVariable):\n",
    "                    x_copy = copy(x, dict_swap, scope=scope)\n",
    "                    x_log_prob = tf.reduce_sum(x_copy.log_prob(dict_swap[x]))\n",
    "                if x in scale:\n",
    "                    x_log_prob *= scale[x]\n",
    "\n",
    "                p_log_prob += x_log_prob\n",
    "\n",
    "    return tf.reduce_mean(p_log_prob - q_log_prob)"
   ]
  },
  {
   "cell_type": "code",
   "execution_count": 26,
   "metadata": {
    "collapsed": false
   },
   "outputs": [
    {
     "data": {
      "text/plain": [
       "<tf.Tensor 'ScalarSummary:0' shape=() dtype=string>"
      ]
     },
     "execution_count": 26,
     "metadata": {},
     "output_type": "execute_result"
    }
   ],
   "source": [
    "elbo = make_ELBO({A: q_A, B: q_B, C: q_C, \n",
    "                  muA: q_muA, muB: q_muB, muC: q_muC,\n",
    "                  sigA: q_sigA, sigB: q_sigB, sigC: q_sigC,\n",
    "                  Z: q_Z, sig: q_sig, pi: q_pi, lam: q_lam}, \n",
    "                 {cnt: tf.cast(batch_counts, 'float32')}, \n",
    "                 {lam: N/NB, cnt: N/NB})\n",
    "\n",
    "tf.scalar_summary('ELBO', elbo)"
   ]
  },
  {
   "cell_type": "markdown",
   "metadata": {},
   "source": [
    "# Do variational inference"
   ]
  },
  {
   "cell_type": "markdown",
   "metadata": {},
   "source": [
    "Given $z_{sk} \\sim \\mathrm{Ber}(\\pi_k)$ and $\\log \\Lambda \\equiv \\lambda_{us} \\sim \\mathcal{N}(A_u + (B \\cdot X)_{us} + (C \\cdot Z)_{us}, \\sigma^2)$, we can calculate closed-form updates for $Z$. However, above, we have flattened $\\lambda$ into a single vector for each trial, with vectors $S$ and $U$ listing the stimulus and unit corresponding to each observation.\n",
    "\n",
    "Collecting the pieces involving $\\xi_{ks} = \\mathbb{E}[Z_{ks}]$ in the ELBO (prior to expectations wrt $q(A, B, C, \\lambda)$), we have:\n",
    "\n",
    "$$\n",
    "\\begin{align}\n",
    "\\mathcal{L} &=\n",
    "\\sum_{ks}\\xi_{ks}\\log \\frac{\\pi_k}{1 - \\pi_k} + \\mathcal{M} + \\sum_{ks} \\mathcal{H}(\\xi_{ks})\\\\\n",
    "\\mathcal{H}(\\xi_{ks}) &= -\\xi_{ks}\\log \\xi_{ks} - (1 - \\xi_{ks})\\log (1 - \\xi_{ks}) \\\\\n",
    "\\mathcal{M} &= -\\frac{1}{2\\sigma^2}\\sum_{u,s,j=1\\ldots N_{us}} \\mathbb{E}_z \n",
    "\\left[\n",
    "-2(C \\cdot Z)_{us}(\\lambda^{(j)}_{us} - A_u - (B\\cdot X)_{us}) + (C \\cdot Z)_{us}^2\n",
    "\\right] \\\\\n",
    "&= -\\frac{1}{2\\sigma^2}\\sum_{usj} \\left[\n",
    "-2(C \\cdot \\xi)_{us} (\\lambda^{(j)}_{us} - A_u - (B\\cdot X)_{us}) \n",
    "+ \\sum_{k\\neq k'} C_{uk}C_{uk'} \\xi_{ks}\\xi_{k's} + \\sum_k C^2_{uk}\\xi_{ks}\n",
    "\\right] \\\\\n",
    "&= -\\frac{1}{2\\sigma^2}\\sum_{usj} \\left[\n",
    "-2(C \\cdot \\xi)_{us} (\\lambda^{(j)}_{us} - A_u - (B\\cdot X)_{us}) \n",
    "+ (C \\cdot \\xi)^2_{us} + \\sum_k C^2_{uk}\\xi_{ks}(1 - \\xi_{ks})\n",
    "\\right]\n",
    "\\end{align}\n",
    "$$\n",
    "\n",
    "where the derivation expands the square in the log of the normal distribution and makes use of the fact that $z_{ks} \\in \\{ 0, 1\\} \\Rightarrow z_{ks}^2 = z_{ks}$. In addition, we have let $N_{us}$ be the number of observations of stimulus $s$ by unit $u$, indexed by $j$.\n",
    "\n",
    "Given this result, differentiating wrt $\\xi$ gives the result\n",
    "\n",
    "$$\n",
    "\\begin{align}\n",
    "\\log \\frac{\\xi_{ks}}{1 - \\xi_{ks}} &= \n",
    "\\log \\frac{\\pi_k}{1 - \\pi_k}\n",
    "-\\frac{1}{2\\sigma^2} \\sum_{uj} \\left[\n",
    "-2C_{uk} (\\lambda^{(j)}_{us} - A_u - (B\\cdot X)_{us} - (C \\cdot \\xi_{ks})) \n",
    "+ C^2_{uk}(1 - 2\\xi_{ks})\n",
    "\\right]\n",
    "\\end{align}\n",
    "$$\n",
    "\n",
    "Note that despite appearances, the right hand side does *not* depend on $\\xi_{ks}$. This means that we can \n",
    "solve for $\\xi_{ks}$ given $\\xi_{k's}$ for $k' \\neq k$. Solving for all these equations simultaneously is not possible in general in closed form, but it leaves two options:\n",
    "1. Solve for all $\\xi^{(t)}_{ks}$ given $\\xi^{(t - 1)}_{ks}$, the values at the previous iteration.\n",
    "1. Iterate through $k$, updating each $\\xi_{ks}$ in turn given the current value of the others. In this method, the first $k$ chosen uses the values from the previous iteration, while the last $k$ uses updated values. "
   ]
  },
  {
   "cell_type": "markdown",
   "metadata": {},
   "source": [
    "In addition, if we make the assumption that the posterior over $C$ is normally distributed, we can take the expectation of the above update rule wrt $C$. (The expectations wrt $A$, $B$, and $\\lambda$ are trivial. Since each only appears linearly, we only need to know the mean of the approximate posterior. For $\\sigma$, we would need a posterior that allows us to compute $\\mathbb{E}[\\sigma^{-2}]$.)\n",
    "\n",
    "In this case, it is straightforward to work out that\n",
    "$$\n",
    "\\begin{align}\n",
    "\\log \\frac{\\xi_{ks}}{1 - \\xi_{ks}} &= \n",
    "\\log \\frac{\\pi_k}{1 - \\pi_k}\n",
    "-\\frac{1}{2\\sigma^2} \\sum_{uj} \\left[\n",
    "-2\\overline{C}_{uk} (\\lambda^{(j)}_{us} - A_u - (B\\cdot X)_{us} - (\\overline{C} \\cdot \\xi_{ks})) \n",
    "+ \\overline{C}^2_{uk}(1 - 2\\xi_{ks}) + \\mathrm{var}[C]_{uk}\n",
    "\\right]\n",
    "\\end{align}\n",
    "$$\n",
    "using \n",
    "$$\n",
    "\\mathbb{E}_z \\left[\n",
    "2 C_{uk}(C \\cdot \\xi)_{us} + C^2_{uk}(1 - 2\\xi_{ks})\n",
    "\\right]\n",
    "=\n",
    "2 \\overline{C}_{uk}(\\overline{C}\\cdot \\xi)_{us} + \\overline{C}^2_{uk}(1 - 2\\xi_{ks}) + \\mathrm{var}[C]_{uk}\n",
    "$$"
   ]
  },
  {
   "cell_type": "code",
   "execution_count": 27,
   "metadata": {
    "collapsed": false
   },
   "outputs": [],
   "source": [
    "def update_z():\n",
    "    # update binary feature matrix based on exact conjugate update\n",
    "    with tf.variable_scope(\"update_z\"):\n",
    "        # logit piece\n",
    "        pi_val = q_pi.value()\n",
    "        logit_pi = tf.log(pi_val) - tf.log(1. - pi_val)\n",
    "        \n",
    "        # C^2 piece\n",
    "        C = q_C.value()  # NU x K\n",
    "        quad_piece = tf.matmul(NSU, tf.square(C), name='quadratic_piece')\n",
    "        \n",
    "        # sample log firing rate values\n",
    "        lam_val = q_lam.value()  \n",
    "        \n",
    "        # now get \\lam_{su} summed over observations\n",
    "        lam_su_flat = tf.unsorted_segment_sum(lam_val, codes_SU, NS * NU, name='lam_collect')\n",
    "        lam_su = tf.reshape(lam_su_flat, (NS, NU), name='lam_su')\n",
    "        \n",
    "        # get A and BX (summed over observations)\n",
    "        # recall that X is in \"long\" format, and so must \n",
    "        # be handled with unsorted_segment_sum, like lambda\n",
    "        A = tf.expand_dims(q_A.value(), 0) * NSU\n",
    "        BX_long = tf.reduce_sum(tf.gather(B, U) * X, 1)\n",
    "        BX_summed = tf.unsorted_segment_sum(BX_long, codes_SU, NS * NU)\n",
    "        BX = tf.reshape(BX_summed, (NS, NU), name='BX')\n",
    "        \n",
    "        # lam_su * C_{uk}\n",
    "        lin_piece = tf.matmul(lam_su - A - BX, C, name='linear_piece')\n",
    "        \n",
    "        prec = 1/tf.square(q_sig.value())\n",
    "        \n",
    "        z_coeff = logit_pi - prec * (0.5 * quad_piece - lin_piece)\n",
    "        \n",
    "        update_z_op = Zlogit.assign(z_coeff)\n",
    "        \n",
    "        return update_z_op"
   ]
  },
  {
   "cell_type": "code",
   "execution_count": 28,
   "metadata": {
    "collapsed": true
   },
   "outputs": [],
   "source": [
    "def update_pi():\n",
    "    # update probabilites for features based on exact conjugate update\n",
    "    with tf.variable_scope(\"update_pi\"):\n",
    "        xi = q_Z.mean()\n",
    "        new_a = tf.reduce_sum(xi, 0) + a_prior\n",
    "        new_b = tf.reduce_sum(1. - xi, 0) + b_prior\n",
    "        update_a_op = a_var.assign(new_a)\n",
    "        update_b_op = b_var.assign(new_b)\n",
    "        \n",
    "    return [update_a_op, update_b_op]"
   ]
  },
  {
   "cell_type": "code",
   "execution_count": 29,
   "metadata": {
    "collapsed": true
   },
   "outputs": [],
   "source": [
    "data = {cnt: batch_counts}\n",
    "inference_lam = ed.KLqp({lam: q_lam, sig: q_sig}, \n",
    "                        data={cnt: batch_counts, \n",
    "                              Z: q_Z, pi: q_pi, \n",
    "                              A: q_A, B: q_B, C: q_C,\n",
    "                              muA: q_muA, muB: q_muB, muC: q_muC,\n",
    "                              sigA: q_sigA, sigB: q_sigB, sigC: q_sigC})\n",
    "inference_coeffs = ed.KLqp({A: q_A, B: q_B, C: q_C}, \n",
    "                           data={cnt: batch_counts, \n",
    "                                 lam: q_lam, sig: q_sig,\n",
    "                                 Z: q_Z, pi: q_pi, \n",
    "                                 muA: q_muA, muB: q_muB, muC: q_muC,\n",
    "                                 sigA: q_sigA, sigB: q_sigB, sigC: q_sigC})\n",
    "inference_pop = ed.KLqp({muA: q_muA, muB: q_muB, muC: q_muC,\n",
    "                        sigA: q_sigA, sigB: q_sigB, sigC: q_sigC},\n",
    "                       data={cnt: batch_counts, \n",
    "                             lam: q_lam, sig: q_sig,\n",
    "                             Z: q_Z, pi: q_pi, \n",
    "                             A: q_A, B: q_B, C: q_C})\n",
    "inference_latents = update_z()\n",
    "inference_probs = update_pi()"
   ]
  },
  {
   "cell_type": "raw",
   "metadata": {
    "collapsed": false
   },
   "source": [
    "data = {cnt: batch_counts}\n",
    "inference_lam = ed.KLqp({lam: q_lam, sig: q_sig}, \n",
    "                        data={cnt: batch_counts, \n",
    "                              Z: q_Z, pi: q_pi, \n",
    "                              A: q_A, B: q_B, C: q_C,\n",
    "                              muA: q_muA, muB: q_muB, muC: q_muC,\n",
    "                              sigA: q_sigA, sigB: q_sigB, sigC: q_sigC})\n",
    "inference_coeffs = ed.KLqp({A: q_A, B: q_B, C: q_C, \n",
    "                            muA: q_muA, muB: q_muB, muC: q_muC,\n",
    "                            sigA: q_sigA, sigB: q_sigB, sigC: q_sigC}, \n",
    "                           data={cnt: batch_counts, \n",
    "                                 lam: q_lam, sig: q_sig,\n",
    "                                 Z: q_Z, pi: q_pi})\n",
    "\n",
    "inference_latents = update_z()\n",
    "inference_probs = update_pi()"
   ]
  },
  {
   "cell_type": "markdown",
   "metadata": {},
   "source": [
    "# Notes on inference:\n",
    "\n",
    "- The `logdir` keyword specifies the place to put the log file (assuming you've instrumented the code to save events, etc.). If a subdirectory is given, pointing Tensorboard at the parent directory allows you to compare across subdirectories (runs).\n",
    "    - I'm using the `jmp/instrumented` branch of the `jmxpearson/edward` fork\n",
    "- The learning rate is a difficult tradeoff: 1e-2 drastically speeds convergence but can run into NaNs; 1e-3 (the default) is much slower.\n",
    "    - **TO DO**: Does regularizing emergence of `NaN`s help with this?\n",
    "- I'm currently using \"all\" the data, which appears to be faster (run-time, wise) than using minibatches. (Not entirely sure why this is, except perhaps that switching data into and out of the graph has a cost.) I've also found that minibatches need to be fairly substantial to be effective, since most variables ($\\lambda$, $A$, $B$, $C$) are unit-specific (i.e., local), so unless you have several observations from that unit, convergence can be slow.\n",
    "    - Ultimately, it might speed things to have a smarter minibatch selection (i.e., all observations for a single unit) when updating the local variables.\n",
    "- I've used `n_samples` = 1, 5, 10, and 25, which all seem pretty similar after 10k iterations. \n",
    "- I've noticed no difference below in how many steps one takes along each coordinate before switching (number of inner loop iterations), either in runtime or convergence. Perhaps this matters in the final stages, but I would suspect that then it favors tighter inner loops."
   ]
  },
  {
   "cell_type": "code",
   "execution_count": 30,
   "metadata": {
    "collapsed": false
   },
   "outputs": [],
   "source": [
    "# Initialize each (Edward) inference step\n",
    "debug = False\n",
    "inf_list = [inference_lam, inference_coeffs, inference_pop]\n",
    "for inf in inf_list:\n",
    "    if inf is inference_lam:\n",
    "        logdir = 'data/run1'\n",
    "    else:\n",
    "        logdir = None\n",
    "        \n",
    "    inf.initialize(n_print=100, n_samples=1,  \n",
    "                  logdir=logdir,\n",
    "                  optimizer=tf.train.AdamOptimizer(1e-1),\n",
    "                  scale={lam: N/NB, cnt: N/NB},\n",
    "                  debug=debug)"
   ]
  },
  {
   "cell_type": "code",
   "execution_count": 31,
   "metadata": {
    "collapsed": true
   },
   "outputs": [],
   "source": [
    "init = tf.initialize_all_variables()\n",
    "init.run({})"
   ]
  },
  {
   "cell_type": "code",
   "execution_count": 50,
   "metadata": {
    "collapsed": false,
    "scrolled": true
   },
   "outputs": [
    {
     "name": "stdout",
     "output_type": "stream",
     "text": [
      "Iteration 240100 [24010%]: Loss = 373069.219\n",
      "Iteration 240200 [24020%]: Loss = 364673.438\n",
      "Iteration 240300 [24030%]: Loss = 359114.125\n",
      "Iteration 240400 [24040%]: Loss = 362114.875\n",
      "Iteration 240500 [24050%]: Loss = 363884.562\n",
      "Iteration 240600 [24060%]: Loss = 356831.531\n",
      "Iteration 240700 [24070%]: Loss = 361441.062\n",
      "Iteration 240800 [24080%]: Loss = 357246.312\n",
      "Iteration 240900 [24090%]: Loss = 370905.938\n",
      "Iteration 241000 [24100%]: Loss = 366204.531\n",
      "Iteration 241100 [24110%]: Loss = 401237.938\n",
      "Iteration 241200 [24120%]: Loss = 368650.875\n",
      "Iteration 241300 [24130%]: Loss = 372243.281\n",
      "Iteration 241400 [24140%]: Loss = 382306.438\n",
      "Iteration 241500 [24150%]: Loss = 359443.562\n",
      "Iteration 241600 [24160%]: Loss = 366023.562\n",
      "Iteration 241700 [24170%]: Loss = 369442.594\n",
      "Iteration 241800 [24180%]: Loss = 360584.750\n",
      "Iteration 241900 [24190%]: Loss = 377516.281\n",
      "Iteration 242000 [24200%]: Loss = 360623.219\n",
      "Iteration 242100 [24210%]: Loss = 378490.688\n",
      "Iteration 242200 [24220%]: Loss = 361778.656\n",
      "Iteration 242300 [24230%]: Loss = 364259.906\n",
      "Iteration 242400 [24240%]: Loss = 371037.406\n",
      "Iteration 242500 [24250%]: Loss = 367244.938\n",
      "Iteration 242600 [24260%]: Loss = 368146.062\n",
      "Iteration 242700 [24270%]: Loss = 369605.969\n",
      "Iteration 242800 [24280%]: Loss = 388535.656\n",
      "Iteration 242900 [24290%]: Loss = 367427.719\n",
      "Iteration 243000 [24300%]: Loss = 503602.906\n",
      "Iteration 243100 [24310%]: Loss = 827618.250\n",
      "Iteration 243200 [24320%]: Loss = 375123.000\n",
      "Iteration 243300 [24330%]: Loss = 369351.344\n",
      "Iteration 243400 [24340%]: Loss = 369688.250\n",
      "Iteration 243500 [24350%]: Loss = 360218.812\n",
      "Iteration 243600 [24360%]: Loss = 364356.719\n",
      "Iteration 243700 [24370%]: Loss = 361698.156\n",
      "Iteration 243800 [24380%]: Loss = 365052.844\n",
      "Iteration 243900 [24390%]: Loss = 364532.844\n",
      "Iteration 244000 [24400%]: Loss = 370457.375\n",
      "Iteration 244100 [24410%]: Loss = 360827.750\n",
      "Iteration 244200 [24420%]: Loss = 365165.281\n",
      "Iteration 244300 [24430%]: Loss = 365988.188\n",
      "Iteration 244400 [24440%]: Loss = 359247.625\n",
      "Iteration 244500 [24450%]: Loss = 356980.375\n",
      "Iteration 244600 [24460%]: Loss = 366367.500\n",
      "Iteration 244700 [24470%]: Loss = 358667.750\n",
      "Iteration 244800 [24480%]: Loss = 398092.531\n",
      "Iteration 244900 [24490%]: Loss = 383321.094\n",
      "Iteration 245000 [24500%]: Loss = 366263.750\n",
      "Iteration 245100 [24510%]: Loss = 369882.844\n",
      "Iteration 245200 [24520%]: Loss = 376142.938\n",
      "Iteration 245300 [24530%]: Loss = 361494.094\n",
      "Iteration 245400 [24540%]: Loss = 365726.844\n",
      "Iteration 245500 [24550%]: Loss = 361686.844\n",
      "Iteration 245600 [24560%]: Loss = 357247.406\n",
      "Iteration 245700 [24570%]: Loss = 366181.281\n",
      "Iteration 245800 [24580%]: Loss = 419309.500\n",
      "Iteration 245900 [24590%]: Loss = 365488.125\n",
      "Iteration 246000 [24600%]: Loss = 360860.125\n",
      "Iteration 246100 [24610%]: Loss = 411435.031\n",
      "Iteration 246200 [24620%]: Loss = 358970.125\n",
      "Iteration 246300 [24630%]: Loss = 401935.875\n",
      "Iteration 246400 [24640%]: Loss = 383127.156\n",
      "Iteration 246500 [24650%]: Loss = 410202.625\n",
      "Iteration 246600 [24660%]: Loss = 390853.188\n",
      "Iteration 246700 [24670%]: Loss = 359083.500\n",
      "Iteration 246800 [24680%]: Loss = 363118.750\n",
      "Iteration 246900 [24690%]: Loss = 365073.656\n",
      "Iteration 247000 [24700%]: Loss = 360269.625\n",
      "Iteration 247100 [24710%]: Loss = 400681.750\n",
      "Iteration 247200 [24720%]: Loss = 372158.656\n",
      "Iteration 247300 [24730%]: Loss = 386797.812\n",
      "Iteration 247400 [24740%]: Loss = 390985.906\n",
      "Iteration 247500 [24750%]: Loss = 385075.250\n",
      "Iteration 247600 [24760%]: Loss = 377520.375\n",
      "Iteration 247700 [24770%]: Loss = 381595.688\n",
      "Iteration 247800 [24780%]: Loss = 368456.281\n",
      "Iteration 247900 [24790%]: Loss = 376587.688\n",
      "Iteration 248000 [24800%]: Loss = 367358.344\n",
      "Iteration 248100 [24810%]: Loss = 358342.062\n",
      "Iteration 248200 [24820%]: Loss = 358447.531\n",
      "Iteration 248300 [24830%]: Loss = 359126.125\n",
      "Iteration 248400 [24840%]: Loss = 366199.875\n",
      "Iteration 248500 [24850%]: Loss = 365951.031\n",
      "Iteration 248600 [24860%]: Loss = 379276.312\n",
      "Iteration 248700 [24870%]: Loss = 361749.219\n",
      "Iteration 248800 [24880%]: Loss = 364268.531\n",
      "Iteration 248900 [24890%]: Loss = 366348.062\n",
      "Iteration 249000 [24900%]: Loss = 377634.125\n",
      "Iteration 249100 [24910%]: Loss = 370705.094\n",
      "Iteration 249200 [24920%]: Loss = 363393.875\n",
      "Iteration 249300 [24930%]: Loss = 360363.125\n",
      "Iteration 249400 [24940%]: Loss = 374359.750\n",
      "Iteration 249500 [24950%]: Loss = 369132.000\n",
      "Iteration 249600 [24960%]: Loss = 369789.312\n",
      "Iteration 249700 [24970%]: Loss = 373163.500\n",
      "Iteration 249800 [24980%]: Loss = 363704.031\n",
      "Iteration 249900 [24990%]: Loss = 375859.625\n",
      "Iteration 250000 [25000%]: Loss = 363840.625\n",
      "Iteration 250100 [25010%]: Loss = 368218.906\n",
      "Iteration 250200 [25020%]: Loss = 375785.406\n",
      "Iteration 250300 [25030%]: Loss = 367985.469\n",
      "Iteration 250400 [25040%]: Loss = 363420.312\n",
      "Iteration 250500 [25050%]: Loss = 368740.000\n",
      "Iteration 250600 [25060%]: Loss = 368061.188\n",
      "Iteration 250700 [25070%]: Loss = 366822.156\n",
      "Iteration 250800 [25080%]: Loss = 366715.094\n",
      "Iteration 250900 [25090%]: Loss = 371273.156\n",
      "Iteration 251000 [25100%]: Loss = 379397.844\n",
      "Iteration 251100 [25110%]: Loss = 403191.062\n",
      "Iteration 251200 [25120%]: Loss = 373512.250\n",
      "Iteration 251300 [25130%]: Loss = 375595.750\n",
      "Iteration 251400 [25140%]: Loss = 371487.375\n",
      "Iteration 251500 [25150%]: Loss = 364780.188\n",
      "Iteration 251600 [25160%]: Loss = 365705.969\n",
      "Iteration 251700 [25170%]: Loss = 360319.406\n",
      "Iteration 251800 [25180%]: Loss = 363336.562\n",
      "Iteration 251900 [25190%]: Loss = 370181.250\n",
      "Iteration 252000 [25200%]: Loss = 366004.750\n",
      "Iteration 252100 [25210%]: Loss = 362780.750\n",
      "Iteration 252200 [25220%]: Loss = 361648.375\n",
      "Iteration 252300 [25230%]: Loss = 377007.062\n",
      "Iteration 252400 [25240%]: Loss = 379261.375\n",
      "Iteration 252500 [25250%]: Loss = 383332.531\n",
      "Iteration 252600 [25260%]: Loss = 401260.625\n",
      "Iteration 252700 [25270%]: Loss = 436229.594\n",
      "Iteration 252800 [25280%]: Loss = 492014.844\n",
      "Iteration 252900 [25290%]: Loss = 454908.438\n",
      "Iteration 253000 [25300%]: Loss = 400784.344\n",
      "Iteration 253100 [25310%]: Loss = 457920.719\n",
      "Iteration 253200 [25320%]: Loss = 436012.000\n",
      "Iteration 253300 [25330%]: Loss = 418002.031\n",
      "Iteration 253400 [25340%]: Loss = 457632.094\n",
      "Iteration 253500 [25350%]: Loss = 425357.000\n",
      "Iteration 253600 [25360%]: Loss = 391634.875\n",
      "Iteration 253700 [25370%]: Loss = 385880.906\n",
      "Iteration 253800 [25380%]: Loss = 377998.406\n",
      "Iteration 253900 [25390%]: Loss = 375915.156\n",
      "Iteration 254000 [25400%]: Loss = 386356.969\n",
      "Iteration 254100 [25410%]: Loss = 368112.781\n",
      "Iteration 254200 [25420%]: Loss = 366425.438\n",
      "Iteration 254300 [25430%]: Loss = 369615.250\n",
      "Iteration 254400 [25440%]: Loss = 364095.844\n",
      "Iteration 254500 [25450%]: Loss = 363730.719\n",
      "Iteration 254600 [25460%]: Loss = 362038.312\n",
      "Iteration 254700 [25470%]: Loss = 363499.062\n",
      "Iteration 254800 [25480%]: Loss = 366669.094\n",
      "Iteration 254900 [25490%]: Loss = 366126.906\n",
      "Iteration 255000 [25500%]: Loss = 388833.625\n",
      "Iteration 255100 [25510%]: Loss = 373339.375\n",
      "Iteration 255200 [25520%]: Loss = 366424.312\n",
      "Iteration 255300 [25530%]: Loss = 362924.750\n",
      "Iteration 255400 [25540%]: Loss = 373066.281\n",
      "Iteration 255500 [25550%]: Loss = 375214.750\n",
      "Iteration 255600 [25560%]: Loss = 407022.625\n",
      "Iteration 255700 [25570%]: Loss = 381395.594\n",
      "Iteration 255800 [25580%]: Loss = 412072.125\n",
      "Iteration 255900 [25590%]: Loss = 429915.000\n",
      "Iteration 256000 [25600%]: Loss = 434497.562\n",
      "Iteration 256100 [25610%]: Loss = 401136.406\n",
      "Iteration 256200 [25620%]: Loss = 417016.594\n",
      "Iteration 256300 [25630%]: Loss = 386773.938\n",
      "Iteration 256400 [25639%]: Loss = 386310.938\n",
      "Iteration 256500 [25650%]: Loss = 455845.125\n",
      "Iteration 256600 [25660%]: Loss = 472244.188\n",
      "Iteration 256700 [25670%]: Loss = 420555.469\n",
      "Iteration 256800 [25680%]: Loss = 395551.656\n",
      "Iteration 256900 [25689%]: Loss = 388515.031\n",
      "Iteration 257000 [25700%]: Loss = 405765.906\n",
      "Iteration 257100 [25710%]: Loss = 409541.688\n",
      "Iteration 257200 [25720%]: Loss = 375153.719\n",
      "Iteration 257300 [25730%]: Loss = 396442.625\n",
      "Iteration 257400 [25739%]: Loss = 406117.906\n",
      "Iteration 257500 [25750%]: Loss = 393712.594\n",
      "Iteration 257600 [25760%]: Loss = 431796.875\n",
      "Iteration 257700 [25770%]: Loss = 386453.875\n",
      "Iteration 257800 [25780%]: Loss = 421493.469\n",
      "Iteration 257900 [25789%]: Loss = 382987.375\n",
      "Iteration 258000 [25800%]: Loss = 380428.281\n",
      "Iteration 258100 [25810%]: Loss = 375386.906\n",
      "Iteration 258200 [25820%]: Loss = 375743.531\n",
      "Iteration 258300 [25830%]: Loss = 368718.719\n",
      "Iteration 258400 [25839%]: Loss = 376996.781\n",
      "Iteration 258500 [25850%]: Loss = 369398.156\n",
      "Iteration 258600 [25860%]: Loss = 378220.156\n",
      "Iteration 258700 [25870%]: Loss = 375401.688\n",
      "Iteration 258800 [25880%]: Loss = 377653.938\n",
      "Iteration 258900 [25889%]: Loss = 391505.344\n",
      "Iteration 259000 [25900%]: Loss = 371201.938\n",
      "Iteration 259100 [25910%]: Loss = 377347.656\n",
      "Iteration 259200 [25920%]: Loss = 378336.875\n",
      "Iteration 259300 [25930%]: Loss = 393534.281\n",
      "Iteration 259400 [25939%]: Loss = 382942.375\n",
      "Iteration 259500 [25950%]: Loss = 393027.062\n",
      "Iteration 259600 [25960%]: Loss = 386074.375\n",
      "Iteration 259700 [25970%]: Loss = 371129.750\n",
      "Iteration 259800 [25980%]: Loss = 376883.594\n",
      "Iteration 259900 [25989%]: Loss = 359406.125\n",
      "Iteration 260000 [26000%]: Loss = 398212.469\n",
      "Iteration 260100 [26010%]: Loss = 388590.594\n",
      "Iteration 260200 [26020%]: Loss = 360735.281\n",
      "Iteration 260300 [26030%]: Loss = 364431.500\n",
      "Iteration 260400 [26039%]: Loss = 366634.000\n",
      "Iteration 260500 [26050%]: Loss = 370185.781\n",
      "Iteration 260600 [26060%]: Loss = 373475.375\n",
      "Iteration 260700 [26070%]: Loss = 365671.375\n",
      "Iteration 260800 [26080%]: Loss = 382533.812\n",
      "Iteration 260900 [26089%]: Loss = 366980.281\n",
      "Iteration 261000 [26100%]: Loss = 361626.656\n",
      "Iteration 261100 [26110%]: Loss = 365819.125\n",
      "Iteration 261200 [26120%]: Loss = 370136.812\n",
      "Iteration 261300 [26130%]: Loss = 368547.750\n",
      "Iteration 261400 [26139%]: Loss = 364920.875\n",
      "Iteration 261500 [26150%]: Loss = 365886.969\n",
      "Iteration 261600 [26160%]: Loss = 365635.719\n",
      "Iteration 261700 [26170%]: Loss = 367331.531\n",
      "Iteration 261800 [26180%]: Loss = 540683.188\n",
      "Iteration 261900 [26189%]: Loss = 499956.844\n",
      "Iteration 262000 [26200%]: Loss = 460882.000\n",
      "Iteration 262100 [26210%]: Loss = 394517.812\n",
      "Iteration 262200 [26220%]: Loss = 386168.000\n",
      "Iteration 262300 [26230%]: Loss = 370804.000\n",
      "Iteration 262400 [26239%]: Loss = 369069.844\n",
      "Iteration 262500 [26250%]: Loss = 369816.531\n",
      "Iteration 262600 [26260%]: Loss = 363589.156\n",
      "Iteration 262700 [26270%]: Loss = 375072.312\n",
      "Iteration 262800 [26280%]: Loss = 371703.312\n",
      "Iteration 262900 [26289%]: Loss = 370360.125\n",
      "Iteration 263000 [26300%]: Loss = 385528.125\n",
      "Iteration 263100 [26310%]: Loss = 406089.344\n",
      "Iteration 263200 [26320%]: Loss = 369928.000\n",
      "Iteration 263300 [26330%]: Loss = 373037.125\n",
      "Iteration 263400 [26339%]: Loss = 383305.531\n",
      "Iteration 263500 [26350%]: Loss = 376585.094\n",
      "Iteration 263600 [26360%]: Loss = 368451.250\n",
      "Iteration 263700 [26370%]: Loss = 372553.406\n",
      "Iteration 263800 [26380%]: Loss = 373980.375\n",
      "Iteration 263900 [26389%]: Loss = 366753.438\n",
      "Iteration 264000 [26400%]: Loss = 374163.906\n",
      "Iteration 264100 [26410%]: Loss = 389579.000\n",
      "Iteration 264200 [26420%]: Loss = 374001.188\n",
      "Iteration 264300 [26430%]: Loss = 374606.281\n",
      "Iteration 264400 [26439%]: Loss = 368867.594\n",
      "Iteration 264500 [26450%]: Loss = 376067.938\n",
      "Iteration 264600 [26460%]: Loss = 373902.750\n",
      "Iteration 264700 [26470%]: Loss = 396876.719\n",
      "Iteration 264800 [26480%]: Loss = 414368.312\n",
      "Iteration 264900 [26489%]: Loss = 376759.625\n",
      "Iteration 265000 [26500%]: Loss = 373234.781\n",
      "Iteration 265100 [26510%]: Loss = 372392.875\n",
      "Iteration 265200 [26520%]: Loss = 401284.438\n",
      "Iteration 265300 [26530%]: Loss = 401474.781\n",
      "Iteration 265400 [26539%]: Loss = 400752.062\n",
      "Iteration 265500 [26550%]: Loss = 462614.156\n",
      "Iteration 265600 [26560%]: Loss = 371973.000\n",
      "Iteration 265700 [26570%]: Loss = 368377.906\n",
      "Iteration 265800 [26580%]: Loss = 376795.312\n",
      "Iteration 265900 [26589%]: Loss = 390158.000\n",
      "Iteration 266000 [26600%]: Loss = 378345.125\n",
      "Iteration 266100 [26610%]: Loss = 377567.750\n",
      "Iteration 266200 [26620%]: Loss = 373737.375\n",
      "Iteration 266300 [26630%]: Loss = 381747.594\n",
      "Iteration 266400 [26639%]: Loss = 385335.156\n",
      "Iteration 266500 [26650%]: Loss = 373398.219\n",
      "Iteration 266600 [26660%]: Loss = 385588.062\n",
      "Iteration 266700 [26670%]: Loss = 408792.594\n",
      "Iteration 266800 [26680%]: Loss = 408096.062\n",
      "Iteration 266900 [26689%]: Loss = 415134.406\n",
      "Iteration 267000 [26700%]: Loss = 426522.938\n",
      "Iteration 267100 [26710%]: Loss = 401858.438\n",
      "Iteration 267200 [26720%]: Loss = 386018.125\n",
      "Iteration 267300 [26730%]: Loss = 405782.750\n",
      "Iteration 267400 [26739%]: Loss = 446099.438\n",
      "Iteration 267500 [26750%]: Loss = 391727.438\n",
      "Iteration 267600 [26760%]: Loss = 414266.156\n",
      "Iteration 267700 [26770%]: Loss = 401998.156\n",
      "Iteration 267800 [26780%]: Loss = 365764.062\n",
      "Iteration 267900 [26789%]: Loss = 370500.281\n",
      "Iteration 268000 [26800%]: Loss = 370193.000\n",
      "Iteration 268100 [26810%]: Loss = 367557.750\n",
      "Iteration 268200 [26820%]: Loss = 372913.156\n",
      "Iteration 268300 [26830%]: Loss = 363060.875\n",
      "Iteration 268400 [26839%]: Loss = 367041.250\n",
      "Iteration 268500 [26850%]: Loss = 365641.594\n",
      "Iteration 268600 [26860%]: Loss = 362548.000\n",
      "Iteration 268700 [26870%]: Loss = 363957.594\n",
      "Iteration 268800 [26880%]: Loss = 364118.375\n",
      "Iteration 268900 [26889%]: Loss = 359728.031\n",
      "Iteration 269000 [26900%]: Loss = 366487.062\n",
      "Iteration 269100 [26910%]: Loss = 368395.219\n",
      "Iteration 269200 [26920%]: Loss = 411130.781\n",
      "Iteration 269300 [26930%]: Loss = 864278.875\n",
      "Iteration 269400 [26939%]: Loss = 618576.875\n",
      "Iteration 269500 [26950%]: Loss = 550690.125\n",
      "Iteration 269600 [26960%]: Loss = 608084.188\n",
      "Iteration 269700 [26970%]: Loss = 495612.875\n",
      "Iteration 269800 [26980%]: Loss = 450364.688\n",
      "Iteration 269900 [26989%]: Loss = 419875.750\n",
      "Iteration 270000 [27000%]: Loss = 431555.375\n",
      "Iteration 270100 [27010%]: Loss = 411785.438\n",
      "Iteration 270200 [27020%]: Loss = 437475.969\n",
      "Iteration 270300 [27030%]: Loss = 429685.375\n",
      "Iteration 270400 [27039%]: Loss = 438098.781\n",
      "Iteration 270500 [27050%]: Loss = 433242.562\n",
      "Iteration 270600 [27060%]: Loss = 538944.500\n",
      "Iteration 270700 [27070%]: Loss = 549253.688\n",
      "Iteration 270800 [27080%]: Loss = 557672.375\n",
      "Iteration 270900 [27089%]: Loss = 404506.219\n",
      "Iteration 271000 [27100%]: Loss = 458381.344\n",
      "Iteration 271100 [27110%]: Loss = 458324.969\n",
      "Iteration 271200 [27120%]: Loss = 425097.281\n",
      "Iteration 271300 [27130%]: Loss = 403380.875\n",
      "Iteration 271400 [27139%]: Loss = 394014.344\n",
      "Iteration 271500 [27150%]: Loss = 382651.031\n",
      "Iteration 271600 [27160%]: Loss = 389695.031\n",
      "Iteration 271700 [27170%]: Loss = 471728.375\n",
      "Iteration 271800 [27180%]: Loss = 482595.875\n",
      "Iteration 271900 [27189%]: Loss = 423699.094\n",
      "Iteration 272000 [27200%]: Loss = 417527.219\n",
      "Iteration 272100 [27210%]: Loss = 379049.406\n",
      "Iteration 272200 [27220%]: Loss = 418965.219\n",
      "Iteration 272300 [27230%]: Loss = 426429.469\n",
      "Iteration 272400 [27239%]: Loss = 795433.312\n",
      "Iteration 272500 [27250%]: Loss = 1562150.875\n",
      "Iteration 272600 [27260%]: Loss = 514202.656\n",
      "Iteration 272700 [27270%]: Loss = 768644.500\n",
      "Iteration 272800 [27280%]: Loss = 513979.438\n",
      "Iteration 272900 [27289%]: Loss = 437942.312\n",
      "Iteration 273000 [27300%]: Loss = 457170.094\n",
      "Iteration 273100 [27310%]: Loss = 447623.094\n",
      "Iteration 273200 [27320%]: Loss = 476766.219\n",
      "Iteration 273300 [27330%]: Loss = 606302.750\n",
      "Iteration 273400 [27339%]: Loss = 542363.000\n",
      "Iteration 273500 [27350%]: Loss = 402985.594\n",
      "Iteration 273600 [27360%]: Loss = 400569.906\n",
      "Iteration 273700 [27370%]: Loss = 395071.562\n",
      "Iteration 273800 [27380%]: Loss = 368815.156\n",
      "Iteration 273900 [27389%]: Loss = 371397.562\n",
      "Iteration 274000 [27400%]: Loss = 366924.250\n",
      "Iteration 274100 [27410%]: Loss = 365044.344\n",
      "Iteration 274200 [27420%]: Loss = 363875.062\n",
      "Iteration 274300 [27430%]: Loss = 363273.625\n",
      "Iteration 274400 [27439%]: Loss = 363326.531\n",
      "Iteration 274500 [27450%]: Loss = 361567.688\n",
      "Iteration 274600 [27460%]: Loss = 361353.188\n",
      "Iteration 274700 [27470%]: Loss = 359860.250\n",
      "Iteration 274800 [27480%]: Loss = 369829.844\n",
      "Iteration 274900 [27489%]: Loss = 363193.875\n",
      "Iteration 275000 [27500%]: Loss = 371724.375\n",
      "Iteration 275100 [27510%]: Loss = 361978.531\n",
      "Iteration 275200 [27520%]: Loss = 363921.188\n",
      "Iteration 275300 [27530%]: Loss = 363738.406\n",
      "Iteration 275400 [27539%]: Loss = 362760.688\n",
      "Iteration 275500 [27550%]: Loss = 369635.906\n",
      "Iteration 275600 [27560%]: Loss = 364205.125\n",
      "Iteration 275700 [27570%]: Loss = 364519.125\n",
      "Iteration 275800 [27580%]: Loss = 359416.781\n",
      "Iteration 275900 [27589%]: Loss = 360061.438\n",
      "Iteration 276000 [27600%]: Loss = 365048.812\n",
      "Iteration 276100 [27610%]: Loss = 373166.281\n",
      "Iteration 276200 [27620%]: Loss = 362824.688\n",
      "Iteration 276300 [27630%]: Loss = 364918.594\n",
      "Iteration 276400 [27639%]: Loss = 366939.625\n",
      "Iteration 276500 [27650%]: Loss = 366040.000\n",
      "Iteration 276600 [27660%]: Loss = 375966.688\n",
      "Iteration 276700 [27670%]: Loss = 379899.344\n",
      "Iteration 276800 [27680%]: Loss = 376021.625\n",
      "Iteration 276900 [27689%]: Loss = 373428.438\n",
      "Iteration 277000 [27700%]: Loss = 379614.562\n",
      "Iteration 277100 [27710%]: Loss = 377981.594\n",
      "Iteration 277200 [27720%]: Loss = 372567.812\n",
      "Iteration 277300 [27730%]: Loss = 366646.625\n",
      "Iteration 277400 [27739%]: Loss = 406232.812\n",
      "Iteration 277500 [27750%]: Loss = 380812.625\n",
      "Iteration 277600 [27760%]: Loss = 385723.469\n",
      "Iteration 277700 [27770%]: Loss = 379695.000\n",
      "Iteration 277800 [27780%]: Loss = 380978.562\n",
      "Iteration 277900 [27789%]: Loss = 389259.938\n",
      "Iteration 278000 [27800%]: Loss = 395853.906\n",
      "Iteration 278100 [27810%]: Loss = 376773.156\n",
      "Iteration 278200 [27820%]: Loss = 381458.844\n",
      "Iteration 278300 [27830%]: Loss = 384748.906\n",
      "Iteration 278400 [27839%]: Loss = 391109.938\n",
      "Iteration 278500 [27850%]: Loss = 416072.906\n",
      "Iteration 278600 [27860%]: Loss = 376007.062\n",
      "Iteration 278700 [27870%]: Loss = 393629.656\n",
      "Iteration 278800 [27880%]: Loss = 385869.344\n",
      "Iteration 278900 [27889%]: Loss = 400477.344\n",
      "Iteration 279000 [27900%]: Loss = 399519.812\n",
      "Iteration 279100 [27910%]: Loss = 393621.750\n",
      "Iteration 279200 [27920%]: Loss = 386417.875\n",
      "Iteration 279300 [27930%]: Loss = 392590.406\n",
      "Iteration 279400 [27939%]: Loss = 387119.375\n",
      "Iteration 279500 [27950%]: Loss = 377935.062\n",
      "Iteration 279600 [27960%]: Loss = 378158.125\n",
      "Iteration 279700 [27970%]: Loss = 382525.312\n",
      "Iteration 279800 [27980%]: Loss = 383549.031\n",
      "Iteration 279900 [27989%]: Loss = 392089.125\n",
      "Iteration 280000 [28000%]: Loss = 377075.156\n",
      "Iteration 280100 [28010%]: Loss = 379438.062\n",
      "Iteration 280200 [28020%]: Loss = 376890.312\n",
      "Iteration 280300 [28030%]: Loss = 377479.375\n",
      "Iteration 280400 [28039%]: Loss = 384265.969\n",
      "Iteration 280500 [28050%]: Loss = 366388.438\n",
      "Iteration 280600 [28060%]: Loss = 374315.062\n",
      "Iteration 280700 [28070%]: Loss = 376223.406\n",
      "Iteration 280800 [28080%]: Loss = 368306.719\n",
      "Iteration 280900 [28089%]: Loss = 371307.125\n",
      "Iteration 281000 [28100%]: Loss = 378692.969\n",
      "Iteration 281100 [28110%]: Loss = 375033.625\n",
      "Iteration 281200 [28120%]: Loss = 368591.938\n",
      "Iteration 281300 [28130%]: Loss = 369176.688\n",
      "Iteration 281400 [28139%]: Loss = 372322.812\n",
      "Iteration 281500 [28150%]: Loss = 375565.094\n",
      "Iteration 281600 [28160%]: Loss = 377910.312\n",
      "Iteration 281700 [28170%]: Loss = 388805.531\n",
      "Iteration 281800 [28180%]: Loss = 373194.750\n",
      "Iteration 281900 [28189%]: Loss = 378976.875\n",
      "Iteration 282000 [28200%]: Loss = 375591.375\n",
      "Iteration 282100 [28210%]: Loss = 375210.938\n",
      "Iteration 282200 [28220%]: Loss = 381769.156\n",
      "Iteration 282300 [28230%]: Loss = 387213.062\n",
      "Iteration 282400 [28239%]: Loss = 377392.031\n",
      "Iteration 282500 [28250%]: Loss = 381886.844\n",
      "Iteration 282600 [28260%]: Loss = 381453.125\n",
      "Iteration 282700 [28270%]: Loss = 374964.312\n",
      "Iteration 282800 [28280%]: Loss = 380157.625\n",
      "Iteration 282900 [28289%]: Loss = 381675.719\n",
      "Iteration 283000 [28300%]: Loss = 383601.188\n",
      "Iteration 283100 [28310%]: Loss = 373818.719\n",
      "Iteration 283200 [28320%]: Loss = 389893.562\n",
      "Iteration 283300 [28330%]: Loss = 375749.062\n",
      "Iteration 283400 [28339%]: Loss = 381226.219\n",
      "Iteration 283500 [28350%]: Loss = 382758.094\n",
      "Iteration 283600 [28360%]: Loss = 375901.594\n",
      "Iteration 283700 [28370%]: Loss = 388841.281\n",
      "Iteration 283800 [28380%]: Loss = 378486.938\n",
      "Iteration 283900 [28389%]: Loss = 378731.531\n",
      "Iteration 284000 [28400%]: Loss = 403067.312\n",
      "Iteration 284100 [28410%]: Loss = 430422.250\n",
      "Iteration 284200 [28420%]: Loss = 396481.000\n",
      "Iteration 284300 [28430%]: Loss = 474983.094\n",
      "Iteration 284400 [28439%]: Loss = 390547.344\n",
      "Iteration 284500 [28450%]: Loss = 391816.031\n",
      "Iteration 284600 [28460%]: Loss = 402371.656\n",
      "Iteration 284700 [28470%]: Loss = 419134.344\n",
      "Iteration 284800 [28480%]: Loss = 416229.031\n",
      "Iteration 284900 [28489%]: Loss = 391391.469\n",
      "Iteration 285000 [28500%]: Loss = 408713.062\n",
      "Iteration 285100 [28510%]: Loss = 441732.812\n",
      "Iteration 285200 [28520%]: Loss = 435040.688\n",
      "Iteration 285300 [28530%]: Loss = 719634.312\n",
      "Iteration 285400 [28539%]: Loss = 486337.281\n",
      "Iteration 285500 [28550%]: Loss = 444687.094\n",
      "Iteration 285600 [28560%]: Loss = 394609.938\n",
      "Iteration 285700 [28570%]: Loss = 390562.281\n",
      "Iteration 285800 [28580%]: Loss = 390890.594\n",
      "Iteration 285900 [28589%]: Loss = 393152.531\n",
      "Iteration 286000 [28600%]: Loss = 383754.750\n",
      "Iteration 286100 [28610%]: Loss = 397656.625\n",
      "Iteration 286200 [28620%]: Loss = 403295.625\n",
      "Iteration 286300 [28630%]: Loss = 391574.438\n",
      "Iteration 286400 [28639%]: Loss = 400626.562\n",
      "Iteration 286500 [28650%]: Loss = 386957.312\n",
      "Iteration 286600 [28660%]: Loss = 382796.344\n",
      "Iteration 286700 [28670%]: Loss = 388517.125\n",
      "Iteration 286800 [28680%]: Loss = 397087.062\n",
      "Iteration 286900 [28689%]: Loss = 399552.125\n",
      "Iteration 287000 [28700%]: Loss = 390640.219\n",
      "Iteration 287100 [28710%]: Loss = 378032.938\n",
      "Iteration 287200 [28720%]: Loss = 391613.531\n",
      "Iteration 287300 [28730%]: Loss = 377081.094\n",
      "Iteration 287400 [28739%]: Loss = 387835.469\n",
      "Iteration 287500 [28750%]: Loss = 379929.375\n",
      "Iteration 287600 [28760%]: Loss = 373120.750\n",
      "Iteration 287700 [28770%]: Loss = 377213.375\n",
      "Iteration 287800 [28780%]: Loss = 396561.594\n",
      "Iteration 287900 [28789%]: Loss = 400306.406\n",
      "Iteration 288000 [28800%]: Loss = 409803.125\n",
      "Iteration 288100 [28810%]: Loss = 382281.500\n",
      "Iteration 288200 [28820%]: Loss = 384604.750\n",
      "Iteration 288300 [28830%]: Loss = 378429.094\n",
      "Iteration 288400 [28839%]: Loss = 396871.406\n",
      "Iteration 288500 [28850%]: Loss = 387529.656\n",
      "Iteration 288600 [28860%]: Loss = 408166.469\n",
      "Iteration 288700 [28870%]: Loss = 408489.469\n",
      "Iteration 288800 [28880%]: Loss = 392803.562\n",
      "Iteration 288900 [28889%]: Loss = 406904.938\n",
      "Iteration 289000 [28900%]: Loss = 403735.531\n",
      "Iteration 289100 [28910%]: Loss = 409508.719\n",
      "Iteration 289200 [28920%]: Loss = 401482.969\n",
      "Iteration 289300 [28930%]: Loss = 452313.031\n",
      "Iteration 289400 [28939%]: Loss = 437368.625\n",
      "Iteration 289500 [28950%]: Loss = 430493.281\n",
      "Iteration 289600 [28960%]: Loss = 428649.875\n",
      "Iteration 289700 [28970%]: Loss = 443342.438\n",
      "Iteration 289800 [28980%]: Loss = 570016.375\n",
      "Iteration 289900 [28989%]: Loss = 472846.531\n",
      "Iteration 290000 [29000%]: Loss = 479790.844\n",
      "Iteration 290100 [29010%]: Loss = 541786.625\n",
      "Iteration 290200 [29020%]: Loss = 470202.406\n",
      "Iteration 290300 [29030%]: Loss = 425042.656\n",
      "Iteration 290400 [29039%]: Loss = 417938.469\n",
      "Iteration 290500 [29050%]: Loss = 447350.469\n",
      "Iteration 290600 [29060%]: Loss = 468022.156\n",
      "Iteration 290700 [29070%]: Loss = 487080.750\n",
      "Iteration 290800 [29080%]: Loss = 456075.562\n",
      "Iteration 290900 [29089%]: Loss = 446665.312\n",
      "Iteration 291000 [29100%]: Loss = 426507.688\n",
      "Iteration 291100 [29110%]: Loss = 477341.000\n",
      "Iteration 291200 [29120%]: Loss = 424933.750\n",
      "Iteration 291300 [29130%]: Loss = 411505.594\n",
      "Iteration 291400 [29139%]: Loss = 482842.438\n",
      "Iteration 291500 [29150%]: Loss = 432485.250\n",
      "Iteration 291600 [29160%]: Loss = 410145.250\n",
      "Iteration 291700 [29170%]: Loss = 406882.781\n",
      "Iteration 291800 [29180%]: Loss = 404529.469\n",
      "Iteration 291900 [29189%]: Loss = 470917.156\n",
      "Iteration 292000 [29200%]: Loss = 415485.875\n",
      "Iteration 292100 [29210%]: Loss = 414338.219\n",
      "Iteration 292200 [29220%]: Loss = 451508.594\n",
      "Iteration 292300 [29230%]: Loss = 489559.125\n",
      "Iteration 292400 [29239%]: Loss = 504325.156\n",
      "Iteration 292500 [29250%]: Loss = 463690.750\n",
      "Iteration 292600 [29260%]: Loss = 470415.094\n",
      "Iteration 292700 [29270%]: Loss = 448078.375\n",
      "Iteration 292800 [29280%]: Loss = 440805.906\n",
      "Iteration 292900 [29289%]: Loss = 427985.406\n",
      "Iteration 293000 [29300%]: Loss = 411408.406\n",
      "Iteration 293100 [29310%]: Loss = 408378.906\n",
      "Iteration 293200 [29320%]: Loss = 459085.125\n",
      "Iteration 293300 [29330%]: Loss = 418675.031\n",
      "Iteration 293400 [29339%]: Loss = 433682.469\n",
      "Iteration 293500 [29350%]: Loss = 386240.562\n",
      "Iteration 293600 [29360%]: Loss = 400097.844\n",
      "Iteration 293700 [29370%]: Loss = 400931.250\n",
      "Iteration 293800 [29380%]: Loss = 379129.438\n",
      "Iteration 293900 [29389%]: Loss = 398737.688\n",
      "Iteration 294000 [29400%]: Loss = 404153.031\n",
      "Iteration 294100 [29410%]: Loss = 393428.875\n",
      "Iteration 294200 [29420%]: Loss = 405513.531\n",
      "Iteration 294300 [29430%]: Loss = 407614.062\n",
      "Iteration 294400 [29439%]: Loss = 392189.250\n",
      "Iteration 294500 [29450%]: Loss = 388700.500\n",
      "Iteration 294600 [29460%]: Loss = 405896.844\n",
      "Iteration 294700 [29470%]: Loss = 414419.875\n",
      "Iteration 294800 [29480%]: Loss = 1793114.875\n",
      "Iteration 294900 [29489%]: Loss = 769092.500\n",
      "Iteration 295000 [29500%]: Loss = 638435.562\n",
      "Iteration 295100 [29510%]: Loss = 470985.750\n",
      "Iteration 295200 [29520%]: Loss = 490193.594\n",
      "Iteration 295300 [29530%]: Loss = 398959.906\n",
      "Iteration 295400 [29539%]: Loss = 393130.875\n",
      "Iteration 295500 [29550%]: Loss = 379468.531\n",
      "Iteration 295600 [29560%]: Loss = 378584.188\n",
      "Iteration 295700 [29570%]: Loss = 381145.312\n",
      "Iteration 295800 [29580%]: Loss = 390029.062\n",
      "Iteration 295900 [29589%]: Loss = 382064.625\n",
      "Iteration 296000 [29600%]: Loss = 381351.031\n",
      "Iteration 296100 [29610%]: Loss = 387477.406\n",
      "Iteration 296200 [29620%]: Loss = 386928.188\n",
      "Iteration 296300 [29630%]: Loss = 379056.219\n",
      "Iteration 296400 [29639%]: Loss = 386116.875\n",
      "Iteration 296500 [29650%]: Loss = 381488.906\n",
      "Iteration 296600 [29660%]: Loss = 388575.438\n",
      "Iteration 296700 [29670%]: Loss = 384692.875\n",
      "Iteration 296800 [29680%]: Loss = 385165.781\n",
      "Iteration 296900 [29689%]: Loss = 389264.312\n",
      "Iteration 297000 [29700%]: Loss = 643909.750\n",
      "Iteration 297100 [29710%]: Loss = 384221.562\n",
      "Iteration 297200 [29720%]: Loss = 385405.781\n",
      "Iteration 297300 [29730%]: Loss = 376462.250\n",
      "Iteration 297400 [29739%]: Loss = 373984.594\n",
      "Iteration 297500 [29750%]: Loss = 377711.906\n",
      "Iteration 297600 [29760%]: Loss = 376909.000\n",
      "Iteration 297700 [29770%]: Loss = 379660.812\n",
      "Iteration 297800 [29780%]: Loss = 374933.781\n",
      "Iteration 297900 [29789%]: Loss = 382001.531\n",
      "Iteration 298000 [29800%]: Loss = 450018.406\n",
      "Iteration 298100 [29810%]: Loss = 394257.562\n",
      "Iteration 298200 [29820%]: Loss = 410527.125\n",
      "Iteration 298300 [29830%]: Loss = 405493.844\n",
      "Iteration 298400 [29839%]: Loss = 446342.281\n",
      "Iteration 298500 [29850%]: Loss = 711273.062\n",
      "Iteration 298600 [29860%]: Loss = 477003.781\n",
      "Iteration 298700 [29870%]: Loss = 457002.312\n",
      "Iteration 298800 [29880%]: Loss = 459253.500\n",
      "Iteration 298900 [29889%]: Loss = 387584.438\n",
      "Iteration 299000 [29900%]: Loss = 378863.531\n",
      "Iteration 299100 [29910%]: Loss = 377301.938\n",
      "Iteration 299200 [29920%]: Loss = 382018.094\n",
      "Iteration 299300 [29930%]: Loss = 378711.062\n",
      "Iteration 299400 [29939%]: Loss = 374615.781\n",
      "Iteration 299500 [29950%]: Loss = 370346.312\n",
      "Iteration 299600 [29960%]: Loss = 377147.812\n",
      "Iteration 299700 [29970%]: Loss = 370565.938\n",
      "Iteration 299800 [29980%]: Loss = 376047.031\n",
      "Iteration 299900 [29989%]: Loss = 456660.125\n",
      "Iteration 300000 [30000%]: Loss = 602780.562\n",
      "Iteration 300100 [30010%]: Loss = 737612.000\n",
      "Iteration 300200 [30020%]: Loss = 508381.438\n",
      "Iteration 300300 [30030%]: Loss = 557800.688\n",
      "Iteration 300400 [30039%]: Loss = 1035419.062\n",
      "Iteration 300500 [30050%]: Loss = 1020874.312\n",
      "Iteration 300600 [30060%]: Loss = 519434.219\n",
      "Iteration 300700 [30070%]: Loss = 499947.094\n",
      "Iteration 300800 [30080%]: Loss = 471983.688\n",
      "Iteration 300900 [30089%]: Loss = 409509.188\n",
      "Iteration 301000 [30100%]: Loss = 428946.406\n",
      "Iteration 301100 [30110%]: Loss = 434259.719\n",
      "Iteration 301200 [30120%]: Loss = 436563.562\n",
      "Iteration 301300 [30130%]: Loss = 398609.312\n",
      "Iteration 301400 [30139%]: Loss = 409819.250\n",
      "Iteration 301500 [30150%]: Loss = 390346.500\n",
      "Iteration 301600 [30160%]: Loss = 380187.188\n",
      "Iteration 301700 [30170%]: Loss = 379190.281\n",
      "Iteration 301800 [30180%]: Loss = 374413.125\n",
      "Iteration 301900 [30189%]: Loss = 377105.438\n",
      "Iteration 302000 [30200%]: Loss = 380850.594\n",
      "Iteration 302100 [30210%]: Loss = 382692.906\n",
      "Iteration 302200 [30220%]: Loss = 390690.594\n",
      "Iteration 302300 [30230%]: Loss = 394113.062\n",
      "Iteration 302400 [30239%]: Loss = 382427.625\n",
      "Iteration 302500 [30250%]: Loss = 382692.844\n",
      "Iteration 302600 [30260%]: Loss = 394375.094\n",
      "Iteration 302700 [30270%]: Loss = 389044.031\n",
      "Iteration 302800 [30280%]: Loss = 384758.875\n",
      "Iteration 302900 [30289%]: Loss = 388225.000\n",
      "Iteration 303000 [30300%]: Loss = 411762.469\n",
      "Iteration 303100 [30310%]: Loss = 411592.531\n",
      "Iteration 303200 [30320%]: Loss = 396997.562\n",
      "Iteration 303300 [30330%]: Loss = 389596.938\n",
      "Iteration 303400 [30339%]: Loss = 387779.375\n",
      "Iteration 303500 [30350%]: Loss = 390559.719\n",
      "Iteration 303600 [30360%]: Loss = 385357.188\n",
      "Iteration 303700 [30370%]: Loss = 386864.125\n",
      "Iteration 303800 [30380%]: Loss = 380950.562\n",
      "Iteration 303900 [30389%]: Loss = 381564.719\n",
      "Iteration 304000 [30400%]: Loss = 383156.156\n",
      "Iteration 304100 [30410%]: Loss = 390242.281\n",
      "Iteration 304200 [30420%]: Loss = 408823.156\n",
      "Iteration 304300 [30430%]: Loss = 409868.094\n",
      "Iteration 304400 [30439%]: Loss = 420172.000\n",
      "Iteration 304500 [30450%]: Loss = 412218.531\n",
      "Iteration 304600 [30460%]: Loss = 439231.062\n",
      "Iteration 304700 [30470%]: Loss = 409817.875\n",
      "Iteration 304800 [30480%]: Loss = 429373.750\n",
      "Iteration 304900 [30489%]: Loss = 414868.594\n",
      "Iteration 305000 [30500%]: Loss = 390181.344\n",
      "Iteration 305100 [30510%]: Loss = 389610.031\n",
      "Iteration 305200 [30520%]: Loss = 413325.656\n",
      "Iteration 305300 [30530%]: Loss = 514935.844\n",
      "Iteration 305400 [30539%]: Loss = 400526.594\n",
      "Iteration 305500 [30550%]: Loss = 389875.562\n",
      "Iteration 305600 [30560%]: Loss = 382871.781\n",
      "Iteration 305700 [30570%]: Loss = 377388.562\n",
      "Iteration 305800 [30580%]: Loss = 397587.406\n",
      "Iteration 305900 [30589%]: Loss = 403723.844\n",
      "Iteration 306000 [30600%]: Loss = 381994.031\n",
      "Iteration 306100 [30610%]: Loss = 385498.344\n",
      "Iteration 306200 [30620%]: Loss = 390429.031\n",
      "Iteration 306300 [30630%]: Loss = 391888.156\n",
      "Iteration 306400 [30639%]: Loss = 390951.500\n",
      "Iteration 306500 [30650%]: Loss = 402420.750\n",
      "Iteration 306600 [30660%]: Loss = 381049.344\n",
      "Iteration 306700 [30670%]: Loss = 387974.000\n",
      "Iteration 306800 [30680%]: Loss = 388981.906\n",
      "Iteration 306900 [30689%]: Loss = 395067.906\n",
      "Iteration 307000 [30700%]: Loss = 386882.125\n",
      "Iteration 307100 [30710%]: Loss = 394960.531\n",
      "Iteration 307200 [30720%]: Loss = 409222.125\n",
      "Iteration 307300 [30730%]: Loss = 454455.969\n",
      "Iteration 307400 [30739%]: Loss = 398779.688\n",
      "Iteration 307500 [30750%]: Loss = 383116.375\n",
      "Iteration 307600 [30760%]: Loss = 382820.844\n",
      "Iteration 307700 [30770%]: Loss = 399308.656\n",
      "Iteration 307800 [30780%]: Loss = 382593.750\n",
      "Iteration 307900 [30789%]: Loss = 396983.719\n",
      "Iteration 308000 [30800%]: Loss = 412204.938\n",
      "Iteration 308100 [30810%]: Loss = 431098.000\n",
      "Iteration 308200 [30820%]: Loss = 530318.125\n",
      "Iteration 308300 [30830%]: Loss = 512235.531\n",
      "Iteration 308400 [30839%]: Loss = 408413.688\n",
      "Iteration 308500 [30850%]: Loss = 414733.875\n",
      "Iteration 308600 [30860%]: Loss = 398268.219\n",
      "Iteration 308700 [30870%]: Loss = 395338.312\n",
      "Iteration 308800 [30880%]: Loss = 394525.594\n",
      "Iteration 308900 [30889%]: Loss = 406741.344\n",
      "Iteration 309000 [30900%]: Loss = 390209.656\n",
      "Iteration 309100 [30910%]: Loss = 389326.312\n",
      "Iteration 309200 [30920%]: Loss = 385551.094\n",
      "Iteration 309300 [30930%]: Loss = 392795.688\n",
      "Iteration 309400 [30939%]: Loss = 391021.375\n",
      "Iteration 309500 [30950%]: Loss = 390819.594\n",
      "Iteration 309600 [30960%]: Loss = 393574.406\n",
      "Iteration 309700 [30970%]: Loss = 397848.438\n",
      "Iteration 309800 [30980%]: Loss = 407680.500\n",
      "Iteration 309900 [30989%]: Loss = 407300.875\n",
      "Iteration 310000 [31000%]: Loss = 396495.031\n",
      "Iteration 310100 [31010%]: Loss = 414424.562\n",
      "Iteration 310200 [31020%]: Loss = 398591.406\n",
      "Iteration 310300 [31030%]: Loss = 417578.438\n",
      "Iteration 310400 [31039%]: Loss = 394334.000\n",
      "Iteration 310500 [31050%]: Loss = 390376.281\n",
      "Iteration 310600 [31060%]: Loss = 394250.312\n",
      "Iteration 310700 [31070%]: Loss = 392827.969\n",
      "Iteration 310800 [31080%]: Loss = 389529.125\n",
      "Iteration 310900 [31089%]: Loss = 408798.281\n",
      "Iteration 311000 [31100%]: Loss = 401132.031\n",
      "Iteration 311100 [31110%]: Loss = 433163.812\n",
      "Iteration 311200 [31120%]: Loss = 402753.281\n",
      "Iteration 311300 [31130%]: Loss = 398226.406\n",
      "Iteration 311400 [31139%]: Loss = 391234.312\n",
      "Iteration 311500 [31150%]: Loss = 434689.562\n",
      "Iteration 311600 [31160%]: Loss = 407175.812\n",
      "Iteration 311700 [31170%]: Loss = 406156.250\n",
      "Iteration 311800 [31180%]: Loss = 406485.406\n",
      "Iteration 311900 [31189%]: Loss = 485571.312\n",
      "Iteration 312000 [31200%]: Loss = 551736.438\n",
      "Iteration 312100 [31210%]: Loss = 443604.906\n",
      "Iteration 312200 [31220%]: Loss = 488062.812\n",
      "Iteration 312300 [31230%]: Loss = 475179.625\n",
      "Iteration 312400 [31239%]: Loss = 783979.688\n",
      "Iteration 312500 [31250%]: Loss = 434981.250\n",
      "Iteration 312600 [31260%]: Loss = 430208.812\n",
      "Iteration 312700 [31270%]: Loss = 399941.688\n",
      "Iteration 312800 [31280%]: Loss = 390595.844\n",
      "Iteration 312900 [31289%]: Loss = 413995.750\n",
      "Iteration 313000 [31300%]: Loss = 388141.281\n",
      "Iteration 313100 [31310%]: Loss = 423890.562\n",
      "Iteration 313200 [31320%]: Loss = 441643.281\n",
      "Iteration 313300 [31330%]: Loss = 446284.344\n",
      "Iteration 313400 [31339%]: Loss = 422014.375\n",
      "Iteration 313500 [31350%]: Loss = 402699.594\n",
      "Iteration 313600 [31360%]: Loss = 405754.031\n",
      "Iteration 313700 [31370%]: Loss = 407742.938\n",
      "Iteration 313800 [31380%]: Loss = 399430.969\n",
      "Iteration 313900 [31389%]: Loss = 403931.844\n",
      "Iteration 314000 [31400%]: Loss = 406289.719\n",
      "Iteration 314100 [31410%]: Loss = 458316.875\n",
      "Iteration 314200 [31420%]: Loss = 450013.406\n",
      "Iteration 314300 [31430%]: Loss = 408323.375\n",
      "Iteration 314400 [31439%]: Loss = 388981.875\n",
      "Iteration 314500 [31450%]: Loss = 384074.969\n",
      "Iteration 314600 [31460%]: Loss = 379103.844\n",
      "Iteration 314700 [31470%]: Loss = 397839.281\n",
      "Iteration 314800 [31480%]: Loss = 406463.250\n",
      "Iteration 314900 [31489%]: Loss = 407399.750\n",
      "Iteration 315000 [31500%]: Loss = 414206.812\n",
      "Iteration 315100 [31510%]: Loss = 453029.688\n",
      "Iteration 315200 [31520%]: Loss = 408779.500\n",
      "Iteration 315300 [31530%]: Loss = 394683.875\n",
      "Iteration 315400 [31539%]: Loss = 390323.844\n",
      "Iteration 315500 [31550%]: Loss = 398323.625\n",
      "Iteration 315600 [31560%]: Loss = 380976.562\n",
      "Iteration 315700 [31570%]: Loss = 384523.625\n",
      "Iteration 315800 [31580%]: Loss = 375002.344\n",
      "Iteration 315900 [31589%]: Loss = 385255.656\n",
      "Iteration 316000 [31600%]: Loss = 383746.312\n",
      "Iteration 316100 [31610%]: Loss = 479818.625\n",
      "Iteration 316200 [31620%]: Loss = 427705.312\n",
      "Iteration 316300 [31630%]: Loss = 432456.312\n",
      "Iteration 316400 [31639%]: Loss = 482793.406\n",
      "Iteration 316500 [31650%]: Loss = 794830.625\n",
      "Iteration 316600 [31660%]: Loss = 442419.281\n",
      "Iteration 316700 [31670%]: Loss = 427301.562\n",
      "Iteration 316800 [31680%]: Loss = 391895.406\n",
      "Iteration 316900 [31689%]: Loss = 389860.688\n",
      "Iteration 317000 [31700%]: Loss = 382432.281\n",
      "Iteration 317100 [31710%]: Loss = 396827.969\n",
      "Iteration 317200 [31720%]: Loss = 383042.812\n",
      "Iteration 317300 [31730%]: Loss = 388495.531\n",
      "Iteration 317400 [31739%]: Loss = 388450.594\n",
      "Iteration 317500 [31750%]: Loss = 388705.406\n",
      "Iteration 317600 [31760%]: Loss = 381623.719\n",
      "Iteration 317700 [31770%]: Loss = 374914.469\n",
      "Iteration 317800 [31780%]: Loss = 381082.438\n",
      "Iteration 317900 [31789%]: Loss = 378533.125\n",
      "Iteration 318000 [31800%]: Loss = 378687.781\n",
      "Iteration 318100 [31810%]: Loss = 374287.062\n",
      "Iteration 318200 [31820%]: Loss = 383417.969\n",
      "Iteration 318300 [31830%]: Loss = 382698.344\n",
      "Iteration 318400 [31839%]: Loss = 380209.562\n",
      "Iteration 318500 [31850%]: Loss = 381311.062\n",
      "Iteration 318600 [31860%]: Loss = 391634.844\n",
      "Iteration 318700 [31870%]: Loss = 444541.625\n",
      "Iteration 318800 [31880%]: Loss = 384459.562\n",
      "Iteration 318900 [31889%]: Loss = 374721.250\n",
      "Iteration 319000 [31900%]: Loss = 378834.906\n",
      "Iteration 319100 [31910%]: Loss = 380088.656\n",
      "Iteration 319200 [31920%]: Loss = 382272.156\n",
      "Iteration 319300 [31930%]: Loss = 378750.469\n",
      "Iteration 319400 [31939%]: Loss = 376575.625\n",
      "Iteration 319500 [31950%]: Loss = 382722.094\n",
      "Iteration 319600 [31960%]: Loss = 386955.656\n",
      "Iteration 319700 [31970%]: Loss = 389101.031\n",
      "Iteration 319800 [31980%]: Loss = 384968.625\n",
      "Iteration 319900 [31989%]: Loss = 386559.969\n",
      "Iteration 320000 [32000%]: Loss = 384668.750\n",
      "Iteration 320100 [32010%]: Loss = 385029.062\n",
      "Iteration 320200 [32020%]: Loss = 380791.062\n",
      "Iteration 320300 [32030%]: Loss = 435896.969\n",
      "Iteration 320400 [32039%]: Loss = 388006.719\n",
      "Iteration 320500 [32050%]: Loss = 481939.938\n",
      "Iteration 320600 [32060%]: Loss = 378245.250\n",
      "Iteration 320700 [32070%]: Loss = 383554.906\n",
      "Iteration 320800 [32080%]: Loss = 393665.531\n",
      "Iteration 320900 [32089%]: Loss = 379125.875\n",
      "Iteration 321000 [32100%]: Loss = 383140.312\n",
      "Iteration 321100 [32110%]: Loss = 376493.375\n",
      "Iteration 321200 [32120%]: Loss = 385666.219\n",
      "Iteration 321300 [32130%]: Loss = 424847.844\n",
      "Iteration 321400 [32139%]: Loss = 381190.906\n",
      "Iteration 321500 [32150%]: Loss = 385504.312\n",
      "Iteration 321600 [32160%]: Loss = 387778.625\n",
      "Iteration 321700 [32170%]: Loss = 377709.531\n",
      "Iteration 321800 [32180%]: Loss = 379935.125\n",
      "Iteration 321900 [32189%]: Loss = 387892.875\n",
      "Iteration 322000 [32200%]: Loss = 397030.031\n",
      "Iteration 322100 [32210%]: Loss = 410128.250\n",
      "Iteration 322200 [32220%]: Loss = 372102.594\n",
      "Iteration 322300 [32230%]: Loss = 379069.375\n",
      "Iteration 322400 [32239%]: Loss = 383775.094\n",
      "Iteration 322500 [32250%]: Loss = 371262.500\n",
      "Iteration 322600 [32260%]: Loss = 398708.812\n",
      "Iteration 322700 [32270%]: Loss = 382312.062\n",
      "Iteration 322800 [32280%]: Loss = 374529.312\n",
      "Iteration 322900 [32289%]: Loss = 383486.844\n",
      "Iteration 323000 [32300%]: Loss = 379858.562\n",
      "Iteration 323100 [32310%]: Loss = 394495.562\n",
      "Iteration 323200 [32320%]: Loss = 380385.094\n",
      "Iteration 323300 [32330%]: Loss = 396505.500\n",
      "Iteration 323400 [32339%]: Loss = 394834.969\n",
      "Iteration 323500 [32350%]: Loss = 423255.156\n",
      "Iteration 323600 [32360%]: Loss = 401616.250\n",
      "Iteration 323700 [32370%]: Loss = 377225.875\n",
      "Iteration 323800 [32380%]: Loss = 382094.656\n",
      "Iteration 323900 [32389%]: Loss = 457979.844\n",
      "Iteration 324000 [32400%]: Loss = 467733.750\n",
      "Iteration 324100 [32410%]: Loss = 423740.625\n",
      "Iteration 324200 [32420%]: Loss = 402552.312\n",
      "Iteration 324300 [32430%]: Loss = 395598.625\n",
      "Iteration 324400 [32439%]: Loss = 416318.750\n",
      "Iteration 324500 [32450%]: Loss = 389944.312\n",
      "Iteration 324600 [32460%]: Loss = 410820.156\n",
      "Iteration 324700 [32470%]: Loss = 371430.906\n",
      "Iteration 324800 [32480%]: Loss = 377186.875\n",
      "Iteration 324900 [32489%]: Loss = 381643.750\n",
      "Iteration 325000 [32500%]: Loss = 538191.750\n",
      "Iteration 325100 [32510%]: Loss = 431798.344\n",
      "Iteration 325200 [32520%]: Loss = 421943.719\n",
      "Iteration 325300 [32530%]: Loss = 441333.219\n",
      "Iteration 325400 [32539%]: Loss = 546771.625\n",
      "Iteration 325500 [32550%]: Loss = 505571.438\n",
      "Iteration 325600 [32560%]: Loss = 494954.188\n",
      "Iteration 325700 [32570%]: Loss = 428331.750\n",
      "Iteration 325800 [32580%]: Loss = 409325.156\n",
      "Iteration 325900 [32589%]: Loss = 402297.469\n",
      "Iteration 326000 [32600%]: Loss = 412288.125\n",
      "Iteration 326100 [32610%]: Loss = 422846.625\n",
      "Iteration 326200 [32620%]: Loss = 434437.469\n",
      "Iteration 326300 [32630%]: Loss = 409351.969\n",
      "Iteration 326400 [32639%]: Loss = 437256.281\n",
      "Iteration 326500 [32650%]: Loss = 444038.875\n",
      "Iteration 326600 [32660%]: Loss = 425083.844\n",
      "Iteration 326700 [32670%]: Loss = 558105.438\n",
      "Iteration 326800 [32680%]: Loss = 503278.875\n",
      "Iteration 326900 [32689%]: Loss = 433311.375\n",
      "Iteration 327000 [32700%]: Loss = 431048.594\n",
      "Iteration 327100 [32710%]: Loss = 431275.938\n",
      "Iteration 327200 [32720%]: Loss = 543171.625\n",
      "Iteration 327300 [32730%]: Loss = 494152.969\n",
      "Iteration 327400 [32739%]: Loss = 550857.812\n",
      "Iteration 327500 [32750%]: Loss = 456094.281\n",
      "Iteration 327600 [32760%]: Loss = 513792.938\n",
      "Iteration 327700 [32770%]: Loss = 1004839.938\n",
      "Iteration 327800 [32780%]: Loss = 439972.312\n",
      "Iteration 327900 [32790%]: Loss = 486989.688\n",
      "Iteration 328000 [32800%]: Loss = 561163.812\n",
      "Iteration 328100 [32810%]: Loss = 458508.938\n",
      "Iteration 328200 [32820%]: Loss = 449861.406\n",
      "Iteration 328300 [32830%]: Loss = 643420.250\n",
      "Iteration 328400 [32840%]: Loss = 470619.250\n",
      "Iteration 328500 [32850%]: Loss = 417223.969\n",
      "Iteration 328600 [32860%]: Loss = 435855.438\n",
      "Iteration 328700 [32870%]: Loss = 430492.750\n",
      "Iteration 328800 [32880%]: Loss = 448511.625\n",
      "Iteration 328900 [32890%]: Loss = 481030.281\n",
      "Iteration 329000 [32900%]: Loss = 404459.312\n",
      "Iteration 329100 [32910%]: Loss = 437668.125\n",
      "Iteration 329200 [32920%]: Loss = 471484.969\n",
      "Iteration 329300 [32930%]: Loss = 486169.531\n",
      "Iteration 329400 [32940%]: Loss = 414675.469\n",
      "Iteration 329500 [32950%]: Loss = 482329.406\n",
      "Iteration 329600 [32960%]: Loss = 620341.625\n",
      "Iteration 329700 [32970%]: Loss = 459971.625\n",
      "Iteration 329800 [32980%]: Loss = 448232.812\n",
      "Iteration 329900 [32990%]: Loss = 401875.500\n",
      "Iteration 330000 [33000%]: Loss = 411703.344\n",
      "Iteration 330100 [33010%]: Loss = 481776.188\n",
      "Iteration 330200 [33020%]: Loss = 510992.969\n",
      "Iteration 330300 [33030%]: Loss = 687558.250\n",
      "Iteration 330400 [33040%]: Loss = 670404.250\n",
      "Iteration 330500 [33050%]: Loss = 467543.312\n",
      "Iteration 330600 [33060%]: Loss = 473369.156\n",
      "Iteration 330700 [33070%]: Loss = 447100.188\n",
      "Iteration 330800 [33080%]: Loss = 671289.125\n",
      "Iteration 330900 [33090%]: Loss = 449287.031\n",
      "Iteration 331000 [33100%]: Loss = 429971.094\n",
      "Iteration 331100 [33110%]: Loss = 452877.406\n",
      "Iteration 331200 [33120%]: Loss = 522255.938\n",
      "Iteration 331300 [33130%]: Loss = 499852.344\n",
      "Iteration 331400 [33140%]: Loss = 465787.719\n",
      "Iteration 331500 [33150%]: Loss = 456011.156\n",
      "Iteration 331600 [33160%]: Loss = 466393.969\n",
      "Iteration 331700 [33170%]: Loss = 415126.781\n",
      "Iteration 331800 [33180%]: Loss = 396525.562\n",
      "Iteration 331900 [33190%]: Loss = 409725.875\n",
      "Iteration 332000 [33200%]: Loss = 409667.375\n",
      "Iteration 332100 [33210%]: Loss = 396915.875\n",
      "Iteration 332200 [33220%]: Loss = 398782.406\n",
      "Iteration 332300 [33230%]: Loss = 387351.062\n",
      "Iteration 332400 [33240%]: Loss = 399729.125\n",
      "Iteration 332500 [33250%]: Loss = 459124.594\n",
      "Iteration 332600 [33260%]: Loss = 529056.375\n",
      "Iteration 332700 [33270%]: Loss = 437457.812\n",
      "Iteration 332800 [33280%]: Loss = 414338.094\n",
      "Iteration 332900 [33290%]: Loss = 425483.656\n",
      "Iteration 333000 [33300%]: Loss = 422366.188\n",
      "Iteration 333100 [33310%]: Loss = 449420.375\n",
      "Iteration 333200 [33320%]: Loss = 436142.594\n",
      "Iteration 333300 [33330%]: Loss = 440198.656\n",
      "Iteration 333400 [33340%]: Loss = 420824.000\n",
      "Iteration 333500 [33350%]: Loss = 399576.469\n",
      "Iteration 333600 [33360%]: Loss = 414351.156\n",
      "Iteration 333700 [33370%]: Loss = 409951.094\n",
      "Iteration 333800 [33380%]: Loss = 387383.094\n",
      "Iteration 333900 [33390%]: Loss = 391407.500\n",
      "Iteration 334000 [33400%]: Loss = 438142.500\n",
      "Iteration 334100 [33410%]: Loss = 402668.969\n",
      "Iteration 334200 [33420%]: Loss = 472151.062\n",
      "Iteration 334300 [33430%]: Loss = 492194.094\n",
      "Iteration 334400 [33440%]: Loss = 451560.156\n",
      "Iteration 334500 [33450%]: Loss = 512298.062\n",
      "Iteration 334600 [33460%]: Loss = 423506.312\n",
      "Iteration 334700 [33470%]: Loss = 395106.875\n",
      "Iteration 334800 [33480%]: Loss = 389532.812\n",
      "Iteration 334900 [33490%]: Loss = 376681.281\n",
      "Iteration 335000 [33500%]: Loss = 382459.125\n",
      "Iteration 335100 [33510%]: Loss = 377715.062\n",
      "Iteration 335200 [33520%]: Loss = 384505.594\n",
      "Iteration 335300 [33530%]: Loss = 378193.469\n",
      "Iteration 335400 [33540%]: Loss = 387594.750\n",
      "Iteration 335500 [33550%]: Loss = 383625.219\n",
      "Iteration 335600 [33560%]: Loss = 383969.938\n",
      "Iteration 335700 [33570%]: Loss = 382212.312\n",
      "Iteration 335800 [33580%]: Loss = 397415.531\n",
      "Iteration 335900 [33590%]: Loss = 390764.344\n",
      "Iteration 336000 [33600%]: Loss = 388881.656\n",
      "Iteration 336100 [33610%]: Loss = 390236.062\n",
      "Iteration 336200 [33620%]: Loss = 401793.438\n",
      "Iteration 336300 [33630%]: Loss = 432613.219\n",
      "Iteration 336400 [33640%]: Loss = 438793.688\n",
      "Iteration 336500 [33650%]: Loss = 526714.250\n",
      "Iteration 336600 [33660%]: Loss = 421580.625\n",
      "Iteration 336700 [33670%]: Loss = 719208.812\n",
      "Iteration 336800 [33680%]: Loss = 420002.250\n",
      "Iteration 336900 [33690%]: Loss = 469537.312\n",
      "Iteration 337000 [33700%]: Loss = 411692.156\n",
      "Iteration 337100 [33710%]: Loss = 379632.219\n",
      "Iteration 337200 [33720%]: Loss = 423117.219\n",
      "Iteration 337300 [33730%]: Loss = 401085.844\n",
      "Iteration 337400 [33740%]: Loss = 392383.625\n",
      "Iteration 337500 [33750%]: Loss = 417973.750\n",
      "Iteration 337600 [33760%]: Loss = 420903.406\n",
      "Iteration 337700 [33770%]: Loss = 446221.625\n",
      "Iteration 337800 [33780%]: Loss = 385861.562\n",
      "Iteration 337900 [33790%]: Loss = 381998.281\n",
      "Iteration 338000 [33800%]: Loss = 375050.219\n",
      "Iteration 338100 [33810%]: Loss = 371884.438\n",
      "Iteration 338200 [33820%]: Loss = 383932.062\n",
      "Iteration 338300 [33830%]: Loss = 376434.438\n",
      "Iteration 338400 [33840%]: Loss = 372279.938\n",
      "Iteration 338500 [33850%]: Loss = 371203.531\n",
      "Iteration 338600 [33860%]: Loss = 381616.375\n",
      "Iteration 338700 [33870%]: Loss = 431383.000\n",
      "Iteration 338800 [33880%]: Loss = 374475.375\n",
      "Iteration 338900 [33890%]: Loss = 374293.000\n",
      "Iteration 339000 [33900%]: Loss = 383572.406\n",
      "Iteration 339100 [33910%]: Loss = 374990.656\n",
      "Iteration 339200 [33920%]: Loss = 380198.312\n",
      "Iteration 339300 [33930%]: Loss = 376732.469\n",
      "Iteration 339400 [33940%]: Loss = 378065.312\n",
      "Iteration 339500 [33950%]: Loss = 375569.250\n",
      "Iteration 339600 [33960%]: Loss = 381180.094\n",
      "Iteration 339700 [33970%]: Loss = 374351.125\n",
      "Iteration 339800 [33980%]: Loss = 379121.875\n",
      "Iteration 339900 [33990%]: Loss = 407684.000\n",
      "Iteration 340000 [34000%]: Loss = 407881.312\n",
      "Iteration 340100 [34010%]: Loss = 378542.938\n",
      "Iteration 340200 [34020%]: Loss = 376371.156\n",
      "Iteration 340300 [34030%]: Loss = 369953.188\n",
      "Iteration 340400 [34040%]: Loss = 374307.875\n",
      "Iteration 340500 [34050%]: Loss = 376838.812\n",
      "Iteration 340600 [34060%]: Loss = 387824.500\n",
      "Iteration 340700 [34070%]: Loss = 400332.750\n",
      "Iteration 340800 [34080%]: Loss = 385200.875\n",
      "Iteration 340900 [34090%]: Loss = 395398.500\n",
      "Iteration 341000 [34100%]: Loss = 492848.875\n",
      "Iteration 341100 [34110%]: Loss = 494211.625\n",
      "Iteration 341200 [34120%]: Loss = 415371.781\n",
      "Iteration 341300 [34130%]: Loss = 397712.000\n",
      "Iteration 341400 [34140%]: Loss = 397023.719\n",
      "Iteration 341500 [34150%]: Loss = 378661.438\n",
      "Iteration 341600 [34160%]: Loss = 385217.781\n",
      "Iteration 341700 [34170%]: Loss = 380848.594\n",
      "Iteration 341800 [34180%]: Loss = 381136.625\n",
      "Iteration 341900 [34190%]: Loss = 384030.406\n",
      "Iteration 342000 [34200%]: Loss = 396637.000\n",
      "Iteration 342100 [34210%]: Loss = 394680.344\n",
      "Iteration 342200 [34220%]: Loss = 381299.906\n",
      "Iteration 342300 [34230%]: Loss = 384831.250\n",
      "Iteration 342400 [34240%]: Loss = 373755.625\n",
      "Iteration 342500 [34250%]: Loss = 385752.750\n",
      "Iteration 342600 [34260%]: Loss = 404382.719\n",
      "Iteration 342700 [34270%]: Loss = 371687.250\n",
      "Iteration 342800 [34280%]: Loss = 374580.125\n",
      "Iteration 342900 [34290%]: Loss = 378298.594\n",
      "Iteration 343000 [34300%]: Loss = 376380.812\n",
      "Iteration 343100 [34310%]: Loss = 405437.125\n",
      "Iteration 343200 [34320%]: Loss = 379518.531\n",
      "Iteration 343300 [34330%]: Loss = 381427.438\n",
      "Iteration 343400 [34340%]: Loss = 381073.469\n",
      "Iteration 343500 [34350%]: Loss = 382216.656\n",
      "Iteration 343600 [34360%]: Loss = 382047.750\n",
      "Iteration 343700 [34370%]: Loss = 393248.094\n",
      "Iteration 343800 [34380%]: Loss = 384736.469\n",
      "Iteration 343900 [34390%]: Loss = 444991.219\n",
      "Iteration 344000 [34400%]: Loss = 399152.031\n",
      "Iteration 344100 [34410%]: Loss = 422831.875\n",
      "Iteration 344200 [34420%]: Loss = 405584.406\n",
      "Iteration 344300 [34430%]: Loss = 399489.062\n",
      "Iteration 344400 [34440%]: Loss = 418905.438\n",
      "Iteration 344500 [34450%]: Loss = 405564.312\n",
      "Iteration 344600 [34460%]: Loss = 399515.500\n",
      "Iteration 344700 [34470%]: Loss = 401098.719\n",
      "Iteration 344800 [34480%]: Loss = 459167.312\n",
      "Iteration 344900 [34490%]: Loss = 439006.969\n",
      "Iteration 345000 [34500%]: Loss = 459068.188\n",
      "Iteration 345100 [34510%]: Loss = 523201.562\n",
      "Iteration 345200 [34520%]: Loss = 420752.062\n",
      "Iteration 345300 [34530%]: Loss = 386560.250\n",
      "Iteration 345400 [34540%]: Loss = 382462.875\n",
      "Iteration 345500 [34550%]: Loss = 378088.469\n",
      "Iteration 345600 [34560%]: Loss = 399142.500\n",
      "Iteration 345700 [34570%]: Loss = 396945.656\n",
      "Iteration 345800 [34580%]: Loss = 399265.094\n",
      "Iteration 345900 [34590%]: Loss = 396025.688\n",
      "Iteration 346000 [34600%]: Loss = 406285.219\n",
      "Iteration 346100 [34610%]: Loss = 748884.875\n",
      "Iteration 346200 [34620%]: Loss = 386642.750\n",
      "Iteration 346300 [34630%]: Loss = 405329.844\n",
      "Iteration 346400 [34640%]: Loss = 455881.250\n",
      "Iteration 346500 [34650%]: Loss = 449420.469\n",
      "Iteration 346600 [34660%]: Loss = 486834.125\n",
      "Iteration 346700 [34670%]: Loss = 401093.156\n",
      "Iteration 346800 [34680%]: Loss = 396015.156\n",
      "Iteration 346900 [34690%]: Loss = 407888.469\n",
      "Iteration 347000 [34700%]: Loss = 432003.219\n",
      "Iteration 347100 [34710%]: Loss = 446984.719\n",
      "Iteration 347200 [34720%]: Loss = 401097.844\n",
      "Iteration 347300 [34730%]: Loss = 397955.406\n",
      "Iteration 347400 [34740%]: Loss = 446715.438\n",
      "Iteration 347500 [34750%]: Loss = 442529.625\n",
      "Iteration 347600 [34760%]: Loss = 538703.625\n",
      "Iteration 347700 [34770%]: Loss = 491237.438\n",
      "Iteration 347800 [34780%]: Loss = 441153.656\n",
      "Iteration 347900 [34790%]: Loss = 396579.938\n",
      "Iteration 348000 [34800%]: Loss = 676388.062\n",
      "Iteration 348100 [34810%]: Loss = 486664.750\n",
      "Iteration 348200 [34820%]: Loss = 404808.500\n",
      "Iteration 348300 [34830%]: Loss = 486859.750\n",
      "Iteration 348400 [34840%]: Loss = 457306.156\n",
      "Iteration 348500 [34850%]: Loss = 507531.906\n",
      "Iteration 348600 [34860%]: Loss = 509518.156\n",
      "Iteration 348700 [34870%]: Loss = 431050.562\n",
      "Iteration 348800 [34880%]: Loss = 494950.688\n",
      "Iteration 348900 [34890%]: Loss = 451402.781\n",
      "Iteration 349000 [34900%]: Loss = 452033.125\n",
      "Iteration 349100 [34910%]: Loss = 466390.562\n",
      "Iteration 349200 [34920%]: Loss = 429971.000\n",
      "Iteration 349300 [34930%]: Loss = 496697.656\n",
      "Iteration 349400 [34940%]: Loss = 512674.438\n",
      "Iteration 349500 [34950%]: Loss = 1151311.625\n",
      "Iteration 349600 [34960%]: Loss = 551364.875\n",
      "Iteration 349700 [34970%]: Loss = 465016.500\n",
      "Iteration 349800 [34980%]: Loss = 446272.875\n",
      "Iteration 349900 [34990%]: Loss = 456079.812\n",
      "Iteration 350000 [35000%]: Loss = 456879.125\n",
      "Iteration 350100 [35010%]: Loss = 459939.688\n",
      "Iteration 350200 [35020%]: Loss = 570822.750\n",
      "Iteration 350300 [35030%]: Loss = 462525.156\n",
      "Iteration 350400 [35040%]: Loss = 536928.000\n",
      "Iteration 350500 [35050%]: Loss = 498920.375\n",
      "Iteration 350600 [35060%]: Loss = 564014.500\n",
      "Iteration 350700 [35070%]: Loss = 477251.062\n",
      "Iteration 350800 [35080%]: Loss = 559564.500\n",
      "Iteration 350900 [35090%]: Loss = 501713.875\n",
      "Iteration 351000 [35100%]: Loss = 487522.938\n",
      "Iteration 351100 [35110%]: Loss = 447968.406\n",
      "Iteration 351200 [35120%]: Loss = 437531.938\n",
      "Iteration 351300 [35130%]: Loss = 453579.594\n",
      "Iteration 351400 [35140%]: Loss = 421845.188\n",
      "Iteration 351500 [35150%]: Loss = 456072.312\n",
      "Iteration 351600 [35160%]: Loss = 433462.125\n",
      "Iteration 351700 [35170%]: Loss = 456195.906\n",
      "Iteration 351800 [35180%]: Loss = 499370.812\n",
      "Iteration 351900 [35190%]: Loss = 447917.844\n",
      "Iteration 352000 [35200%]: Loss = 411834.438\n",
      "Iteration 352100 [35210%]: Loss = 423313.875\n",
      "Iteration 352200 [35220%]: Loss = 435335.875\n",
      "Iteration 352300 [35230%]: Loss = 427510.969\n",
      "Iteration 352400 [35240%]: Loss = 448172.438\n",
      "Iteration 352500 [35250%]: Loss = 471088.688\n",
      "Iteration 352600 [35260%]: Loss = 465314.688\n",
      "Iteration 352700 [35270%]: Loss = 478281.906\n",
      "Iteration 352800 [35280%]: Loss = 407158.625\n",
      "Iteration 352900 [35290%]: Loss = 390995.281\n",
      "Iteration 353000 [35300%]: Loss = 384283.219\n",
      "Iteration 353100 [35310%]: Loss = 387985.875\n",
      "Iteration 353200 [35320%]: Loss = 424178.500\n",
      "Iteration 353300 [35330%]: Loss = 429158.406\n",
      "Iteration 353400 [35340%]: Loss = 426531.969\n",
      "Iteration 353500 [35350%]: Loss = 397511.094\n",
      "Iteration 353600 [35360%]: Loss = 425823.750\n",
      "Iteration 353700 [35370%]: Loss = 424763.531\n",
      "Iteration 353800 [35380%]: Loss = 441663.219\n",
      "Iteration 353900 [35390%]: Loss = 428630.781\n",
      "Iteration 354000 [35400%]: Loss = 404934.469\n",
      "Iteration 354100 [35410%]: Loss = 432963.812\n",
      "Iteration 354200 [35420%]: Loss = 389300.188\n",
      "Iteration 354300 [35430%]: Loss = 395992.344\n",
      "Iteration 354400 [35440%]: Loss = 440544.812\n",
      "Iteration 354500 [35450%]: Loss = 464424.844\n",
      "Iteration 354600 [35460%]: Loss = 596102.000\n",
      "Iteration 354700 [35470%]: Loss = 437717.281\n",
      "Iteration 354800 [35480%]: Loss = 392644.281\n",
      "Iteration 354900 [35490%]: Loss = 420123.500\n",
      "Iteration 355000 [35500%]: Loss = 424979.094\n",
      "Iteration 355100 [35510%]: Loss = 402593.031\n",
      "Iteration 355200 [35520%]: Loss = 402968.094\n",
      "Iteration 355300 [35530%]: Loss = 418747.000\n",
      "Iteration 355400 [35540%]: Loss = 393313.469\n",
      "Iteration 355500 [35550%]: Loss = 410331.312\n",
      "Iteration 355600 [35560%]: Loss = 390949.531\n",
      "Iteration 355700 [35570%]: Loss = 416597.969\n",
      "Iteration 355800 [35580%]: Loss = 539301.875\n",
      "Iteration 355900 [35590%]: Loss = 432788.375\n",
      "Iteration 356000 [35600%]: Loss = 458203.125\n",
      "Iteration 356100 [35610%]: Loss = 488542.625\n",
      "Iteration 356200 [35620%]: Loss = 459685.531\n",
      "Iteration 356300 [35630%]: Loss = 451767.500\n",
      "Iteration 356400 [35640%]: Loss = 468796.625\n",
      "Iteration 356500 [35650%]: Loss = 451070.281\n",
      "Iteration 356600 [35660%]: Loss = 457328.688\n",
      "Iteration 356700 [35670%]: Loss = 443157.312\n",
      "Iteration 356800 [35680%]: Loss = 446120.125\n",
      "Iteration 356900 [35690%]: Loss = 441241.094\n",
      "Iteration 357000 [35700%]: Loss = 619961.750\n",
      "Iteration 357100 [35710%]: Loss = 547019.875\n",
      "Iteration 357200 [35720%]: Loss = 450797.531\n",
      "Iteration 357300 [35730%]: Loss = 448344.312\n",
      "Iteration 357400 [35740%]: Loss = 441295.594\n",
      "Iteration 357500 [35750%]: Loss = 448756.000\n",
      "Iteration 357600 [35760%]: Loss = 464013.812\n",
      "Iteration 357700 [35770%]: Loss = 431503.938\n",
      "Iteration 357800 [35780%]: Loss = 477441.312\n",
      "Iteration 357900 [35790%]: Loss = 1118864.875\n",
      "Iteration 358000 [35800%]: Loss = 470503.281\n",
      "Iteration 358100 [35810%]: Loss = 481286.094\n",
      "Iteration 358200 [35820%]: Loss = 525299.562\n",
      "Iteration 358300 [35830%]: Loss = 478455.969\n",
      "Iteration 358400 [35840%]: Loss = 467982.188\n",
      "Iteration 358500 [35850%]: Loss = 472750.000\n",
      "Iteration 358600 [35860%]: Loss = 474573.281\n",
      "Iteration 358700 [35870%]: Loss = 545018.312\n",
      "Iteration 358800 [35880%]: Loss = 475577.594\n",
      "Iteration 358900 [35890%]: Loss = 467491.094\n",
      "Iteration 359000 [35900%]: Loss = 567912.000\n",
      "Iteration 359100 [35910%]: Loss = 488464.719\n",
      "Iteration 359200 [35920%]: Loss = 473035.062\n",
      "Iteration 359300 [35930%]: Loss = 648483.750\n",
      "Iteration 359400 [35940%]: Loss = 483649.250\n",
      "Iteration 359500 [35950%]: Loss = 486666.531\n",
      "Iteration 359600 [35960%]: Loss = 481419.969\n",
      "Iteration 359700 [35970%]: Loss = 507924.125\n",
      "Iteration 359800 [35980%]: Loss = 507890.938\n",
      "Iteration 359900 [35990%]: Loss = 513826.969\n",
      "Iteration 360000 [36000%]: Loss = 474092.781\n"
     ]
    }
   ],
   "source": [
    "n_iter = 120000\n",
    "sess = tf.get_default_session()\n",
    "for _ in range(n_iter):\n",
    "    for inf in inf_list:\n",
    "        for _ in range(1):  # make multiple steps along each set of coords\n",
    "            info_dict = inf.update()\n",
    "        if inf is inference_lam:\n",
    "            inf.print_progress(info_dict)\n",
    "    sess.run(inference_latents)\n",
    "    sess.run(inference_probs)"
   ]
  },
  {
   "cell_type": "code",
   "execution_count": 51,
   "metadata": {
    "collapsed": false
   },
   "outputs": [
    {
     "data": {
      "text/plain": [
       "<matplotlib.image.AxesImage at 0x1324af160>"
      ]
     },
     "execution_count": 51,
     "metadata": {},
     "output_type": "execute_result"
    },
    {
     "data": {
      "image/png": "[encoded data removed]",
      "text/plain": [
       "<matplotlib.figure.Figure at 0x1327a5a90>"
      ]
     },
     "metadata": {},
     "output_type": "display_data"
    },
    {
     "data": {
      "image/png": "[encoded data removed]",
      "text/plain": [
       "<matplotlib.figure.Figure at 0x1327a5828>"
      ]
     },
     "metadata": {},
     "output_type": "display_data"
    }
   ],
   "source": [
    "Zmat = q_Z.mean().eval()\n",
    "\n",
    "plt.matshow(dZ, aspect='auto', cmap='gray')\n",
    "plt.matshow(Zmat.T, aspect='auto', cmap='gray')"
   ]
  },
  {
   "cell_type": "code",
   "execution_count": 52,
   "metadata": {
    "collapsed": false
   },
   "outputs": [
    {
     "data": {
      "image/png": "[encoded data removed]",
      "text/plain": [
       "<matplotlib.figure.Figure at 0x13247e898>"
      ]
     },
     "metadata": {},
     "output_type": "display_data"
    }
   ],
   "source": [
    "plt.hist(q_A.mean().eval().ravel(), label='inferred'); plt.hist(dA.ravel(), label='actual'), plt.legend();"
   ]
  },
  {
   "cell_type": "code",
   "execution_count": 53,
   "metadata": {
    "collapsed": false,
    "scrolled": true
   },
   "outputs": [
    {
     "data": {
      "image/png": "[encoded data removed]",
      "text/plain": [
       "<matplotlib.figure.Figure at 0x132461048>"
      ]
     },
     "metadata": {},
     "output_type": "display_data"
    }
   ],
   "source": [
    "plt.hist(q_B.mean().eval().ravel(), 200, label='inferred'), plt.hist(dB.ravel(), 200, label='actual'), plt.legend();"
   ]
  },
  {
   "cell_type": "code",
   "execution_count": 54,
   "metadata": {
    "collapsed": false
   },
   "outputs": [
    {
     "data": {
      "image/png": "[encoded data removed]",
      "text/plain": [
       "<matplotlib.figure.Figure at 0x1328edc50>"
      ]
     },
     "metadata": {},
     "output_type": "display_data"
    }
   ],
   "source": [
    "plt.hist(q_C.mean().eval().ravel(), 200, label='inferred'), plt.hist(dC.ravel(), 200, label='actual'), plt.legend();"
   ]
  },
  {
   "cell_type": "code",
   "execution_count": 55,
   "metadata": {
    "collapsed": false
   },
   "outputs": [
    {
     "data": {
      "image/png": "[encoded data removed]",
      "text/plain": [
       "<matplotlib.figure.Figure at 0x13245bf98>"
      ]
     },
     "metadata": {},
     "output_type": "display_data"
    }
   ],
   "source": [
    "plt.hist(lam_mu.eval(), 200, label='inferred'), plt.hist(dlam, 200, label='actual'), plt.legend();"
   ]
  },
  {
   "cell_type": "code",
   "execution_count": 38,
   "metadata": {
    "collapsed": false
   },
   "outputs": [
    {
     "data": {
      "text/plain": [
       "array([ 2.95266223,  2.20943737,  0.82715327, ...,  2.98056245,\n",
       "        2.72723484,  2.19961119], dtype=float32)"
      ]
     },
     "execution_count": 38,
     "metadata": {},
     "output_type": "execute_result"
    }
   ],
   "source": [
    "lam_mu.value().eval()"
   ]
  },
  {
   "cell_type": "code",
   "execution_count": 39,
   "metadata": {
    "collapsed": false
   },
   "outputs": [
    {
     "data": {
      "text/plain": [
       "array([ 2.95266223,  2.20943737,  0.82715327, ...,  2.98056245,\n",
       "        2.72723484,  2.19961119], dtype=float32)"
      ]
     },
     "execution_count": 39,
     "metadata": {},
     "output_type": "execute_result"
    }
   ],
   "source": [
    "q_lam.mean().eval()"
   ]
  },
  {
   "cell_type": "code",
   "execution_count": 40,
   "metadata": {
    "collapsed": false
   },
   "outputs": [
    {
     "data": {
      "text/plain": [
       "array([-0.27815196], dtype=float32)"
      ]
     },
     "execution_count": 40,
     "metadata": {},
     "output_type": "execute_result"
    }
   ],
   "source": [
    "q_sig.mean().eval()"
   ]
  },
  {
   "cell_type": "code",
   "execution_count": 41,
   "metadata": {
    "collapsed": false
   },
   "outputs": [
    {
     "data": {
      "text/plain": [
       "array([ 0.97660524,  0.99759662,  0.99464697,  0.0045814 ], dtype=float32)"
      ]
     },
     "execution_count": 41,
     "metadata": {},
     "output_type": "execute_result"
    }
   ],
   "source": [
    "q_pi._value.eval()"
   ]
  },
  {
   "cell_type": "code",
   "execution_count": 42,
   "metadata": {
    "collapsed": false
   },
   "outputs": [
    {
     "data": {
      "text/plain": [
       "array([ 0.01886443,  0.01886443,  0.01886443,  0.01886443], dtype=float32)"
      ]
     },
     "execution_count": 42,
     "metadata": {},
     "output_type": "execute_result"
    }
   ],
   "source": [
    "q_pi.std().eval()"
   ]
  },
  {
   "cell_type": "code",
   "execution_count": 43,
   "metadata": {
    "collapsed": false
   },
   "outputs": [
    {
     "data": {
      "text/plain": [
       "array([ 0.98076922,  0.98076922,  0.98076922,  0.01923077], dtype=float32)"
      ]
     },
     "execution_count": 43,
     "metadata": {},
     "output_type": "execute_result"
    }
   ],
   "source": [
    "q_pi.mean().eval()"
   ]
  },
  {
   "cell_type": "code",
   "execution_count": null,
   "metadata": {
    "collapsed": true
   },
   "outputs": [],
   "source": []
  }
 ],
 "metadata": {
  "anaconda-cloud": {},
  "kernelspec": {
   "display_name": "Python [Root]",
   "language": "python",
   "name": "Python [Root]"
  },
  "language_info": {
   "codemirror_mode": {
    "name": "ipython",
    "version": 3
   },
   "file_extension": ".py",
   "mimetype": "text/x-python",
   "name": "python",
   "nbconvert_exporter": "python",
   "pygments_lexer": "ipython3",
   "version": "3.5.2"
  }
 },
 "nbformat": 4,
 "nbformat_minor": 0
}
