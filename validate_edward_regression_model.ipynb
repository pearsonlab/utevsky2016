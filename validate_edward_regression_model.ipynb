{
 "cells": [
  {
   "cell_type": "markdown",
   "metadata": {},
   "source": [
    "# Run model on fake data\n",
    "\n",
    "Here, we generate a synthetic data set for purposes of validating the model constructed in Edward."
   ]
  },
  {
   "cell_type": "code",
   "execution_count": 1,
   "metadata": {
    "collapsed": false
   },
   "outputs": [],
   "source": [
    "import numpy as np\n",
    "import pandas as pd\n",
    "import tensorflow as tf\n",
    "import edward as ed\n",
    "import matplotlib.pyplot as plt\n",
    "%matplotlib inline"
   ]
  },
  {
   "cell_type": "code",
   "execution_count": 2,
   "metadata": {
    "collapsed": true
   },
   "outputs": [],
   "source": [
    "# we'll want this function below\n",
    "def softplus(x):\n",
    "    return np.logaddexp(0, x)"
   ]
  },
  {
   "cell_type": "code",
   "execution_count": 3,
   "metadata": {
    "collapsed": false
   },
   "outputs": [],
   "source": [
    "ed.set_seed(12225)"
   ]
  },
  {
   "cell_type": "markdown",
   "metadata": {},
   "source": [
    "The model is defined by the spike count $N_{us}$ observed when stimulus $s$ is presented to unit $u$:\n",
    "\n",
    "$$\n",
    "\\begin{align}\n",
    "N &\\sim \\mathrm{Poisson}(e^\\lambda)  \\\\\n",
    "\\lambda_{us} &\\sim \\mathcal{N}(A_{u} + (B \\cdot X)_{us}, \\sigma^2) \\\\\n",
    "\\log \\sigma &\\sim \\mathcal{N}(-7, 1^2) \\\\\n",
    "\\end{align}\n",
    "$$\n",
    "With $X$ an $P \\times N_s$ matrix of known regressors, $Z$ a $K \\times N_s$ matrix of latent binary features\n",
    "governed by an Indian Buffet Process, $A$ and $N_u$ vector of baselines, and $(\\cdot)_+$ the softplus function: \n",
    "$(x)_+ = \\log(1 + e^x)$."
   ]
  },
  {
   "cell_type": "markdown",
   "metadata": {},
   "source": [
    "# Define constants"
   ]
  },
  {
   "cell_type": "code",
   "execution_count": 4,
   "metadata": {
    "collapsed": true
   },
   "outputs": [],
   "source": [
    "# basic constants\n",
    "Nrep = 50  # number of observations per unit per stim\n",
    "NB = 10  # number of trials in minibatch\n",
    "NU = 50  # number of units\n",
    "NS = 50  # number of stims\n",
    "P = 3  # number of specified regressors\n",
    "K = 4  # number of latents"
   ]
  },
  {
   "cell_type": "markdown",
   "metadata": {},
   "source": [
    "# Make neural response coefficients"
   ]
  },
  {
   "cell_type": "code",
   "execution_count": 5,
   "metadata": {
    "collapsed": false
   },
   "outputs": [],
   "source": [
    "dA = np.log(softplus(25 + 5 * np.random.randn(NU)))  # baseline\n",
    "dB = np.log(np.array([0.75, 1.2, 1.5]) + 0.1 * np.random.randn(NU, P))  # regressor effects"
   ]
  },
  {
   "cell_type": "markdown",
   "metadata": {},
   "source": [
    "# Regressors and latent states"
   ]
  },
  {
   "cell_type": "code",
   "execution_count": 6,
   "metadata": {
    "collapsed": false
   },
   "outputs": [],
   "source": [
    "dX = 0.25 * np.random.randn(P, NS)\n",
    "\n",
    "import scipy.stats as stats"
   ]
  },
  {
   "cell_type": "markdown",
   "metadata": {},
   "source": [
    "# Generate trial set"
   ]
  },
  {
   "cell_type": "code",
   "execution_count": 7,
   "metadata": {
    "collapsed": true
   },
   "outputs": [],
   "source": [
    "dU, dS = np.meshgrid(range(NU), range(NS))\n",
    "dU = dU.ravel()\n",
    "dS = dS.ravel()"
   ]
  },
  {
   "cell_type": "code",
   "execution_count": 8,
   "metadata": {
    "collapsed": false
   },
   "outputs": [],
   "source": [
    "dlam_mean = np.tile(dA[dU] + np.sum(dB[dU] * dX[:, dS].T, axis=1), Nrep)\n",
    "\n",
    "dlam = stats.norm.rvs(loc=dlam_mean, scale=0.01)"
   ]
  },
  {
   "cell_type": "code",
   "execution_count": 9,
   "metadata": {
    "collapsed": false
   },
   "outputs": [
    {
     "data": {
      "text/plain": [
       "(125000,)"
      ]
     },
     "execution_count": 9,
     "metadata": {},
     "output_type": "execute_result"
    }
   ],
   "source": [
    "dcount = stats.poisson.rvs(np.exp(dlam))\n",
    "dcount.shape"
   ]
  },
  {
   "cell_type": "code",
   "execution_count": 10,
   "metadata": {
    "collapsed": false
   },
   "outputs": [
    {
     "data": {
      "image/png": "[encoded data removed]",
      "text/plain": [
       "<matplotlib.figure.Figure at 0x1224ee0f0>"
      ]
     },
     "metadata": {},
     "output_type": "display_data"
    }
   ],
   "source": [
    "plt.hist(np.exp(dlam), bins=200);"
   ]
  },
  {
   "cell_type": "code",
   "execution_count": 11,
   "metadata": {
    "collapsed": false
   },
   "outputs": [
    {
     "data": {
      "image/png": "[encoded data removed]",
      "text/plain": [
       "<matplotlib.figure.Figure at 0x1224ee5f8>"
      ]
     },
     "metadata": {},
     "output_type": "display_data"
    }
   ],
   "source": [
    "plt.hist(dcount, bins=200);"
   ]
  },
  {
   "cell_type": "markdown",
   "metadata": {},
   "source": [
    "# Set up data"
   ]
  },
  {
   "cell_type": "code",
   "execution_count": 12,
   "metadata": {
    "collapsed": false
   },
   "outputs": [],
   "source": [
    "count = dcount.copy()\n",
    "Xdat = np.tile(dX[:, dS], (1, Nrep)).T\n",
    "unit = np.tile(dU, Nrep)\n",
    "stim = np.tile(dS, Nrep)"
   ]
  },
  {
   "cell_type": "markdown",
   "metadata": {},
   "source": [
    "# Define the model"
   ]
  },
  {
   "cell_type": "markdown",
   "metadata": {},
   "source": [
    "## Constants"
   ]
  },
  {
   "cell_type": "code",
   "execution_count": 13,
   "metadata": {
    "collapsed": false
   },
   "outputs": [],
   "source": [
    "# define some needed constants\n",
    "N = Xdat.shape[0]  # number of trials"
   ]
  },
  {
   "cell_type": "code",
   "execution_count": 14,
   "metadata": {
    "collapsed": false
   },
   "outputs": [
    {
     "data": {
      "text/plain": [
       "125000"
      ]
     },
     "execution_count": 14,
     "metadata": {},
     "output_type": "execute_result"
    }
   ],
   "source": [
    "N"
   ]
  },
  {
   "cell_type": "markdown",
   "metadata": {},
   "source": [
    "## Inputs and data"
   ]
  },
  {
   "cell_type": "code",
   "execution_count": 15,
   "metadata": {
    "collapsed": true
   },
   "outputs": [],
   "source": [
    "X = tf.constant(Xdat.astype('float32'))\n",
    "U = tf.constant(unit)\n",
    "S = tf.constant(stim)\n",
    "counts = tf.constant(count)\n",
    "allinds = tf.constant(np.arange(N))"
   ]
  },
  {
   "cell_type": "code",
   "execution_count": 16,
   "metadata": {
    "collapsed": false
   },
   "outputs": [
    {
     "data": {
      "text/plain": [
       "TensorShape([Dimension(125000), Dimension(3)])"
      ]
     },
     "execution_count": 16,
     "metadata": {},
     "output_type": "execute_result"
    }
   ],
   "source": [
    "X.get_shape()"
   ]
  },
  {
   "cell_type": "markdown",
   "metadata": {},
   "source": [
    "Make a node that produces `NB` indices from the range $[0, N - 1]$. These are the subset of data points we want to use."
   ]
  },
  {
   "cell_type": "raw",
   "metadata": {
    "collapsed": true
   },
   "source": [
    "batch_inds = tf.constant(np.arange(NB))\n",
    "batch_counts = tf.train.batch(tf.train.slice_input_producer([counts]), NB)"
   ]
  },
  {
   "cell_type": "raw",
   "metadata": {
    "collapsed": false
   },
   "source": [
    "batch_inds, batch_counts = tf.train.batch(tf.train.slice_input_producer([allinds, counts]), NB, \n",
    "                                          name='batches')\n",
    "tf.scalar_summary('total count', tf.reduce_sum(batch_counts))"
   ]
  },
  {
   "cell_type": "code",
   "execution_count": 17,
   "metadata": {
    "collapsed": true
   },
   "outputs": [],
   "source": [
    "batch_inds = np.arange(N)\n",
    "batch_counts = counts"
   ]
  },
  {
   "cell_type": "markdown",
   "metadata": {},
   "source": [
    "## Generative (p) model"
   ]
  },
  {
   "cell_type": "code",
   "execution_count": 18,
   "metadata": {
    "collapsed": false
   },
   "outputs": [],
   "source": [
    "with tf.variable_scope(\"pmodel\"):\n",
    "    A = ed.models.Normal(mu=tf.zeros(NU), sigma=5 * tf.ones(NU), name='A')\n",
    "    B = ed.models.Normal(mu=tf.zeros((NU, P)), sigma=3 * tf.ones((NU, P)), name='B')\n",
    "\n",
    "    sig = ed.models.Normal(mu=[-7.0], sigma=[1.], name='sig')\n",
    "\n",
    "    lam_vars = tf.gather(A, U) + tf.reduce_sum(tf.gather(B, U) * X, 1)\n",
    "    lam = ed.models.Normal(mu=tf.gather(lam_vars, batch_inds), \n",
    "                           sigma=tf.exp(sig), name='lam')\n",
    "\n",
    "#     cnt = ed.models.Poisson(lam=tf.exp(lam), value=tf.ones(NB), name='cnt')\n",
    "    cnt = ed.models.Poisson(lam=tf.exp(lam), value=tf.ones(N), name='cnt')"
   ]
  },
  {
   "cell_type": "markdown",
   "metadata": {},
   "source": [
    "# Recognition (q) model"
   ]
  },
  {
   "cell_type": "code",
   "execution_count": 19,
   "metadata": {
    "collapsed": false
   },
   "outputs": [],
   "source": [
    "with tf.variable_scope(\"qmodel\"):\n",
    "    q_A = ed.models.NormalWithSoftplusSigma(mu=np.log(25) + tf.Variable(tf.random_normal((NU,))), \n",
    "                                            sigma=tf.Variable(tf.random_uniform((NU,))),\n",
    "                                            name='A')\n",
    "    tf.scalar_summary('q_A', tf.reduce_mean(q_A.mean()))\n",
    "\n",
    "    q_B = ed.models.NormalWithSoftplusSigma(mu=tf.Variable(tf.random_normal((NU, P))), \n",
    "                                            sigma=tf.Variable(tf.random_uniform((NU, P))),\n",
    "                                            name='B')\n",
    "    tf.scalar_summary('q_B', tf.reduce_mean(q_B.mean()))\n",
    "\n",
    "    lam_mu = tf.Variable(2 + tf.random_normal((N,)))\n",
    "    tf.scalar_summary('lam_mu_mean', tf.reduce_mean(tf.gather(lam_mu, batch_inds)))\n",
    "    lam_sig = tf.Variable(3 * tf.random_uniform((N,)) + 2)\n",
    "    q_lam = ed.models.NormalWithSoftplusSigma(mu=tf.gather(lam_mu, batch_inds),\n",
    "                                              sigma=tf.gather(lam_sig, batch_inds),\n",
    "                                              name='lam')\n",
    "\n",
    "    q_sig = ed.models.NormalWithSoftplusSigma(mu=tf.Variable(-7. * tf.random_uniform((1,))),\n",
    "                                              sigma=tf.Variable(tf.random_uniform((1,))),\n",
    "                                              name='sig')"
   ]
  },
  {
   "cell_type": "markdown",
   "metadata": {},
   "source": [
    "# Do variational inference"
   ]
  },
  {
   "cell_type": "code",
   "execution_count": 20,
   "metadata": {
    "collapsed": false
   },
   "outputs": [],
   "source": [
    "data = {cnt: batch_counts}\n",
    "inference = ed.KLqp({A: q_A, B: q_B, sig: q_sig, lam: q_lam}, data)"
   ]
  },
  {
   "cell_type": "code",
   "execution_count": 21,
   "metadata": {
    "collapsed": true
   },
   "outputs": [],
   "source": [
    "init = tf.initialize_all_variables()"
   ]
  },
  {
   "cell_type": "markdown",
   "metadata": {},
   "source": [
    "# Notes before inference:\n",
    "\n",
    "- The `logdir` keyword specifies the place to put the log file (assuming you've instrumented the code to save events, etc.). If a subdirectory is given, pointing Tensorboard at the parent directory allows you to compare across subdirectories (runs).\n",
    "    - I'm using the `jmp/instrumented` branch of the `jmxpearson/edward` fork\n",
    "- I had to lower the learning rate in Adam to avoid NaNs early on in learning. Gradient clipping might solve the same problem.\n",
    "- I'm currently using \"all\" the data, but this should probably be switched to minibatches.\n",
    "- I've used `n_samples` = 1, 5, 10, and 25, which all seem pretty similar after 10k iterations. "
   ]
  },
  {
   "cell_type": "code",
   "execution_count": 22,
   "metadata": {
    "collapsed": false,
    "scrolled": true
   },
   "outputs": [
    {
     "name": "stdout",
     "output_type": "stream",
     "text": [
      "Iteration     1 [  0%]: Loss = 41458282496.000\n",
      "Iteration   100 [  0%]: Loss = 95568658432.000\n",
      "Iteration   200 [  0%]: Loss = 39306772480.000\n",
      "Iteration   300 [  0%]: Loss = 29107064832.000\n",
      "Iteration   400 [  0%]: Loss = 139300061184.000\n",
      "Iteration   500 [  1%]: Loss = 230833553408.000\n",
      "Iteration   600 [  1%]: Loss = 8891456512.000\n",
      "Iteration   700 [  1%]: Loss = 54228299776.000\n",
      "Iteration   800 [  1%]: Loss = 30593196032.000\n",
      "Iteration   900 [  1%]: Loss = 29723918336.000\n",
      "Iteration  1000 [  2%]: Loss = 4598548992.000\n",
      "Iteration  1100 [  2%]: Loss = 76396339200.000\n",
      "Iteration  1200 [  2%]: Loss = 2889106944.000\n",
      "Iteration  1300 [  2%]: Loss = 8476676096.000\n",
      "Iteration  1400 [  2%]: Loss = 2079582208.000\n",
      "Iteration  1500 [  3%]: Loss = 15410042880.000\n",
      "Iteration  1600 [  3%]: Loss = 958369408.000\n",
      "Iteration  1700 [  3%]: Loss = 222933360.000\n",
      "Iteration  1800 [  3%]: Loss = 5903687680.000\n",
      "Iteration  1900 [  3%]: Loss = 13617359872.000\n",
      "Iteration  2000 [  4%]: Loss = 3490253824.000\n",
      "Iteration  2100 [  4%]: Loss = 560661376.000\n",
      "Iteration  2200 [  4%]: Loss = 1402658304.000\n",
      "Iteration  2300 [  4%]: Loss = 714595456.000\n",
      "Iteration  2400 [  4%]: Loss = 2530318848.000\n",
      "Iteration  2500 [  5%]: Loss = 2071756288.000\n",
      "Iteration  2600 [  5%]: Loss = 1376093312.000\n",
      "Iteration  2700 [  5%]: Loss = 1079866880.000\n",
      "Iteration  2800 [  5%]: Loss = 1318990848.000\n",
      "Iteration  2900 [  5%]: Loss = 2800380160.000\n",
      "Iteration  3000 [  6%]: Loss = 501093600.000\n",
      "Iteration  3100 [  6%]: Loss = 1320756864.000\n",
      "Iteration  3200 [  6%]: Loss = 548264512.000\n",
      "Iteration  3300 [  6%]: Loss = 3512818944.000\n",
      "Iteration  3400 [  6%]: Loss = 1923883264.000\n",
      "Iteration  3500 [  7%]: Loss = 203711696.000\n",
      "Iteration  3600 [  7%]: Loss = 514895936.000\n",
      "Iteration  3700 [  7%]: Loss = 611619584.000\n",
      "Iteration  3800 [  7%]: Loss = 242741008.000\n",
      "Iteration  3900 [  7%]: Loss = 337280960.000\n",
      "Iteration  4000 [  8%]: Loss = 258588368.000\n",
      "Iteration  4100 [  8%]: Loss = 420924992.000\n",
      "Iteration  4200 [  8%]: Loss = 453587168.000\n",
      "Iteration  4300 [  8%]: Loss = 421208736.000\n",
      "Iteration  4400 [  8%]: Loss = 290346272.000\n",
      "Iteration  4500 [  9%]: Loss = 520944480.000\n",
      "Iteration  4600 [  9%]: Loss = 169322464.000\n",
      "Iteration  4700 [  9%]: Loss = 602617088.000\n",
      "Iteration  4800 [  9%]: Loss = 88623728.000\n",
      "Iteration  4900 [  9%]: Loss = 135139024.000\n",
      "Iteration  5000 [ 10%]: Loss = 927709824.000\n",
      "Iteration  5100 [ 10%]: Loss = 1199149312.000\n",
      "Iteration  5200 [ 10%]: Loss = 568467904.000\n",
      "Iteration  5300 [ 10%]: Loss = 126455864.000\n",
      "Iteration  5400 [ 10%]: Loss = 308447392.000\n",
      "Iteration  5500 [ 11%]: Loss = 209494560.000\n",
      "Iteration  5600 [ 11%]: Loss = 653900288.000\n",
      "Iteration  5700 [ 11%]: Loss = 143844368.000\n",
      "Iteration  5800 [ 11%]: Loss = 107241296.000\n",
      "Iteration  5900 [ 11%]: Loss = 70306160.000\n",
      "Iteration  6000 [ 12%]: Loss = 112735952.000\n",
      "Iteration  6100 [ 12%]: Loss = 140009264.000\n",
      "Iteration  6200 [ 12%]: Loss = 443077120.000\n",
      "Iteration  6300 [ 12%]: Loss = 145029600.000\n",
      "Iteration  6400 [ 12%]: Loss = 285096416.000\n",
      "Iteration  6500 [ 13%]: Loss = 41461228.000\n",
      "Iteration  6600 [ 13%]: Loss = 266838432.000\n",
      "Iteration  6700 [ 13%]: Loss = 111800872.000\n",
      "Iteration  6800 [ 13%]: Loss = 102992064.000\n",
      "Iteration  6900 [ 13%]: Loss = 1044123968.000\n",
      "Iteration  7000 [ 14%]: Loss = 126867576.000\n",
      "Iteration  7100 [ 14%]: Loss = 592479808.000\n",
      "Iteration  7200 [ 14%]: Loss = 99189752.000\n",
      "Iteration  7300 [ 14%]: Loss = 50045004.000\n",
      "Iteration  7400 [ 14%]: Loss = 28959662.000\n",
      "Iteration  7500 [ 15%]: Loss = 63991532.000\n",
      "Iteration  7600 [ 15%]: Loss = 57275844.000\n",
      "Iteration  7700 [ 15%]: Loss = 31059586.000\n",
      "Iteration  7800 [ 15%]: Loss = 120601344.000\n",
      "Iteration  7900 [ 15%]: Loss = 130896040.000\n",
      "Iteration  8000 [ 16%]: Loss = 26600770.000\n",
      "Iteration  8100 [ 16%]: Loss = 81895936.000\n",
      "Iteration  8200 [ 16%]: Loss = 104986312.000\n",
      "Iteration  8300 [ 16%]: Loss = 15243953.000\n",
      "Iteration  8400 [ 16%]: Loss = 146108656.000\n",
      "Iteration  8500 [ 17%]: Loss = 58369144.000\n",
      "Iteration  8600 [ 17%]: Loss = 21407320.000\n",
      "Iteration  8700 [ 17%]: Loss = 67492200.000\n",
      "Iteration  8800 [ 17%]: Loss = 97818320.000\n",
      "Iteration  8900 [ 17%]: Loss = 134390768.000\n",
      "Iteration  9000 [ 18%]: Loss = 67032968.000\n",
      "Iteration  9100 [ 18%]: Loss = 35888248.000\n",
      "Iteration  9200 [ 18%]: Loss = 45752720.000\n",
      "Iteration  9300 [ 18%]: Loss = 31903142.000\n",
      "Iteration  9400 [ 18%]: Loss = 36050452.000\n",
      "Iteration  9500 [ 19%]: Loss = 22067592.000\n",
      "Iteration  9600 [ 19%]: Loss = 14919772.000\n",
      "Iteration  9700 [ 19%]: Loss = 19472806.000\n",
      "Iteration  9800 [ 19%]: Loss = 47355016.000\n",
      "Iteration  9900 [ 19%]: Loss = 14545553.000\n",
      "Iteration 10000 [ 20%]: Loss = 131322216.000\n",
      "Iteration 10100 [ 20%]: Loss = 53959048.000\n",
      "Iteration 10200 [ 20%]: Loss = 34015516.000\n",
      "Iteration 10300 [ 20%]: Loss = 19296878.000\n",
      "Iteration 10400 [ 20%]: Loss = 33483780.000\n",
      "Iteration 10500 [ 21%]: Loss = 31121432.000\n",
      "Iteration 10600 [ 21%]: Loss = 115085400.000\n",
      "Iteration 10700 [ 21%]: Loss = 25923698.000\n",
      "Iteration 10800 [ 21%]: Loss = 11025091.000\n",
      "Iteration 10900 [ 21%]: Loss = 32221040.000\n",
      "Iteration 11000 [ 22%]: Loss = 32166122.000\n",
      "Iteration 11100 [ 22%]: Loss = 53994884.000\n",
      "Iteration 11200 [ 22%]: Loss = 15863097.000\n",
      "Iteration 11300 [ 22%]: Loss = 11312691.000\n",
      "Iteration 11400 [ 22%]: Loss = 13139871.000\n",
      "Iteration 11500 [ 23%]: Loss = 20197926.000\n",
      "Iteration 11600 [ 23%]: Loss = 6787010.500\n",
      "Iteration 11700 [ 23%]: Loss = 6305455.000\n",
      "Iteration 11800 [ 23%]: Loss = 10557581.000\n",
      "Iteration 11900 [ 23%]: Loss = 14834830.000\n",
      "Iteration 12000 [ 24%]: Loss = 10838203.000\n",
      "Iteration 12100 [ 24%]: Loss = 29596760.000\n",
      "Iteration 12200 [ 24%]: Loss = 13594697.000\n",
      "Iteration 12300 [ 24%]: Loss = 5642959.000\n",
      "Iteration 12400 [ 24%]: Loss = 21991462.000\n",
      "Iteration 12500 [ 25%]: Loss = 8122561.000\n",
      "Iteration 12600 [ 25%]: Loss = 14159559.000\n",
      "Iteration 12700 [ 25%]: Loss = 5655241.000\n",
      "Iteration 12800 [ 25%]: Loss = 8355930.000\n",
      "Iteration 12900 [ 25%]: Loss = 7992420.500\n",
      "Iteration 13000 [ 26%]: Loss = 7405963.000\n",
      "Iteration 13100 [ 26%]: Loss = 8926046.000\n",
      "Iteration 13200 [ 26%]: Loss = 6680944.000\n",
      "Iteration 13300 [ 26%]: Loss = 5416400.000\n",
      "Iteration 13400 [ 26%]: Loss = 5305485.500\n",
      "Iteration 13500 [ 27%]: Loss = 3103352.000\n",
      "Iteration 13600 [ 27%]: Loss = 13933952.000\n",
      "Iteration 13700 [ 27%]: Loss = 5718028.500\n",
      "Iteration 13800 [ 27%]: Loss = 4818524.500\n",
      "Iteration 13900 [ 27%]: Loss = 6607608.500\n",
      "Iteration 14000 [ 28%]: Loss = 5662871.000\n",
      "Iteration 14100 [ 28%]: Loss = 4541510.000\n",
      "Iteration 14200 [ 28%]: Loss = 2280351.500\n",
      "Iteration 14300 [ 28%]: Loss = 2109690.750\n",
      "Iteration 14400 [ 28%]: Loss = 4258865.000\n",
      "Iteration 14500 [ 28%]: Loss = 5946764.500\n",
      "Iteration 14600 [ 29%]: Loss = 3674560.000\n",
      "Iteration 14700 [ 29%]: Loss = 6652570.500\n",
      "Iteration 14800 [ 29%]: Loss = 4024384.750\n",
      "Iteration 14900 [ 29%]: Loss = 2414185.000\n",
      "Iteration 15000 [ 30%]: Loss = 2878081.000\n",
      "Iteration 15100 [ 30%]: Loss = 2933095.750\n",
      "Iteration 15200 [ 30%]: Loss = 4936345.500\n",
      "Iteration 15300 [ 30%]: Loss = 6835573.000\n",
      "Iteration 15400 [ 30%]: Loss = 1851913.500\n",
      "Iteration 15500 [ 31%]: Loss = 3479414.250\n",
      "Iteration 15600 [ 31%]: Loss = 1871990.750\n",
      "Iteration 15700 [ 31%]: Loss = 2984591.000\n",
      "Iteration 15800 [ 31%]: Loss = 4105871.750\n",
      "Iteration 15900 [ 31%]: Loss = 2620216.750\n",
      "Iteration 16000 [ 32%]: Loss = 2132409.750\n",
      "Iteration 16100 [ 32%]: Loss = 1541496.875\n",
      "Iteration 16200 [ 32%]: Loss = 1877935.000\n",
      "Iteration 16300 [ 32%]: Loss = 1970670.125\n",
      "Iteration 16400 [ 32%]: Loss = 2439798.250\n",
      "Iteration 16500 [ 33%]: Loss = 14250006.000\n",
      "Iteration 16600 [ 33%]: Loss = 1231111.875\n",
      "Iteration 16700 [ 33%]: Loss = 2417048.500\n",
      "Iteration 16800 [ 33%]: Loss = 1335692.500\n",
      "Iteration 16900 [ 33%]: Loss = 1535959.500\n",
      "Iteration 17000 [ 34%]: Loss = 1177201.375\n",
      "Iteration 17100 [ 34%]: Loss = 1018131.500\n",
      "Iteration 17200 [ 34%]: Loss = 1416013.125\n",
      "Iteration 17300 [ 34%]: Loss = 1642626.625\n",
      "Iteration 17400 [ 34%]: Loss = 3429715.250\n",
      "Iteration 17500 [ 35%]: Loss = 1022939.625\n",
      "Iteration 17600 [ 35%]: Loss = 1369427.750\n",
      "Iteration 17700 [ 35%]: Loss = 1507140.125\n",
      "Iteration 17800 [ 35%]: Loss = 1272554.750\n",
      "Iteration 17900 [ 35%]: Loss = 1244294.375\n",
      "Iteration 18000 [ 36%]: Loss = 1615842.875\n",
      "Iteration 18100 [ 36%]: Loss = 1153750.875\n",
      "Iteration 18200 [ 36%]: Loss = 1490175.250\n",
      "Iteration 18300 [ 36%]: Loss = 1164210.500\n",
      "Iteration 18400 [ 36%]: Loss = 1103385.250\n",
      "Iteration 18500 [ 37%]: Loss = 976989.438\n",
      "Iteration 18600 [ 37%]: Loss = 731669.688\n",
      "Iteration 18700 [ 37%]: Loss = 817790.312\n",
      "Iteration 18800 [ 37%]: Loss = 805200.812\n",
      "Iteration 18900 [ 37%]: Loss = 936931.000\n",
      "Iteration 19000 [ 38%]: Loss = 862987.188\n",
      "Iteration 19100 [ 38%]: Loss = 899538.750\n",
      "Iteration 19200 [ 38%]: Loss = 696213.375\n",
      "Iteration 19300 [ 38%]: Loss = 634536.500\n",
      "Iteration 19400 [ 38%]: Loss = 694776.188\n",
      "Iteration 19500 [ 39%]: Loss = 631823.500\n",
      "Iteration 19600 [ 39%]: Loss = 624360.125\n",
      "Iteration 19700 [ 39%]: Loss = 732515.938\n",
      "Iteration 19800 [ 39%]: Loss = 607139.188\n",
      "Iteration 19900 [ 39%]: Loss = 606124.062\n",
      "Iteration 20000 [ 40%]: Loss = 608677.062\n",
      "Iteration 20100 [ 40%]: Loss = 955647.500\n",
      "Iteration 20200 [ 40%]: Loss = 565811.062\n",
      "Iteration 20300 [ 40%]: Loss = 770660.250\n",
      "Iteration 20400 [ 40%]: Loss = 662218.562\n",
      "Iteration 20500 [ 41%]: Loss = 627762.375\n",
      "Iteration 20600 [ 41%]: Loss = 637972.000\n",
      "Iteration 20700 [ 41%]: Loss = 690156.562\n",
      "Iteration 20800 [ 41%]: Loss = 1041533.438\n",
      "Iteration 20900 [ 41%]: Loss = 567627.750\n",
      "Iteration 21000 [ 42%]: Loss = 657015.562\n",
      "Iteration 21100 [ 42%]: Loss = 572095.312\n",
      "Iteration 21200 [ 42%]: Loss = 622058.062\n",
      "Iteration 21300 [ 42%]: Loss = 585068.750\n",
      "Iteration 21400 [ 42%]: Loss = 569096.312\n",
      "Iteration 21500 [ 43%]: Loss = 538726.875\n",
      "Iteration 21600 [ 43%]: Loss = 575310.625\n",
      "Iteration 21700 [ 43%]: Loss = 647543.688\n",
      "Iteration 21800 [ 43%]: Loss = 547015.250\n",
      "Iteration 21900 [ 43%]: Loss = 640540.938\n",
      "Iteration 22000 [ 44%]: Loss = 529937.250\n",
      "Iteration 22100 [ 44%]: Loss = 759576.688\n",
      "Iteration 22200 [ 44%]: Loss = 510602.812\n",
      "Iteration 22300 [ 44%]: Loss = 502863.562\n",
      "Iteration 22400 [ 44%]: Loss = 514281.188\n",
      "Iteration 22500 [ 45%]: Loss = 503685.875\n",
      "Iteration 22600 [ 45%]: Loss = 505986.250\n",
      "Iteration 22700 [ 45%]: Loss = 506269.906\n",
      "Iteration 22800 [ 45%]: Loss = 499586.688\n",
      "Iteration 22900 [ 45%]: Loss = 514565.656\n",
      "Iteration 23000 [ 46%]: Loss = 497445.656\n",
      "Iteration 23100 [ 46%]: Loss = 504838.938\n",
      "Iteration 23200 [ 46%]: Loss = 492386.000\n",
      "Iteration 23300 [ 46%]: Loss = 511408.844\n",
      "Iteration 23400 [ 46%]: Loss = 493687.438\n",
      "Iteration 23500 [ 47%]: Loss = 481515.125\n",
      "Iteration 23600 [ 47%]: Loss = 479815.219\n",
      "Iteration 23700 [ 47%]: Loss = 519126.656\n",
      "Iteration 23800 [ 47%]: Loss = 488814.344\n",
      "Iteration 23900 [ 47%]: Loss = 496805.781\n",
      "Iteration 24000 [ 48%]: Loss = 472697.969\n",
      "Iteration 24100 [ 48%]: Loss = 499786.594\n",
      "Iteration 24200 [ 48%]: Loss = 467483.844\n",
      "Iteration 24300 [ 48%]: Loss = 478609.656\n",
      "Iteration 24400 [ 48%]: Loss = 512419.875\n",
      "Iteration 24500 [ 49%]: Loss = 564944.750\n",
      "Iteration 24600 [ 49%]: Loss = 481726.844\n",
      "Iteration 24700 [ 49%]: Loss = 503694.969\n",
      "Iteration 24800 [ 49%]: Loss = 503268.375\n",
      "Iteration 24900 [ 49%]: Loss = 463572.656\n",
      "Iteration 25000 [ 50%]: Loss = 463910.188\n",
      "Iteration 25100 [ 50%]: Loss = 456811.312\n",
      "Iteration 25200 [ 50%]: Loss = 518345.031\n",
      "Iteration 25300 [ 50%]: Loss = 468304.406\n",
      "Iteration 25400 [ 50%]: Loss = 458221.562\n",
      "Iteration 25500 [ 51%]: Loss = 502153.062\n",
      "Iteration 25600 [ 51%]: Loss = 453295.688\n",
      "Iteration 25700 [ 51%]: Loss = 448491.688\n",
      "Iteration 25800 [ 51%]: Loss = 559593.688\n",
      "Iteration 25900 [ 51%]: Loss = 447017.656\n",
      "Iteration 26000 [ 52%]: Loss = 450355.656\n",
      "Iteration 26100 [ 52%]: Loss = 460190.125\n",
      "Iteration 26200 [ 52%]: Loss = 446232.406\n",
      "Iteration 26300 [ 52%]: Loss = 449610.719\n",
      "Iteration 26400 [ 52%]: Loss = 440460.719\n",
      "Iteration 26500 [ 53%]: Loss = 440113.875\n",
      "Iteration 26600 [ 53%]: Loss = 433452.344\n",
      "Iteration 26700 [ 53%]: Loss = 433970.688\n",
      "Iteration 26800 [ 53%]: Loss = 438687.000\n",
      "Iteration 26900 [ 53%]: Loss = 443206.000\n",
      "Iteration 27000 [ 54%]: Loss = 439628.000\n",
      "Iteration 27100 [ 54%]: Loss = 435596.781\n",
      "Iteration 27200 [ 54%]: Loss = 432001.438\n",
      "Iteration 27300 [ 54%]: Loss = 481819.562\n",
      "Iteration 27400 [ 54%]: Loss = 439628.969\n",
      "Iteration 27500 [ 55%]: Loss = 432339.531\n",
      "Iteration 27600 [ 55%]: Loss = 424203.781\n",
      "Iteration 27700 [ 55%]: Loss = 441931.469\n",
      "Iteration 27800 [ 55%]: Loss = 430218.594\n",
      "Iteration 27900 [ 55%]: Loss = 422740.750\n",
      "Iteration 28000 [ 56%]: Loss = 422482.125\n",
      "Iteration 28100 [ 56%]: Loss = 428246.688\n",
      "Iteration 28200 [ 56%]: Loss = 426367.094\n",
      "Iteration 28300 [ 56%]: Loss = 414245.750\n",
      "Iteration 28400 [ 56%]: Loss = 420895.250\n",
      "Iteration 28500 [ 56%]: Loss = 426826.250\n",
      "Iteration 28600 [ 57%]: Loss = 409917.000\n",
      "Iteration 28700 [ 57%]: Loss = 440518.625\n",
      "Iteration 28800 [ 57%]: Loss = 418539.000\n",
      "Iteration 28900 [ 57%]: Loss = 410650.562\n",
      "Iteration 29000 [ 57%]: Loss = 412273.562\n",
      "Iteration 29100 [ 58%]: Loss = 423597.906\n",
      "Iteration 29200 [ 58%]: Loss = 406134.562\n",
      "Iteration 29300 [ 58%]: Loss = 410835.281\n",
      "Iteration 29400 [ 58%]: Loss = 408368.188\n",
      "Iteration 29500 [ 59%]: Loss = 406402.188\n",
      "Iteration 29600 [ 59%]: Loss = 411318.094\n",
      "Iteration 29700 [ 59%]: Loss = 413430.125\n",
      "Iteration 29800 [ 59%]: Loss = 411516.156\n",
      "Iteration 29900 [ 59%]: Loss = 405428.656\n",
      "Iteration 30000 [ 60%]: Loss = 415870.312\n",
      "Iteration 30100 [ 60%]: Loss = 408955.531\n",
      "Iteration 30200 [ 60%]: Loss = 402999.875\n",
      "Iteration 30300 [ 60%]: Loss = 400397.625\n",
      "Iteration 30400 [ 60%]: Loss = 401650.938\n",
      "Iteration 30500 [ 61%]: Loss = 399268.312\n",
      "Iteration 30600 [ 61%]: Loss = 398763.188\n",
      "Iteration 30700 [ 61%]: Loss = 402251.375\n",
      "Iteration 30800 [ 61%]: Loss = 402211.656\n",
      "Iteration 30900 [ 61%]: Loss = 397683.938\n",
      "Iteration 31000 [ 62%]: Loss = 408200.312\n",
      "Iteration 31100 [ 62%]: Loss = 398264.531\n",
      "Iteration 31200 [ 62%]: Loss = 396884.500\n",
      "Iteration 31300 [ 62%]: Loss = 398498.875\n",
      "Iteration 31400 [ 62%]: Loss = 392849.500\n",
      "Iteration 31500 [ 63%]: Loss = 396653.594\n",
      "Iteration 31600 [ 63%]: Loss = 393831.562\n",
      "Iteration 31700 [ 63%]: Loss = 396358.969\n",
      "Iteration 31800 [ 63%]: Loss = 401530.906\n",
      "Iteration 31900 [ 63%]: Loss = 396159.188\n",
      "Iteration 32000 [ 64%]: Loss = 395138.969\n",
      "Iteration 32100 [ 64%]: Loss = 390279.438\n",
      "Iteration 32200 [ 64%]: Loss = 396833.719\n",
      "Iteration 32300 [ 64%]: Loss = 392681.844\n",
      "Iteration 32400 [ 64%]: Loss = 392123.500\n",
      "Iteration 32500 [ 65%]: Loss = 395294.688\n",
      "Iteration 32600 [ 65%]: Loss = 390343.500\n",
      "Iteration 32700 [ 65%]: Loss = 393238.719\n",
      "Iteration 32800 [ 65%]: Loss = 397072.562\n",
      "Iteration 32900 [ 65%]: Loss = 392398.688\n",
      "Iteration 33000 [ 66%]: Loss = 391500.719\n",
      "Iteration 33100 [ 66%]: Loss = 390154.500\n",
      "Iteration 33200 [ 66%]: Loss = 387824.344\n",
      "Iteration 33300 [ 66%]: Loss = 388565.562\n",
      "Iteration 33400 [ 66%]: Loss = 388429.688\n",
      "Iteration 33500 [ 67%]: Loss = 391188.406\n",
      "Iteration 33600 [ 67%]: Loss = 390299.688\n",
      "Iteration 33700 [ 67%]: Loss = 388414.094\n",
      "Iteration 33800 [ 67%]: Loss = 389728.406\n",
      "Iteration 33900 [ 67%]: Loss = 388237.750\n",
      "Iteration 34000 [ 68%]: Loss = 386411.688\n",
      "Iteration 34100 [ 68%]: Loss = 389002.312\n",
      "Iteration 34200 [ 68%]: Loss = 386911.906\n",
      "Iteration 34300 [ 68%]: Loss = 386112.219\n",
      "Iteration 34400 [ 68%]: Loss = 388388.781\n",
      "Iteration 34500 [ 69%]: Loss = 389412.438\n",
      "Iteration 34600 [ 69%]: Loss = 388466.625\n",
      "Iteration 34700 [ 69%]: Loss = 386172.906\n",
      "Iteration 34800 [ 69%]: Loss = 388860.312\n",
      "Iteration 34900 [ 69%]: Loss = 385432.250\n",
      "Iteration 35000 [ 70%]: Loss = 389485.062\n",
      "Iteration 35100 [ 70%]: Loss = 389224.875\n",
      "Iteration 35200 [ 70%]: Loss = 388568.312\n",
      "Iteration 35300 [ 70%]: Loss = 385213.906\n",
      "Iteration 35400 [ 70%]: Loss = 385560.875\n",
      "Iteration 35500 [ 71%]: Loss = 392165.344\n",
      "Iteration 35600 [ 71%]: Loss = 385047.031\n",
      "Iteration 35700 [ 71%]: Loss = 384793.969\n",
      "Iteration 35800 [ 71%]: Loss = 386255.906\n",
      "Iteration 35900 [ 71%]: Loss = 387319.625\n",
      "Iteration 36000 [ 72%]: Loss = 384790.500\n",
      "Iteration 36100 [ 72%]: Loss = 386814.312\n",
      "Iteration 36200 [ 72%]: Loss = 385640.938\n",
      "Iteration 36300 [ 72%]: Loss = 384905.281\n",
      "Iteration 36400 [ 72%]: Loss = 385956.562\n",
      "Iteration 36500 [ 73%]: Loss = 387464.250\n",
      "Iteration 36600 [ 73%]: Loss = 384541.250\n",
      "Iteration 36700 [ 73%]: Loss = 384242.000\n",
      "Iteration 36800 [ 73%]: Loss = 385974.625\n",
      "Iteration 36900 [ 73%]: Loss = 385199.500\n",
      "Iteration 37000 [ 74%]: Loss = 385598.188\n",
      "Iteration 37100 [ 74%]: Loss = 388603.531\n",
      "Iteration 37200 [ 74%]: Loss = 387430.562\n",
      "Iteration 37300 [ 74%]: Loss = 383837.844\n",
      "Iteration 37400 [ 74%]: Loss = 386473.219\n",
      "Iteration 37500 [ 75%]: Loss = 384617.625\n",
      "Iteration 37600 [ 75%]: Loss = 384127.344\n",
      "Iteration 37700 [ 75%]: Loss = 384551.750\n",
      "Iteration 37800 [ 75%]: Loss = 384181.875\n",
      "Iteration 37900 [ 75%]: Loss = 386061.812\n",
      "Iteration 38000 [ 76%]: Loss = 384666.375\n",
      "Iteration 38100 [ 76%]: Loss = 388218.781\n",
      "Iteration 38200 [ 76%]: Loss = 385452.125\n",
      "Iteration 38300 [ 76%]: Loss = 384423.656\n",
      "Iteration 38400 [ 76%]: Loss = 384325.031\n",
      "Iteration 38500 [ 77%]: Loss = 384249.875\n",
      "Iteration 38600 [ 77%]: Loss = 385809.375\n",
      "Iteration 38700 [ 77%]: Loss = 384480.750\n",
      "Iteration 38800 [ 77%]: Loss = 385363.000\n",
      "Iteration 38900 [ 77%]: Loss = 384116.156\n",
      "Iteration 39000 [ 78%]: Loss = 385968.938\n",
      "Iteration 39100 [ 78%]: Loss = 384544.000\n",
      "Iteration 39200 [ 78%]: Loss = 384302.344\n",
      "Iteration 39300 [ 78%]: Loss = 384570.312\n",
      "Iteration 39400 [ 78%]: Loss = 384540.156\n",
      "Iteration 39500 [ 79%]: Loss = 384724.906\n",
      "Iteration 39600 [ 79%]: Loss = 384809.531\n",
      "Iteration 39700 [ 79%]: Loss = 384865.375\n",
      "Iteration 39800 [ 79%]: Loss = 385088.875\n",
      "Iteration 39900 [ 79%]: Loss = 384459.969\n",
      "Iteration 40000 [ 80%]: Loss = 384778.688\n",
      "Iteration 40100 [ 80%]: Loss = 383706.844\n",
      "Iteration 40200 [ 80%]: Loss = 384737.031\n",
      "Iteration 40300 [ 80%]: Loss = 383867.062\n",
      "Iteration 40400 [ 80%]: Loss = 383779.125\n",
      "Iteration 40500 [ 81%]: Loss = 383747.938\n",
      "Iteration 40600 [ 81%]: Loss = 384114.875\n",
      "Iteration 40700 [ 81%]: Loss = 384209.750\n",
      "Iteration 40800 [ 81%]: Loss = 384111.594\n",
      "Iteration 40900 [ 81%]: Loss = 385768.750\n",
      "Iteration 41000 [ 82%]: Loss = 383703.156\n",
      "Iteration 41100 [ 82%]: Loss = 386107.312\n",
      "Iteration 41200 [ 82%]: Loss = 383995.156\n",
      "Iteration 41300 [ 82%]: Loss = 383769.469\n",
      "Iteration 41400 [ 82%]: Loss = 384637.250\n",
      "Iteration 41500 [ 83%]: Loss = 383337.719\n",
      "Iteration 41600 [ 83%]: Loss = 384351.000\n",
      "Iteration 41700 [ 83%]: Loss = 383635.750\n",
      "Iteration 41800 [ 83%]: Loss = 388230.375\n",
      "Iteration 41900 [ 83%]: Loss = 383975.938\n",
      "Iteration 42000 [ 84%]: Loss = 383585.969\n",
      "Iteration 42100 [ 84%]: Loss = 386975.594\n",
      "Iteration 42200 [ 84%]: Loss = 383692.562\n",
      "Iteration 42300 [ 84%]: Loss = 383479.812\n",
      "Iteration 42400 [ 84%]: Loss = 383760.938\n",
      "Iteration 42500 [ 85%]: Loss = 383830.719\n",
      "Iteration 42600 [ 85%]: Loss = 383618.688\n",
      "Iteration 42700 [ 85%]: Loss = 402049.500\n",
      "Iteration 42800 [ 85%]: Loss = 384400.062\n",
      "Iteration 42900 [ 85%]: Loss = 383613.750\n",
      "Iteration 43000 [ 86%]: Loss = 384008.031\n",
      "Iteration 43100 [ 86%]: Loss = 383510.375\n",
      "Iteration 43200 [ 86%]: Loss = 383604.750\n",
      "Iteration 43300 [ 86%]: Loss = 383284.906\n",
      "Iteration 43400 [ 86%]: Loss = 383659.531\n",
      "Iteration 43500 [ 87%]: Loss = 384095.812\n",
      "Iteration 43600 [ 87%]: Loss = 383469.781\n",
      "Iteration 43700 [ 87%]: Loss = 383283.406\n",
      "Iteration 43800 [ 87%]: Loss = 384093.688\n",
      "Iteration 43900 [ 87%]: Loss = 383499.500\n",
      "Iteration 44000 [ 88%]: Loss = 383982.875\n",
      "Iteration 44100 [ 88%]: Loss = 383520.938\n",
      "Iteration 44200 [ 88%]: Loss = 383206.844\n",
      "Iteration 44300 [ 88%]: Loss = 383628.562\n",
      "Iteration 44400 [ 88%]: Loss = 383394.344\n",
      "Iteration 44500 [ 89%]: Loss = 383253.250\n",
      "Iteration 44600 [ 89%]: Loss = 383204.844\n",
      "Iteration 44700 [ 89%]: Loss = 383440.000\n",
      "Iteration 44800 [ 89%]: Loss = 383253.219\n",
      "Iteration 44900 [ 89%]: Loss = 383342.469\n",
      "Iteration 45000 [ 90%]: Loss = 383348.531\n",
      "Iteration 45100 [ 90%]: Loss = 383624.875\n",
      "Iteration 45200 [ 90%]: Loss = 383334.781\n",
      "Iteration 45300 [ 90%]: Loss = 383281.906\n",
      "Iteration 45400 [ 90%]: Loss = 383375.750\n",
      "Iteration 45500 [ 91%]: Loss = 383141.938\n",
      "Iteration 45600 [ 91%]: Loss = 383320.812\n",
      "Iteration 45700 [ 91%]: Loss = 383523.438\n",
      "Iteration 45800 [ 91%]: Loss = 383270.781\n",
      "Iteration 45900 [ 91%]: Loss = 383458.438\n",
      "Iteration 46000 [ 92%]: Loss = 383496.719\n",
      "Iteration 46100 [ 92%]: Loss = 383279.094\n",
      "Iteration 46200 [ 92%]: Loss = 383201.406\n",
      "Iteration 46300 [ 92%]: Loss = 383326.156\n",
      "Iteration 46400 [ 92%]: Loss = 383120.188\n",
      "Iteration 46500 [ 93%]: Loss = 383328.656\n",
      "Iteration 46600 [ 93%]: Loss = 383328.875\n",
      "Iteration 46700 [ 93%]: Loss = 383346.969\n",
      "Iteration 46800 [ 93%]: Loss = 383267.312\n",
      "Iteration 46900 [ 93%]: Loss = 383308.406\n",
      "Iteration 47000 [ 94%]: Loss = 383161.156\n",
      "Iteration 47100 [ 94%]: Loss = 383335.500\n",
      "Iteration 47200 [ 94%]: Loss = 383279.375\n",
      "Iteration 47300 [ 94%]: Loss = 383235.188\n",
      "Iteration 47400 [ 94%]: Loss = 383217.688\n",
      "Iteration 47500 [ 95%]: Loss = 383152.656\n",
      "Iteration 47600 [ 95%]: Loss = 383046.656\n",
      "Iteration 47700 [ 95%]: Loss = 383282.625\n",
      "Iteration 47800 [ 95%]: Loss = 383160.906\n",
      "Iteration 47900 [ 95%]: Loss = 383226.000\n",
      "Iteration 48000 [ 96%]: Loss = 383172.938\n",
      "Iteration 48100 [ 96%]: Loss = 383236.125\n",
      "Iteration 48200 [ 96%]: Loss = 383132.281\n",
      "Iteration 48300 [ 96%]: Loss = 383237.094\n",
      "Iteration 48400 [ 96%]: Loss = 383250.875\n",
      "Iteration 48500 [ 97%]: Loss = 383364.375\n",
      "Iteration 48600 [ 97%]: Loss = 383206.000\n",
      "Iteration 48700 [ 97%]: Loss = 383298.500\n",
      "Iteration 48800 [ 97%]: Loss = 383051.625\n",
      "Iteration 48900 [ 97%]: Loss = 383198.000\n",
      "Iteration 49000 [ 98%]: Loss = 383309.625\n",
      "Iteration 49100 [ 98%]: Loss = 383297.438\n",
      "Iteration 49200 [ 98%]: Loss = 383282.125\n",
      "Iteration 49300 [ 98%]: Loss = 383175.750\n",
      "Iteration 49400 [ 98%]: Loss = 383153.750\n",
      "Iteration 49500 [ 99%]: Loss = 383265.969\n",
      "Iteration 49600 [ 99%]: Loss = 383318.969\n",
      "Iteration 49700 [ 99%]: Loss = 383072.250\n",
      "Iteration 49800 [ 99%]: Loss = 383003.969\n",
      "Iteration 49900 [ 99%]: Loss = 383199.688\n",
      "Iteration 50000 [100%]: Loss = 383237.812\n"
     ]
    }
   ],
   "source": [
    "inference.run(n_iter=50000, n_print=100, n_samples=1,\n",
    "              logdir='data/run14',\n",
    "              optimizer=tf.train.AdamOptimizer(1e-2))\n",
    "#               scale={lam: N/NB, cnt: N/NB})"
   ]
  },
  {
   "cell_type": "code",
   "execution_count": 23,
   "metadata": {
    "collapsed": false
   },
   "outputs": [
    {
     "data": {
      "image/png": "[encoded data removed]",
      "text/plain": [
       "<matplotlib.figure.Figure at 0x12a45d908>"
      ]
     },
     "metadata": {},
     "output_type": "display_data"
    }
   ],
   "source": [
    "plt.hist(q_A.mean().eval().ravel()); plt.hist(dA.ravel());"
   ]
  },
  {
   "cell_type": "code",
   "execution_count": 24,
   "metadata": {
    "collapsed": false,
    "scrolled": true
   },
   "outputs": [
    {
     "data": {
      "image/png": "[encoded data removed]",
      "text/plain": [
       "<matplotlib.figure.Figure at 0x12b30ee80>"
      ]
     },
     "metadata": {},
     "output_type": "display_data"
    }
   ],
   "source": [
    "plt.hist(q_B.mean().eval().ravel(), 200), plt.hist(dB.ravel(), 200);"
   ]
  },
  {
   "cell_type": "code",
   "execution_count": 25,
   "metadata": {
    "collapsed": false
   },
   "outputs": [
    {
     "data": {
      "image/png": "[encoded data removed]",
      "text/plain": [
       "<matplotlib.figure.Figure at 0x129c0c470>"
      ]
     },
     "metadata": {},
     "output_type": "display_data"
    }
   ],
   "source": [
    "plt.hist(lam_mu.eval(), 200), plt.hist(dlam, 200);"
   ]
  },
  {
   "cell_type": "code",
   "execution_count": 26,
   "metadata": {
    "collapsed": false
   },
   "outputs": [
    {
     "data": {
      "text/plain": [
       "array([ 3.43366909,  3.37957621,  3.18125939, ...,  3.38823128,\n",
       "        3.43631458,  3.11984277], dtype=float32)"
      ]
     },
     "execution_count": 26,
     "metadata": {},
     "output_type": "execute_result"
    }
   ],
   "source": [
    "lam_mu.eval()"
   ]
  },
  {
   "cell_type": "code",
   "execution_count": 27,
   "metadata": {
    "collapsed": false
   },
   "outputs": [
    {
     "data": {
      "text/plain": [
       "array([ 3.43366909,  3.37957621,  3.18125939, ...,  3.38823128,\n",
       "        3.43631458,  3.11984277], dtype=float32)"
      ]
     },
     "execution_count": 27,
     "metadata": {},
     "output_type": "execute_result"
    }
   ],
   "source": [
    "q_lam.mean().eval()"
   ]
  },
  {
   "cell_type": "code",
   "execution_count": 28,
   "metadata": {
    "collapsed": false
   },
   "outputs": [
    {
     "data": {
      "text/plain": [
       "array([-2.26502538], dtype=float32)"
      ]
     },
     "execution_count": 28,
     "metadata": {},
     "output_type": "execute_result"
    }
   ],
   "source": [
    "q_sig.mean().eval()"
   ]
  },
  {
   "cell_type": "code",
   "execution_count": null,
   "metadata": {
    "collapsed": true
   },
   "outputs": [],
   "source": []
  }
 ],
 "metadata": {
  "anaconda-cloud": {},
  "kernelspec": {
   "display_name": "Python [Root]",
   "language": "python",
   "name": "Python [Root]"
  },
  "language_info": {
   "codemirror_mode": {
    "name": "ipython",
    "version": 3
   },
   "file_extension": ".py",
   "mimetype": "text/x-python",
   "name": "python",
   "nbconvert_exporter": "python",
   "pygments_lexer": "ipython3",
   "version": "3.5.2"
  }
 },
 "nbformat": 4,
 "nbformat_minor": 0
}
