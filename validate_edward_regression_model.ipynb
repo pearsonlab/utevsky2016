{
 "cells": [
  {
   "cell_type": "markdown",
   "metadata": {},
   "source": [
    "# Run model on fake data\n",
    "\n",
    "Here, we generate a synthetic data set for purposes of validating the model constructed in Edward."
   ]
  },
  {
   "cell_type": "code",
   "execution_count": 1,
   "metadata": {
    "collapsed": false
   },
   "outputs": [],
   "source": [
    "import numpy as np\n",
    "import pandas as pd\n",
    "import tensorflow as tf\n",
    "import edward as ed\n",
    "import matplotlib.pyplot as plt\n",
    "%matplotlib inline"
   ]
  },
  {
   "cell_type": "code",
   "execution_count": 2,
   "metadata": {
    "collapsed": true
   },
   "outputs": [],
   "source": [
    "# we'll want this function below\n",
    "def softplus(x):\n",
    "    return np.logaddexp(0, x)"
   ]
  },
  {
   "cell_type": "code",
   "execution_count": 3,
   "metadata": {
    "collapsed": false
   },
   "outputs": [],
   "source": [
    "ed.set_seed(12225)"
   ]
  },
  {
   "cell_type": "markdown",
   "metadata": {},
   "source": [
    "The model is defined by the spike count $N_{us}$ observed when stimulus $s$ is presented to unit $u$:\n",
    "\n",
    "$$\n",
    "\\begin{align}\n",
    "N &\\sim \\mathrm{Poisson}((\\lambda)_+)  \\\\\n",
    "\\lambda_{us} &\\sim \\mathcal{N}(A_{u} + (B \\cdot X)_{us}, \\sigma^2) \\\\\n",
    "\\log \\sigma &\\sim \\mathcal{N}(-7, 1^2) \\\\\n",
    "\\end{align}\n",
    "$$\n",
    "With $X$ an $P \\times N_s$ matrix of known regressors, $Z$ a $K \\times N_s$ matrix of latent binary features\n",
    "governed by an Indian Buffet Process, $A$ and $N_u$ vector of baselines, and $(\\cdot)_+$ the softplus function: \n",
    "$(x)_+ = \\log(1 + e^x)$."
   ]
  },
  {
   "cell_type": "markdown",
   "metadata": {},
   "source": [
    "# Define constants"
   ]
  },
  {
   "cell_type": "code",
   "execution_count": 4,
   "metadata": {
    "collapsed": true
   },
   "outputs": [],
   "source": [
    "# basic constants\n",
    "Nrep = 50  # number of observations per unit per stim\n",
    "NB = 10  # number of trials in minibatch\n",
    "NU = 50  # number of units\n",
    "NS = 50  # number of stims\n",
    "P = 3  # number of specified regressors\n",
    "K = 4  # number of latents"
   ]
  },
  {
   "cell_type": "markdown",
   "metadata": {},
   "source": [
    "# Make neural response coefficients"
   ]
  },
  {
   "cell_type": "raw",
   "metadata": {},
   "source": [
    "dA = np.log(softplus(25 + .00 * np.random.randn(NU)))  # baseline\n",
    "dB = np.log(np.array([0.75, 1.2, 1.5]) + 0.00 * np.random.randn(NU, P))  # regressor effects"
   ]
  },
  {
   "cell_type": "code",
   "execution_count": 5,
   "metadata": {
    "collapsed": false
   },
   "outputs": [],
   "source": [
    "dA = np.log(softplus(25 + .00 * np.random.randn(NU)))  # baseline\n",
    "dB = np.log(np.array([0.75, 1.2, 1.5]) + 0.00 * np.random.randn(NU, P))  # regressor effects"
   ]
  },
  {
   "cell_type": "markdown",
   "metadata": {},
   "source": [
    "# Regressors and latent states"
   ]
  },
  {
   "cell_type": "code",
   "execution_count": 6,
   "metadata": {
    "collapsed": false
   },
   "outputs": [],
   "source": [
    "dX = 0.25 * np.random.randn(P, NS)\n",
    "\n",
    "import scipy.stats as stats"
   ]
  },
  {
   "cell_type": "markdown",
   "metadata": {},
   "source": [
    "# Generate trial set"
   ]
  },
  {
   "cell_type": "code",
   "execution_count": 7,
   "metadata": {
    "collapsed": true
   },
   "outputs": [],
   "source": [
    "dU, dS = np.meshgrid(range(NU), range(NS))\n",
    "dU = dU.ravel()\n",
    "dS = dS.ravel()"
   ]
  },
  {
   "cell_type": "code",
   "execution_count": 8,
   "metadata": {
    "collapsed": false
   },
   "outputs": [],
   "source": [
    "dlam_mean = np.tile(dA[dU] + np.sum(dB[dU] * dX[:, dS].T, axis=1), Nrep)\n",
    "\n",
    "dlam = stats.norm.rvs(loc=dlam_mean, scale=0.0001)"
   ]
  },
  {
   "cell_type": "code",
   "execution_count": 9,
   "metadata": {
    "collapsed": false
   },
   "outputs": [
    {
     "data": {
      "text/plain": [
       "(125000,)"
      ]
     },
     "execution_count": 9,
     "metadata": {},
     "output_type": "execute_result"
    }
   ],
   "source": [
    "dcount = stats.poisson.rvs(np.exp(dlam))\n",
    "dcount.shape"
   ]
  },
  {
   "cell_type": "code",
   "execution_count": 10,
   "metadata": {
    "collapsed": false
   },
   "outputs": [
    {
     "data": {
      "image/png": "[encoded data removed]",
      "text/plain": [
       "<matplotlib.figure.Figure at 0x10cc01ba8>"
      ]
     },
     "metadata": {},
     "output_type": "display_data"
    }
   ],
   "source": [
    "plt.hist(np.exp(dlam), bins=200);"
   ]
  },
  {
   "cell_type": "code",
   "execution_count": 11,
   "metadata": {
    "collapsed": false
   },
   "outputs": [
    {
     "data": {
      "image/png": "[encoded data removed]",
      "text/plain": [
       "<matplotlib.figure.Figure at 0x128295400>"
      ]
     },
     "metadata": {},
     "output_type": "display_data"
    }
   ],
   "source": [
    "plt.hist(dcount, bins=200);"
   ]
  },
  {
   "cell_type": "markdown",
   "metadata": {},
   "source": [
    "# Set up data"
   ]
  },
  {
   "cell_type": "code",
   "execution_count": 12,
   "metadata": {
    "collapsed": false
   },
   "outputs": [],
   "source": [
    "count = dcount.copy()\n",
    "Xdat = np.tile(dX[:, dS], (1, Nrep)).T\n",
    "unit = np.tile(dU, Nrep)\n",
    "stim = np.tile(dS, Nrep)"
   ]
  },
  {
   "cell_type": "markdown",
   "metadata": {},
   "source": [
    "# Define the model"
   ]
  },
  {
   "cell_type": "markdown",
   "metadata": {},
   "source": [
    "## Constants"
   ]
  },
  {
   "cell_type": "code",
   "execution_count": 13,
   "metadata": {
    "collapsed": false
   },
   "outputs": [],
   "source": [
    "# define some needed constants\n",
    "N = Xdat.shape[0]  # number of trials"
   ]
  },
  {
   "cell_type": "code",
   "execution_count": 14,
   "metadata": {
    "collapsed": false
   },
   "outputs": [
    {
     "data": {
      "text/plain": [
       "125000"
      ]
     },
     "execution_count": 14,
     "metadata": {},
     "output_type": "execute_result"
    }
   ],
   "source": [
    "N"
   ]
  },
  {
   "cell_type": "markdown",
   "metadata": {},
   "source": [
    "## Inputs and data"
   ]
  },
  {
   "cell_type": "code",
   "execution_count": 15,
   "metadata": {
    "collapsed": true
   },
   "outputs": [],
   "source": [
    "X = tf.constant(Xdat.astype('float32'))\n",
    "U = tf.constant(unit)\n",
    "S = tf.constant(stim)\n",
    "counts = tf.constant(count)\n",
    "allinds = tf.constant(np.arange(N))"
   ]
  },
  {
   "cell_type": "code",
   "execution_count": 16,
   "metadata": {
    "collapsed": false
   },
   "outputs": [
    {
     "data": {
      "text/plain": [
       "TensorShape([Dimension(125000), Dimension(3)])"
      ]
     },
     "execution_count": 16,
     "metadata": {},
     "output_type": "execute_result"
    }
   ],
   "source": [
    "X.get_shape()"
   ]
  },
  {
   "cell_type": "markdown",
   "metadata": {},
   "source": [
    "Make a node that produces `NB` indices from the range $[0, N - 1]$. These are the subset of data points we want to use."
   ]
  },
  {
   "cell_type": "raw",
   "metadata": {
    "collapsed": true
   },
   "source": [
    "batch_inds = tf.constant(np.arange(NB))\n",
    "batch_counts = tf.train.batch(tf.train.slice_input_producer([counts]), NB)"
   ]
  },
  {
   "cell_type": "raw",
   "metadata": {
    "collapsed": false
   },
   "source": [
    "batch_inds, batch_counts = tf.train.batch(tf.train.slice_input_producer([allinds, counts]), NB, \n",
    "                                          name='batches')\n",
    "tf.scalar_summary('total count', tf.reduce_sum(batch_counts))"
   ]
  },
  {
   "cell_type": "code",
   "execution_count": 17,
   "metadata": {
    "collapsed": true
   },
   "outputs": [],
   "source": [
    "batch_inds = np.arange(N)\n",
    "batch_counts = counts"
   ]
  },
  {
   "cell_type": "markdown",
   "metadata": {},
   "source": [
    "## Generative (p) model"
   ]
  },
  {
   "cell_type": "code",
   "execution_count": 18,
   "metadata": {
    "collapsed": false
   },
   "outputs": [],
   "source": [
    "with tf.variable_scope(\"pmodel\"):\n",
    "    A = ed.models.Normal(mu=tf.zeros(NU), sigma=5 * tf.ones(NU), name='A')\n",
    "    B = ed.models.Normal(mu=tf.zeros((NU, P)), sigma=3 * tf.ones((NU, P)), name='B')\n",
    "\n",
    "    sig = ed.models.Normal(mu=[-7.0], sigma=[1.], name='sig')\n",
    "\n",
    "    lam_vars = tf.gather(A, U) + tf.reduce_sum(tf.gather(B, U) * X, 1)\n",
    "    lam = ed.models.Normal(mu=tf.gather(lam_vars, batch_inds), \n",
    "                           sigma=tf.exp(sig), name='lam')\n",
    "    tf.scalar_summary('lam_mean', tf.reduce_mean(lam.mean()))\n",
    "\n",
    "#     cnt = ed.models.Poisson(lam=tf.exp(lam), value=tf.ones(NB), name='cnt')\n",
    "    cnt = ed.models.Poisson(lam=tf.exp(lam), value=tf.ones(N), name='cnt')"
   ]
  },
  {
   "cell_type": "markdown",
   "metadata": {},
   "source": [
    "# Recognition (q) model"
   ]
  },
  {
   "cell_type": "code",
   "execution_count": 19,
   "metadata": {
    "collapsed": false
   },
   "outputs": [],
   "source": [
    "with tf.variable_scope(\"qmodel\"):\n",
    "    q_A = ed.models.NormalWithSoftplusSigma(mu=np.log(25) + tf.Variable(tf.random_normal((NU,))), \n",
    "                                            sigma=tf.Variable(tf.random_uniform((NU,))),\n",
    "                                            name='A')\n",
    "    tf.scalar_summary('q_A', tf.reduce_mean(q_A.mean()))\n",
    "\n",
    "    q_B = ed.models.NormalWithSoftplusSigma(mu=tf.Variable(tf.random_normal((NU, P))), \n",
    "                                            sigma=tf.Variable(tf.random_uniform((NU, P))),\n",
    "                                            name='B')\n",
    "    tf.scalar_summary('q_B', tf.reduce_mean(q_B.mean()))\n",
    "\n",
    "    lam_mu = tf.Variable(2 + tf.random_normal((N,)))\n",
    "    tf.scalar_summary('lam_mu_mean', tf.reduce_mean(tf.gather(lam_mu, batch_inds)))\n",
    "    lam_sig = tf.Variable(3 * tf.random_uniform((N,)) + 2)\n",
    "    q_lam = ed.models.NormalWithSoftplusSigma(mu=tf.gather(lam_mu, batch_inds),\n",
    "                                              sigma=tf.gather(lam_sig, batch_inds),\n",
    "                                              name='lam')\n",
    "\n",
    "    q_sig = ed.models.NormalWithSoftplusSigma(mu=tf.Variable(-7. * tf.random_uniform((1,))),\n",
    "                                              sigma=tf.Variable(tf.random_uniform((1,))),\n",
    "                                              name='sig')"
   ]
  },
  {
   "cell_type": "markdown",
   "metadata": {},
   "source": [
    "# Do variational inference"
   ]
  },
  {
   "cell_type": "code",
   "execution_count": 20,
   "metadata": {
    "collapsed": false
   },
   "outputs": [],
   "source": [
    "data = {cnt: batch_counts}\n",
    "inference = ed.KLqp({A: q_A, B: q_B, sig: q_sig, lam: q_lam}, data)"
   ]
  },
  {
   "cell_type": "code",
   "execution_count": 21,
   "metadata": {
    "collapsed": true
   },
   "outputs": [],
   "source": [
    "init = tf.initialize_all_variables()"
   ]
  },
  {
   "cell_type": "markdown",
   "metadata": {},
   "source": [
    "# Notes before inference:\n",
    "\n",
    "- The `logdir` keyword specifies the place to put the log file (assuming you've instrumented the code to save events, etc.). If a subdirectory is given, pointing Tensorboard at the parent directory allows you to compare across subdirectories (runs).\n",
    "    - I'm using the `jmp/instrumented` branch of the `jmxpearson/edward` fork\n",
    "- I had to lower the learning rate in Adam to avoid NaNs early on in learning. Gradient clipping might solve the same problem.\n",
    "- I'm currently using \"all\" the data, but this should probably be switched to minibatches.\n",
    "- I've used `n_samples` = 1, 5, 10, and 25, which all seem pretty similar after 10k iterations. "
   ]
  },
  {
   "cell_type": "code",
   "execution_count": 22,
   "metadata": {
    "collapsed": false,
    "scrolled": true
   },
   "outputs": [
    {
     "name": "stdout",
     "output_type": "stream",
     "text": [
      "Iteration      1 [  0%]: Loss = 9682154496.000\n",
      "Iteration    100 [  0%]: Loss = 3896829952.000\n",
      "Iteration    200 [  0%]: Loss = 3607755776.000\n",
      "Iteration    300 [  0%]: Loss = 7317085184.000\n",
      "Iteration    400 [  0%]: Loss = 4013392640.000\n",
      "Iteration    500 [  0%]: Loss = 6096502784.000\n",
      "Iteration    600 [  0%]: Loss = 15990236160.000\n",
      "Iteration    700 [  0%]: Loss = 4016857600.000\n",
      "Iteration    800 [  0%]: Loss = 6072032256.000\n",
      "Iteration    900 [  0%]: Loss = 5586869760.000\n",
      "Iteration   1000 [  1%]: Loss = 3873890048.000\n",
      "Iteration   1100 [  1%]: Loss = 2951305728.000\n",
      "Iteration   1200 [  1%]: Loss = 9904172032.000\n",
      "Iteration   1300 [  1%]: Loss = 5080839168.000\n",
      "Iteration   1400 [  1%]: Loss = 4540058112.000\n",
      "Iteration   1500 [  1%]: Loss = 5744488448.000\n",
      "Iteration   1600 [  1%]: Loss = 33235902464.000\n",
      "Iteration   1700 [  1%]: Loss = 1768337664.000\n",
      "Iteration   1800 [  1%]: Loss = 10770117632.000\n",
      "Iteration   1900 [  1%]: Loss = 6366599168.000\n",
      "Iteration   2000 [  2%]: Loss = 1948628608.000\n",
      "Iteration   2100 [  2%]: Loss = 5196722176.000\n",
      "Iteration   2200 [  2%]: Loss = 2376648960.000\n",
      "Iteration   2300 [  2%]: Loss = 2581439744.000\n",
      "Iteration   2400 [  2%]: Loss = 7787237376.000\n",
      "Iteration   2500 [  2%]: Loss = 15325812736.000\n",
      "Iteration   2600 [  2%]: Loss = 5548728320.000\n",
      "Iteration   2700 [  2%]: Loss = 2358774016.000\n",
      "Iteration   2800 [  2%]: Loss = 2544446464.000\n",
      "Iteration   2900 [  2%]: Loss = 5371097088.000\n",
      "Iteration   3000 [  3%]: Loss = 3378650368.000\n",
      "Iteration   3100 [  3%]: Loss = 2157836288.000\n",
      "Iteration   3200 [  3%]: Loss = 3852548864.000\n",
      "Iteration   3300 [  3%]: Loss = 3240022784.000\n",
      "Iteration   3400 [  3%]: Loss = 11718517760.000\n",
      "Iteration   3500 [  3%]: Loss = 7871898624.000\n",
      "Iteration   3600 [  3%]: Loss = 1878582144.000\n",
      "Iteration   3700 [  3%]: Loss = 6132219392.000\n",
      "Iteration   3800 [  3%]: Loss = 1451710720.000\n",
      "Iteration   3900 [  3%]: Loss = 11103127552.000\n",
      "Iteration   4000 [  4%]: Loss = 4536034816.000\n",
      "Iteration   4100 [  4%]: Loss = 6515241984.000\n",
      "Iteration   4200 [  4%]: Loss = 5054609920.000\n",
      "Iteration   4300 [  4%]: Loss = 7011187712.000\n",
      "Iteration   4400 [  4%]: Loss = 2925285888.000\n",
      "Iteration   4500 [  4%]: Loss = 33264996352.000\n",
      "Iteration   4600 [  4%]: Loss = 7610456576.000\n",
      "Iteration   4700 [  4%]: Loss = 2205813760.000\n",
      "Iteration   4800 [  4%]: Loss = 1967789952.000\n",
      "Iteration   4900 [  4%]: Loss = 3043154176.000\n",
      "Iteration   5000 [  5%]: Loss = 2375094016.000\n",
      "Iteration   5100 [  5%]: Loss = 29715423232.000\n",
      "Iteration   5200 [  5%]: Loss = 1744331776.000\n",
      "Iteration   5300 [  5%]: Loss = 5184380928.000\n",
      "Iteration   5400 [  5%]: Loss = 2360053504.000\n",
      "Iteration   5500 [  5%]: Loss = 9979133952.000\n",
      "Iteration   5600 [  5%]: Loss = 4376362496.000\n",
      "Iteration   5700 [  5%]: Loss = 3541321472.000\n",
      "Iteration   5800 [  5%]: Loss = 3391163136.000\n",
      "Iteration   5900 [  5%]: Loss = 5430084608.000\n",
      "Iteration   6000 [  6%]: Loss = 1735022976.000\n",
      "Iteration   6100 [  6%]: Loss = 2146575232.000\n",
      "Iteration   6200 [  6%]: Loss = 1959225472.000\n",
      "Iteration   6300 [  6%]: Loss = 1693085184.000\n",
      "Iteration   6400 [  6%]: Loss = 13248308224.000\n",
      "Iteration   6500 [  6%]: Loss = 1599379328.000\n",
      "Iteration   6600 [  6%]: Loss = 2092096768.000\n",
      "Iteration   6700 [  6%]: Loss = 1861624960.000\n",
      "Iteration   6800 [  6%]: Loss = 2329169408.000\n",
      "Iteration   6900 [  6%]: Loss = 1347920128.000\n",
      "Iteration   7000 [  7%]: Loss = 1324874496.000\n",
      "Iteration   7100 [  7%]: Loss = 2051483392.000\n",
      "Iteration   7200 [  7%]: Loss = 2960958208.000\n",
      "Iteration   7300 [  7%]: Loss = 7822830592.000\n",
      "Iteration   7400 [  7%]: Loss = 9909754880.000\n",
      "Iteration   7500 [  7%]: Loss = 28069206016.000\n",
      "Iteration   7600 [  7%]: Loss = 3020899072.000\n",
      "Iteration   7700 [  7%]: Loss = 1809938432.000\n",
      "Iteration   7800 [  7%]: Loss = 4837470720.000\n",
      "Iteration   7900 [  7%]: Loss = 8249545728.000\n",
      "Iteration   8000 [  8%]: Loss = 2242400768.000\n",
      "Iteration   8100 [  8%]: Loss = 2196532224.000\n",
      "Iteration   8200 [  8%]: Loss = 3549242880.000\n",
      "Iteration   8300 [  8%]: Loss = 2794651904.000\n",
      "Iteration   8400 [  8%]: Loss = 9373490176.000\n",
      "Iteration   8500 [  8%]: Loss = 1423416704.000\n",
      "Iteration   8600 [  8%]: Loss = 6457491968.000\n",
      "Iteration   8700 [  8%]: Loss = 2741001984.000\n",
      "Iteration   8800 [  8%]: Loss = 1215636736.000\n",
      "Iteration   8900 [  8%]: Loss = 2665897728.000\n",
      "Iteration   9000 [  9%]: Loss = 2054820480.000\n",
      "Iteration   9100 [  9%]: Loss = 1591900928.000\n",
      "Iteration   9200 [  9%]: Loss = 3707618304.000\n",
      "Iteration   9300 [  9%]: Loss = 2041452800.000\n",
      "Iteration   9400 [  9%]: Loss = 1656379136.000\n",
      "Iteration   9500 [  9%]: Loss = 1359193216.000\n",
      "Iteration   9600 [  9%]: Loss = 1810452352.000\n",
      "Iteration   9700 [  9%]: Loss = 1963923456.000\n",
      "Iteration   9800 [  9%]: Loss = 1023576704.000\n",
      "Iteration   9900 [  9%]: Loss = 1947775104.000\n",
      "Iteration  10000 [ 10%]: Loss = 6325159424.000\n",
      "Iteration  10100 [ 10%]: Loss = 2567011328.000\n",
      "Iteration  10200 [ 10%]: Loss = 1108772992.000\n",
      "Iteration  10300 [ 10%]: Loss = 3377188864.000\n",
      "Iteration  10400 [ 10%]: Loss = 1475187840.000\n",
      "Iteration  10500 [ 10%]: Loss = 4236261376.000\n",
      "Iteration  10600 [ 10%]: Loss = 2088472832.000\n",
      "Iteration  10700 [ 10%]: Loss = 2297046528.000\n",
      "Iteration  10800 [ 10%]: Loss = 2653572864.000\n",
      "Iteration  10900 [ 10%]: Loss = 4027320832.000\n",
      "Iteration  11000 [ 11%]: Loss = 1775454848.000\n",
      "Iteration  11100 [ 11%]: Loss = 2166616320.000\n",
      "Iteration  11200 [ 11%]: Loss = 1581751552.000\n",
      "Iteration  11300 [ 11%]: Loss = 1377794816.000\n",
      "Iteration  11400 [ 11%]: Loss = 2576247808.000\n",
      "Iteration  11500 [ 11%]: Loss = 1202282496.000\n",
      "Iteration  11600 [ 11%]: Loss = 2944536064.000\n",
      "Iteration  11700 [ 11%]: Loss = 2153213440.000\n",
      "Iteration  11800 [ 11%]: Loss = 20198047744.000\n",
      "Iteration  11900 [ 11%]: Loss = 1013845696.000\n",
      "Iteration  12000 [ 12%]: Loss = 1084356224.000\n",
      "Iteration  12100 [ 12%]: Loss = 2244728320.000\n",
      "Iteration  12200 [ 12%]: Loss = 3717693952.000\n",
      "Iteration  12300 [ 12%]: Loss = 2319725312.000\n",
      "Iteration  12400 [ 12%]: Loss = 1520612992.000\n",
      "Iteration  12500 [ 12%]: Loss = 1348414848.000\n",
      "Iteration  12600 [ 12%]: Loss = 1260616448.000\n",
      "Iteration  12700 [ 12%]: Loss = 879522432.000\n",
      "Iteration  12800 [ 12%]: Loss = 1078257280.000\n",
      "Iteration  12900 [ 12%]: Loss = 961590656.000\n",
      "Iteration  13000 [ 13%]: Loss = 740757056.000\n",
      "Iteration  13100 [ 13%]: Loss = 967076096.000\n",
      "Iteration  13200 [ 13%]: Loss = 1048402560.000\n",
      "Iteration  13300 [ 13%]: Loss = 1242879488.000\n",
      "Iteration  13400 [ 13%]: Loss = 4379400704.000\n",
      "Iteration  13500 [ 13%]: Loss = 632513472.000\n",
      "Iteration  13600 [ 13%]: Loss = 2133020928.000\n",
      "Iteration  13700 [ 13%]: Loss = 708407360.000\n",
      "Iteration  13800 [ 13%]: Loss = 3797328128.000\n",
      "Iteration  13900 [ 13%]: Loss = 2500357376.000\n",
      "Iteration  14000 [ 14%]: Loss = 814270912.000\n",
      "Iteration  14100 [ 14%]: Loss = 1516319616.000\n",
      "Iteration  14200 [ 14%]: Loss = 1414338048.000\n",
      "Iteration  14300 [ 14%]: Loss = 639221504.000\n",
      "Iteration  14400 [ 14%]: Loss = 554075264.000\n",
      "Iteration  14500 [ 14%]: Loss = 640685056.000\n",
      "Iteration  14600 [ 14%]: Loss = 583203968.000\n",
      "Iteration  14700 [ 14%]: Loss = 1173451776.000\n",
      "Iteration  14800 [ 14%]: Loss = 3276569088.000\n",
      "Iteration  14900 [ 14%]: Loss = 716990144.000\n",
      "Iteration  15000 [ 15%]: Loss = 936973120.000\n",
      "Iteration  15100 [ 15%]: Loss = 704397504.000\n",
      "Iteration  15200 [ 15%]: Loss = 1108325504.000\n",
      "Iteration  15300 [ 15%]: Loss = 1105931648.000\n",
      "Iteration  15400 [ 15%]: Loss = 3763034112.000\n",
      "Iteration  15500 [ 15%]: Loss = 668910912.000\n",
      "Iteration  15600 [ 15%]: Loss = 1132817920.000\n",
      "Iteration  15700 [ 15%]: Loss = 2065888768.000\n",
      "Iteration  15800 [ 15%]: Loss = 893068800.000\n",
      "Iteration  15900 [ 15%]: Loss = 1785890560.000\n",
      "Iteration  16000 [ 16%]: Loss = 739273152.000\n",
      "Iteration  16100 [ 16%]: Loss = 1025101440.000\n",
      "Iteration  16200 [ 16%]: Loss = 1498887680.000\n",
      "Iteration  16300 [ 16%]: Loss = 799693632.000\n",
      "Iteration  16400 [ 16%]: Loss = 2180573184.000\n",
      "Iteration  16500 [ 16%]: Loss = 3191514880.000\n",
      "Iteration  16600 [ 16%]: Loss = 1033733440.000\n",
      "Iteration  16700 [ 16%]: Loss = 843630272.000\n",
      "Iteration  16800 [ 16%]: Loss = 978111424.000\n",
      "Iteration  16900 [ 16%]: Loss = 534198432.000\n",
      "Iteration  17000 [ 17%]: Loss = 657194368.000\n",
      "Iteration  17100 [ 17%]: Loss = 752407808.000\n",
      "Iteration  17200 [ 17%]: Loss = 674912704.000\n",
      "Iteration  17300 [ 17%]: Loss = 965830848.000\n",
      "Iteration  17400 [ 17%]: Loss = 488218400.000\n",
      "Iteration  17500 [ 17%]: Loss = 1487044224.000\n",
      "Iteration  17600 [ 17%]: Loss = 642801216.000\n",
      "Iteration  17700 [ 17%]: Loss = 852164096.000\n",
      "Iteration  17800 [ 17%]: Loss = 825563776.000\n",
      "Iteration  17900 [ 17%]: Loss = 1143907328.000\n",
      "Iteration  18000 [ 18%]: Loss = 911480960.000\n",
      "Iteration  18100 [ 18%]: Loss = 544855680.000\n",
      "Iteration  18200 [ 18%]: Loss = 605380928.000\n",
      "Iteration  18300 [ 18%]: Loss = 827542784.000\n",
      "Iteration  18400 [ 18%]: Loss = 1341704320.000\n",
      "Iteration  18500 [ 18%]: Loss = 408026752.000\n",
      "Iteration  18600 [ 18%]: Loss = 1006119744.000\n",
      "Iteration  18700 [ 18%]: Loss = 2034633856.000\n",
      "Iteration  18800 [ 18%]: Loss = 968086400.000\n",
      "Iteration  18900 [ 18%]: Loss = 530038400.000\n",
      "Iteration  19000 [ 19%]: Loss = 961735744.000\n",
      "Iteration  19100 [ 19%]: Loss = 615633984.000\n",
      "Iteration  19200 [ 19%]: Loss = 10816132096.000\n",
      "Iteration  19300 [ 19%]: Loss = 648415872.000\n",
      "Iteration  19400 [ 19%]: Loss = 4270289920.000\n",
      "Iteration  19500 [ 19%]: Loss = 7330343936.000\n",
      "Iteration  19600 [ 19%]: Loss = 522389536.000\n",
      "Iteration  19700 [ 19%]: Loss = 379515168.000\n",
      "Iteration  19800 [ 19%]: Loss = 2028695424.000\n",
      "Iteration  19900 [ 19%]: Loss = 539866624.000\n",
      "Iteration  20000 [ 20%]: Loss = 561424320.000\n",
      "Iteration  20100 [ 20%]: Loss = 950104704.000\n",
      "Iteration  20200 [ 20%]: Loss = 512104704.000\n",
      "Iteration  20300 [ 20%]: Loss = 463652288.000\n",
      "Iteration  20400 [ 20%]: Loss = 1592137344.000\n",
      "Iteration  20500 [ 20%]: Loss = 507239712.000\n",
      "Iteration  20600 [ 20%]: Loss = 625970048.000\n",
      "Iteration  20700 [ 20%]: Loss = 628081856.000\n",
      "Iteration  20800 [ 20%]: Loss = 528688096.000\n",
      "Iteration  20900 [ 20%]: Loss = 458342656.000\n",
      "Iteration  21000 [ 21%]: Loss = 479613952.000\n",
      "Iteration  21100 [ 21%]: Loss = 533980128.000\n",
      "Iteration  21200 [ 21%]: Loss = 507948832.000\n",
      "Iteration  21300 [ 21%]: Loss = 661655040.000\n",
      "Iteration  21400 [ 21%]: Loss = 825097472.000\n",
      "Iteration  21500 [ 21%]: Loss = 793037376.000\n",
      "Iteration  21600 [ 21%]: Loss = 1085225344.000\n",
      "Iteration  21700 [ 21%]: Loss = 2490526720.000\n",
      "Iteration  21800 [ 21%]: Loss = 765287680.000\n",
      "Iteration  21900 [ 21%]: Loss = 1303369216.000\n",
      "Iteration  22000 [ 22%]: Loss = 2931412480.000\n",
      "Iteration  22100 [ 22%]: Loss = 343087648.000\n",
      "Iteration  22200 [ 22%]: Loss = 600188416.000\n",
      "Iteration  22300 [ 22%]: Loss = 2431821056.000\n",
      "Iteration  22400 [ 22%]: Loss = 635824960.000\n",
      "Iteration  22500 [ 22%]: Loss = 294975936.000\n",
      "Iteration  22600 [ 22%]: Loss = 1482572672.000\n",
      "Iteration  22700 [ 22%]: Loss = 652454976.000\n",
      "Iteration  22800 [ 22%]: Loss = 1071681344.000\n",
      "Iteration  22900 [ 22%]: Loss = 499490432.000\n",
      "Iteration  23000 [ 23%]: Loss = 2596870656.000\n",
      "Iteration  23100 [ 23%]: Loss = 397196096.000\n",
      "Iteration  23200 [ 23%]: Loss = 344942560.000\n",
      "Iteration  23300 [ 23%]: Loss = 405430432.000\n",
      "Iteration  23400 [ 23%]: Loss = 171907696.000\n",
      "Iteration  23500 [ 23%]: Loss = 351140864.000\n",
      "Iteration  23600 [ 23%]: Loss = 1430457088.000\n",
      "Iteration  23700 [ 23%]: Loss = 380227424.000\n",
      "Iteration  23800 [ 23%]: Loss = 1494033408.000\n",
      "Iteration  23900 [ 23%]: Loss = 568779520.000\n",
      "Iteration  24000 [ 24%]: Loss = 263880736.000\n",
      "Iteration  24100 [ 24%]: Loss = 317229888.000\n",
      "Iteration  24200 [ 24%]: Loss = 318329952.000\n",
      "Iteration  24300 [ 24%]: Loss = 1784739840.000\n",
      "Iteration  24400 [ 24%]: Loss = 354117504.000\n",
      "Iteration  24500 [ 24%]: Loss = 416815488.000\n",
      "Iteration  24600 [ 24%]: Loss = 362734592.000\n",
      "Iteration  24700 [ 24%]: Loss = 1350291968.000\n",
      "Iteration  24800 [ 24%]: Loss = 419658880.000\n",
      "Iteration  24900 [ 24%]: Loss = 560447040.000\n",
      "Iteration  25000 [ 25%]: Loss = 252635760.000\n",
      "Iteration  25100 [ 25%]: Loss = 397646944.000\n",
      "Iteration  25200 [ 25%]: Loss = 644022400.000\n",
      "Iteration  25300 [ 25%]: Loss = 1092047872.000\n",
      "Iteration  25400 [ 25%]: Loss = 483533920.000\n",
      "Iteration  25500 [ 25%]: Loss = 434837152.000\n",
      "Iteration  25600 [ 25%]: Loss = 1242848768.000\n",
      "Iteration  25700 [ 25%]: Loss = 240371760.000\n",
      "Iteration  25800 [ 25%]: Loss = 241575584.000\n",
      "Iteration  25900 [ 25%]: Loss = 214336384.000\n",
      "Iteration  26000 [ 26%]: Loss = 592458624.000\n",
      "Iteration  26100 [ 26%]: Loss = 208400176.000\n",
      "Iteration  26200 [ 26%]: Loss = 459845536.000\n",
      "Iteration  26300 [ 26%]: Loss = 237068896.000\n",
      "Iteration  26400 [ 26%]: Loss = 304047456.000\n",
      "Iteration  26500 [ 26%]: Loss = 556844736.000\n",
      "Iteration  26600 [ 26%]: Loss = 230229600.000\n",
      "Iteration  26700 [ 26%]: Loss = 286556192.000\n",
      "Iteration  26800 [ 26%]: Loss = 547881024.000\n",
      "Iteration  26900 [ 26%]: Loss = 296195616.000\n",
      "Iteration  27000 [ 27%]: Loss = 415616416.000\n",
      "Iteration  27100 [ 27%]: Loss = 307314208.000\n",
      "Iteration  27200 [ 27%]: Loss = 223276960.000\n",
      "Iteration  27300 [ 27%]: Loss = 475221888.000\n",
      "Iteration  27400 [ 27%]: Loss = 472043104.000\n",
      "Iteration  27500 [ 27%]: Loss = 263597456.000\n",
      "Iteration  27600 [ 27%]: Loss = 240002096.000\n",
      "Iteration  27700 [ 27%]: Loss = 667510912.000\n",
      "Iteration  27800 [ 27%]: Loss = 223790704.000\n",
      "Iteration  27900 [ 27%]: Loss = 252173632.000\n",
      "Iteration  28000 [ 28%]: Loss = 218825392.000\n",
      "Iteration  28100 [ 28%]: Loss = 803662336.000\n",
      "Iteration  28200 [ 28%]: Loss = 941492608.000\n",
      "Iteration  28300 [ 28%]: Loss = 173003008.000\n",
      "Iteration  28400 [ 28%]: Loss = 241260256.000\n",
      "Iteration  28500 [ 28%]: Loss = 551388352.000\n",
      "Iteration  28600 [ 28%]: Loss = 630829696.000\n",
      "Iteration  28700 [ 28%]: Loss = 441964224.000\n",
      "Iteration  28800 [ 28%]: Loss = 352576928.000\n",
      "Iteration  28900 [ 28%]: Loss = 291163392.000\n",
      "Iteration  29000 [ 28%]: Loss = 423336576.000\n",
      "Iteration  29100 [ 29%]: Loss = 667792960.000\n",
      "Iteration  29200 [ 29%]: Loss = 311889344.000\n",
      "Iteration  29300 [ 29%]: Loss = 1050343680.000\n",
      "Iteration  29400 [ 29%]: Loss = 204095872.000\n",
      "Iteration  29500 [ 29%]: Loss = 267145792.000\n",
      "Iteration  29600 [ 29%]: Loss = 193872880.000\n",
      "Iteration  29700 [ 29%]: Loss = 1020027712.000\n",
      "Iteration  29800 [ 29%]: Loss = 246303312.000\n",
      "Iteration  29900 [ 29%]: Loss = 160512032.000\n",
      "Iteration  30000 [ 30%]: Loss = 852409664.000\n",
      "Iteration  30100 [ 30%]: Loss = 267544160.000\n",
      "Iteration  30200 [ 30%]: Loss = 113537584.000\n",
      "Iteration  30300 [ 30%]: Loss = 228947728.000\n",
      "Iteration  30400 [ 30%]: Loss = 211331824.000\n",
      "Iteration  30500 [ 30%]: Loss = 264209328.000\n",
      "Iteration  30600 [ 30%]: Loss = 672938240.000\n",
      "Iteration  30700 [ 30%]: Loss = 309534816.000\n",
      "Iteration  30800 [ 30%]: Loss = 3199638528.000\n",
      "Iteration  30900 [ 30%]: Loss = 166618448.000\n",
      "Iteration  31000 [ 31%]: Loss = 819841088.000\n",
      "Iteration  31100 [ 31%]: Loss = 185110592.000\n",
      "Iteration  31200 [ 31%]: Loss = 450967584.000\n",
      "Iteration  31300 [ 31%]: Loss = 153613312.000\n",
      "Iteration  31400 [ 31%]: Loss = 426897024.000\n",
      "Iteration  31500 [ 31%]: Loss = 261472496.000\n",
      "Iteration  31600 [ 31%]: Loss = 211491728.000\n",
      "Iteration  31700 [ 31%]: Loss = 279312864.000\n",
      "Iteration  31800 [ 31%]: Loss = 221300784.000\n",
      "Iteration  31900 [ 31%]: Loss = 312090976.000\n",
      "Iteration  32000 [ 32%]: Loss = 137132240.000\n",
      "Iteration  32100 [ 32%]: Loss = 291245248.000\n",
      "Iteration  32200 [ 32%]: Loss = 289637376.000\n",
      "Iteration  32300 [ 32%]: Loss = 277898528.000\n",
      "Iteration  32400 [ 32%]: Loss = 620524544.000\n",
      "Iteration  32500 [ 32%]: Loss = 278821760.000\n",
      "Iteration  32600 [ 32%]: Loss = 736246400.000\n",
      "Iteration  32700 [ 32%]: Loss = 152230384.000\n",
      "Iteration  32800 [ 32%]: Loss = 87735280.000\n",
      "Iteration  32900 [ 32%]: Loss = 163675408.000\n",
      "Iteration  33000 [ 33%]: Loss = 155354752.000\n",
      "Iteration  33100 [ 33%]: Loss = 176276240.000\n",
      "Iteration  33200 [ 33%]: Loss = 342619360.000\n",
      "Iteration  33300 [ 33%]: Loss = 175935008.000\n",
      "Iteration  33400 [ 33%]: Loss = 205646000.000\n",
      "Iteration  33500 [ 33%]: Loss = 206899280.000\n",
      "Iteration  33600 [ 33%]: Loss = 252497264.000\n",
      "Iteration  33700 [ 33%]: Loss = 142728128.000\n",
      "Iteration  33800 [ 33%]: Loss = 81965928.000\n",
      "Iteration  33900 [ 33%]: Loss = 4141743616.000\n",
      "Iteration  34000 [ 34%]: Loss = 141978384.000\n",
      "Iteration  34100 [ 34%]: Loss = 95500096.000\n",
      "Iteration  34200 [ 34%]: Loss = 95818112.000\n",
      "Iteration  34300 [ 34%]: Loss = 118332608.000\n",
      "Iteration  34400 [ 34%]: Loss = 637720960.000\n",
      "Iteration  34500 [ 34%]: Loss = 5737149952.000\n",
      "Iteration  34600 [ 34%]: Loss = 328637408.000\n",
      "Iteration  34700 [ 34%]: Loss = 102522488.000\n",
      "Iteration  34800 [ 34%]: Loss = 134891968.000\n",
      "Iteration  34900 [ 34%]: Loss = 103421320.000\n",
      "Iteration  35000 [ 35%]: Loss = 96914120.000\n",
      "Iteration  35100 [ 35%]: Loss = 108975552.000\n",
      "Iteration  35200 [ 35%]: Loss = 314114496.000\n",
      "Iteration  35300 [ 35%]: Loss = 125438040.000\n",
      "Iteration  35400 [ 35%]: Loss = 354452064.000\n",
      "Iteration  35500 [ 35%]: Loss = 395415040.000\n",
      "Iteration  35600 [ 35%]: Loss = 109904632.000\n",
      "Iteration  35700 [ 35%]: Loss = 125719080.000\n",
      "Iteration  35800 [ 35%]: Loss = 100505816.000\n",
      "Iteration  35900 [ 35%]: Loss = 262938496.000\n",
      "Iteration  36000 [ 36%]: Loss = 83745080.000\n",
      "Iteration  36100 [ 36%]: Loss = 313113568.000\n",
      "Iteration  36200 [ 36%]: Loss = 138161216.000\n",
      "Iteration  36300 [ 36%]: Loss = 293467712.000\n",
      "Iteration  36400 [ 36%]: Loss = 297872224.000\n",
      "Iteration  36500 [ 36%]: Loss = 65708484.000\n",
      "Iteration  36600 [ 36%]: Loss = 308968192.000\n",
      "Iteration  36700 [ 36%]: Loss = 378638784.000\n",
      "Iteration  36800 [ 36%]: Loss = 88951232.000\n",
      "Iteration  36900 [ 36%]: Loss = 90377984.000\n",
      "Iteration  37000 [ 37%]: Loss = 77467152.000\n",
      "Iteration  37100 [ 37%]: Loss = 264064512.000\n",
      "Iteration  37200 [ 37%]: Loss = 249077488.000\n",
      "Iteration  37300 [ 37%]: Loss = 129477224.000\n",
      "Iteration  37400 [ 37%]: Loss = 67594464.000\n",
      "Iteration  37500 [ 37%]: Loss = 87344264.000\n",
      "Iteration  37600 [ 37%]: Loss = 657117632.000\n",
      "Iteration  37700 [ 37%]: Loss = 317903104.000\n",
      "Iteration  37800 [ 37%]: Loss = 80533064.000\n",
      "Iteration  37900 [ 37%]: Loss = 578478272.000\n",
      "Iteration  38000 [ 38%]: Loss = 69181712.000\n",
      "Iteration  38100 [ 38%]: Loss = 198294208.000\n",
      "Iteration  38200 [ 38%]: Loss = 112789856.000\n",
      "Iteration  38300 [ 38%]: Loss = 239854864.000\n",
      "Iteration  38400 [ 38%]: Loss = 413243296.000\n",
      "Iteration  38500 [ 38%]: Loss = 72474920.000\n",
      "Iteration  38600 [ 38%]: Loss = 94010128.000\n",
      "Iteration  38700 [ 38%]: Loss = 330327296.000\n",
      "Iteration  38800 [ 38%]: Loss = 77618656.000\n",
      "Iteration  38900 [ 38%]: Loss = 84588344.000\n",
      "Iteration  39000 [ 39%]: Loss = 97807752.000\n",
      "Iteration  39100 [ 39%]: Loss = 221650608.000\n",
      "Iteration  39200 [ 39%]: Loss = 62847120.000\n",
      "Iteration  39300 [ 39%]: Loss = 77388680.000\n",
      "Iteration  39400 [ 39%]: Loss = 138377024.000\n",
      "Iteration  39500 [ 39%]: Loss = 166269552.000\n",
      "Iteration  39600 [ 39%]: Loss = 98971896.000\n",
      "Iteration  39700 [ 39%]: Loss = 235069200.000\n",
      "Iteration  39800 [ 39%]: Loss = 89945288.000\n",
      "Iteration  39900 [ 39%]: Loss = 87504576.000\n",
      "Iteration  40000 [ 40%]: Loss = 74678328.000\n",
      "Iteration  40100 [ 40%]: Loss = 43034392.000\n",
      "Iteration  40200 [ 40%]: Loss = 90659920.000\n",
      "Iteration  40300 [ 40%]: Loss = 73971224.000\n",
      "Iteration  40400 [ 40%]: Loss = 76772024.000\n",
      "Iteration  40500 [ 40%]: Loss = 52828652.000\n",
      "Iteration  40600 [ 40%]: Loss = 66094364.000\n",
      "Iteration  40700 [ 40%]: Loss = 181199808.000\n",
      "Iteration  40800 [ 40%]: Loss = 84481936.000\n",
      "Iteration  40900 [ 40%]: Loss = 74369048.000\n",
      "Iteration  41000 [ 41%]: Loss = 200968224.000\n",
      "Iteration  41100 [ 41%]: Loss = 52513092.000\n",
      "Iteration  41200 [ 41%]: Loss = 79417352.000\n",
      "Iteration  41300 [ 41%]: Loss = 58963804.000\n",
      "Iteration  41400 [ 41%]: Loss = 65191864.000\n",
      "Iteration  41500 [ 41%]: Loss = 55784648.000\n",
      "Iteration  41600 [ 41%]: Loss = 73787232.000\n",
      "Iteration  41700 [ 41%]: Loss = 76094912.000\n",
      "Iteration  41800 [ 41%]: Loss = 65213620.000\n",
      "Iteration  41900 [ 41%]: Loss = 58135356.000\n",
      "Iteration  42000 [ 42%]: Loss = 66953068.000\n",
      "Iteration  42100 [ 42%]: Loss = 74466496.000\n",
      "Iteration  42200 [ 42%]: Loss = 2643661824.000\n",
      "Iteration  42300 [ 42%]: Loss = 160776224.000\n",
      "Iteration  42400 [ 42%]: Loss = 49070484.000\n",
      "Iteration  42500 [ 42%]: Loss = 72559640.000\n",
      "Iteration  42600 [ 42%]: Loss = 48401672.000\n",
      "Iteration  42700 [ 42%]: Loss = 39301720.000\n",
      "Iteration  42800 [ 42%]: Loss = 49215224.000\n",
      "Iteration  42900 [ 42%]: Loss = 155363536.000\n",
      "Iteration  43000 [ 43%]: Loss = 85889672.000\n",
      "Iteration  43100 [ 43%]: Loss = 44227856.000\n",
      "Iteration  43200 [ 43%]: Loss = 48423724.000\n",
      "Iteration  43300 [ 43%]: Loss = 75575880.000\n",
      "Iteration  43400 [ 43%]: Loss = 75872368.000\n",
      "Iteration  43500 [ 43%]: Loss = 41160648.000\n",
      "Iteration  43600 [ 43%]: Loss = 41703072.000\n",
      "Iteration  43700 [ 43%]: Loss = 34586744.000\n",
      "Iteration  43800 [ 43%]: Loss = 63043848.000\n",
      "Iteration  43900 [ 43%]: Loss = 41177864.000\n",
      "Iteration  44000 [ 44%]: Loss = 145234240.000\n",
      "Iteration  44100 [ 44%]: Loss = 1535114240.000\n",
      "Iteration  44200 [ 44%]: Loss = 67328272.000\n",
      "Iteration  44300 [ 44%]: Loss = 59545784.000\n",
      "Iteration  44400 [ 44%]: Loss = 36080736.000\n",
      "Iteration  44500 [ 44%]: Loss = 55790764.000\n",
      "Iteration  44600 [ 44%]: Loss = 76279208.000\n",
      "Iteration  44700 [ 44%]: Loss = 89382656.000\n",
      "Iteration  44800 [ 44%]: Loss = 66916224.000\n",
      "Iteration  44900 [ 44%]: Loss = 76122984.000\n",
      "Iteration  45000 [ 45%]: Loss = 35395828.000\n",
      "Iteration  45100 [ 45%]: Loss = 129908296.000\n",
      "Iteration  45200 [ 45%]: Loss = 24552950.000\n",
      "Iteration  45300 [ 45%]: Loss = 52201820.000\n",
      "Iteration  45400 [ 45%]: Loss = 52236128.000\n",
      "Iteration  45500 [ 45%]: Loss = 35330968.000\n",
      "Iteration  45600 [ 45%]: Loss = 40409756.000\n",
      "Iteration  45700 [ 45%]: Loss = 31853892.000\n",
      "Iteration  45800 [ 45%]: Loss = 27863518.000\n",
      "Iteration  45900 [ 45%]: Loss = 38200012.000\n",
      "Iteration  46000 [ 46%]: Loss = 97040136.000\n",
      "Iteration  46100 [ 46%]: Loss = 57540588.000\n",
      "Iteration  46200 [ 46%]: Loss = 49168248.000\n",
      "Iteration  46300 [ 46%]: Loss = 48390324.000\n",
      "Iteration  46400 [ 46%]: Loss = 37312348.000\n",
      "Iteration  46500 [ 46%]: Loss = 74792392.000\n",
      "Iteration  46600 [ 46%]: Loss = 31562958.000\n",
      "Iteration  46700 [ 46%]: Loss = 39117064.000\n",
      "Iteration  46800 [ 46%]: Loss = 34958316.000\n",
      "Iteration  46900 [ 46%]: Loss = 31368756.000\n",
      "Iteration  47000 [ 47%]: Loss = 56317128.000\n",
      "Iteration  47100 [ 47%]: Loss = 40090880.000\n",
      "Iteration  47200 [ 47%]: Loss = 27698548.000\n",
      "Iteration  47300 [ 47%]: Loss = 28262532.000\n",
      "Iteration  47400 [ 47%]: Loss = 42418704.000\n",
      "Iteration  47500 [ 47%]: Loss = 62720820.000\n",
      "Iteration  47600 [ 47%]: Loss = 56092244.000\n",
      "Iteration  47700 [ 47%]: Loss = 35115864.000\n",
      "Iteration  47800 [ 47%]: Loss = 122154480.000\n",
      "Iteration  47900 [ 47%]: Loss = 27522822.000\n",
      "Iteration  48000 [ 48%]: Loss = 52343732.000\n",
      "Iteration  48100 [ 48%]: Loss = 27546274.000\n",
      "Iteration  48200 [ 48%]: Loss = 21578162.000\n",
      "Iteration  48300 [ 48%]: Loss = 28424602.000\n",
      "Iteration  48400 [ 48%]: Loss = 31234880.000\n",
      "Iteration  48500 [ 48%]: Loss = 35525376.000\n",
      "Iteration  48600 [ 48%]: Loss = 41800552.000\n",
      "Iteration  48700 [ 48%]: Loss = 30477510.000\n",
      "Iteration  48800 [ 48%]: Loss = 71592616.000\n",
      "Iteration  48900 [ 48%]: Loss = 97136192.000\n",
      "Iteration  49000 [ 49%]: Loss = 29475110.000\n",
      "Iteration  49100 [ 49%]: Loss = 28933726.000\n",
      "Iteration  49200 [ 49%]: Loss = 34074284.000\n",
      "Iteration  49300 [ 49%]: Loss = 28636980.000\n",
      "Iteration  49400 [ 49%]: Loss = 28181846.000\n",
      "Iteration  49500 [ 49%]: Loss = 69931352.000\n",
      "Iteration  49600 [ 49%]: Loss = 37365720.000\n",
      "Iteration  49700 [ 49%]: Loss = 29887156.000\n",
      "Iteration  49800 [ 49%]: Loss = 24081036.000\n",
      "Iteration  49900 [ 49%]: Loss = 317185984.000\n",
      "Iteration  50000 [ 50%]: Loss = 98001960.000\n",
      "Iteration  50100 [ 50%]: Loss = 69019800.000\n",
      "Iteration  50200 [ 50%]: Loss = 43861552.000\n",
      "Iteration  50300 [ 50%]: Loss = 15232043.000\n",
      "Iteration  50400 [ 50%]: Loss = 25729750.000\n",
      "Iteration  50500 [ 50%]: Loss = 21942324.000\n",
      "Iteration  50600 [ 50%]: Loss = 37677360.000\n",
      "Iteration  50700 [ 50%]: Loss = 36049656.000\n",
      "Iteration  50800 [ 50%]: Loss = 28241590.000\n",
      "Iteration  50900 [ 50%]: Loss = 25942772.000\n",
      "Iteration  51000 [ 51%]: Loss = 20894040.000\n",
      "Iteration  51100 [ 51%]: Loss = 56994776.000\n",
      "Iteration  51200 [ 51%]: Loss = 28816096.000\n",
      "Iteration  51300 [ 51%]: Loss = 143471936.000\n",
      "Iteration  51400 [ 51%]: Loss = 22130316.000\n",
      "Iteration  51500 [ 51%]: Loss = 21583106.000\n",
      "Iteration  51600 [ 51%]: Loss = 18869208.000\n",
      "Iteration  51700 [ 51%]: Loss = 19243408.000\n",
      "Iteration  51800 [ 51%]: Loss = 16376731.000\n",
      "Iteration  51900 [ 51%]: Loss = 18593448.000\n",
      "Iteration  52000 [ 52%]: Loss = 33038138.000\n",
      "Iteration  52100 [ 52%]: Loss = 14188037.000\n",
      "Iteration  52200 [ 52%]: Loss = 91992600.000\n",
      "Iteration  52300 [ 52%]: Loss = 17006922.000\n",
      "Iteration  52400 [ 52%]: Loss = 40104932.000\n",
      "Iteration  52500 [ 52%]: Loss = 52809980.000\n",
      "Iteration  52600 [ 52%]: Loss = 91364872.000\n",
      "Iteration  52700 [ 52%]: Loss = 121011712.000\n",
      "Iteration  52800 [ 52%]: Loss = 28028332.000\n",
      "Iteration  52900 [ 52%]: Loss = 12049118.000\n",
      "Iteration  53000 [ 53%]: Loss = 19649588.000\n",
      "Iteration  53100 [ 53%]: Loss = 36891780.000\n",
      "Iteration  53200 [ 53%]: Loss = 32393032.000\n",
      "Iteration  53300 [ 53%]: Loss = 17841454.000\n",
      "Iteration  53400 [ 53%]: Loss = 24030352.000\n",
      "Iteration  53500 [ 53%]: Loss = 20853860.000\n",
      "Iteration  53600 [ 53%]: Loss = 17159538.000\n",
      "Iteration  53700 [ 53%]: Loss = 19370008.000\n",
      "Iteration  53800 [ 53%]: Loss = 17912246.000\n",
      "Iteration  53900 [ 53%]: Loss = 25539404.000\n",
      "Iteration  54000 [ 54%]: Loss = 17506868.000\n",
      "Iteration  54100 [ 54%]: Loss = 40579552.000\n",
      "Iteration  54200 [ 54%]: Loss = 12054570.000\n",
      "Iteration  54300 [ 54%]: Loss = 18359038.000\n",
      "Iteration  54400 [ 54%]: Loss = 19978696.000\n",
      "Iteration  54500 [ 54%]: Loss = 22274060.000\n",
      "Iteration  54600 [ 54%]: Loss = 10250374.000\n",
      "Iteration  54700 [ 54%]: Loss = 21165262.000\n",
      "Iteration  54800 [ 54%]: Loss = 38407812.000\n",
      "Iteration  54900 [ 54%]: Loss = 20919920.000\n",
      "Iteration  55000 [ 55%]: Loss = 160032064.000\n",
      "Iteration  55100 [ 55%]: Loss = 24871482.000\n",
      "Iteration  55200 [ 55%]: Loss = 11400980.000\n",
      "Iteration  55300 [ 55%]: Loss = 20652618.000\n",
      "Iteration  55400 [ 55%]: Loss = 27184772.000\n",
      "Iteration  55500 [ 55%]: Loss = 10912877.000\n",
      "Iteration  55600 [ 55%]: Loss = 11970143.000\n",
      "Iteration  55700 [ 55%]: Loss = 11532701.000\n",
      "Iteration  55800 [ 55%]: Loss = 40791220.000\n",
      "Iteration  55900 [ 55%]: Loss = 21149286.000\n",
      "Iteration  56000 [ 56%]: Loss = 13071992.000\n",
      "Iteration  56100 [ 56%]: Loss = 26715928.000\n",
      "Iteration  56200 [ 56%]: Loss = 10450319.000\n",
      "Iteration  56300 [ 56%]: Loss = 11071832.000\n",
      "Iteration  56400 [ 56%]: Loss = 13676137.000\n",
      "Iteration  56500 [ 56%]: Loss = 15190465.000\n",
      "Iteration  56600 [ 56%]: Loss = 14050482.000\n",
      "Iteration  56700 [ 56%]: Loss = 20093820.000\n",
      "Iteration  56800 [ 56%]: Loss = 29218032.000\n",
      "Iteration  56900 [ 56%]: Loss = 13822064.000\n",
      "Iteration  57000 [ 56%]: Loss = 11854790.000\n",
      "Iteration  57100 [ 57%]: Loss = 11787908.000\n",
      "Iteration  57200 [ 57%]: Loss = 22174444.000\n",
      "Iteration  57300 [ 57%]: Loss = 14070576.000\n",
      "Iteration  57400 [ 57%]: Loss = 7802942.000\n",
      "Iteration  57500 [ 57%]: Loss = 30321866.000\n",
      "Iteration  57600 [ 57%]: Loss = 15221095.000\n",
      "Iteration  57700 [ 57%]: Loss = 12309550.000\n",
      "Iteration  57800 [ 57%]: Loss = 9112360.000\n",
      "Iteration  57900 [ 57%]: Loss = 10354010.000\n",
      "Iteration  58000 [ 57%]: Loss = 11916946.000\n",
      "Iteration  58100 [ 58%]: Loss = 34293100.000\n",
      "Iteration  58200 [ 58%]: Loss = 8830149.000\n",
      "Iteration  58300 [ 58%]: Loss = 9877098.000\n",
      "Iteration  58400 [ 58%]: Loss = 7185591.000\n",
      "Iteration  58500 [ 58%]: Loss = 26115272.000\n",
      "Iteration  58600 [ 58%]: Loss = 9357920.000\n",
      "Iteration  58700 [ 58%]: Loss = 13956548.000\n",
      "Iteration  58800 [ 58%]: Loss = 6318922.000\n",
      "Iteration  58900 [ 58%]: Loss = 20259412.000\n",
      "Iteration  59000 [ 59%]: Loss = 14382029.000\n",
      "Iteration  59100 [ 59%]: Loss = 15780916.000\n",
      "Iteration  59200 [ 59%]: Loss = 39548664.000\n",
      "Iteration  59300 [ 59%]: Loss = 14066774.000\n",
      "Iteration  59400 [ 59%]: Loss = 14925209.000\n",
      "Iteration  59500 [ 59%]: Loss = 7225390.500\n",
      "Iteration  59600 [ 59%]: Loss = 8831693.000\n",
      "Iteration  59700 [ 59%]: Loss = 8211180.000\n",
      "Iteration  59800 [ 59%]: Loss = 34099108.000\n",
      "Iteration  59900 [ 59%]: Loss = 12285816.000\n",
      "Iteration  60000 [ 60%]: Loss = 9841012.000\n",
      "Iteration  60100 [ 60%]: Loss = 11790177.000\n",
      "Iteration  60200 [ 60%]: Loss = 10207728.000\n",
      "Iteration  60300 [ 60%]: Loss = 13072027.000\n",
      "Iteration  60400 [ 60%]: Loss = 10162655.000\n",
      "Iteration  60500 [ 60%]: Loss = 19379370.000\n",
      "Iteration  60600 [ 60%]: Loss = 9800349.000\n",
      "Iteration  60700 [ 60%]: Loss = 6520296.500\n",
      "Iteration  60800 [ 60%]: Loss = 8886339.000\n",
      "Iteration  60900 [ 60%]: Loss = 14629830.000\n",
      "Iteration  61000 [ 61%]: Loss = 12130469.000\n",
      "Iteration  61100 [ 61%]: Loss = 9234588.000\n",
      "Iteration  61200 [ 61%]: Loss = 6478005.500\n",
      "Iteration  61300 [ 61%]: Loss = 9563554.000\n",
      "Iteration  61400 [ 61%]: Loss = 11682481.000\n",
      "Iteration  61500 [ 61%]: Loss = 9796848.000\n",
      "Iteration  61600 [ 61%]: Loss = 7215738.000\n",
      "Iteration  61700 [ 61%]: Loss = 7461119.500\n",
      "Iteration  61800 [ 61%]: Loss = 8806995.000\n",
      "Iteration  61900 [ 61%]: Loss = 7255784.000\n",
      "Iteration  62000 [ 62%]: Loss = 7745003.000\n",
      "Iteration  62100 [ 62%]: Loss = 9358278.000\n",
      "Iteration  62200 [ 62%]: Loss = 6288967.000\n",
      "Iteration  62300 [ 62%]: Loss = 6913590.500\n",
      "Iteration  62400 [ 62%]: Loss = 6072137.000\n",
      "Iteration  62500 [ 62%]: Loss = 6553301.500\n",
      "Iteration  62600 [ 62%]: Loss = 6502955.500\n",
      "Iteration  62700 [ 62%]: Loss = 9158646.000\n",
      "Iteration  62800 [ 62%]: Loss = 4996534.000\n",
      "Iteration  62900 [ 62%]: Loss = 8787899.000\n",
      "Iteration  63000 [ 63%]: Loss = 7255499.500\n",
      "Iteration  63100 [ 63%]: Loss = 384646848.000\n",
      "Iteration  63200 [ 63%]: Loss = 9108743.000\n",
      "Iteration  63300 [ 63%]: Loss = 8477808.000\n",
      "Iteration  63400 [ 63%]: Loss = 6919493.500\n",
      "Iteration  63500 [ 63%]: Loss = 7972555.000\n",
      "Iteration  63600 [ 63%]: Loss = 5969468.500\n",
      "Iteration  63700 [ 63%]: Loss = 5105451.000\n",
      "Iteration  63800 [ 63%]: Loss = 6815787.500\n",
      "Iteration  63900 [ 63%]: Loss = 10737336.000\n",
      "Iteration  64000 [ 64%]: Loss = 6139808.000\n",
      "Iteration  64100 [ 64%]: Loss = 5700004.000\n",
      "Iteration  64200 [ 64%]: Loss = 6161268.500\n",
      "Iteration  64300 [ 64%]: Loss = 9175554.000\n",
      "Iteration  64400 [ 64%]: Loss = 5639426.000\n",
      "Iteration  64500 [ 64%]: Loss = 11015977.000\n",
      "Iteration  64600 [ 64%]: Loss = 5072128.000\n",
      "Iteration  64700 [ 64%]: Loss = 4742368.000\n",
      "Iteration  64800 [ 64%]: Loss = 6276960.500\n",
      "Iteration  64900 [ 64%]: Loss = 4935607.500\n",
      "Iteration  65000 [ 65%]: Loss = 5990669.000\n",
      "Iteration  65100 [ 65%]: Loss = 6684251.500\n",
      "Iteration  65200 [ 65%]: Loss = 5277608.500\n",
      "Iteration  65300 [ 65%]: Loss = 8766332.000\n",
      "Iteration  65400 [ 65%]: Loss = 7691035.500\n",
      "Iteration  65500 [ 65%]: Loss = 8043321.500\n",
      "Iteration  65600 [ 65%]: Loss = 10625303.000\n",
      "Iteration  65700 [ 65%]: Loss = 7146192.000\n",
      "Iteration  65800 [ 65%]: Loss = 5430858.000\n",
      "Iteration  65900 [ 65%]: Loss = 6058279.500\n",
      "Iteration  66000 [ 66%]: Loss = 7361536.000\n",
      "Iteration  66100 [ 66%]: Loss = 4725144.500\n",
      "Iteration  66200 [ 66%]: Loss = 4065027.500\n",
      "Iteration  66300 [ 66%]: Loss = 5331539.000\n",
      "Iteration  66400 [ 66%]: Loss = 7012407.000\n",
      "Iteration  66500 [ 66%]: Loss = 6151023.000\n",
      "Iteration  66600 [ 66%]: Loss = 7860678.500\n",
      "Iteration  66700 [ 66%]: Loss = 6179238.500\n",
      "Iteration  66800 [ 66%]: Loss = 5073634.500\n",
      "Iteration  66900 [ 66%]: Loss = 5956759.000\n",
      "Iteration  67000 [ 67%]: Loss = 4816308.500\n",
      "Iteration  67100 [ 67%]: Loss = 7483054.500\n",
      "Iteration  67200 [ 67%]: Loss = 5646917.500\n",
      "Iteration  67300 [ 67%]: Loss = 5272172.000\n",
      "Iteration  67400 [ 67%]: Loss = 4333888.000\n",
      "Iteration  67500 [ 67%]: Loss = 4243616.000\n",
      "Iteration  67600 [ 67%]: Loss = 4788600.500\n",
      "Iteration  67700 [ 67%]: Loss = 4305154.500\n",
      "Iteration  67800 [ 67%]: Loss = 4670296.500\n",
      "Iteration  67900 [ 67%]: Loss = 4621123.000\n",
      "Iteration  68000 [ 68%]: Loss = 5494221.500\n",
      "Iteration  68100 [ 68%]: Loss = 6528245.500\n",
      "Iteration  68200 [ 68%]: Loss = 23938920.000\n",
      "Iteration  68300 [ 68%]: Loss = 4608013.500\n",
      "Iteration  68400 [ 68%]: Loss = 3813140.000\n",
      "Iteration  68500 [ 68%]: Loss = 4048581.500\n",
      "Iteration  68600 [ 68%]: Loss = 4082264.000\n",
      "Iteration  68700 [ 68%]: Loss = 4007066.250\n",
      "Iteration  68800 [ 68%]: Loss = 3604847.500\n",
      "Iteration  68900 [ 68%]: Loss = 4178276.500\n",
      "Iteration  69000 [ 69%]: Loss = 4309752.000\n",
      "Iteration  69100 [ 69%]: Loss = 3176369.500\n",
      "Iteration  69200 [ 69%]: Loss = 3359732.250\n",
      "Iteration  69300 [ 69%]: Loss = 4463320.500\n",
      "Iteration  69400 [ 69%]: Loss = 3780973.000\n",
      "Iteration  69500 [ 69%]: Loss = 17650398.000\n",
      "Iteration  69600 [ 69%]: Loss = 3391300.000\n",
      "Iteration  69700 [ 69%]: Loss = 4924305.000\n",
      "Iteration  69800 [ 69%]: Loss = 5184710.000\n",
      "Iteration  69900 [ 69%]: Loss = 4654318.500\n",
      "Iteration  70000 [ 70%]: Loss = 3685837.250\n",
      "Iteration  70100 [ 70%]: Loss = 3476009.000\n",
      "Iteration  70200 [ 70%]: Loss = 8468945.000\n",
      "Iteration  70300 [ 70%]: Loss = 3753783.250\n",
      "Iteration  70400 [ 70%]: Loss = 3178769.250\n",
      "Iteration  70500 [ 70%]: Loss = 5352577.000\n",
      "Iteration  70600 [ 70%]: Loss = 3757090.500\n",
      "Iteration  70700 [ 70%]: Loss = 11587902.000\n",
      "Iteration  70800 [ 70%]: Loss = 4060626.750\n",
      "Iteration  70900 [ 70%]: Loss = 3144762.250\n",
      "Iteration  71000 [ 71%]: Loss = 3156146.000\n",
      "Iteration  71100 [ 71%]: Loss = 3020680.750\n",
      "Iteration  71200 [ 71%]: Loss = 4172927.250\n",
      "Iteration  71300 [ 71%]: Loss = 3356011.500\n",
      "Iteration  71400 [ 71%]: Loss = 14174851.000\n",
      "Iteration  71500 [ 71%]: Loss = 2887513.000\n",
      "Iteration  71600 [ 71%]: Loss = 12219282.000\n",
      "Iteration  71700 [ 71%]: Loss = 3403544.750\n",
      "Iteration  71800 [ 71%]: Loss = 6725108.500\n",
      "Iteration  71900 [ 71%]: Loss = 4412907.500\n",
      "Iteration  72000 [ 72%]: Loss = 3468202.000\n",
      "Iteration  72100 [ 72%]: Loss = 9856654.000\n",
      "Iteration  72200 [ 72%]: Loss = 5567068.000\n",
      "Iteration  72300 [ 72%]: Loss = 2739498.250\n",
      "Iteration  72400 [ 72%]: Loss = 5291472.500\n",
      "Iteration  72500 [ 72%]: Loss = 4444082.500\n",
      "Iteration  72600 [ 72%]: Loss = 2928497.500\n",
      "Iteration  72700 [ 72%]: Loss = 3715827.500\n",
      "Iteration  72800 [ 72%]: Loss = 2856862.750\n",
      "Iteration  72900 [ 72%]: Loss = 3131347.500\n",
      "Iteration  73000 [ 73%]: Loss = 4053579.250\n",
      "Iteration  73100 [ 73%]: Loss = 2691837.000\n",
      "Iteration  73200 [ 73%]: Loss = 7156438.500\n",
      "Iteration  73300 [ 73%]: Loss = 8414751.000\n",
      "Iteration  73400 [ 73%]: Loss = 2966284.750\n",
      "Iteration  73500 [ 73%]: Loss = 2398376.000\n",
      "Iteration  73600 [ 73%]: Loss = 2837778.500\n",
      "Iteration  73700 [ 73%]: Loss = 6133575.500\n",
      "Iteration  73800 [ 73%]: Loss = 4365837.000\n",
      "Iteration  73900 [ 73%]: Loss = 3136140.250\n",
      "Iteration  74000 [ 74%]: Loss = 2744420.500\n",
      "Iteration  74100 [ 74%]: Loss = 2677967.250\n",
      "Iteration  74200 [ 74%]: Loss = 2588228.250\n",
      "Iteration  74300 [ 74%]: Loss = 4462327.000\n",
      "Iteration  74400 [ 74%]: Loss = 2874074.000\n",
      "Iteration  74500 [ 74%]: Loss = 2970844.750\n",
      "Iteration  74600 [ 74%]: Loss = 3104971.500\n",
      "Iteration  74700 [ 74%]: Loss = 2927139.750\n",
      "Iteration  74800 [ 74%]: Loss = 2652825.000\n",
      "Iteration  74900 [ 74%]: Loss = 2553280.250\n",
      "Iteration  75000 [ 75%]: Loss = 2764010.000\n",
      "Iteration  75100 [ 75%]: Loss = 2626132.500\n",
      "Iteration  75200 [ 75%]: Loss = 2512254.250\n",
      "Iteration  75300 [ 75%]: Loss = 2917322.500\n",
      "Iteration  75400 [ 75%]: Loss = 2330659.500\n",
      "Iteration  75500 [ 75%]: Loss = 2396346.500\n",
      "Iteration  75600 [ 75%]: Loss = 2496283.500\n",
      "Iteration  75700 [ 75%]: Loss = 6412860.500\n",
      "Iteration  75800 [ 75%]: Loss = 2267211.000\n",
      "Iteration  75900 [ 75%]: Loss = 2288465.500\n",
      "Iteration  76000 [ 76%]: Loss = 7703540.000\n",
      "Iteration  76100 [ 76%]: Loss = 2487495.750\n",
      "Iteration  76200 [ 76%]: Loss = 2380196.500\n",
      "Iteration  76300 [ 76%]: Loss = 2401802.500\n",
      "Iteration  76400 [ 76%]: Loss = 2387374.000\n",
      "Iteration  76500 [ 76%]: Loss = 3043650.750\n",
      "Iteration  76600 [ 76%]: Loss = 2841691.000\n",
      "Iteration  76700 [ 76%]: Loss = 2502194.000\n",
      "Iteration  76800 [ 76%]: Loss = 2562254.750\n",
      "Iteration  76900 [ 76%]: Loss = 2155735.000\n",
      "Iteration  77000 [ 77%]: Loss = 2459560.000\n",
      "Iteration  77100 [ 77%]: Loss = 2334428.000\n",
      "Iteration  77200 [ 77%]: Loss = 2492867.750\n",
      "Iteration  77300 [ 77%]: Loss = 2428028.750\n",
      "Iteration  77400 [ 77%]: Loss = 2843731.750\n",
      "Iteration  77500 [ 77%]: Loss = 2104257.250\n",
      "Iteration  77600 [ 77%]: Loss = 3231132.750\n",
      "Iteration  77700 [ 77%]: Loss = 1998599.625\n",
      "Iteration  77800 [ 77%]: Loss = 2164108.000\n",
      "Iteration  77900 [ 77%]: Loss = 2070388.750\n",
      "Iteration  78000 [ 78%]: Loss = 2694060.750\n",
      "Iteration  78100 [ 78%]: Loss = 2181148.000\n",
      "Iteration  78200 [ 78%]: Loss = 2470869.750\n",
      "Iteration  78300 [ 78%]: Loss = 2062174.875\n",
      "Iteration  78400 [ 78%]: Loss = 2880839.000\n",
      "Iteration  78500 [ 78%]: Loss = 5564658.500\n",
      "Iteration  78600 [ 78%]: Loss = 2266558.750\n",
      "Iteration  78700 [ 78%]: Loss = 1932775.500\n",
      "Iteration  78800 [ 78%]: Loss = 2044000.000\n",
      "Iteration  78900 [ 78%]: Loss = 1858612.500\n",
      "Iteration  79000 [ 79%]: Loss = 2063260.500\n",
      "Iteration  79100 [ 79%]: Loss = 1937105.500\n",
      "Iteration  79200 [ 79%]: Loss = 1947735.375\n",
      "Iteration  79300 [ 79%]: Loss = 1905083.125\n",
      "Iteration  79400 [ 79%]: Loss = 2711159.750\n",
      "Iteration  79500 [ 79%]: Loss = 1995782.375\n",
      "Iteration  79600 [ 79%]: Loss = 2113864.250\n",
      "Iteration  79700 [ 79%]: Loss = 1831704.375\n",
      "Iteration  79800 [ 79%]: Loss = 1997225.750\n",
      "Iteration  79900 [ 79%]: Loss = 1758035.250\n",
      "Iteration  80000 [ 80%]: Loss = 1902760.875\n",
      "Iteration  80100 [ 80%]: Loss = 1694630.000\n",
      "Iteration  80200 [ 80%]: Loss = 2119075.250\n",
      "Iteration  80300 [ 80%]: Loss = 1768227.750\n",
      "Iteration  80400 [ 80%]: Loss = 1731567.625\n",
      "Iteration  80500 [ 80%]: Loss = 1641016.500\n",
      "Iteration  80600 [ 80%]: Loss = 1796219.875\n",
      "Iteration  80700 [ 80%]: Loss = 1708433.000\n",
      "Iteration  80800 [ 80%]: Loss = 1637371.250\n",
      "Iteration  80900 [ 80%]: Loss = 1785736.875\n",
      "Iteration  81000 [ 81%]: Loss = 1724865.125\n",
      "Iteration  81100 [ 81%]: Loss = 1536414.500\n",
      "Iteration  81200 [ 81%]: Loss = 1772052.500\n",
      "Iteration  81300 [ 81%]: Loss = 1835867.625\n",
      "Iteration  81400 [ 81%]: Loss = 2219340.000\n",
      "Iteration  81500 [ 81%]: Loss = 1573612.875\n",
      "Iteration  81600 [ 81%]: Loss = 1692942.000\n",
      "Iteration  81700 [ 81%]: Loss = 1641350.875\n",
      "Iteration  81800 [ 81%]: Loss = 1713013.875\n",
      "Iteration  81900 [ 81%]: Loss = 1577116.375\n",
      "Iteration  82000 [ 82%]: Loss = 2007801.500\n",
      "Iteration  82100 [ 82%]: Loss = 1540861.500\n",
      "Iteration  82200 [ 82%]: Loss = 1660047.375\n",
      "Iteration  82300 [ 82%]: Loss = 1598736.375\n",
      "Iteration  82400 [ 82%]: Loss = 1487971.500\n",
      "Iteration  82500 [ 82%]: Loss = 1578937.875\n",
      "Iteration  82600 [ 82%]: Loss = 1567310.750\n",
      "Iteration  82700 [ 82%]: Loss = 1616372.500\n",
      "Iteration  82800 [ 82%]: Loss = 2034975.250\n",
      "Iteration  82900 [ 82%]: Loss = 1623250.375\n",
      "Iteration  83000 [ 83%]: Loss = 1508869.625\n",
      "Iteration  83100 [ 83%]: Loss = 1504516.250\n",
      "Iteration  83200 [ 83%]: Loss = 1765723.625\n",
      "Iteration  83300 [ 83%]: Loss = 1598022.625\n",
      "Iteration  83400 [ 83%]: Loss = 1633034.250\n",
      "Iteration  83500 [ 83%]: Loss = 1512504.250\n",
      "Iteration  83600 [ 83%]: Loss = 1516318.875\n",
      "Iteration  83700 [ 83%]: Loss = 1496734.875\n",
      "Iteration  83800 [ 83%]: Loss = 1474069.625\n",
      "Iteration  83900 [ 83%]: Loss = 1505182.750\n",
      "Iteration  84000 [ 84%]: Loss = 1453168.375\n",
      "Iteration  84100 [ 84%]: Loss = 1599798.500\n",
      "Iteration  84200 [ 84%]: Loss = 1402590.875\n",
      "Iteration  84300 [ 84%]: Loss = 1371972.125\n",
      "Iteration  84400 [ 84%]: Loss = 1297392.500\n",
      "Iteration  84500 [ 84%]: Loss = 1349349.500\n",
      "Iteration  84600 [ 84%]: Loss = 1335249.000\n",
      "Iteration  84700 [ 84%]: Loss = 1474270.000\n",
      "Iteration  84800 [ 84%]: Loss = 1410219.125\n",
      "Iteration  84900 [ 84%]: Loss = 1353641.375\n",
      "Iteration  85000 [ 85%]: Loss = 1353068.625\n",
      "Iteration  85100 [ 85%]: Loss = 1758210.500\n",
      "Iteration  85200 [ 85%]: Loss = 1517966.500\n",
      "Iteration  85300 [ 85%]: Loss = 1368260.375\n",
      "Iteration  85400 [ 85%]: Loss = 1676602.250\n",
      "Iteration  85500 [ 85%]: Loss = 1309047.250\n",
      "Iteration  85600 [ 85%]: Loss = 1285546.000\n",
      "Iteration  85700 [ 85%]: Loss = 1258034.375\n",
      "Iteration  85800 [ 85%]: Loss = 1603337.250\n",
      "Iteration  85900 [ 85%]: Loss = 1572481.000\n",
      "Iteration  86000 [ 86%]: Loss = 1240913.375\n",
      "Iteration  86100 [ 86%]: Loss = 1306715.375\n",
      "Iteration  86200 [ 86%]: Loss = 2008326.125\n",
      "Iteration  86300 [ 86%]: Loss = 1244885.000\n",
      "Iteration  86400 [ 86%]: Loss = 1246445.500\n",
      "Iteration  86500 [ 86%]: Loss = 1190641.250\n",
      "Iteration  86600 [ 86%]: Loss = 1263492.875\n",
      "Iteration  86700 [ 86%]: Loss = 1436772.500\n",
      "Iteration  86800 [ 86%]: Loss = 1180025.500\n",
      "Iteration  86900 [ 86%]: Loss = 1226716.875\n",
      "Iteration  87000 [ 87%]: Loss = 1181790.125\n",
      "Iteration  87100 [ 87%]: Loss = 1258185.500\n",
      "Iteration  87200 [ 87%]: Loss = 1173263.750\n",
      "Iteration  87300 [ 87%]: Loss = 1161706.375\n",
      "Iteration  87400 [ 87%]: Loss = 1982104.750\n",
      "Iteration  87500 [ 87%]: Loss = 1230098.250\n",
      "Iteration  87600 [ 87%]: Loss = 1309162.250\n",
      "Iteration  87700 [ 87%]: Loss = 1119130.250\n",
      "Iteration  87800 [ 87%]: Loss = 1278000.250\n",
      "Iteration  87900 [ 87%]: Loss = 1114351.000\n",
      "Iteration  88000 [ 88%]: Loss = 1129320.875\n",
      "Iteration  88100 [ 88%]: Loss = 1160501.375\n",
      "Iteration  88200 [ 88%]: Loss = 1111563.625\n",
      "Iteration  88300 [ 88%]: Loss = 1170954.875\n",
      "Iteration  88400 [ 88%]: Loss = 1096411.000\n",
      "Iteration  88500 [ 88%]: Loss = 1069120.375\n",
      "Iteration  88600 [ 88%]: Loss = 1102608.625\n",
      "Iteration  88700 [ 88%]: Loss = 1160210.625\n",
      "Iteration  88800 [ 88%]: Loss = 1122356.500\n",
      "Iteration  88900 [ 88%]: Loss = 1427681.875\n",
      "Iteration  89000 [ 89%]: Loss = 1061828.875\n",
      "Iteration  89100 [ 89%]: Loss = 1034193.250\n",
      "Iteration  89200 [ 89%]: Loss = 1042632.875\n",
      "Iteration  89300 [ 89%]: Loss = 1230346.500\n",
      "Iteration  89400 [ 89%]: Loss = 998035.875\n",
      "Iteration  89500 [ 89%]: Loss = 1124346.375\n",
      "Iteration  89600 [ 89%]: Loss = 1069249.750\n",
      "Iteration  89700 [ 89%]: Loss = 1057734.500\n",
      "Iteration  89800 [ 89%]: Loss = 1027046.938\n",
      "Iteration  89900 [ 89%]: Loss = 1005387.625\n",
      "Iteration  90000 [ 90%]: Loss = 996672.312\n",
      "Iteration  90100 [ 90%]: Loss = 1016497.438\n",
      "Iteration  90200 [ 90%]: Loss = 1118479.750\n",
      "Iteration  90300 [ 90%]: Loss = 964760.500\n",
      "Iteration  90400 [ 90%]: Loss = 983188.812\n",
      "Iteration  90500 [ 90%]: Loss = 1017111.812\n",
      "Iteration  90600 [ 90%]: Loss = 967956.750\n",
      "Iteration  90700 [ 90%]: Loss = 948328.062\n",
      "Iteration  90800 [ 90%]: Loss = 959616.688\n",
      "Iteration  90900 [ 90%]: Loss = 953425.812\n",
      "Iteration  91000 [ 91%]: Loss = 985823.938\n",
      "Iteration  91100 [ 91%]: Loss = 961722.000\n",
      "Iteration  91200 [ 91%]: Loss = 941759.812\n",
      "Iteration  91300 [ 91%]: Loss = 963759.812\n",
      "Iteration  91400 [ 91%]: Loss = 953749.688\n",
      "Iteration  91500 [ 91%]: Loss = 1033552.688\n",
      "Iteration  91600 [ 91%]: Loss = 945838.562\n",
      "Iteration  91700 [ 91%]: Loss = 936773.375\n",
      "Iteration  91800 [ 91%]: Loss = 931236.750\n",
      "Iteration  91900 [ 91%]: Loss = 932220.062\n",
      "Iteration  92000 [ 92%]: Loss = 899373.875\n",
      "Iteration  92100 [ 92%]: Loss = 898437.375\n",
      "Iteration  92200 [ 92%]: Loss = 917478.500\n",
      "Iteration  92300 [ 92%]: Loss = 880771.562\n",
      "Iteration  92400 [ 92%]: Loss = 875598.188\n",
      "Iteration  92500 [ 92%]: Loss = 847018.625\n",
      "Iteration  92600 [ 92%]: Loss = 867920.250\n",
      "Iteration  92700 [ 92%]: Loss = 919887.500\n",
      "Iteration  92800 [ 92%]: Loss = 875283.688\n",
      "Iteration  92900 [ 92%]: Loss = 871673.000\n",
      "Iteration  93000 [ 93%]: Loss = 882503.688\n",
      "Iteration  93100 [ 93%]: Loss = 848209.188\n",
      "Iteration  93200 [ 93%]: Loss = 838399.312\n",
      "Iteration  93300 [ 93%]: Loss = 945112.875\n",
      "Iteration  93400 [ 93%]: Loss = 820880.438\n",
      "Iteration  93500 [ 93%]: Loss = 866954.750\n",
      "Iteration  93600 [ 93%]: Loss = 839335.688\n",
      "Iteration  93700 [ 93%]: Loss = 850731.812\n",
      "Iteration  93800 [ 93%]: Loss = 806210.500\n",
      "Iteration  93900 [ 93%]: Loss = 811206.812\n",
      "Iteration  94000 [ 94%]: Loss = 834686.438\n",
      "Iteration  94100 [ 94%]: Loss = 819417.000\n",
      "Iteration  94200 [ 94%]: Loss = 814700.500\n",
      "Iteration  94300 [ 94%]: Loss = 793244.562\n",
      "Iteration  94400 [ 94%]: Loss = 781444.312\n",
      "Iteration  94500 [ 94%]: Loss = 1037015.125\n",
      "Iteration  94600 [ 94%]: Loss = 778849.875\n",
      "Iteration  94700 [ 94%]: Loss = 804222.750\n",
      "Iteration  94800 [ 94%]: Loss = 799471.312\n",
      "Iteration  94900 [ 94%]: Loss = 844158.562\n",
      "Iteration  95000 [ 95%]: Loss = 784747.375\n",
      "Iteration  95100 [ 95%]: Loss = 768116.938\n",
      "Iteration  95200 [ 95%]: Loss = 832513.500\n",
      "Iteration  95300 [ 95%]: Loss = 749611.250\n",
      "Iteration  95400 [ 95%]: Loss = 755676.688\n",
      "Iteration  95500 [ 95%]: Loss = 744881.938\n",
      "Iteration  95600 [ 95%]: Loss = 749398.438\n",
      "Iteration  95700 [ 95%]: Loss = 764952.500\n",
      "Iteration  95800 [ 95%]: Loss = 742591.062\n",
      "Iteration  95900 [ 95%]: Loss = 737639.125\n",
      "Iteration  96000 [ 96%]: Loss = 733883.062\n",
      "Iteration  96100 [ 96%]: Loss = 719123.625\n",
      "Iteration  96200 [ 96%]: Loss = 769413.938\n",
      "Iteration  96300 [ 96%]: Loss = 725449.125\n",
      "Iteration  96400 [ 96%]: Loss = 744730.250\n",
      "Iteration  96500 [ 96%]: Loss = 754248.938\n",
      "Iteration  96600 [ 96%]: Loss = 773420.812\n",
      "Iteration  96700 [ 96%]: Loss = 723409.562\n",
      "Iteration  96800 [ 96%]: Loss = 695279.875\n",
      "Iteration  96900 [ 96%]: Loss = 709303.625\n",
      "Iteration  97000 [ 97%]: Loss = 735536.062\n",
      "Iteration  97100 [ 97%]: Loss = 724895.000\n",
      "Iteration  97200 [ 97%]: Loss = 716525.750\n",
      "Iteration  97300 [ 97%]: Loss = 706562.562\n",
      "Iteration  97400 [ 97%]: Loss = 717206.125\n",
      "Iteration  97500 [ 97%]: Loss = 684487.250\n",
      "Iteration  97600 [ 97%]: Loss = 685788.750\n",
      "Iteration  97700 [ 97%]: Loss = 681504.375\n",
      "Iteration  97800 [ 97%]: Loss = 685040.000\n",
      "Iteration  97900 [ 97%]: Loss = 673985.125\n",
      "Iteration  98000 [ 98%]: Loss = 706872.375\n",
      "Iteration  98100 [ 98%]: Loss = 683915.875\n",
      "Iteration  98200 [ 98%]: Loss = 658470.562\n",
      "Iteration  98300 [ 98%]: Loss = 654684.000\n",
      "Iteration  98400 [ 98%]: Loss = 652726.688\n",
      "Iteration  98500 [ 98%]: Loss = 651752.438\n",
      "Iteration  98600 [ 98%]: Loss = 650445.625\n",
      "Iteration  98700 [ 98%]: Loss = 663176.875\n",
      "Iteration  98800 [ 98%]: Loss = 651656.188\n",
      "Iteration  98900 [ 98%]: Loss = 655044.375\n",
      "Iteration  99000 [ 99%]: Loss = 650612.875\n",
      "Iteration  99100 [ 99%]: Loss = 639614.250\n",
      "Iteration  99200 [ 99%]: Loss = 628848.438\n",
      "Iteration  99300 [ 99%]: Loss = 640281.250\n",
      "Iteration  99400 [ 99%]: Loss = 622310.000\n",
      "Iteration  99500 [ 99%]: Loss = 632808.500\n",
      "Iteration  99600 [ 99%]: Loss = 626587.750\n",
      "Iteration  99700 [ 99%]: Loss = 620300.062\n",
      "Iteration  99800 [ 99%]: Loss = 630733.688\n",
      "Iteration  99900 [ 99%]: Loss = 617587.688\n",
      "Iteration 100000 [100%]: Loss = 605454.312\n"
     ]
    }
   ],
   "source": [
    "inference.run(n_iter=100000, n_print=100, n_samples=1,\n",
    "              logdir='data/run12',\n",
    "              optimizer=tf.train.AdamOptimizer(1e-3))\n",
    "#               scale={lam: N/NB, cnt: N/NB})"
   ]
  },
  {
   "cell_type": "code",
   "execution_count": 23,
   "metadata": {
    "collapsed": false
   },
   "outputs": [
    {
     "data": {
      "image/png": "[encoded data removed]",
      "text/plain": [
       "<matplotlib.figure.Figure at 0x12945b550>"
      ]
     },
     "metadata": {},
     "output_type": "display_data"
    }
   ],
   "source": [
    "plt.hist(q_A.mean().eval().ravel()); plt.hist(dA.ravel());"
   ]
  },
  {
   "cell_type": "code",
   "execution_count": 24,
   "metadata": {
    "collapsed": false,
    "scrolled": true
   },
   "outputs": [
    {
     "data": {
      "image/png": "[encoded data removed]",
      "text/plain": [
       "<matplotlib.figure.Figure at 0x12a27a240>"
      ]
     },
     "metadata": {},
     "output_type": "display_data"
    }
   ],
   "source": [
    "plt.hist(q_B.mean().eval().ravel(), 200), plt.hist(dB.ravel(), 200);"
   ]
  },
  {
   "cell_type": "code",
   "execution_count": 25,
   "metadata": {
    "collapsed": false
   },
   "outputs": [
    {
     "data": {
      "image/png": "[encoded data removed]",
      "text/plain": [
       "<matplotlib.figure.Figure at 0x12b49efd0>"
      ]
     },
     "metadata": {},
     "output_type": "display_data"
    }
   ],
   "source": [
    "plt.hist(lam_mu.eval(), 200), plt.hist(dlam, 200);"
   ]
  },
  {
   "cell_type": "code",
   "execution_count": 26,
   "metadata": {
    "collapsed": false
   },
   "outputs": [
    {
     "data": {
      "text/plain": [
       "array([ 3.20435953,  3.21192765,  2.69087458, ...,  3.37591386,\n",
       "        3.34816861,  3.19215989], dtype=float32)"
      ]
     },
     "execution_count": 26,
     "metadata": {},
     "output_type": "execute_result"
    }
   ],
   "source": [
    "lam_mu.eval()"
   ]
  },
  {
   "cell_type": "code",
   "execution_count": 27,
   "metadata": {
    "collapsed": false
   },
   "outputs": [
    {
     "data": {
      "text/plain": [
       "array([ 3.20435953,  3.21192765,  2.69087458, ...,  3.37591386,\n",
       "        3.34816861,  3.19215989], dtype=float32)"
      ]
     },
     "execution_count": 27,
     "metadata": {},
     "output_type": "execute_result"
    }
   ],
   "source": [
    "q_lam.mean().eval()"
   ]
  },
  {
   "cell_type": "code",
   "execution_count": 28,
   "metadata": {
    "collapsed": false
   },
   "outputs": [
    {
     "data": {
      "text/plain": [
       "array([-0.7152164], dtype=float32)"
      ]
     },
     "execution_count": 28,
     "metadata": {},
     "output_type": "execute_result"
    }
   ],
   "source": [
    "q_sig.mean().eval()"
   ]
  },
  {
   "cell_type": "code",
   "execution_count": null,
   "metadata": {
    "collapsed": true
   },
   "outputs": [],
   "source": []
  }
 ],
 "metadata": {
  "anaconda-cloud": {},
  "kernelspec": {
   "display_name": "Python [Root]",
   "language": "python",
   "name": "Python [Root]"
  },
  "language_info": {
   "codemirror_mode": {
    "name": "ipython",
    "version": 3
   },
   "file_extension": ".py",
   "mimetype": "text/x-python",
   "name": "python",
   "nbconvert_exporter": "python",
   "pygments_lexer": "ipython3",
   "version": "3.5.2"
  }
 },
 "nbformat": 4,
 "nbformat_minor": 0
}
