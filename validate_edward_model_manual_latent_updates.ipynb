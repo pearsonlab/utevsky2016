{
 "cells": [
  {
   "cell_type": "markdown",
   "metadata": {},
   "source": [
    "# Run model on fake data\n",
    "\n",
    "Here, we generate a synthetic data set for purposes of validating the model constructed in Edward."
   ]
  },
  {
   "cell_type": "code",
   "execution_count": 1,
   "metadata": {
    "collapsed": false
   },
   "outputs": [],
   "source": [
    "import numpy as np\n",
    "import pandas as pd\n",
    "import tensorflow as tf\n",
    "import edward as ed\n",
    "import matplotlib.pyplot as plt\n",
    "%matplotlib inline"
   ]
  },
  {
   "cell_type": "code",
   "execution_count": 2,
   "metadata": {
    "collapsed": true
   },
   "outputs": [],
   "source": [
    "# we'll want this function below\n",
    "def softplus(x):\n",
    "    return np.logaddexp(0, x)"
   ]
  },
  {
   "cell_type": "code",
   "execution_count": 3,
   "metadata": {
    "collapsed": false
   },
   "outputs": [],
   "source": [
    "ed.set_seed(12225)"
   ]
  },
  {
   "cell_type": "markdown",
   "metadata": {},
   "source": [
    "The model is defined by the spike count $N_{us}$ observed when stimulus $s$ is presented to unit $u$:\n",
    "\n",
    "$$\n",
    "\\begin{align}\n",
    "N &\\sim \\mathrm{Poisson}(e^\\lambda)  \\\\\n",
    "\\lambda_{us} &\\sim \\mathcal{N}(A_{u} + (B \\cdot X)_{us} + (C \\cdot Z)_{us}, \\sigma^2) \\\\\n",
    "\\log \\sigma &\\sim \\mathcal{N}(-7, 1^2) \\\\\n",
    "Z_{ks} &\\sim \\mathrm{Bernoulli}(\\pi_k) \\\\\n",
    "\\pi_k &\\equiv \\prod_{i=1}^k \\delta_k \\\\\n",
    "\\delta_j &\\sim \\mathrm{Beta}(3, 1)\n",
    "\\end{align}\n",
    "$$\n",
    "With $X$ an $P \\times N_s$ matrix of known regressors, $Z$ a $K \\times N_s$ matrix of latent binary features\n",
    "governed by an Indian Buffet Process, $A$ and $N_u$ vector of baselines, and $(\\cdot)_+$ the softplus function: \n",
    "$(x)_+ = \\log(1 + e^x)$."
   ]
  },
  {
   "cell_type": "markdown",
   "metadata": {},
   "source": [
    "# Define constants"
   ]
  },
  {
   "cell_type": "code",
   "execution_count": 4,
   "metadata": {
    "collapsed": true
   },
   "outputs": [],
   "source": [
    "# basic constants\n",
    "Nrep = 40  # number of observations per unit per stim\n",
    "NB = 1000  # number of trials in minibatch\n",
    "NU = 50  # number of units\n",
    "NS = 50  # number of stims\n",
    "P = 3  # number of specified regressors\n",
    "K = 4  # number of latents"
   ]
  },
  {
   "cell_type": "markdown",
   "metadata": {},
   "source": [
    "# Make neural response coefficients"
   ]
  },
  {
   "cell_type": "code",
   "execution_count": 5,
   "metadata": {
    "collapsed": false
   },
   "outputs": [],
   "source": [
    "dA = np.log(softplus(25 + 5 * np.random.randn(NU)))  # baseline\n",
    "dB = np.log(np.array([0.75, 1.2, 1.5]) + 0.1 * np.random.randn(NU, P))  # regressor effects\n",
    "dC = np.log(np.array([0.25, 0.55, 1.4, 2.2])[np.newaxis, :] + 0.1 * np.random.randn(NU, K))  # latent effects"
   ]
  },
  {
   "cell_type": "markdown",
   "metadata": {},
   "source": [
    "# Regressors and latent states"
   ]
  },
  {
   "cell_type": "code",
   "execution_count": 6,
   "metadata": {
    "collapsed": false
   },
   "outputs": [
    {
     "name": "stdout",
     "output_type": "stream",
     "text": [
      "[ 0.70137886  0.57732232  0.24895886  0.49916835] [ 0.70137886  0.40492167  0.10080884  0.05032058]\n"
     ]
    },
    {
     "data": {
      "image/png": "[encoded data removed]",
      "text/plain": [
       "<matplotlib.figure.Figure at 0x122507fd0>"
      ]
     },
     "metadata": {},
     "output_type": "display_data"
    }
   ],
   "source": [
    "dX = 0.1 * np.random.randn(P, NS)\n",
    "\n",
    "import scipy.stats as stats\n",
    "\n",
    "ddelta = stats.beta.rvs(1.2, 1, size=(K,))\n",
    "dpi = np.cumprod(ddelta)\n",
    "print(ddelta, dpi)\n",
    "dZ = stats.bernoulli.rvs(dpi[:, np.newaxis], size=(K, NS))\n",
    "\n",
    "# plot states\n",
    "plt.matshow(dZ, aspect='auto', cmap='gray');"
   ]
  },
  {
   "cell_type": "markdown",
   "metadata": {},
   "source": [
    "# Generate trial set"
   ]
  },
  {
   "cell_type": "code",
   "execution_count": 7,
   "metadata": {
    "collapsed": true
   },
   "outputs": [],
   "source": [
    "dU, dS = np.meshgrid(range(NU), range(NS))\n",
    "dU = dU.ravel()\n",
    "dS = dS.ravel()"
   ]
  },
  {
   "cell_type": "code",
   "execution_count": 8,
   "metadata": {
    "collapsed": false
   },
   "outputs": [],
   "source": [
    "dlam_mean = np.tile(dA[dU] + np.sum(dB[dU] * dX[:, dS].T, axis=1) + np.sum(dC[dU] * dZ[:, dS].T, axis=1), Nrep)\n",
    "\n",
    "dlam = stats.norm.rvs(loc=dlam_mean, scale=0.01)"
   ]
  },
  {
   "cell_type": "code",
   "execution_count": 9,
   "metadata": {
    "collapsed": false
   },
   "outputs": [
    {
     "data": {
      "text/plain": [
       "(100000,)"
      ]
     },
     "execution_count": 9,
     "metadata": {},
     "output_type": "execute_result"
    }
   ],
   "source": [
    "dcount = stats.poisson.rvs(np.exp(dlam))\n",
    "dcount.shape"
   ]
  },
  {
   "cell_type": "code",
   "execution_count": 10,
   "metadata": {
    "collapsed": false
   },
   "outputs": [
    {
     "data": {
      "image/png": "[encoded data removed]",
      "text/plain": [
       "<matplotlib.figure.Figure at 0x10649dbe0>"
      ]
     },
     "metadata": {},
     "output_type": "display_data"
    }
   ],
   "source": [
    "plt.hist(dlam, bins=200);"
   ]
  },
  {
   "cell_type": "code",
   "execution_count": 11,
   "metadata": {
    "collapsed": false
   },
   "outputs": [
    {
     "data": {
      "image/png": "[encoded data removed]",
      "text/plain": [
       "<matplotlib.figure.Figure at 0x10649dc50>"
      ]
     },
     "metadata": {},
     "output_type": "display_data"
    }
   ],
   "source": [
    "plt.hist(np.exp(dlam), bins=200);"
   ]
  },
  {
   "cell_type": "code",
   "execution_count": 12,
   "metadata": {
    "collapsed": false
   },
   "outputs": [
    {
     "data": {
      "image/png": "[encoded data removed]",
      "text/plain": [
       "<matplotlib.figure.Figure at 0x1286fceb8>"
      ]
     },
     "metadata": {},
     "output_type": "display_data"
    }
   ],
   "source": [
    "plt.hist(dcount, bins=200);"
   ]
  },
  {
   "cell_type": "markdown",
   "metadata": {},
   "source": [
    "# Set up data"
   ]
  },
  {
   "cell_type": "code",
   "execution_count": 13,
   "metadata": {
    "collapsed": false
   },
   "outputs": [],
   "source": [
    "count = dcount.copy()\n",
    "Xdat = np.tile(dX[:, dS], (1, Nrep)).T\n",
    "unit = np.tile(dU, Nrep)\n",
    "stim = np.tile(dS, Nrep)"
   ]
  },
  {
   "cell_type": "markdown",
   "metadata": {},
   "source": [
    "Later, we'll need to know the number of observations of each (stim, unit) pair. This is constant for this toy example, but need not be."
   ]
  },
  {
   "cell_type": "code",
   "execution_count": 14,
   "metadata": {
    "collapsed": true
   },
   "outputs": [],
   "source": [
    "pairs = pd.DataFrame({'stim': stim, 'unit': unit, 'count': 1})"
   ]
  },
  {
   "cell_type": "code",
   "execution_count": 15,
   "metadata": {
    "collapsed": false
   },
   "outputs": [
    {
     "data": {
      "text/html": [
       "<div>\n",
       "<table border=\"1\" class=\"dataframe\">\n",
       "  <thead>\n",
       "    <tr style=\"text-align: right;\">\n",
       "      <th></th>\n",
       "      <th>stim</th>\n",
       "      <th>unit</th>\n",
       "      <th>count</th>\n",
       "    </tr>\n",
       "  </thead>\n",
       "  <tbody>\n",
       "    <tr>\n",
       "      <th>0</th>\n",
       "      <td>0</td>\n",
       "      <td>0</td>\n",
       "      <td>40</td>\n",
       "    </tr>\n",
       "    <tr>\n",
       "      <th>1</th>\n",
       "      <td>0</td>\n",
       "      <td>1</td>\n",
       "      <td>40</td>\n",
       "    </tr>\n",
       "    <tr>\n",
       "      <th>2</th>\n",
       "      <td>0</td>\n",
       "      <td>2</td>\n",
       "      <td>40</td>\n",
       "    </tr>\n",
       "    <tr>\n",
       "      <th>3</th>\n",
       "      <td>0</td>\n",
       "      <td>3</td>\n",
       "      <td>40</td>\n",
       "    </tr>\n",
       "    <tr>\n",
       "      <th>4</th>\n",
       "      <td>0</td>\n",
       "      <td>4</td>\n",
       "      <td>40</td>\n",
       "    </tr>\n",
       "  </tbody>\n",
       "</table>\n",
       "</div>"
      ],
      "text/plain": [
       "   stim  unit  count\n",
       "0     0     0     40\n",
       "1     0     1     40\n",
       "2     0     2     40\n",
       "3     0     3     40\n",
       "4     0     4     40"
      ]
     },
     "execution_count": 15,
     "metadata": {},
     "output_type": "execute_result"
    }
   ],
   "source": [
    "# count the number of occurrences of each pair\n",
    "pair_counts_df_long = pairs.groupby(['stim', 'unit']).sum().reset_index()\n",
    "pair_counts_df_long.head()"
   ]
  },
  {
   "cell_type": "code",
   "execution_count": 16,
   "metadata": {
    "collapsed": false
   },
   "outputs": [],
   "source": [
    "pair_counts = pair_counts_df_long.pivot(values='count', index='stim', columns='unit').values"
   ]
  },
  {
   "cell_type": "markdown",
   "metadata": {},
   "source": [
    "We'd also like to know a unique code for each *possible* (stim, unit) pair. (Some might be missing, but in this case, we still want to code that, since we'll be using these codes to sum over all observations, and the resulting matrix may have some 0 entries, but it must be dense.\n",
    "\n",
    "We will assume that units and stims are consecutively numbered."
   ]
  },
  {
   "cell_type": "code",
   "execution_count": 17,
   "metadata": {
    "collapsed": true
   },
   "outputs": [],
   "source": [
    "su_codes = NU * stim + unit"
   ]
  },
  {
   "cell_type": "markdown",
   "metadata": {},
   "source": [
    "# Run GLM to get inits\n",
    "\n",
    "Here, we run a GLM on the observed data with $A$ and $B$ included (but not $C \\cdot Z$) to get a rough starting point. This takes time, but is a net win in terms of saving SGD iterations."
   ]
  },
  {
   "cell_type": "code",
   "execution_count": 18,
   "metadata": {
    "collapsed": false
   },
   "outputs": [],
   "source": [
    "import statsmodels.api as sm\n",
    "import statsmodels.formula.api as smf\n",
    "Xdf = pd.DataFrame(Xdat)\n",
    "Xdf.columns = ['X' + str(c) for c in Xdf.columns]\n",
    "dta = pd.concat([pd.DataFrame({'count': count, 'unit': unit, 'stim': stim}), Xdf], axis=1)\n",
    "formula = 'count ~ -1 + C(unit) + C(unit) * (' + '+'.join(Xdf.columns) + ')'\n",
    "mod = smf.glm(formula=formula, data=dta, family=sm.families.Poisson()).fit()"
   ]
  },
  {
   "cell_type": "markdown",
   "metadata": {},
   "source": [
    "Now extract the model's fitted parameters into inits for $A$ and $B$"
   ]
  },
  {
   "cell_type": "code",
   "execution_count": 19,
   "metadata": {
    "collapsed": false
   },
   "outputs": [],
   "source": [
    "A_init = mod.params.values[:NU].astype('float32')\n",
    "B_init = mod.params.values[NU:].reshape(P, NU).T.astype('float32')"
   ]
  },
  {
   "cell_type": "markdown",
   "metadata": {},
   "source": [
    "# Define the model"
   ]
  },
  {
   "cell_type": "markdown",
   "metadata": {},
   "source": [
    "## Constants"
   ]
  },
  {
   "cell_type": "code",
   "execution_count": 20,
   "metadata": {
    "collapsed": false
   },
   "outputs": [],
   "source": [
    "# define some needed constants\n",
    "N = Xdat.shape[0]  # number of trials"
   ]
  },
  {
   "cell_type": "code",
   "execution_count": 21,
   "metadata": {
    "collapsed": false
   },
   "outputs": [
    {
     "data": {
      "text/plain": [
       "100000"
      ]
     },
     "execution_count": 21,
     "metadata": {},
     "output_type": "execute_result"
    }
   ],
   "source": [
    "N"
   ]
  },
  {
   "cell_type": "markdown",
   "metadata": {},
   "source": [
    "## Inputs and data"
   ]
  },
  {
   "cell_type": "code",
   "execution_count": 22,
   "metadata": {
    "collapsed": true
   },
   "outputs": [],
   "source": [
    "X = tf.constant(Xdat.astype('float32'))\n",
    "U = tf.constant(unit)\n",
    "S = tf.constant(stim)\n",
    "counts = tf.constant(count)\n",
    "allinds = tf.constant(np.arange(N))\n",
    "NSU = tf.constant(pair_counts.astype('float32'))\n",
    "codes_SU = tf.constant(su_codes)"
   ]
  },
  {
   "cell_type": "code",
   "execution_count": 23,
   "metadata": {
    "collapsed": false
   },
   "outputs": [
    {
     "data": {
      "text/plain": [
       "TensorShape([Dimension(100000), Dimension(3)])"
      ]
     },
     "execution_count": 23,
     "metadata": {},
     "output_type": "execute_result"
    }
   ],
   "source": [
    "X.get_shape()"
   ]
  },
  {
   "cell_type": "markdown",
   "metadata": {},
   "source": [
    "Make a node that produces `NB` indices from the range $[0, N - 1]$. These are the subset of data points we want to use."
   ]
  },
  {
   "cell_type": "raw",
   "metadata": {
    "collapsed": true
   },
   "source": [
    "batch_inds = tf.train.range_input_producer(N).dequeue_many(NB, name='batch_inds')\n",
    "batch_counts = tf.train.batch(tf.train.slice_input_producer([counts]), NB, name='batch_counts')"
   ]
  },
  {
   "cell_type": "raw",
   "metadata": {
    "collapsed": true
   },
   "source": [
    "batch_inds = tf.constant(np.arange(NB))\n",
    "batch_counts = tf.train.batch(tf.train.slice_input_producer([counts]), NB)"
   ]
  },
  {
   "cell_type": "raw",
   "metadata": {
    "collapsed": false
   },
   "source": [
    "batch_inds, batch_counts = tf.train.batch(tf.train.slice_input_producer([allinds, counts]), NB, \n",
    "                                          name='batches')"
   ]
  },
  {
   "cell_type": "code",
   "execution_count": 24,
   "metadata": {
    "collapsed": true
   },
   "outputs": [],
   "source": [
    "NB = N\n",
    "batch_inds = np.arange(N)\n",
    "batch_counts = counts"
   ]
  },
  {
   "cell_type": "markdown",
   "metadata": {},
   "source": [
    "## Generative (p) model"
   ]
  },
  {
   "cell_type": "code",
   "execution_count": 25,
   "metadata": {
    "collapsed": false
   },
   "outputs": [],
   "source": [
    "with tf.variable_scope(\"pmodel\"):\n",
    "    A = ed.models.Normal(mu=tf.zeros(NU), sigma=5 * tf.ones(NU), name='A')\n",
    "    B = ed.models.Normal(mu=tf.zeros((NU, P)), sigma=3 * tf.ones((NU, P)), name='B')\n",
    "    C = ed.models.Normal(mu=tf.zeros((NU, K)), sigma=3 * tf.ones((NU, K)), name='C')  \n",
    "\n",
    "    a_prior = tf.ones(K)\n",
    "    b_prior = tf.ones(K)\n",
    "    pi = ed.models.Beta(a=a_prior, b=b_prior, name='pi')\n",
    "\n",
    "    Z = ed.models.Bernoulli(p=tf.tile(tf.expand_dims(pi, 0), [NS, 1]), name='Z')\n",
    "\n",
    "    sig = ed.models.Normal(mu=[-7.0], sigma=[1.], name='sig')\n",
    "\n",
    "    lam_vars = (tf.gather(A, U) + tf.reduce_sum(tf.gather(B, U) * X, 1) + \n",
    "           tf.reduce_sum(tf.gather(C, U) * tf.gather(tf.to_float(Z), S), 1))\n",
    "    lam = ed.models.Normal(mu=tf.gather(lam_vars, batch_inds), \n",
    "                           sigma=tf.exp(sig), name='lam')\n",
    "\n",
    "    cnt = ed.models.Poisson(lam=tf.exp(lam), value=tf.ones(NB), name='cnt')"
   ]
  },
  {
   "cell_type": "markdown",
   "metadata": {},
   "source": [
    "# Recognition (q) model"
   ]
  },
  {
   "cell_type": "code",
   "execution_count": 26,
   "metadata": {
    "collapsed": false
   },
   "outputs": [],
   "source": [
    "with tf.variable_scope(\"qmodel\"):\n",
    "    q_A = ed.models.NormalWithSoftplusSigma(mu=tf.Variable(A_init), \n",
    "                                            sigma=tf.Variable(0.5 + tf.random_uniform((NU,))),\n",
    "                                            name='A')\n",
    "    tf.scalar_summary('q_A', tf.reduce_mean(q_A.mean()))\n",
    "\n",
    "    q_B = ed.models.NormalWithSoftplusSigma(mu=tf.Variable(B_init), \n",
    "                                            sigma=tf.Variable(0.5 + tf.random_uniform((NU, P))),\n",
    "                                            name='B')\n",
    "    tf.scalar_summary('q_B', tf.reduce_mean(q_B.mean()))\n",
    "\n",
    "    q_C = ed.models.NormalWithSoftplusSigma(mu=tf.Variable(tf.random_normal((NU, K))), \n",
    "                                            sigma=tf.Variable(0.5 + tf.random_uniform((NU, K))),\n",
    "                                            name='C')\n",
    "    tf.scalar_summary('q_C', tf.reduce_mean(q_C.mean()))\n",
    "    \n",
    "    Zlogit = tf.Variable(-0.0 + tf.zeros((NS, K)), name='Z_logit_clip')\n",
    "    tf.scalar_summary('max_Z_logit', tf.reduce_max(Zlogit))\n",
    "    tf.scalar_summary('min_Z_logit', tf.reduce_min(Zlogit))\n",
    "    q_Z = ed.models.BernoulliWithSigmoidP(p=Zlogit, name='Z')\n",
    "    tf.scalar_summary('q_Z', tf.reduce_mean(q_Z.mean()))\n",
    "    tf.scalar_summary('max_q_Z', tf.reduce_max(q_Z.mean()))\n",
    "    tf.scalar_summary('min_q_Z', tf.reduce_min(q_Z.mean()))\n",
    "\n",
    "    a_var = tf.Variable(1. + tf.random_uniform((K,)))\n",
    "    b_var = tf.Variable(1. + tf.random_uniform((K,)))\n",
    "    tf.scalar_summary('max_a', tf.reduce_max(a_var))\n",
    "    tf.scalar_summary('max_b', tf.reduce_max(b_var))\n",
    "    tf.scalar_summary('min_a', tf.reduce_min(a_var))\n",
    "    tf.scalar_summary('min_b', tf.reduce_min(b_var))\n",
    "    q_pi = ed.models.Beta(a=a_var, b=b_var, name='pi')\n",
    "    tf.scalar_summary('min_q_pi', tf.reduce_min(q_pi.value()))\n",
    "    tf.scalar_summary('max_q_pi', tf.reduce_max(q_pi.value()))\n",
    "\n",
    "    lam_mu = tf.Variable(2 + tf.random_normal((N,)))\n",
    "    tf.scalar_summary('lam_mu_mean', tf.reduce_mean(tf.gather(lam_mu, batch_inds)))\n",
    "    lam_sig = tf.Variable(3 * tf.random_uniform((N,)) + 2)\n",
    "    q_lam = ed.models.NormalWithSoftplusSigma(mu=tf.gather(lam_mu, batch_inds),\n",
    "                                              sigma=tf.gather(lam_sig, batch_inds),\n",
    "                                              name='lam')\n",
    "\n",
    "    q_sig = ed.models.NormalWithSoftplusSigma(mu=tf.Variable(-0.1 * tf.random_uniform((1,))),\n",
    "                                              sigma=tf.Variable(tf.random_uniform((1,))),\n",
    "                                              name='sig')"
   ]
  },
  {
   "cell_type": "markdown",
   "metadata": {},
   "source": [
    "# ELBO"
   ]
  },
  {
   "cell_type": "code",
   "execution_count": 27,
   "metadata": {
    "collapsed": false
   },
   "outputs": [],
   "source": [
    "def make_ELBO(latent_vars, data, scale):\n",
    "    from edward.util import copy\n",
    "    p_log_prob = 0.0\n",
    "    q_log_prob = 0.0\n",
    "    z_sample = {}\n",
    "    scope = \"ELBO\"\n",
    "\n",
    "    for z, qz in latent_vars.items():\n",
    "        # Copy q(z) to obtain new set of posterior samples.\n",
    "        qz_copy = copy(qz, scope=scope)\n",
    "        z_sample[z] = qz_copy.value()\n",
    "        z_log_prob = tf.reduce_sum(qz.log_prob(tf.stop_gradient(z_sample[z])))\n",
    "        if z in scale:\n",
    "            z_log_prob *= scale[z]\n",
    "\n",
    "        q_log_prob += z_log_prob\n",
    "\n",
    "    dict_swap = z_sample\n",
    "    for x, qx in data.items():\n",
    "        if isinstance(x, ed.RandomVariable):\n",
    "            if isinstance(qx, ed.RandomVariable):\n",
    "                qx_copy = copy(qx, scope=scope)\n",
    "                dict_swap[x] = qx_copy.value()\n",
    "            else:\n",
    "                dict_swap[x] = qx\n",
    "\n",
    "            for z in latent_vars.keys():\n",
    "                z_copy = copy(z, dict_swap, scope=scope)\n",
    "                z_log_prob = tf.reduce_sum(z_copy.log_prob(dict_swap[z]))\n",
    "                if z in scale:\n",
    "                    z_log_prob *= scale[z]\n",
    "\n",
    "                p_log_prob += z_log_prob\n",
    "\n",
    "            for x in data.keys():\n",
    "                if isinstance(x, ed.RandomVariable):\n",
    "                    x_copy = copy(x, dict_swap, scope=scope)\n",
    "                    x_log_prob = tf.reduce_sum(x_copy.log_prob(dict_swap[x]))\n",
    "                if x in scale:\n",
    "                    x_log_prob *= scale[x]\n",
    "\n",
    "                p_log_prob += x_log_prob\n",
    "\n",
    "    return tf.reduce_mean(p_log_prob - q_log_prob)"
   ]
  },
  {
   "cell_type": "code",
   "execution_count": 28,
   "metadata": {
    "collapsed": false
   },
   "outputs": [
    {
     "data": {
      "text/plain": [
       "<tf.Tensor 'ScalarSummary:0' shape=() dtype=string>"
      ]
     },
     "execution_count": 28,
     "metadata": {},
     "output_type": "execute_result"
    }
   ],
   "source": [
    "elbo = make_ELBO({A: q_A, B: q_B, C: q_C, Z: q_Z, sig: q_sig, pi: q_pi, lam: q_lam}, \n",
    "                 {cnt: tf.cast(batch_counts, 'float32')}, \n",
    "                 {lam: N/NB, cnt: N/NB})\n",
    "\n",
    "tf.scalar_summary('ELBO', elbo)"
   ]
  },
  {
   "cell_type": "markdown",
   "metadata": {},
   "source": [
    "# Do variational inference"
   ]
  },
  {
   "cell_type": "markdown",
   "metadata": {},
   "source": [
    "Given $z_{sk} \\sim \\mathrm{Ber}(\\pi_k)$ and $\\log \\Lambda \\equiv \\lambda_{su} \\sim \\mathcal{N}(A_u + (B \\cdot X)_{su} + (C \\cdot Z)_{su}, \\sigma^2)$, we can calculate closed-form updates for $Z$. However, above, we have flattened $\\lambda$ into a single vector for each trial, with vectors $S$ and $U$ listing the stimulus and unit corresponding to each observation.\n",
    "\n",
    "Collecting the pieces proportional to $z_{sk}$ in the ELBO (prior to expectations wrt $q$), we have:\n",
    "\n",
    "$$\n",
    "\\sum_{sk} z_{sk}\\left[\n",
    "\\log \\frac{\\pi_k}{1 - \\pi_k} -\\frac{1}{2\\sigma^2}\\sum_{u,j=1\\ldots N_{su}} \\left(\n",
    "C^2_{ku} - 2C_{ku}(\\lambda^{(j)}_{su} - A_u - (B\\cdot X)_{su} )\n",
    "\\right)\n",
    "\\right]\n",
    "$$\n",
    "where the derivation expands the square in the log of the normal distribution and makes use of the fact that $z_{sk} \\in \\{ 0, 1\\} \\Rightarrow z_{sk}^2 = z_{sk}$. In addition, we have let $N_{su}$ be the number of observations of stimulus $s$ by unit $u$, indexed by $j$."
   ]
  },
  {
   "cell_type": "code",
   "execution_count": 29,
   "metadata": {
    "collapsed": false
   },
   "outputs": [],
   "source": [
    "def update_z():\n",
    "    # update binary feature matrix based on exact conjugate update\n",
    "    with tf.variable_scope(\"update_z\"):\n",
    "        # logit piece\n",
    "        pi_val = q_pi.value()\n",
    "        logit_pi = tf.log(pi_val) - tf.log(1. - pi_val)\n",
    "        \n",
    "        # C^2 piece\n",
    "        C = q_C.value()  # NU x K\n",
    "        quad_piece = tf.matmul(NSU, tf.square(C), name='quadratic_piece')\n",
    "        \n",
    "        # sample log firing rate values\n",
    "        lam_val = q_lam.value()  \n",
    "        \n",
    "        # now get \\lam_{su} summed over observations\n",
    "        lam_su_flat = tf.unsorted_segment_sum(lam_val, codes_SU, NS * NU, name='lam_collect')\n",
    "        lam_su = tf.reshape(lam_su_flat, (NS, NU), name='lam_su')\n",
    "        \n",
    "        # get A and BX (summed over observations)\n",
    "        # recall that X is in \"long\" format, and so must \n",
    "        # be handled with unsorted_segment_sum, like lambda\n",
    "        A = tf.expand_dims(q_A.value(), 0) * NSU\n",
    "        BX_long = tf.reduce_sum(tf.gather(B, U) * X, 1)\n",
    "        BX_summed = tf.unsorted_segment_sum(BX_long, codes_SU, NS * NU)\n",
    "        BX = tf.reshape(BX_summed, (NS, NU), name='BX')\n",
    "        \n",
    "        # lam_su * C_{uk}\n",
    "        lin_piece = tf.matmul(lam_su - A - BX, C, name='linear_piece')\n",
    "        \n",
    "        prec = 1/tf.square(q_sig.value())\n",
    "        \n",
    "        z_coeff = logit_pi - prec * (0.5 * quad_piece - lin_piece)\n",
    "        \n",
    "        update_z_op = Zlogit.assign(z_coeff)\n",
    "        \n",
    "        return update_z_op"
   ]
  },
  {
   "cell_type": "code",
   "execution_count": 30,
   "metadata": {
    "collapsed": true
   },
   "outputs": [],
   "source": [
    "def update_pi():\n",
    "    # update probabilites for features based on exact conjugate update\n",
    "    with tf.variable_scope(\"update_pi\"):\n",
    "        xi = q_Z.mean()\n",
    "        new_a = tf.reduce_sum(xi, 0) + a_prior\n",
    "        new_b = tf.reduce_sum(1. - xi, 0) + b_prior\n",
    "        update_a_op = a_var.assign(new_a)\n",
    "        update_b_op = b_var.assign(new_b)\n",
    "        \n",
    "    return [update_a_op, update_b_op]"
   ]
  },
  {
   "cell_type": "code",
   "execution_count": 31,
   "metadata": {
    "collapsed": false
   },
   "outputs": [],
   "source": [
    "data = {cnt: batch_counts}\n",
    "inference_lam = ed.KLqp({lam: q_lam, sig: q_sig}, data={cnt: batch_counts, Z: q_Z, \n",
    "                                            pi: q_pi, A: q_A, B: q_B, \n",
    "                                            C: q_C, pi: q_pi})\n",
    "inference_coeffs = ed.KLqp({A: q_A, B: q_B, C: q_C}, \n",
    "                    data={cnt: batch_counts, Z: q_Z, pi: q_pi, lam: q_lam, sig: q_sig})\n",
    "inference_latents = update_z()\n",
    "inference_probs = update_pi()"
   ]
  },
  {
   "cell_type": "markdown",
   "metadata": {},
   "source": [
    "# Notes on inference:\n",
    "\n",
    "- The `logdir` keyword specifies the place to put the log file (assuming you've instrumented the code to save events, etc.). If a subdirectory is given, pointing Tensorboard at the parent directory allows you to compare across subdirectories (runs).\n",
    "    - I'm using the `jmp/instrumented` branch of the `jmxpearson/edward` fork\n",
    "- The learning rate is a difficult tradeoff: 1e-2 drastically speeds convergence but can run into NaNs; 1e-3 (the default) is much slower.\n",
    "    - **TO DO**: Does regularizing emergence of `NaN`s help with this?\n",
    "- I'm currently using \"all\" the data, which appears to be faster (run-time, wise) than using minibatches. (Not entirely sure why this is, except perhaps that switching data into and out of the graph has a cost.) I've also found that minibatches need to be fairly substantial to be effective, since most variables ($\\lambda$, $A$, $B$, $C$) are unit-specific (i.e., local), so unless you have several observations from that unit, convergence can be slow.\n",
    "    - Ultimately, it might speed things to have a smarter minibatch selection (i.e., all observations for a single unit) when updating the local variables.\n",
    "- I've used `n_samples` = 1, 5, 10, and 25, which all seem pretty similar after 10k iterations. \n",
    "- I've noticed no difference below in how many steps one takes along each coordinate before switching (number of inner loop iterations), either in runtime or convergence. Perhaps this matters in the final stages, but I would suspect that then it favors tighter inner loops."
   ]
  },
  {
   "cell_type": "code",
   "execution_count": 32,
   "metadata": {
    "collapsed": false
   },
   "outputs": [],
   "source": [
    "# Initialize each (Edward) inference step\n",
    "debug = False\n",
    "inf_list = [inference_lam, inference_coeffs]\n",
    "for inf in inf_list:\n",
    "    if inf is inference_lam:\n",
    "        logdir = 'data/run8'\n",
    "    else:\n",
    "        logdir = None\n",
    "        \n",
    "    inf.initialize(n_print=100, n_samples=1,  \n",
    "                  logdir=logdir,\n",
    "                  optimizer=tf.train.AdamOptimizer(1e-1),\n",
    "                  scale={lam: N/NB, cnt: N/NB},\n",
    "                  debug=debug)"
   ]
  },
  {
   "cell_type": "code",
   "execution_count": 33,
   "metadata": {
    "collapsed": true
   },
   "outputs": [],
   "source": [
    "init = tf.initialize_all_variables()\n",
    "init.run({})"
   ]
  },
  {
   "cell_type": "code",
   "execution_count": 51,
   "metadata": {
    "collapsed": false,
    "scrolled": true
   },
   "outputs": [
    {
     "name": "stdout",
     "output_type": "stream",
     "text": [
      "Iteration 40100 [4010%]: Loss = 318462.562\n",
      "Iteration 40200 [4020%]: Loss = 319225.656\n",
      "Iteration 40300 [4029%]: Loss = 319030.406\n",
      "Iteration 40400 [4040%]: Loss = 320151.781\n",
      "Iteration 40500 [4050%]: Loss = 319413.094\n",
      "Iteration 40600 [4060%]: Loss = 318976.812\n",
      "Iteration 40700 [4070%]: Loss = 319416.688\n",
      "Iteration 40800 [4079%]: Loss = 319098.219\n",
      "Iteration 40900 [4090%]: Loss = 319318.156\n",
      "Iteration 41000 [4100%]: Loss = 319802.844\n",
      "Iteration 41100 [4110%]: Loss = 319321.625\n",
      "Iteration 41200 [4120%]: Loss = 320588.312\n",
      "Iteration 41300 [4130%]: Loss = 318859.344\n",
      "Iteration 41400 [4140%]: Loss = 320117.375\n",
      "Iteration 41500 [4150%]: Loss = 318253.625\n",
      "Iteration 41600 [4160%]: Loss = 322417.062\n",
      "Iteration 41700 [4170%]: Loss = 319344.438\n",
      "Iteration 41800 [4180%]: Loss = 319291.844\n",
      "Iteration 41900 [4190%]: Loss = 319018.094\n",
      "Iteration 42000 [4200%]: Loss = 318918.406\n",
      "Iteration 42100 [4210%]: Loss = 318752.688\n",
      "Iteration 42200 [4220%]: Loss = 324092.031\n",
      "Iteration 42300 [4230%]: Loss = 319499.094\n",
      "Iteration 42400 [4240%]: Loss = 319036.312\n",
      "Iteration 42500 [4250%]: Loss = 319064.938\n",
      "Iteration 42600 [4260%]: Loss = 319227.594\n",
      "Iteration 42700 [4270%]: Loss = 319100.188\n",
      "Iteration 42800 [4280%]: Loss = 318363.344\n",
      "Iteration 42900 [4290%]: Loss = 319740.000\n",
      "Iteration 43000 [4300%]: Loss = 319332.031\n",
      "Iteration 43100 [4310%]: Loss = 319830.469\n",
      "Iteration 43200 [4320%]: Loss = 319264.094\n",
      "Iteration 43300 [4330%]: Loss = 319073.719\n",
      "Iteration 43400 [4340%]: Loss = 319711.344\n",
      "Iteration 43500 [4350%]: Loss = 319027.094\n",
      "Iteration 43600 [4360%]: Loss = 319342.938\n",
      "Iteration 43700 [4370%]: Loss = 319296.469\n",
      "Iteration 43800 [4380%]: Loss = 319228.531\n",
      "Iteration 43900 [4390%]: Loss = 319207.344\n",
      "Iteration 44000 [4400%]: Loss = 319524.344\n",
      "Iteration 44100 [4410%]: Loss = 319124.062\n",
      "Iteration 44200 [4420%]: Loss = 318830.469\n",
      "Iteration 44300 [4430%]: Loss = 319232.875\n",
      "Iteration 44400 [4440%]: Loss = 319169.000\n",
      "Iteration 44500 [4450%]: Loss = 319207.719\n",
      "Iteration 44600 [4460%]: Loss = 319488.344\n",
      "Iteration 44700 [4470%]: Loss = 319544.844\n",
      "Iteration 44800 [4480%]: Loss = 319066.406\n",
      "Iteration 44900 [4490%]: Loss = 319582.625\n",
      "Iteration 45000 [4500%]: Loss = 319229.719\n",
      "Iteration 45100 [4510%]: Loss = 318946.812\n",
      "Iteration 45200 [4520%]: Loss = 319424.094\n",
      "Iteration 45300 [4530%]: Loss = 319133.438\n",
      "Iteration 45400 [4540%]: Loss = 318977.625\n",
      "Iteration 45500 [4550%]: Loss = 319462.000\n",
      "Iteration 45600 [4560%]: Loss = 319614.344\n",
      "Iteration 45700 [4570%]: Loss = 318920.281\n",
      "Iteration 45800 [4580%]: Loss = 319110.469\n",
      "Iteration 45900 [4590%]: Loss = 318881.125\n",
      "Iteration 46000 [4600%]: Loss = 319122.875\n",
      "Iteration 46100 [4610%]: Loss = 319251.031\n",
      "Iteration 46200 [4620%]: Loss = 319100.375\n",
      "Iteration 46300 [4630%]: Loss = 319262.094\n",
      "Iteration 46400 [4640%]: Loss = 318975.000\n",
      "Iteration 46500 [4650%]: Loss = 319067.781\n",
      "Iteration 46600 [4660%]: Loss = 319369.938\n",
      "Iteration 46700 [4670%]: Loss = 319014.469\n",
      "Iteration 46800 [4680%]: Loss = 318438.969\n",
      "Iteration 46900 [4690%]: Loss = 319513.125\n",
      "Iteration 47000 [4700%]: Loss = 319213.344\n",
      "Iteration 47100 [4710%]: Loss = 320945.156\n",
      "Iteration 47200 [4720%]: Loss = 319398.906\n",
      "Iteration 47300 [4730%]: Loss = 319743.562\n",
      "Iteration 47400 [4740%]: Loss = 319327.219\n",
      "Iteration 47500 [4750%]: Loss = 318798.344\n",
      "Iteration 47600 [4760%]: Loss = 319484.156\n",
      "Iteration 47700 [4770%]: Loss = 318991.656\n",
      "Iteration 47800 [4780%]: Loss = 318966.844\n",
      "Iteration 47900 [4790%]: Loss = 319024.281\n",
      "Iteration 48000 [4800%]: Loss = 319322.812\n",
      "Iteration 48100 [4810%]: Loss = 319510.594\n",
      "Iteration 48200 [4820%]: Loss = 319129.312\n",
      "Iteration 48300 [4830%]: Loss = 318618.375\n",
      "Iteration 48400 [4840%]: Loss = 318881.844\n",
      "Iteration 48500 [4850%]: Loss = 319362.562\n",
      "Iteration 48600 [4860%]: Loss = 318754.531\n",
      "Iteration 48700 [4870%]: Loss = 319476.594\n",
      "Iteration 48800 [4880%]: Loss = 319350.531\n",
      "Iteration 48900 [4890%]: Loss = 319574.625\n",
      "Iteration 49000 [4900%]: Loss = 318986.531\n",
      "Iteration 49100 [4910%]: Loss = 319251.938\n",
      "Iteration 49200 [4920%]: Loss = 319456.938\n",
      "Iteration 49300 [4930%]: Loss = 319522.438\n",
      "Iteration 49400 [4940%]: Loss = 318983.406\n",
      "Iteration 49500 [4950%]: Loss = 319517.156\n",
      "Iteration 49600 [4960%]: Loss = 319600.656\n",
      "Iteration 49700 [4970%]: Loss = 321789.406\n",
      "Iteration 49800 [4980%]: Loss = 319256.406\n",
      "Iteration 49900 [4990%]: Loss = 318849.219\n",
      "Iteration 50000 [5000%]: Loss = 318946.188\n",
      "Iteration 50100 [5010%]: Loss = 319162.156\n",
      "Iteration 50200 [5020%]: Loss = 319160.125\n",
      "Iteration 50300 [5030%]: Loss = 319166.375\n",
      "Iteration 50400 [5040%]: Loss = 320247.062\n",
      "Iteration 50500 [5050%]: Loss = 319329.969\n",
      "Iteration 50600 [5060%]: Loss = 319001.219\n",
      "Iteration 50700 [5070%]: Loss = 319317.938\n",
      "Iteration 50800 [5080%]: Loss = 319232.375\n",
      "Iteration 50900 [5090%]: Loss = 319411.438\n",
      "Iteration 51000 [5100%]: Loss = 319315.156\n",
      "Iteration 51100 [5110%]: Loss = 319700.750\n",
      "Iteration 51200 [5120%]: Loss = 319047.688\n",
      "Iteration 51300 [5130%]: Loss = 319225.406\n",
      "Iteration 51400 [5140%]: Loss = 319210.562\n",
      "Iteration 51500 [5150%]: Loss = 318871.562\n",
      "Iteration 51600 [5160%]: Loss = 319068.469\n",
      "Iteration 51700 [5170%]: Loss = 318842.281\n",
      "Iteration 51800 [5180%]: Loss = 319391.500\n",
      "Iteration 51900 [5190%]: Loss = 318944.906\n",
      "Iteration 52000 [5200%]: Loss = 318768.375\n",
      "Iteration 52100 [5210%]: Loss = 319661.844\n",
      "Iteration 52200 [5220%]: Loss = 319646.938\n",
      "Iteration 52300 [5230%]: Loss = 319481.406\n",
      "Iteration 52400 [5240%]: Loss = 319638.125\n",
      "Iteration 52500 [5250%]: Loss = 319577.875\n",
      "Iteration 52600 [5260%]: Loss = 319953.688\n",
      "Iteration 52700 [5270%]: Loss = 318776.125\n",
      "Iteration 52800 [5280%]: Loss = 319005.469\n",
      "Iteration 52900 [5290%]: Loss = 319427.094\n",
      "Iteration 53000 [5300%]: Loss = 319304.906\n",
      "Iteration 53100 [5310%]: Loss = 319374.719\n",
      "Iteration 53200 [5320%]: Loss = 318914.594\n",
      "Iteration 53300 [5330%]: Loss = 318943.562\n",
      "Iteration 53400 [5340%]: Loss = 318556.969\n",
      "Iteration 53500 [5350%]: Loss = 319901.312\n",
      "Iteration 53600 [5360%]: Loss = 319398.062\n",
      "Iteration 53700 [5370%]: Loss = 318993.906\n",
      "Iteration 53800 [5380%]: Loss = 320454.625\n",
      "Iteration 53900 [5390%]: Loss = 319743.438\n",
      "Iteration 54000 [5400%]: Loss = 319664.062\n",
      "Iteration 54100 [5410%]: Loss = 319929.969\n",
      "Iteration 54200 [5420%]: Loss = 319285.688\n",
      "Iteration 54300 [5430%]: Loss = 319256.281\n",
      "Iteration 54400 [5440%]: Loss = 318608.625\n",
      "Iteration 54500 [5450%]: Loss = 323156.500\n",
      "Iteration 54600 [5460%]: Loss = 319211.250\n",
      "Iteration 54700 [5470%]: Loss = 319501.000\n",
      "Iteration 54800 [5480%]: Loss = 319827.188\n",
      "Iteration 54900 [5490%]: Loss = 319373.125\n",
      "Iteration 55000 [5500%]: Loss = 318952.844\n",
      "Iteration 55100 [5510%]: Loss = 319068.750\n",
      "Iteration 55200 [5520%]: Loss = 318451.688\n",
      "Iteration 55300 [5530%]: Loss = 319030.844\n",
      "Iteration 55400 [5540%]: Loss = 318869.219\n",
      "Iteration 55500 [5550%]: Loss = 319491.281\n",
      "Iteration 55600 [5560%]: Loss = 319349.062\n",
      "Iteration 55700 [5570%]: Loss = 319392.312\n",
      "Iteration 55800 [5580%]: Loss = 319322.938\n",
      "Iteration 55900 [5590%]: Loss = 319800.406\n",
      "Iteration 56000 [5600%]: Loss = 319571.969\n",
      "Iteration 56100 [5610%]: Loss = 318517.000\n",
      "Iteration 56200 [5620%]: Loss = 319369.594\n",
      "Iteration 56300 [5630%]: Loss = 319100.469\n",
      "Iteration 56400 [5640%]: Loss = 319088.281\n",
      "Iteration 56500 [5650%]: Loss = 319447.656\n",
      "Iteration 56600 [5660%]: Loss = 318945.938\n",
      "Iteration 56700 [5670%]: Loss = 319400.469\n",
      "Iteration 56800 [5680%]: Loss = 318739.750\n",
      "Iteration 56900 [5690%]: Loss = 320083.562\n",
      "Iteration 57000 [5700%]: Loss = 319377.406\n",
      "Iteration 57100 [5710%]: Loss = 319239.312\n",
      "Iteration 57200 [5720%]: Loss = 319163.469\n",
      "Iteration 57300 [5730%]: Loss = 321051.875\n",
      "Iteration 57400 [5740%]: Loss = 319158.656\n",
      "Iteration 57500 [5750%]: Loss = 319154.531\n",
      "Iteration 57600 [5760%]: Loss = 319059.312\n",
      "Iteration 57700 [5770%]: Loss = 320704.312\n",
      "Iteration 57800 [5780%]: Loss = 320818.406\n",
      "Iteration 57900 [5790%]: Loss = 319300.938\n",
      "Iteration 58000 [5800%]: Loss = 319259.156\n",
      "Iteration 58100 [5810%]: Loss = 318946.469\n",
      "Iteration 58200 [5820%]: Loss = 319253.719\n",
      "Iteration 58300 [5830%]: Loss = 319152.125\n",
      "Iteration 58400 [5840%]: Loss = 319302.250\n",
      "Iteration 58500 [5850%]: Loss = 319209.188\n",
      "Iteration 58600 [5860%]: Loss = 319183.312\n",
      "Iteration 58700 [5870%]: Loss = 319242.062\n",
      "Iteration 58800 [5880%]: Loss = 318903.219\n",
      "Iteration 58900 [5890%]: Loss = 320180.781\n",
      "Iteration 59000 [5900%]: Loss = 319616.969\n",
      "Iteration 59100 [5910%]: Loss = 319777.250\n",
      "Iteration 59200 [5920%]: Loss = 318937.438\n",
      "Iteration 59300 [5930%]: Loss = 319643.438\n",
      "Iteration 59400 [5940%]: Loss = 319264.125\n",
      "Iteration 59500 [5950%]: Loss = 319172.188\n",
      "Iteration 59600 [5960%]: Loss = 319656.656\n",
      "Iteration 59700 [5970%]: Loss = 319956.250\n",
      "Iteration 59800 [5980%]: Loss = 319638.250\n",
      "Iteration 59900 [5990%]: Loss = 318915.719\n",
      "Iteration 60000 [6000%]: Loss = 319354.312\n"
     ]
    }
   ],
   "source": [
    "n_iter = 20000\n",
    "sess = tf.get_default_session()\n",
    "for _ in range(n_iter):\n",
    "    for inf in inf_list:\n",
    "        for _ in range(1):  # make multiple steps along each set of coords\n",
    "            info_dict = inf.update()\n",
    "        if inf is inference_lam:\n",
    "            inf.print_progress(info_dict)\n",
    "    sess.run(inference_latents)\n",
    "    sess.run(inference_probs)"
   ]
  },
  {
   "cell_type": "code",
   "execution_count": 52,
   "metadata": {
    "collapsed": false
   },
   "outputs": [
    {
     "data": {
      "text/plain": [
       "<matplotlib.image.AxesImage at 0x13acc7fd0>"
      ]
     },
     "execution_count": 52,
     "metadata": {},
     "output_type": "execute_result"
    },
    {
     "data": {
      "image/png": "[encoded data removed]",
      "text/plain": [
       "<matplotlib.figure.Figure at 0x137444c50>"
      ]
     },
     "metadata": {},
     "output_type": "display_data"
    },
    {
     "data": {
      "image/png": "[encoded data removed]",
      "text/plain": [
       "<matplotlib.figure.Figure at 0x137706da0>"
      ]
     },
     "metadata": {},
     "output_type": "display_data"
    }
   ],
   "source": [
    "Zmat = q_Z.mean().eval()\n",
    "\n",
    "plt.matshow(dZ, aspect='auto', cmap='gray')\n",
    "plt.matshow(Zmat.T, aspect='auto', cmap='gray')"
   ]
  },
  {
   "cell_type": "code",
   "execution_count": 48,
   "metadata": {
    "collapsed": false
   },
   "outputs": [
    {
     "data": {
      "image/png": "[encoded data removed]",
      "text/plain": [
       "<matplotlib.figure.Figure at 0x13acb5550>"
      ]
     },
     "metadata": {},
     "output_type": "display_data"
    }
   ],
   "source": [
    "plt.hist(q_A.mean().eval().ravel(), label='inferred'); plt.hist(dA.ravel(), label='actual'), plt.legend();"
   ]
  },
  {
   "cell_type": "code",
   "execution_count": 49,
   "metadata": {
    "collapsed": false,
    "scrolled": true
   },
   "outputs": [
    {
     "data": {
      "image/png": "[encoded data removed]",
      "text/plain": [
       "<matplotlib.figure.Figure at 0x13e500c50>"
      ]
     },
     "metadata": {},
     "output_type": "display_data"
    }
   ],
   "source": [
    "plt.hist(q_B.mean().eval().ravel(), 200, label='inferred'), plt.hist(dB.ravel(), 200, label='actual'), plt.legend();"
   ]
  },
  {
   "cell_type": "code",
   "execution_count": 50,
   "metadata": {
    "collapsed": false
   },
   "outputs": [
    {
     "data": {
      "image/png": "[encoded data removed]",
      "text/plain": [
       "<matplotlib.figure.Figure at 0x13ab58be0>"
      ]
     },
     "metadata": {},
     "output_type": "display_data"
    }
   ],
   "source": [
    "plt.hist(q_C.mean().eval().ravel(), 200, label='inferred'), plt.hist(dC.ravel(), 200, label='actual'), plt.legend();"
   ]
  },
  {
   "cell_type": "code",
   "execution_count": 39,
   "metadata": {
    "collapsed": false
   },
   "outputs": [
    {
     "data": {
      "image/png": "[encoded data removed]",
      "text/plain": [
       "<matplotlib.figure.Figure at 0x13769e550>"
      ]
     },
     "metadata": {},
     "output_type": "display_data"
    }
   ],
   "source": [
    "plt.hist(lam_mu.eval(), 200, label='inferred'), plt.hist(dlam, 200, label='actual'), plt.legend();"
   ]
  },
  {
   "cell_type": "code",
   "execution_count": 40,
   "metadata": {
    "collapsed": false
   },
   "outputs": [
    {
     "data": {
      "text/plain": [
       "array([ 3.06644702,  2.50292206,  1.01820707, ...,  2.93126225,\n",
       "        2.61688852,  2.33167076], dtype=float32)"
      ]
     },
     "execution_count": 40,
     "metadata": {},
     "output_type": "execute_result"
    }
   ],
   "source": [
    "lam_mu.value().eval()"
   ]
  },
  {
   "cell_type": "code",
   "execution_count": 41,
   "metadata": {
    "collapsed": false
   },
   "outputs": [
    {
     "data": {
      "text/plain": [
       "array([ 3.06644702,  2.50292206,  1.01820707, ...,  2.93126225,\n",
       "        2.61688852,  2.33167076], dtype=float32)"
      ]
     },
     "execution_count": 41,
     "metadata": {},
     "output_type": "execute_result"
    }
   ],
   "source": [
    "q_lam.mean().eval()"
   ]
  },
  {
   "cell_type": "code",
   "execution_count": 42,
   "metadata": {
    "collapsed": false
   },
   "outputs": [
    {
     "data": {
      "text/plain": [
       "array([-0.37429607], dtype=float32)"
      ]
     },
     "execution_count": 42,
     "metadata": {},
     "output_type": "execute_result"
    }
   ],
   "source": [
    "q_sig.mean().eval()"
   ]
  },
  {
   "cell_type": "code",
   "execution_count": 43,
   "metadata": {
    "collapsed": false
   },
   "outputs": [
    {
     "data": {
      "text/plain": [
       "array([ 0.79651511,  0.82597822,  0.14950015,  0.70842242], dtype=float32)"
      ]
     },
     "execution_count": 43,
     "metadata": {},
     "output_type": "execute_result"
    }
   ],
   "source": [
    "q_pi._value.eval()"
   ]
  },
  {
   "cell_type": "code",
   "execution_count": 44,
   "metadata": {
    "collapsed": false
   },
   "outputs": [
    {
     "data": {
      "text/plain": [
       "array([ 0.05786661,  0.05413228,  0.04955986,  0.06223078], dtype=float32)"
      ]
     },
     "execution_count": 44,
     "metadata": {},
     "output_type": "execute_result"
    }
   ],
   "source": [
    "q_pi.std().eval()"
   ]
  },
  {
   "cell_type": "code",
   "execution_count": 45,
   "metadata": {
    "collapsed": false
   },
   "outputs": [
    {
     "data": {
      "text/plain": [
       "array([ 0.76930869,  0.80772388,  0.15384616,  0.71153843], dtype=float32)"
      ]
     },
     "execution_count": 45,
     "metadata": {},
     "output_type": "execute_result"
    }
   ],
   "source": [
    "q_pi.mean().eval()"
   ]
  },
  {
   "cell_type": "code",
   "execution_count": null,
   "metadata": {
    "collapsed": true
   },
   "outputs": [],
   "source": []
  }
 ],
 "metadata": {
  "anaconda-cloud": {},
  "kernelspec": {
   "display_name": "Python [Root]",
   "language": "python",
   "name": "Python [Root]"
  },
  "language_info": {
   "codemirror_mode": {
    "name": "ipython",
    "version": 3
   },
   "file_extension": ".py",
   "mimetype": "text/x-python",
   "name": "python",
   "nbconvert_exporter": "python",
   "pygments_lexer": "ipython3",
   "version": "3.5.2"
  }
 },
 "nbformat": 4,
 "nbformat_minor": 0
}
