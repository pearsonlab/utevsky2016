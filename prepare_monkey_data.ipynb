{
 "cells": [
  {
   "cell_type": "markdown",
   "metadata": {},
   "source": [
    "# Platt TPJ Dataset"
   ]
  },
  {
   "cell_type": "markdown",
   "metadata": {},
   "source": [
    "## 1. Read in matlab files\n",
    "\n",
    "Note: Data format after Matlab 2006a is stored as HDF5 now, thus scipy.io doesn't support the format of HDF5 anymore. We have to use h5py to decode the data."
   ]
  },
  {
   "cell_type": "code",
   "execution_count": 1,
   "metadata": {
    "collapsed": false
   },
   "outputs": [],
   "source": [
    "import numpy as np\n",
    "import pandas as pd\n",
    "\n",
    "import matplotlib.pyplot as plt\n",
    "import seaborn as sns\n",
    "sns.set_style('whitegrid', {'axes.grid' : False})\n",
    "%matplotlib inline"
   ]
  },
  {
   "cell_type": "code",
   "execution_count": 2,
   "metadata": {
    "collapsed": false
   },
   "outputs": [],
   "source": [
    "import h5py\n",
    "\n",
    "# for Matlab datafile v7.3\n",
    "datmat = h5py.File('data/spikes1.mat', 'r')['AllData']"
   ]
  },
  {
   "cell_type": "code",
   "execution_count": 3,
   "metadata": {
    "collapsed": false,
    "scrolled": true
   },
   "outputs": [
    {
     "data": {
      "text/plain": [
       "['DayNum',\n",
       " 'ImageNames',\n",
       " 'ImageOn_ts',\n",
       " 'Spikes_cell_num',\n",
       " 'Spikes_ts',\n",
       " 'cell_num',\n",
       " 'is_first_image',\n",
       " 'is_rewarded_image']"
      ]
     },
     "execution_count": 3,
     "metadata": {},
     "output_type": "execute_result"
    }
   ],
   "source": [
    "list(datmat.keys())"
   ]
  },
  {
   "cell_type": "markdown",
   "metadata": {},
   "source": [
    "### Read data (can take a while)"
   ]
  },
  {
   "cell_type": "code",
   "execution_count": 4,
   "metadata": {
    "collapsed": false
   },
   "outputs": [],
   "source": [
    "imnames = []\n",
    "for obj in datmat['ImageNames'][0]:\n",
    "    imnames.append(''.join(chr(i) for i in datmat[obj].value))"
   ]
  },
  {
   "cell_type": "code",
   "execution_count": 5,
   "metadata": {
    "collapsed": false
   },
   "outputs": [],
   "source": [
    "daynum = []\n",
    "for obj in datmat['DayNum'][0]:\n",
    "    daynum.append(''.join(chr(i) for i in datmat[obj].value))"
   ]
  },
  {
   "cell_type": "code",
   "execution_count": 6,
   "metadata": {
    "collapsed": true
   },
   "outputs": [],
   "source": [
    "mapping = ({'ImageOn_ts': 'float', \n",
    "            'Spikes_cell_num': 'int', \n",
    "            'Spikes_ts': 'float',\n",
    "            'cell_num': 'int',\n",
    "            'is_first_image': 'int',\n",
    "            'is_rewarded_image': 'int'\n",
    "           })"
   ]
  },
  {
   "cell_type": "code",
   "execution_count": 7,
   "metadata": {
    "collapsed": false
   },
   "outputs": [],
   "source": [
    "vars = {}\n",
    "for k, v in mapping.items():\n",
    "    vars[k] = np.array(datmat[k])[0].astype(v)"
   ]
  },
  {
   "cell_type": "markdown",
   "metadata": {},
   "source": [
    "### Make data frames"
   ]
  },
  {
   "cell_type": "code",
   "execution_count": 8,
   "metadata": {
    "collapsed": true
   },
   "outputs": [],
   "source": [
    "stims, codes = np.unique(imnames, return_inverse=True)"
   ]
  },
  {
   "cell_type": "code",
   "execution_count": 9,
   "metadata": {
    "collapsed": false
   },
   "outputs": [
    {
     "name": "stdout",
     "output_type": "stream",
     "text": [
      "(1112, 2)\n"
     ]
    },
    {
     "data": {
      "text/html": [
       "<div>\n",
       "<table border=\"1\" class=\"dataframe\">\n",
       "  <thead>\n",
       "    <tr style=\"text-align: right;\">\n",
       "      <th></th>\n",
       "      <th>code</th>\n",
       "      <th>image</th>\n",
       "    </tr>\n",
       "  </thead>\n",
       "  <tbody>\n",
       "    <tr>\n",
       "      <th>0</th>\n",
       "      <td>0</td>\n",
       "      <td>lum_IMG_4142_trimmed.jpg</td>\n",
       "    </tr>\n",
       "    <tr>\n",
       "      <th>1</th>\n",
       "      <td>1</td>\n",
       "      <td>lum_IMG_4145_trimmed.jpg</td>\n",
       "    </tr>\n",
       "    <tr>\n",
       "      <th>2</th>\n",
       "      <td>2</td>\n",
       "      <td>lum_IMG_4146_trimmed.jpg</td>\n",
       "    </tr>\n",
       "    <tr>\n",
       "      <th>3</th>\n",
       "      <td>3</td>\n",
       "      <td>lum_IMG_4147_trimmed.jpg</td>\n",
       "    </tr>\n",
       "    <tr>\n",
       "      <th>4</th>\n",
       "      <td>4</td>\n",
       "      <td>lum_IMG_4148_trimmed.jpg</td>\n",
       "    </tr>\n",
       "  </tbody>\n",
       "</table>\n",
       "</div>"
      ],
      "text/plain": [
       "   code                     image\n",
       "0     0  lum_IMG_4142_trimmed.jpg\n",
       "1     1  lum_IMG_4145_trimmed.jpg\n",
       "2     2  lum_IMG_4146_trimmed.jpg\n",
       "3     3  lum_IMG_4147_trimmed.jpg\n",
       "4     4  lum_IMG_4148_trimmed.jpg"
      ]
     },
     "execution_count": 9,
     "metadata": {},
     "output_type": "execute_result"
    }
   ],
   "source": [
    "images = pd.DataFrame({'image': stims})\n",
    "images.index.name = 'code'\n",
    "images = images.reset_index()\n",
    "print(images.shape)\n",
    "images.head()"
   ]
  },
  {
   "cell_type": "code",
   "execution_count": 10,
   "metadata": {
    "collapsed": false
   },
   "outputs": [],
   "source": [
    "trials = pd.DataFrame({'date': daynum, \n",
    "                       'stim': codes,\n",
    "                       'stim_on': vars['ImageOn_ts'],\n",
    "                       'unit': vars['cell_num'],\n",
    "                       'is_first': vars['is_first_image'],\n",
    "                       'is_rewarded': vars['is_rewarded_image']\n",
    "                      })\n",
    "# trials = trials.sort_values(by=['unit', 'stim_on']).reset_index(drop=True)"
   ]
  },
  {
   "cell_type": "code",
   "execution_count": 11,
   "metadata": {
    "collapsed": false
   },
   "outputs": [
    {
     "name": "stdout",
     "output_type": "stream",
     "text": [
      "(690564, 6)\n"
     ]
    },
    {
     "data": {
      "text/html": [
       "<div>\n",
       "<table border=\"1\" class=\"dataframe\">\n",
       "  <thead>\n",
       "    <tr style=\"text-align: right;\">\n",
       "      <th></th>\n",
       "      <th>date</th>\n",
       "      <th>is_first</th>\n",
       "      <th>is_rewarded</th>\n",
       "      <th>stim</th>\n",
       "      <th>stim_on</th>\n",
       "      <th>unit</th>\n",
       "    </tr>\n",
       "  </thead>\n",
       "  <tbody>\n",
       "    <tr>\n",
       "      <th>0</th>\n",
       "      <td>2015_12_03</td>\n",
       "      <td>1</td>\n",
       "      <td>0</td>\n",
       "      <td>1050</td>\n",
       "      <td>13.445775</td>\n",
       "      <td>1001</td>\n",
       "    </tr>\n",
       "    <tr>\n",
       "      <th>1</th>\n",
       "      <td>2015_12_03</td>\n",
       "      <td>0</td>\n",
       "      <td>0</td>\n",
       "      <td>76</td>\n",
       "      <td>14.327300</td>\n",
       "      <td>1001</td>\n",
       "    </tr>\n",
       "    <tr>\n",
       "      <th>2</th>\n",
       "      <td>2015_12_03</td>\n",
       "      <td>0</td>\n",
       "      <td>1</td>\n",
       "      <td>173</td>\n",
       "      <td>14.991750</td>\n",
       "      <td>1001</td>\n",
       "    </tr>\n",
       "    <tr>\n",
       "      <th>3</th>\n",
       "      <td>2015_12_03</td>\n",
       "      <td>1</td>\n",
       "      <td>0</td>\n",
       "      <td>364</td>\n",
       "      <td>18.108650</td>\n",
       "      <td>1001</td>\n",
       "    </tr>\n",
       "    <tr>\n",
       "      <th>4</th>\n",
       "      <td>2015_12_03</td>\n",
       "      <td>0</td>\n",
       "      <td>0</td>\n",
       "      <td>438</td>\n",
       "      <td>18.991750</td>\n",
       "      <td>1001</td>\n",
       "    </tr>\n",
       "  </tbody>\n",
       "</table>\n",
       "</div>"
      ],
      "text/plain": [
       "         date  is_first  is_rewarded  stim    stim_on  unit\n",
       "0  2015_12_03         1            0  1050  13.445775  1001\n",
       "1  2015_12_03         0            0    76  14.327300  1001\n",
       "2  2015_12_03         0            1   173  14.991750  1001\n",
       "3  2015_12_03         1            0   364  18.108650  1001\n",
       "4  2015_12_03         0            0   438  18.991750  1001"
      ]
     },
     "execution_count": 11,
     "metadata": {},
     "output_type": "execute_result"
    }
   ],
   "source": [
    "print(trials.shape)\n",
    "trials.head()"
   ]
  },
  {
   "cell_type": "code",
   "execution_count": 12,
   "metadata": {
    "collapsed": true
   },
   "outputs": [],
   "source": [
    "spikes = pd.DataFrame({'unit': vars['Spikes_cell_num'], 'time': vars['Spikes_ts']})\n",
    "# spikes = spikes.sort_values(by=['unit', 'time']).reset_index(drop=True)"
   ]
  },
  {
   "cell_type": "code",
   "execution_count": 13,
   "metadata": {
    "collapsed": false
   },
   "outputs": [
    {
     "name": "stdout",
     "output_type": "stream",
     "text": [
      "(3954792, 2)\n"
     ]
    },
    {
     "data": {
      "text/html": [
       "<div>\n",
       "<table border=\"1\" class=\"dataframe\">\n",
       "  <thead>\n",
       "    <tr style=\"text-align: right;\">\n",
       "      <th></th>\n",
       "      <th>time</th>\n",
       "      <th>unit</th>\n",
       "    </tr>\n",
       "  </thead>\n",
       "  <tbody>\n",
       "    <tr>\n",
       "      <th>0</th>\n",
       "      <td>0.374400</td>\n",
       "      <td>1001</td>\n",
       "    </tr>\n",
       "    <tr>\n",
       "      <th>1</th>\n",
       "      <td>0.588400</td>\n",
       "      <td>1001</td>\n",
       "    </tr>\n",
       "    <tr>\n",
       "      <th>2</th>\n",
       "      <td>0.599925</td>\n",
       "      <td>1001</td>\n",
       "    </tr>\n",
       "    <tr>\n",
       "      <th>3</th>\n",
       "      <td>1.039725</td>\n",
       "      <td>1001</td>\n",
       "    </tr>\n",
       "    <tr>\n",
       "      <th>4</th>\n",
       "      <td>1.045375</td>\n",
       "      <td>1001</td>\n",
       "    </tr>\n",
       "  </tbody>\n",
       "</table>\n",
       "</div>"
      ],
      "text/plain": [
       "       time  unit\n",
       "0  0.374400  1001\n",
       "1  0.588400  1001\n",
       "2  0.599925  1001\n",
       "3  1.039725  1001\n",
       "4  1.045375  1001"
      ]
     },
     "execution_count": 13,
     "metadata": {},
     "output_type": "execute_result"
    }
   ],
   "source": [
    "print(spikes.shape)\n",
    "spikes.head()"
   ]
  },
  {
   "cell_type": "markdown",
   "metadata": {},
   "source": [
    "**Note:** There's a nasty complexity here where, if the recording was stopped and restarted, the clock restarts as well, so that `stim_on` times *are not* guaranteed to increase monotonically.\n",
    "\n",
    "**Solution**: Add `run` variable to handle clock reset."
   ]
  },
  {
   "cell_type": "code",
   "execution_count": 14,
   "metadata": {
    "collapsed": false
   },
   "outputs": [],
   "source": [
    "grp = trials.groupby(['date', 'unit'])\n",
    "chunks = []\n",
    "for g, d in grp:\n",
    "    times = d['stim_on']\n",
    "    dt = times.diff()\n",
    "    switches = times[dt < 0].index.tolist()\n",
    "    dd = d.copy()\n",
    "    if len(switches) > 0:\n",
    "        dd['run'] = np.digitize(d.index, switches)\n",
    "    else:\n",
    "        dd['run'] = 0\n",
    "    chunks.append(dd)\n",
    "trials = pd.concat(chunks)"
   ]
  },
  {
   "cell_type": "markdown",
   "metadata": {},
   "source": [
    "Do the same for spikes:"
   ]
  },
  {
   "cell_type": "code",
   "execution_count": 15,
   "metadata": {
    "collapsed": true
   },
   "outputs": [],
   "source": [
    "grp = spikes.groupby('unit')\n",
    "chunks = []\n",
    "for g, d in grp:\n",
    "    times = d['time']\n",
    "    dt = times.diff()\n",
    "    switches = times[dt < 0].index.tolist()\n",
    "    dd = d.copy()\n",
    "    if len(switches) > 0:\n",
    "        dd['run'] = np.digitize(d.index, switches)\n",
    "    else:\n",
    "        dd['run'] = 0\n",
    "    chunks.append(dd)\n",
    "spikes = pd.concat(chunks)"
   ]
  },
  {
   "cell_type": "markdown",
   "metadata": {},
   "source": [
    "### Close file"
   ]
  },
  {
   "cell_type": "code",
   "execution_count": 16,
   "metadata": {
    "collapsed": false
   },
   "outputs": [],
   "source": [
    "datmat.file.close()"
   ]
  },
  {
   "cell_type": "markdown",
   "metadata": {},
   "source": []
  },
  {
   "cell_type": "markdown",
   "metadata": {},
   "source": [
    "## 1.1. Examine Data"
   ]
  },
  {
   "cell_type": "code",
   "execution_count": 17,
   "metadata": {
    "collapsed": false,
    "scrolled": false
   },
   "outputs": [
    {
     "data": {
      "image/png": "[encoded data removed]",
      "text/plain": [
       "<matplotlib.figure.Figure at 0x14a507b00>"
      ]
     },
     "metadata": {},
     "output_type": "display_data"
    }
   ],
   "source": [
    "# The number of show times for each image\n",
    "plt.figure(figsize=(10, 6))\n",
    "plt.scatter(trials.groupby(by=['stim']).count().index, trials.groupby(by=['stim']).count()['stim_on'], s=3)\n",
    "plt.xlabel('Image indices')\n",
    "plt.ylabel('Show counts');"
   ]
  },
  {
   "cell_type": "code",
   "execution_count": 18,
   "metadata": {
    "collapsed": false
   },
   "outputs": [
    {
     "data": {
      "image/png": "[encoded data removed]",
      "text/plain": [
       "<matplotlib.figure.Figure at 0x14a5074a8>"
      ]
     },
     "metadata": {},
     "output_type": "display_data"
    }
   ],
   "source": [
    "# Number of expose times for different neurons\n",
    "plt.figure(figsize=(10, 6))\n",
    "plt.scatter(trials.groupby(by=['unit']).count().index, trials.groupby(by=['unit']).count()['stim'], s=3)\n",
    "plt.xlabel('Neuron indices')\n",
    "plt.ylabel('Expose counts');"
   ]
  },
  {
   "cell_type": "code",
   "execution_count": 19,
   "metadata": {
    "collapsed": false,
    "scrolled": true
   },
   "outputs": [],
   "source": [
    "group = trials.groupby(by=['stim', 'unit']).count()['stim_on']\n",
    "unstackgrp = group.unstack(level=0)"
   ]
  },
  {
   "cell_type": "code",
   "execution_count": 20,
   "metadata": {
    "collapsed": false,
    "scrolled": true
   },
   "outputs": [
    {
     "data": {
      "text/plain": [
       "<matplotlib.figure.Figure at 0x1537d74e0>"
      ]
     },
     "metadata": {},
     "output_type": "display_data"
    },
    {
     "data": {
      "image/png": "[encoded data removed]",
      "text/plain": [
       "<matplotlib.figure.Figure at 0x1537d7cc0>"
      ]
     },
     "metadata": {},
     "output_type": "display_data"
    }
   ],
   "source": [
    "plt.figure(figsize=(20, 10))\n",
    "plt.matshow(unstackgrp, aspect='auto', vmin=0, vmax=10)\n",
    "plt.colorbar()\n",
    "plt.xlabel('Image indices')\n",
    "plt.ylabel('Neuron indices (526 totally)');"
   ]
  },
  {
   "cell_type": "markdown",
   "metadata": {},
   "source": [
    "## 1.2. Add the column of spike counts"
   ]
  },
  {
   "cell_type": "markdown",
   "metadata": {},
   "source": [
    "### Now take a look at the intervals between trials to determine the stim-on period"
   ]
  },
  {
   "cell_type": "code",
   "execution_count": 21,
   "metadata": {
    "collapsed": false
   },
   "outputs": [
    {
     "data": {
      "text/plain": [
       "0.44059999999999988"
      ]
     },
     "execution_count": 21,
     "metadata": {},
     "output_type": "execute_result"
    }
   ],
   "source": [
    "stimdiff = trials.stim_on.diff()[1:].values\n",
    "np.min(stimdiff[stimdiff > 0])"
   ]
  },
  {
   "cell_type": "code",
   "execution_count": 22,
   "metadata": {
    "collapsed": false,
    "scrolled": false
   },
   "outputs": [
    {
     "data": {
      "text/plain": [
       "(0, 5)"
      ]
     },
     "execution_count": 22,
     "metadata": {},
     "output_type": "execute_result"
    },
    {
     "data": {
      "image/png": "[encoded data removed]",
      "text/plain": [
       "<matplotlib.figure.Figure at 0x1537d7dd8>"
      ]
     },
     "metadata": {},
     "output_type": "display_data"
    }
   ],
   "source": [
    "# histogram for same-day time intervals. Min: 0.44059999999999988, Max: 4294042.3105500005\n",
    "plt.hist(stimdiff[(stimdiff > 0) & (stimdiff < 4e5)], bins=1000)\n",
    "plt.xlim(0, 5)"
   ]
  },
  {
   "cell_type": "markdown",
   "metadata": {},
   "source": [
    "### ... Finally decided to use a stim-on period of 400ms for all stimuli\n",
    "\n",
    "*Amanda tells me 300ms is the minimum ISI. Use this as `Tpre`.*\n",
    "\n",
    "Strategy: for each unit, make a histogram of spike counts in bins with edges at onset + Tpre, onset, and onset + Tpost. Evenly spaced subsets of these are then the "
   ]
  },
  {
   "cell_type": "code",
   "execution_count": 23,
   "metadata": {
    "collapsed": false
   },
   "outputs": [],
   "source": [
    "tgrp = trials.groupby(['unit', 'run'])\n",
    "sgrp = spikes.groupby(['unit', 'run'])\n",
    "Tpre = -0.3\n",
    "Tpost = 0.4  # epoch duration (in s)\n",
    "\n",
    "chunks = []\n",
    "for tg, sg in zip(tgrp, sgrp):\n",
    "    tr, spk = tg[1].copy(), sg[1]\n",
    "    onset = tr.stim_on.values\n",
    "    bins = np.sort(np.concatenate([onset + Tpre, onset, onset + Tpost]))\n",
    "    counts = np.histogram(spk.time, bins=bins)[0]  \n",
    "    tr['baseline'] = counts[::3]  # ::3 bins are [stim_on + Tpre, stim_on)\n",
    "    tr['count'] = counts[1::3]  # 1::3 bins are [stim_on, stim_on + Tpost)\n",
    "    \n",
    "    chunks.append(tr)\n",
    "    \n",
    "trials = pd.concat(chunks)"
   ]
  },
  {
   "cell_type": "code",
   "execution_count": 24,
   "metadata": {
    "collapsed": false
   },
   "outputs": [
    {
     "data": {
      "text/html": [
       "<div>\n",
       "<table border=\"1\" class=\"dataframe\">\n",
       "  <thead>\n",
       "    <tr style=\"text-align: right;\">\n",
       "      <th></th>\n",
       "      <th>date</th>\n",
       "      <th>is_first</th>\n",
       "      <th>is_rewarded</th>\n",
       "      <th>stim</th>\n",
       "      <th>stim_on</th>\n",
       "      <th>unit</th>\n",
       "      <th>run</th>\n",
       "      <th>baseline</th>\n",
       "      <th>count</th>\n",
       "    </tr>\n",
       "  </thead>\n",
       "  <tbody>\n",
       "    <tr>\n",
       "      <th>0</th>\n",
       "      <td>2015_12_03</td>\n",
       "      <td>1</td>\n",
       "      <td>0</td>\n",
       "      <td>1050</td>\n",
       "      <td>13.445775</td>\n",
       "      <td>1001</td>\n",
       "      <td>0</td>\n",
       "      <td>0</td>\n",
       "      <td>5</td>\n",
       "    </tr>\n",
       "    <tr>\n",
       "      <th>1</th>\n",
       "      <td>2015_12_03</td>\n",
       "      <td>0</td>\n",
       "      <td>0</td>\n",
       "      <td>76</td>\n",
       "      <td>14.327300</td>\n",
       "      <td>1001</td>\n",
       "      <td>0</td>\n",
       "      <td>0</td>\n",
       "      <td>3</td>\n",
       "    </tr>\n",
       "    <tr>\n",
       "      <th>2</th>\n",
       "      <td>2015_12_03</td>\n",
       "      <td>0</td>\n",
       "      <td>1</td>\n",
       "      <td>173</td>\n",
       "      <td>14.991750</td>\n",
       "      <td>1001</td>\n",
       "      <td>0</td>\n",
       "      <td>0</td>\n",
       "      <td>0</td>\n",
       "    </tr>\n",
       "    <tr>\n",
       "      <th>3</th>\n",
       "      <td>2015_12_03</td>\n",
       "      <td>1</td>\n",
       "      <td>0</td>\n",
       "      <td>364</td>\n",
       "      <td>18.108650</td>\n",
       "      <td>1001</td>\n",
       "      <td>0</td>\n",
       "      <td>3</td>\n",
       "      <td>2</td>\n",
       "    </tr>\n",
       "    <tr>\n",
       "      <th>4</th>\n",
       "      <td>2015_12_03</td>\n",
       "      <td>0</td>\n",
       "      <td>0</td>\n",
       "      <td>438</td>\n",
       "      <td>18.991750</td>\n",
       "      <td>1001</td>\n",
       "      <td>0</td>\n",
       "      <td>0</td>\n",
       "      <td>12</td>\n",
       "    </tr>\n",
       "  </tbody>\n",
       "</table>\n",
       "</div>"
      ],
      "text/plain": [
       "         date  is_first  is_rewarded  stim    stim_on  unit  run  baseline  \\\n",
       "0  2015_12_03         1            0  1050  13.445775  1001    0         0   \n",
       "1  2015_12_03         0            0    76  14.327300  1001    0         0   \n",
       "2  2015_12_03         0            1   173  14.991750  1001    0         0   \n",
       "3  2015_12_03         1            0   364  18.108650  1001    0         3   \n",
       "4  2015_12_03         0            0   438  18.991750  1001    0         0   \n",
       "\n",
       "   count  \n",
       "0      5  \n",
       "1      3  \n",
       "2      0  \n",
       "3      2  \n",
       "4     12  "
      ]
     },
     "execution_count": 24,
     "metadata": {},
     "output_type": "execute_result"
    }
   ],
   "source": [
    "trials.head()"
   ]
  },
  {
   "cell_type": "code",
   "execution_count": 25,
   "metadata": {
    "collapsed": false,
    "scrolled": true
   },
   "outputs": [
    {
     "name": "stdout",
     "output_type": "stream",
     "text": [
      "average counts: 1.097966300009847\n",
      "average counts is first: 1.1375725366608134\n",
      "average counts is rewarded: 1.1268992472131807\n"
     ]
    }
   ],
   "source": [
    "# Take a look at the average spike counts\n",
    "print(\"average counts: {}\".format(np.mean(trials['count'])))\n",
    "# plt.hist(trials['count'].values, bins = 100)\n",
    "print(\"average counts is first: {}\".format(np.mean(trials[trials['is_first'] == 1]['count'])))\n",
    "print(\"average counts is rewarded: {}\".format(np.mean(trials[trials['is_rewarded'] == 1]['count'])))"
   ]
  },
  {
   "cell_type": "markdown",
   "metadata": {},
   "source": [
    "## 2. Determine which stimuli will be excluded from the dataset"
   ]
  },
  {
   "cell_type": "code",
   "execution_count": 26,
   "metadata": {
    "collapsed": false
   },
   "outputs": [],
   "source": [
    "stimcount = trials.groupby(by=['stim']).count()['stim_on']\n",
    "dropidx = stimcount[stimcount < 100].index\n",
    "# We found 314 stimuli that have been exposed to any neuron less than 100 times - most of them are 5~20 times."
   ]
  },
  {
   "cell_type": "code",
   "execution_count": 27,
   "metadata": {
    "collapsed": false
   },
   "outputs": [
    {
     "data": {
      "text/plain": [
       "Int64Index([ 204,  220,  221,  222,  223,  224,  225,  226,  227,  228,\n",
       "            ...\n",
       "            1015, 1016, 1017, 1018, 1019, 1020, 1021, 1022, 1023, 1024],\n",
       "           dtype='int64', name='stim', length=314)"
      ]
     },
     "execution_count": 27,
     "metadata": {},
     "output_type": "execute_result"
    }
   ],
   "source": [
    "dropidx"
   ]
  },
  {
   "cell_type": "code",
   "execution_count": 28,
   "metadata": {
    "collapsed": false
   },
   "outputs": [],
   "source": [
    "trials = trials[~trials['stim'].isin(dropidx)].reset_index(drop=True)"
   ]
  },
  {
   "cell_type": "code",
   "execution_count": 29,
   "metadata": {
    "collapsed": false,
    "scrolled": false
   },
   "outputs": [
    {
     "data": {
      "text/plain": [
       "<matplotlib.text.Text at 0x158523358>"
      ]
     },
     "execution_count": 29,
     "metadata": {},
     "output_type": "execute_result"
    },
    {
     "data": {
      "image/png": "[encoded data removed]",
      "text/plain": [
       "<matplotlib.figure.Figure at 0x1571dc668>"
      ]
     },
     "metadata": {},
     "output_type": "display_data"
    }
   ],
   "source": [
    "# The number of show times for each image\n",
    "plt.figure(figsize=(10, 6))\n",
    "plt.scatter(trials.groupby(by=['stim']).count().index, trials.groupby(by=['stim']).count()['stim_on'], s=3)\n",
    "plt.xlabel('Image indices')\n",
    "plt.ylabel('Show counts')"
   ]
  },
  {
   "cell_type": "code",
   "execution_count": 30,
   "metadata": {
    "collapsed": false
   },
   "outputs": [
    {
     "data": {
      "text/plain": [
       "<matplotlib.text.Text at 0x15371ec50>"
      ]
     },
     "execution_count": 30,
     "metadata": {},
     "output_type": "execute_result"
    },
    {
     "data": {
      "image/png": "[encoded data removed]",
      "text/plain": [
       "<matplotlib.figure.Figure at 0x1571dce10>"
      ]
     },
     "metadata": {},
     "output_type": "display_data"
    }
   ],
   "source": [
    "# Number of expose times for different neurons\n",
    "plt.figure(figsize=(10, 6))\n",
    "plt.scatter(trials.groupby(by=['unit']).count().index, trials.groupby(by=['unit']).count()['stim'], s=3)\n",
    "plt.xlabel('Neuron indices')\n",
    "plt.ylabel('Expose counts')"
   ]
  },
  {
   "cell_type": "code",
   "execution_count": 31,
   "metadata": {
    "collapsed": false,
    "scrolled": true
   },
   "outputs": [],
   "source": [
    "group = trials.groupby(by=['stim', 'unit']).count()['stim_on']\n",
    "unstackgrp = group.unstack(level=0)"
   ]
  },
  {
   "cell_type": "code",
   "execution_count": 32,
   "metadata": {
    "collapsed": false,
    "scrolled": false
   },
   "outputs": [
    {
     "data": {
      "image/png": "[encoded data removed]",
      "text/plain": [
       "<matplotlib.figure.Figure at 0x1571c44a8>"
      ]
     },
     "metadata": {},
     "output_type": "display_data"
    }
   ],
   "source": [
    "plt.matshow(unstackgrp, aspect='auto', vmin=0, vmax=10)\n",
    "plt.colorbar()\n",
    "plt.xlabel('Image indices')\n",
    "plt.ylabel('Neuron indices (526 totally)');"
   ]
  },
  {
   "cell_type": "markdown",
   "metadata": {},
   "source": [
    "## 3. Sort and output to .csv file"
   ]
  },
  {
   "cell_type": "code",
   "execution_count": 33,
   "metadata": {
    "collapsed": false
   },
   "outputs": [],
   "source": [
    "trials['time'] = np.unique(trials.stim, return_inverse=True)[1]\n",
    "trials['trial'] = np.unique(trials.index, return_inverse=True)[1]"
   ]
  },
  {
   "cell_type": "code",
   "execution_count": 34,
   "metadata": {
    "collapsed": false
   },
   "outputs": [
    {
     "data": {
      "text/html": [
       "<div>\n",
       "<table border=\"1\" class=\"dataframe\">\n",
       "  <thead>\n",
       "    <tr style=\"text-align: right;\">\n",
       "      <th></th>\n",
       "      <th>date</th>\n",
       "      <th>is_first</th>\n",
       "      <th>is_rewarded</th>\n",
       "      <th>stim</th>\n",
       "      <th>stim_on</th>\n",
       "      <th>unit</th>\n",
       "      <th>run</th>\n",
       "      <th>baseline</th>\n",
       "      <th>count</th>\n",
       "      <th>time</th>\n",
       "      <th>trial</th>\n",
       "    </tr>\n",
       "  </thead>\n",
       "  <tbody>\n",
       "    <tr>\n",
       "      <th>0</th>\n",
       "      <td>2015_12_03</td>\n",
       "      <td>1</td>\n",
       "      <td>0</td>\n",
       "      <td>1050</td>\n",
       "      <td>13.445775</td>\n",
       "      <td>1001</td>\n",
       "      <td>0</td>\n",
       "      <td>0</td>\n",
       "      <td>5</td>\n",
       "      <td>736</td>\n",
       "      <td>0</td>\n",
       "    </tr>\n",
       "    <tr>\n",
       "      <th>1</th>\n",
       "      <td>2015_12_03</td>\n",
       "      <td>0</td>\n",
       "      <td>0</td>\n",
       "      <td>76</td>\n",
       "      <td>14.327300</td>\n",
       "      <td>1001</td>\n",
       "      <td>0</td>\n",
       "      <td>0</td>\n",
       "      <td>3</td>\n",
       "      <td>76</td>\n",
       "      <td>1</td>\n",
       "    </tr>\n",
       "    <tr>\n",
       "      <th>2</th>\n",
       "      <td>2015_12_03</td>\n",
       "      <td>0</td>\n",
       "      <td>1</td>\n",
       "      <td>173</td>\n",
       "      <td>14.991750</td>\n",
       "      <td>1001</td>\n",
       "      <td>0</td>\n",
       "      <td>0</td>\n",
       "      <td>0</td>\n",
       "      <td>173</td>\n",
       "      <td>2</td>\n",
       "    </tr>\n",
       "    <tr>\n",
       "      <th>3</th>\n",
       "      <td>2015_12_03</td>\n",
       "      <td>1</td>\n",
       "      <td>0</td>\n",
       "      <td>364</td>\n",
       "      <td>18.108650</td>\n",
       "      <td>1001</td>\n",
       "      <td>0</td>\n",
       "      <td>3</td>\n",
       "      <td>2</td>\n",
       "      <td>296</td>\n",
       "      <td>3</td>\n",
       "    </tr>\n",
       "    <tr>\n",
       "      <th>4</th>\n",
       "      <td>2015_12_03</td>\n",
       "      <td>0</td>\n",
       "      <td>0</td>\n",
       "      <td>438</td>\n",
       "      <td>18.991750</td>\n",
       "      <td>1001</td>\n",
       "      <td>0</td>\n",
       "      <td>0</td>\n",
       "      <td>12</td>\n",
       "      <td>370</td>\n",
       "      <td>4</td>\n",
       "    </tr>\n",
       "  </tbody>\n",
       "</table>\n",
       "</div>"
      ],
      "text/plain": [
       "         date  is_first  is_rewarded  stim    stim_on  unit  run  baseline  \\\n",
       "0  2015_12_03         1            0  1050  13.445775  1001    0         0   \n",
       "1  2015_12_03         0            0    76  14.327300  1001    0         0   \n",
       "2  2015_12_03         0            1   173  14.991750  1001    0         0   \n",
       "3  2015_12_03         1            0   364  18.108650  1001    0         3   \n",
       "4  2015_12_03         0            0   438  18.991750  1001    0         0   \n",
       "\n",
       "   count  time  trial  \n",
       "0      5   736      0  \n",
       "1      3    76      1  \n",
       "2      0   173      2  \n",
       "3      2   296      3  \n",
       "4     12   370      4  "
      ]
     },
     "execution_count": 34,
     "metadata": {},
     "output_type": "execute_result"
    }
   ],
   "source": [
    "trials.head()"
   ]
  },
  {
   "cell_type": "code",
   "execution_count": 35,
   "metadata": {
    "collapsed": false
   },
   "outputs": [],
   "source": [
    "# only keep the columns that are useful to feed into model\n",
    "trials = trials.drop(['date', 'stim_on'], 1).sort_values(by=['stim', 'unit'])\n",
    "trials.to_csv('data/prepared_data.csv', index=False)"
   ]
  },
  {
   "cell_type": "markdown",
   "metadata": {
    "collapsed": true
   },
   "source": [
    "## 2. Read image categories"
   ]
  },
  {
   "cell_type": "code",
   "execution_count": 36,
   "metadata": {
    "collapsed": false
   },
   "outputs": [],
   "source": [
    "# Read image categories\n",
    "iminfo = pd.read_table(\"data/stimulus_characteristics.txt\")\n",
    "iminfo = iminfo.rename(columns={'image_file_name': 'image'}).merge(images)"
   ]
  },
  {
   "cell_type": "code",
   "execution_count": 37,
   "metadata": {
    "collapsed": false
   },
   "outputs": [
    {
     "data": {
      "text/html": [
       "<div>\n",
       "<table border=\"1\" class=\"dataframe\">\n",
       "  <thead>\n",
       "    <tr style=\"text-align: right;\">\n",
       "      <th></th>\n",
       "      <th>image</th>\n",
       "      <th>monkey_name</th>\n",
       "      <th>Human?</th>\n",
       "      <th>Monkey face?</th>\n",
       "      <th>Object?</th>\n",
       "      <th>Perinea?</th>\n",
       "      <th>direct gaze?</th>\n",
       "      <th>averted gaze?</th>\n",
       "      <th>face oriented L</th>\n",
       "      <th>face oriented R</th>\n",
       "      <th>...</th>\n",
       "      <th>Female Perinea?</th>\n",
       "      <th>Cayo</th>\n",
       "      <th>Colony</th>\n",
       "      <th>head visible</th>\n",
       "      <th>tail visible</th>\n",
       "      <th>num legs</th>\n",
       "      <th>side view</th>\n",
       "      <th>frontal view</th>\n",
       "      <th>partially occuded</th>\n",
       "      <th>code</th>\n",
       "    </tr>\n",
       "  </thead>\n",
       "  <tbody>\n",
       "    <tr>\n",
       "      <th>0</th>\n",
       "      <td>lum_affil001.jpg</td>\n",
       "      <td>NaN</td>\n",
       "      <td>0</td>\n",
       "      <td>1</td>\n",
       "      <td>0</td>\n",
       "      <td>0</td>\n",
       "      <td>0</td>\n",
       "      <td>1</td>\n",
       "      <td>0</td>\n",
       "      <td>1</td>\n",
       "      <td>...</td>\n",
       "      <td>0</td>\n",
       "      <td>1</td>\n",
       "      <td>0</td>\n",
       "      <td>0</td>\n",
       "      <td>0</td>\n",
       "      <td>0</td>\n",
       "      <td>0</td>\n",
       "      <td>0</td>\n",
       "      <td>0</td>\n",
       "      <td>16</td>\n",
       "    </tr>\n",
       "    <tr>\n",
       "      <th>1</th>\n",
       "      <td>lum_affil004.jpg</td>\n",
       "      <td>NaN</td>\n",
       "      <td>0</td>\n",
       "      <td>1</td>\n",
       "      <td>0</td>\n",
       "      <td>0</td>\n",
       "      <td>1</td>\n",
       "      <td>0</td>\n",
       "      <td>0</td>\n",
       "      <td>0</td>\n",
       "      <td>...</td>\n",
       "      <td>0</td>\n",
       "      <td>1</td>\n",
       "      <td>0</td>\n",
       "      <td>0</td>\n",
       "      <td>0</td>\n",
       "      <td>0</td>\n",
       "      <td>0</td>\n",
       "      <td>0</td>\n",
       "      <td>0</td>\n",
       "      <td>17</td>\n",
       "    </tr>\n",
       "    <tr>\n",
       "      <th>2</th>\n",
       "      <td>lum_affil005.jpg</td>\n",
       "      <td>NaN</td>\n",
       "      <td>0</td>\n",
       "      <td>1</td>\n",
       "      <td>0</td>\n",
       "      <td>0</td>\n",
       "      <td>1</td>\n",
       "      <td>0</td>\n",
       "      <td>0</td>\n",
       "      <td>0</td>\n",
       "      <td>...</td>\n",
       "      <td>0</td>\n",
       "      <td>1</td>\n",
       "      <td>0</td>\n",
       "      <td>0</td>\n",
       "      <td>0</td>\n",
       "      <td>0</td>\n",
       "      <td>0</td>\n",
       "      <td>0</td>\n",
       "      <td>0</td>\n",
       "      <td>18</td>\n",
       "    </tr>\n",
       "    <tr>\n",
       "      <th>3</th>\n",
       "      <td>lum_apple.jpg</td>\n",
       "      <td>NaN</td>\n",
       "      <td>0</td>\n",
       "      <td>0</td>\n",
       "      <td>1</td>\n",
       "      <td>0</td>\n",
       "      <td>0</td>\n",
       "      <td>0</td>\n",
       "      <td>0</td>\n",
       "      <td>0</td>\n",
       "      <td>...</td>\n",
       "      <td>0</td>\n",
       "      <td>0</td>\n",
       "      <td>0</td>\n",
       "      <td>0</td>\n",
       "      <td>0</td>\n",
       "      <td>0</td>\n",
       "      <td>0</td>\n",
       "      <td>0</td>\n",
       "      <td>0</td>\n",
       "      <td>19</td>\n",
       "    </tr>\n",
       "    <tr>\n",
       "      <th>4</th>\n",
       "      <td>lum_averted001.jpg</td>\n",
       "      <td>NaN</td>\n",
       "      <td>0</td>\n",
       "      <td>1</td>\n",
       "      <td>0</td>\n",
       "      <td>0</td>\n",
       "      <td>0</td>\n",
       "      <td>1</td>\n",
       "      <td>0</td>\n",
       "      <td>0</td>\n",
       "      <td>...</td>\n",
       "      <td>0</td>\n",
       "      <td>1</td>\n",
       "      <td>0</td>\n",
       "      <td>0</td>\n",
       "      <td>0</td>\n",
       "      <td>0</td>\n",
       "      <td>0</td>\n",
       "      <td>0</td>\n",
       "      <td>0</td>\n",
       "      <td>20</td>\n",
       "    </tr>\n",
       "  </tbody>\n",
       "</table>\n",
       "<p>5 rows × 24 columns</p>\n",
       "</div>"
      ],
      "text/plain": [
       "                image monkey_name  Human?  Monkey face?  Object?  Perinea?  \\\n",
       "0    lum_affil001.jpg         NaN       0             1        0         0   \n",
       "1    lum_affil004.jpg         NaN       0             1        0         0   \n",
       "2    lum_affil005.jpg         NaN       0             1        0         0   \n",
       "3       lum_apple.jpg         NaN       0             0        1         0   \n",
       "4  lum_averted001.jpg         NaN       0             1        0         0   \n",
       "\n",
       "   direct gaze?  averted gaze?  face oriented L  face oriented R  ...   \\\n",
       "0             0              1                0                1  ...    \n",
       "1             1              0                0                0  ...    \n",
       "2             1              0                0                0  ...    \n",
       "3             0              0                0                0  ...    \n",
       "4             0              1                0                0  ...    \n",
       "\n",
       "   Female Perinea?  Cayo  Colony  head visible  tail visible  num legs  \\\n",
       "0                0     1       0             0             0         0   \n",
       "1                0     1       0             0             0         0   \n",
       "2                0     1       0             0             0         0   \n",
       "3                0     0       0             0             0         0   \n",
       "4                0     1       0             0             0         0   \n",
       "\n",
       "   side view  frontal view  partially occuded  code  \n",
       "0          0             0                  0    16  \n",
       "1          0             0                  0    17  \n",
       "2          0             0                  0    18  \n",
       "3          0             0                  0    19  \n",
       "4          0             0                  0    20  \n",
       "\n",
       "[5 rows x 24 columns]"
      ]
     },
     "execution_count": 37,
     "metadata": {},
     "output_type": "execute_result"
    }
   ],
   "source": [
    "iminfo.head()"
   ]
  },
  {
   "cell_type": "code",
   "execution_count": 38,
   "metadata": {
    "collapsed": false
   },
   "outputs": [],
   "source": [
    "# exclude the images that were not presented in trials\n",
    "# imnames is a list of image names presented in trials\n",
    "iminfo = iminfo[(iminfo.image.isin(imnames))]\n",
    "iminfo = iminfo.sort_values(by=['image']).reset_index(drop=True)"
   ]
  },
  {
   "cell_type": "code",
   "execution_count": 39,
   "metadata": {
    "collapsed": false,
    "scrolled": true
   },
   "outputs": [
    {
     "data": {
      "text/plain": [
       "Human?                  342\n",
       "Monkey face?            396\n",
       "Object?                 224\n",
       "Perinea?                150\n",
       "direct gaze?            104\n",
       "averted gaze?           262\n",
       "face oriented L         132\n",
       "face oriented R         112\n",
       "face straight           122\n",
       "threat?                   8\n",
       "scrambled?              557\n",
       "Male Perinea?            32\n",
       "Female Perinea?         118\n",
       "Cayo                    176\n",
       "Colony                  220\n",
       "head visible             12\n",
       "tail visible             63\n",
       "num legs                147\n",
       "side view                21\n",
       "frontal view             54\n",
       "partially occuded        30\n",
       "code                 617716\n",
       "dtype: int64"
      ]
     },
     "execution_count": 39,
     "metadata": {},
     "output_type": "execute_result"
    }
   ],
   "source": [
    "# Large categories are 'human' (342), 'monkey face' (396), 'object' (224), 'perinea' (150)\n",
    "catsum = iminfo.sum(axis=0)\n",
    "catsum"
   ]
  },
  {
   "cell_type": "code",
   "execution_count": 40,
   "metadata": {
    "collapsed": false,
    "scrolled": true
   },
   "outputs": [
    {
     "data": {
      "text/plain": [
       "798"
      ]
     },
     "execution_count": 40,
     "metadata": {},
     "output_type": "execute_result"
    }
   ],
   "source": [
    "iminfo.index.isin(trials.stim).sum()"
   ]
  },
  {
   "cell_type": "code",
   "execution_count": 41,
   "metadata": {
    "collapsed": false
   },
   "outputs": [],
   "source": [
    "iminfo798 = iminfo[iminfo.index.isin(trials.stim)]"
   ]
  },
  {
   "cell_type": "code",
   "execution_count": 42,
   "metadata": {
    "collapsed": false
   },
   "outputs": [
    {
     "data": {
      "text/plain": [
       "((1112, 24), (798, 24))"
      ]
     },
     "execution_count": 42,
     "metadata": {},
     "output_type": "execute_result"
    }
   ],
   "source": [
    "iminfo.shape, iminfo798.shape"
   ]
  },
  {
   "cell_type": "code",
   "execution_count": 44,
   "metadata": {
    "collapsed": false,
    "scrolled": true
   },
   "outputs": [
    {
     "data": {
      "text/html": [
       "<div>\n",
       "<table border=\"1\" class=\"dataframe\">\n",
       "  <thead>\n",
       "    <tr style=\"text-align: right;\">\n",
       "      <th></th>\n",
       "      <th>image</th>\n",
       "      <th>monkey_name</th>\n",
       "      <th>Human?</th>\n",
       "      <th>Monkey face?</th>\n",
       "      <th>Object?</th>\n",
       "      <th>Perinea?</th>\n",
       "      <th>direct gaze?</th>\n",
       "      <th>averted gaze?</th>\n",
       "      <th>face oriented L</th>\n",
       "      <th>face oriented R</th>\n",
       "      <th>...</th>\n",
       "      <th>Female Perinea?</th>\n",
       "      <th>Cayo</th>\n",
       "      <th>Colony</th>\n",
       "      <th>head visible</th>\n",
       "      <th>tail visible</th>\n",
       "      <th>num legs</th>\n",
       "      <th>side view</th>\n",
       "      <th>frontal view</th>\n",
       "      <th>partially occuded</th>\n",
       "      <th>code</th>\n",
       "    </tr>\n",
       "  </thead>\n",
       "  <tbody>\n",
       "    <tr>\n",
       "      <th>0</th>\n",
       "      <td>lum_IMG_4142_trimmed.jpg</td>\n",
       "      <td>NaN</td>\n",
       "      <td>0</td>\n",
       "      <td>0</td>\n",
       "      <td>0</td>\n",
       "      <td>1</td>\n",
       "      <td>0</td>\n",
       "      <td>0</td>\n",
       "      <td>0</td>\n",
       "      <td>0</td>\n",
       "      <td>...</td>\n",
       "      <td>0</td>\n",
       "      <td>0</td>\n",
       "      <td>0</td>\n",
       "      <td>0</td>\n",
       "      <td>1</td>\n",
       "      <td>1</td>\n",
       "      <td>0</td>\n",
       "      <td>1</td>\n",
       "      <td>0</td>\n",
       "      <td>0</td>\n",
       "    </tr>\n",
       "    <tr>\n",
       "      <th>1</th>\n",
       "      <td>lum_IMG_4145_trimmed.jpg</td>\n",
       "      <td>NaN</td>\n",
       "      <td>0</td>\n",
       "      <td>0</td>\n",
       "      <td>0</td>\n",
       "      <td>1</td>\n",
       "      <td>0</td>\n",
       "      <td>0</td>\n",
       "      <td>0</td>\n",
       "      <td>0</td>\n",
       "      <td>...</td>\n",
       "      <td>0</td>\n",
       "      <td>0</td>\n",
       "      <td>0</td>\n",
       "      <td>0</td>\n",
       "      <td>0</td>\n",
       "      <td>1</td>\n",
       "      <td>0</td>\n",
       "      <td>1</td>\n",
       "      <td>0</td>\n",
       "      <td>1</td>\n",
       "    </tr>\n",
       "    <tr>\n",
       "      <th>2</th>\n",
       "      <td>lum_IMG_4146_trimmed.jpg</td>\n",
       "      <td>NaN</td>\n",
       "      <td>0</td>\n",
       "      <td>0</td>\n",
       "      <td>0</td>\n",
       "      <td>1</td>\n",
       "      <td>0</td>\n",
       "      <td>0</td>\n",
       "      <td>0</td>\n",
       "      <td>0</td>\n",
       "      <td>...</td>\n",
       "      <td>0</td>\n",
       "      <td>0</td>\n",
       "      <td>0</td>\n",
       "      <td>0</td>\n",
       "      <td>1</td>\n",
       "      <td>1</td>\n",
       "      <td>1</td>\n",
       "      <td>0</td>\n",
       "      <td>0</td>\n",
       "      <td>2</td>\n",
       "    </tr>\n",
       "    <tr>\n",
       "      <th>3</th>\n",
       "      <td>lum_IMG_4147_trimmed.jpg</td>\n",
       "      <td>NaN</td>\n",
       "      <td>0</td>\n",
       "      <td>0</td>\n",
       "      <td>0</td>\n",
       "      <td>1</td>\n",
       "      <td>0</td>\n",
       "      <td>0</td>\n",
       "      <td>0</td>\n",
       "      <td>0</td>\n",
       "      <td>...</td>\n",
       "      <td>0</td>\n",
       "      <td>0</td>\n",
       "      <td>0</td>\n",
       "      <td>0</td>\n",
       "      <td>1</td>\n",
       "      <td>1</td>\n",
       "      <td>0</td>\n",
       "      <td>1</td>\n",
       "      <td>0</td>\n",
       "      <td>3</td>\n",
       "    </tr>\n",
       "    <tr>\n",
       "      <th>4</th>\n",
       "      <td>lum_IMG_4148_trimmed.jpg</td>\n",
       "      <td>NaN</td>\n",
       "      <td>0</td>\n",
       "      <td>0</td>\n",
       "      <td>0</td>\n",
       "      <td>1</td>\n",
       "      <td>0</td>\n",
       "      <td>0</td>\n",
       "      <td>0</td>\n",
       "      <td>0</td>\n",
       "      <td>...</td>\n",
       "      <td>0</td>\n",
       "      <td>0</td>\n",
       "      <td>0</td>\n",
       "      <td>0</td>\n",
       "      <td>1</td>\n",
       "      <td>1</td>\n",
       "      <td>0</td>\n",
       "      <td>1</td>\n",
       "      <td>0</td>\n",
       "      <td>4</td>\n",
       "    </tr>\n",
       "  </tbody>\n",
       "</table>\n",
       "<p>5 rows × 24 columns</p>\n",
       "</div>"
      ],
      "text/plain": [
       "                      image monkey_name  Human?  Monkey face?  Object?  \\\n",
       "0  lum_IMG_4142_trimmed.jpg         NaN       0             0        0   \n",
       "1  lum_IMG_4145_trimmed.jpg         NaN       0             0        0   \n",
       "2  lum_IMG_4146_trimmed.jpg         NaN       0             0        0   \n",
       "3  lum_IMG_4147_trimmed.jpg         NaN       0             0        0   \n",
       "4  lum_IMG_4148_trimmed.jpg         NaN       0             0        0   \n",
       "\n",
       "   Perinea?  direct gaze?  averted gaze?  face oriented L  face oriented R  \\\n",
       "0         1             0              0                0                0   \n",
       "1         1             0              0                0                0   \n",
       "2         1             0              0                0                0   \n",
       "3         1             0              0                0                0   \n",
       "4         1             0              0                0                0   \n",
       "\n",
       "   ...   Female Perinea?  Cayo  Colony  head visible  tail visible  num legs  \\\n",
       "0  ...                 0     0       0             0             1         1   \n",
       "1  ...                 0     0       0             0             0         1   \n",
       "2  ...                 0     0       0             0             1         1   \n",
       "3  ...                 0     0       0             0             1         1   \n",
       "4  ...                 0     0       0             0             1         1   \n",
       "\n",
       "   side view  frontal view  partially occuded  code  \n",
       "0          0             1                  0     0  \n",
       "1          0             1                  0     1  \n",
       "2          1             0                  0     2  \n",
       "3          0             1                  0     3  \n",
       "4          0             1                  0     4  \n",
       "\n",
       "[5 rows x 24 columns]"
      ]
     },
     "execution_count": 44,
     "metadata": {},
     "output_type": "execute_result"
    }
   ],
   "source": [
    "iminfo798.head()"
   ]
  },
  {
   "cell_type": "code",
   "execution_count": 45,
   "metadata": {
    "collapsed": true
   },
   "outputs": [],
   "source": [
    "iminfo798.to_csv('data/iminfo798.csv', index=False)"
   ]
  },
  {
   "cell_type": "code",
   "execution_count": null,
   "metadata": {
    "collapsed": true
   },
   "outputs": [],
   "source": []
  }
 ],
 "metadata": {
  "anaconda-cloud": {},
  "kernelspec": {
   "display_name": "Python [Root]",
   "language": "python",
   "name": "Python [Root]"
  },
  "language_info": {
   "codemirror_mode": {
    "name": "ipython",
    "version": 3
   },
   "file_extension": ".py",
   "mimetype": "text/x-python",
   "name": "python",
   "nbconvert_exporter": "python",
   "pygments_lexer": "ipython3",
   "version": "3.5.2"
  }
 },
 "nbformat": 4,
 "nbformat_minor": 1
}
